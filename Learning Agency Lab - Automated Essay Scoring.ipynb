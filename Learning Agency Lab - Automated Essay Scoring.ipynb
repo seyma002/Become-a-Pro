{
 "cells": [
  {
   "cell_type": "markdown",
   "metadata": {},
   "source": [
    "## Learning Agency Lab - Automated Essay Scoring "
   ]
  },
  {
   "cell_type": "markdown",
   "metadata": {},
   "source": [
    "Automatic essay scoring systems are important tools used to evaluate the quality of written texts. This study aims to develop a model for automatic evaluation of student writings. The aim is to create a system that measures the quality of written assignments by analyzing text content. Various natural language processing (NLP) techniques and machine learning methods were used in this process.\n",
    "\n",
    "Essay writing is an important method to evaluate student learning and performance. It is also time-consuming for educators to grade by hand. Automated Writing Evaluation (AWE) systems can score essays to supplement an educator’s other efforts. AWEs also allow students to receive regular and timely feedback on their writing. However, due to their costs, many advancements in the field are not widely available to students and educators. Open-source solutions to assess student writing are needed to reach every community with these important educational tools.\n",
    "\n",
    "Competition host Vanderbilt University is a private research university in Nashville, Tennessee. \n"
   ]
  },
  {
   "cell_type": "markdown",
   "metadata": {},
   "source": [
    "<a href='https://www.kaggle.com/competitions/learning-agency-lab-automated-essay-scoring-2/' target=_blank>You can find the competition here</a>"
   ]
  },
  {
   "cell_type": "markdown",
   "metadata": {},
   "source": [
    "![](data:image/jpeg;base64,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)"
   ]
  },
  {
   "cell_type": "code",
   "execution_count": 1,
   "metadata": {
    "_cell_guid": "b1076dfc-b9ad-4769-8c92-a6c4dae69d19",
    "_uuid": "8f2839f25d086af736a60e9eeb907d3b93b6e0e5",
    "execution": {
     "iopub.execute_input": "2024-09-29T03:25:43.632353Z",
     "iopub.status.busy": "2024-09-29T03:25:43.631896Z",
     "iopub.status.idle": "2024-09-29T03:25:43.690075Z",
     "shell.execute_reply": "2024-09-29T03:25:43.688361Z",
     "shell.execute_reply.started": "2024-09-29T03:25:43.632309Z"
    }
   },
   "outputs": [
    {
     "name": "stdout",
     "output_type": "stream",
     "text": [
      "/kaggle/input/cloudd/cloud.png\n",
      "/kaggle/input/learning-agency-lab-automated-essay-scoring-2/sample_submission.csv\n",
      "/kaggle/input/learning-agency-lab-automated-essay-scoring-2/train.csv\n",
      "/kaggle/input/learning-agency-lab-automated-essay-scoring-2/test.csv\n"
     ]
    }
   ],
   "source": [
    "import os\n",
    "for dirname, _, filenames in os.walk('/kaggle/input'):\n",
    "    for filename in filenames:\n",
    "        print(os.path.join(dirname, filename))"
   ]
  },
  {
   "cell_type": "markdown",
   "metadata": {},
   "source": [
    "## Import Libraries"
   ]
  },
  {
   "cell_type": "code",
   "execution_count": 2,
   "metadata": {
    "execution": {
     "iopub.execute_input": "2024-09-29T03:25:46.086318Z",
     "iopub.status.busy": "2024-09-29T03:25:46.085903Z",
     "iopub.status.idle": "2024-09-29T03:25:48.503366Z",
     "shell.execute_reply": "2024-09-29T03:25:48.502021Z",
     "shell.execute_reply.started": "2024-09-29T03:25:46.086281Z"
    }
   },
   "outputs": [],
   "source": [
    "import nltk\n",
    "import pandas as pd\n",
    "import numpy as np\n",
    "import seaborn as sns\n",
    "import matplotlib.pyplot as plt\n",
    "import warnings\n",
    "warnings.filterwarnings('ignore')"
   ]
  },
  {
   "cell_type": "code",
   "execution_count": 3,
   "metadata": {
    "execution": {
     "iopub.execute_input": "2024-09-29T03:25:49.514291Z",
     "iopub.status.busy": "2024-09-29T03:25:49.513042Z",
     "iopub.status.idle": "2024-09-29T03:25:51.231425Z",
     "shell.execute_reply": "2024-09-29T03:25:51.230242Z",
     "shell.execute_reply.started": "2024-09-29T03:25:49.514242Z"
    }
   },
   "outputs": [],
   "source": [
    "train=pd.read_csv('/kaggle/input/learning-agency-lab-automated-essay-scoring-2/train.csv')\n",
    "test=pd.read_csv('/kaggle/input/learning-agency-lab-automated-essay-scoring-2/test.csv')\n",
    "#Reading the files"
   ]
  },
  {
   "cell_type": "markdown",
   "metadata": {},
   "source": [
    "## EDA"
   ]
  },
  {
   "cell_type": "code",
   "execution_count": 4,
   "metadata": {
    "execution": {
     "iopub.execute_input": "2024-09-29T03:25:52.330824Z",
     "iopub.status.busy": "2024-09-29T03:25:52.330237Z",
     "iopub.status.idle": "2024-09-29T03:25:52.356260Z",
     "shell.execute_reply": "2024-09-29T03:25:52.354973Z",
     "shell.execute_reply.started": "2024-09-29T03:25:52.330775Z"
    }
   },
   "outputs": [
    {
     "data": {
      "text/html": [
       "<div>\n",
       "<style scoped>\n",
       "    .dataframe tbody tr th:only-of-type {\n",
       "        vertical-align: middle;\n",
       "    }\n",
       "\n",
       "    .dataframe tbody tr th {\n",
       "        vertical-align: top;\n",
       "    }\n",
       "\n",
       "    .dataframe thead th {\n",
       "        text-align: right;\n",
       "    }\n",
       "</style>\n",
       "<table border=\"1\" class=\"dataframe\">\n",
       "  <thead>\n",
       "    <tr style=\"text-align: right;\">\n",
       "      <th></th>\n",
       "      <th>essay_id</th>\n",
       "      <th>full_text</th>\n",
       "      <th>score</th>\n",
       "    </tr>\n",
       "  </thead>\n",
       "  <tbody>\n",
       "    <tr>\n",
       "      <th>0</th>\n",
       "      <td>000d118</td>\n",
       "      <td>Many people have car where they live. The thin...</td>\n",
       "      <td>3</td>\n",
       "    </tr>\n",
       "    <tr>\n",
       "      <th>1</th>\n",
       "      <td>000fe60</td>\n",
       "      <td>I am a scientist at NASA that is discussing th...</td>\n",
       "      <td>3</td>\n",
       "    </tr>\n",
       "    <tr>\n",
       "      <th>2</th>\n",
       "      <td>001ab80</td>\n",
       "      <td>People always wish they had the same technolog...</td>\n",
       "      <td>4</td>\n",
       "    </tr>\n",
       "    <tr>\n",
       "      <th>3</th>\n",
       "      <td>001bdc0</td>\n",
       "      <td>We all heard about Venus, the planet without a...</td>\n",
       "      <td>4</td>\n",
       "    </tr>\n",
       "    <tr>\n",
       "      <th>4</th>\n",
       "      <td>002ba53</td>\n",
       "      <td>Dear, State Senator\\n\\nThis is a letter to arg...</td>\n",
       "      <td>3</td>\n",
       "    </tr>\n",
       "  </tbody>\n",
       "</table>\n",
       "</div>"
      ],
      "text/plain": [
       "  essay_id                                          full_text  score\n",
       "0  000d118  Many people have car where they live. The thin...      3\n",
       "1  000fe60  I am a scientist at NASA that is discussing th...      3\n",
       "2  001ab80  People always wish they had the same technolog...      4\n",
       "3  001bdc0  We all heard about Venus, the planet without a...      4\n",
       "4  002ba53  Dear, State Senator\\n\\nThis is a letter to arg...      3"
      ]
     },
     "execution_count": 4,
     "metadata": {},
     "output_type": "execute_result"
    }
   ],
   "source": [
    "train.head()"
   ]
  },
  {
   "cell_type": "code",
   "execution_count": 5,
   "metadata": {
    "execution": {
     "iopub.execute_input": "2024-09-29T03:25:54.318601Z",
     "iopub.status.busy": "2024-09-29T03:25:54.318161Z",
     "iopub.status.idle": "2024-09-29T03:25:54.330432Z",
     "shell.execute_reply": "2024-09-29T03:25:54.329095Z",
     "shell.execute_reply.started": "2024-09-29T03:25:54.318561Z"
    }
   },
   "outputs": [
    {
     "data": {
      "text/html": [
       "<div>\n",
       "<style scoped>\n",
       "    .dataframe tbody tr th:only-of-type {\n",
       "        vertical-align: middle;\n",
       "    }\n",
       "\n",
       "    .dataframe tbody tr th {\n",
       "        vertical-align: top;\n",
       "    }\n",
       "\n",
       "    .dataframe thead th {\n",
       "        text-align: right;\n",
       "    }\n",
       "</style>\n",
       "<table border=\"1\" class=\"dataframe\">\n",
       "  <thead>\n",
       "    <tr style=\"text-align: right;\">\n",
       "      <th></th>\n",
       "      <th>essay_id</th>\n",
       "      <th>full_text</th>\n",
       "    </tr>\n",
       "  </thead>\n",
       "  <tbody>\n",
       "    <tr>\n",
       "      <th>0</th>\n",
       "      <td>000d118</td>\n",
       "      <td>Many people have car where they live. The thin...</td>\n",
       "    </tr>\n",
       "    <tr>\n",
       "      <th>1</th>\n",
       "      <td>000fe60</td>\n",
       "      <td>I am a scientist at NASA that is discussing th...</td>\n",
       "    </tr>\n",
       "    <tr>\n",
       "      <th>2</th>\n",
       "      <td>001ab80</td>\n",
       "      <td>People always wish they had the same technolog...</td>\n",
       "    </tr>\n",
       "  </tbody>\n",
       "</table>\n",
       "</div>"
      ],
      "text/plain": [
       "  essay_id                                          full_text\n",
       "0  000d118  Many people have car where they live. The thin...\n",
       "1  000fe60  I am a scientist at NASA that is discussing th...\n",
       "2  001ab80  People always wish they had the same technolog..."
      ]
     },
     "execution_count": 5,
     "metadata": {},
     "output_type": "execute_result"
    }
   ],
   "source": [
    "test.head()"
   ]
  },
  {
   "cell_type": "code",
   "execution_count": 6,
   "metadata": {
    "execution": {
     "iopub.execute_input": "2024-09-29T03:25:54.861143Z",
     "iopub.status.busy": "2024-09-29T03:25:54.860682Z",
     "iopub.status.idle": "2024-09-29T03:25:54.869632Z",
     "shell.execute_reply": "2024-09-29T03:25:54.868104Z",
     "shell.execute_reply.started": "2024-09-29T03:25:54.861102Z"
    }
   },
   "outputs": [
    {
     "data": {
      "text/plain": [
       "((17307, 3), (3, 2))"
      ]
     },
     "execution_count": 6,
     "metadata": {},
     "output_type": "execute_result"
    }
   ],
   "source": [
    "train.shape, test.shape"
   ]
  },
  {
   "cell_type": "code",
   "execution_count": 7,
   "metadata": {
    "execution": {
     "iopub.execute_input": "2024-09-29T03:25:55.580111Z",
     "iopub.status.busy": "2024-09-29T03:25:55.579638Z",
     "iopub.status.idle": "2024-09-29T03:25:55.598276Z",
     "shell.execute_reply": "2024-09-29T03:25:55.596934Z",
     "shell.execute_reply.started": "2024-09-29T03:25:55.580069Z"
    }
   },
   "outputs": [
    {
     "data": {
      "text/plain": [
       "essay_id     0\n",
       "full_text    0\n",
       "score        0\n",
       "dtype: int64"
      ]
     },
     "execution_count": 7,
     "metadata": {},
     "output_type": "execute_result"
    }
   ],
   "source": [
    "train.isnull().sum()"
   ]
  },
  {
   "cell_type": "code",
   "execution_count": 8,
   "metadata": {
    "execution": {
     "iopub.execute_input": "2024-09-29T03:25:56.163376Z",
     "iopub.status.busy": "2024-09-29T03:25:56.162893Z",
     "iopub.status.idle": "2024-09-29T03:25:56.175203Z",
     "shell.execute_reply": "2024-09-29T03:25:56.173367Z",
     "shell.execute_reply.started": "2024-09-29T03:25:56.163331Z"
    }
   },
   "outputs": [
    {
     "data": {
      "text/plain": [
       "essay_id     0\n",
       "full_text    0\n",
       "dtype: int64"
      ]
     },
     "execution_count": 8,
     "metadata": {},
     "output_type": "execute_result"
    }
   ],
   "source": [
    "test.isnull().sum()"
   ]
  },
  {
   "cell_type": "code",
   "execution_count": 9,
   "metadata": {
    "execution": {
     "iopub.execute_input": "2024-09-29T03:25:56.860978Z",
     "iopub.status.busy": "2024-09-29T03:25:56.859743Z",
     "iopub.status.idle": "2024-09-29T03:25:56.873222Z",
     "shell.execute_reply": "2024-09-29T03:25:56.871766Z",
     "shell.execute_reply.started": "2024-09-29T03:25:56.860911Z"
    }
   },
   "outputs": [],
   "source": [
    "df=pd.concat([train,test])\n",
    "#Merging the files."
   ]
  },
  {
   "cell_type": "code",
   "execution_count": 10,
   "metadata": {
    "execution": {
     "iopub.execute_input": "2024-09-29T03:25:57.678479Z",
     "iopub.status.busy": "2024-09-29T03:25:57.678026Z",
     "iopub.status.idle": "2024-09-29T03:25:57.695006Z",
     "shell.execute_reply": "2024-09-29T03:25:57.693722Z",
     "shell.execute_reply.started": "2024-09-29T03:25:57.678435Z"
    }
   },
   "outputs": [
    {
     "data": {
      "text/html": [
       "<div>\n",
       "<style scoped>\n",
       "    .dataframe tbody tr th:only-of-type {\n",
       "        vertical-align: middle;\n",
       "    }\n",
       "\n",
       "    .dataframe tbody tr th {\n",
       "        vertical-align: top;\n",
       "    }\n",
       "\n",
       "    .dataframe thead th {\n",
       "        text-align: right;\n",
       "    }\n",
       "</style>\n",
       "<table border=\"1\" class=\"dataframe\">\n",
       "  <thead>\n",
       "    <tr style=\"text-align: right;\">\n",
       "      <th></th>\n",
       "      <th>essay_id</th>\n",
       "      <th>full_text</th>\n",
       "      <th>score</th>\n",
       "    </tr>\n",
       "  </thead>\n",
       "  <tbody>\n",
       "    <tr>\n",
       "      <th>0</th>\n",
       "      <td>000d118</td>\n",
       "      <td>Many people have car where they live. The thin...</td>\n",
       "      <td>3.0</td>\n",
       "    </tr>\n",
       "    <tr>\n",
       "      <th>1</th>\n",
       "      <td>000fe60</td>\n",
       "      <td>I am a scientist at NASA that is discussing th...</td>\n",
       "      <td>3.0</td>\n",
       "    </tr>\n",
       "    <tr>\n",
       "      <th>2</th>\n",
       "      <td>001ab80</td>\n",
       "      <td>People always wish they had the same technolog...</td>\n",
       "      <td>4.0</td>\n",
       "    </tr>\n",
       "    <tr>\n",
       "      <th>3</th>\n",
       "      <td>001bdc0</td>\n",
       "      <td>We all heard about Venus, the planet without a...</td>\n",
       "      <td>4.0</td>\n",
       "    </tr>\n",
       "    <tr>\n",
       "      <th>4</th>\n",
       "      <td>002ba53</td>\n",
       "      <td>Dear, State Senator\\n\\nThis is a letter to arg...</td>\n",
       "      <td>3.0</td>\n",
       "    </tr>\n",
       "  </tbody>\n",
       "</table>\n",
       "</div>"
      ],
      "text/plain": [
       "  essay_id                                          full_text  score\n",
       "0  000d118  Many people have car where they live. The thin...    3.0\n",
       "1  000fe60  I am a scientist at NASA that is discussing th...    3.0\n",
       "2  001ab80  People always wish they had the same technolog...    4.0\n",
       "3  001bdc0  We all heard about Venus, the planet without a...    4.0\n",
       "4  002ba53  Dear, State Senator\\n\\nThis is a letter to arg...    3.0"
      ]
     },
     "execution_count": 10,
     "metadata": {},
     "output_type": "execute_result"
    }
   ],
   "source": [
    "df.head()"
   ]
  },
  {
   "cell_type": "code",
   "execution_count": 11,
   "metadata": {
    "execution": {
     "iopub.execute_input": "2024-09-29T03:25:59.762308Z",
     "iopub.status.busy": "2024-09-29T03:25:59.761884Z",
     "iopub.status.idle": "2024-09-29T03:26:02.999925Z",
     "shell.execute_reply": "2024-09-29T03:26:02.998462Z",
     "shell.execute_reply.started": "2024-09-29T03:25:59.762272Z"
    }
   },
   "outputs": [],
   "source": [
    "df['full_text']=df['full_text'].str.lower()\n",
    "df['full_text']=df['full_text'].str.replace('[^\\w\\s]','',regex=True)\n",
    "df['full_text']=df['full_text'].str.replace('\\d+','',regex=True)\n",
    "df['full_text']=df['full_text'].str.replace('\\n','',regex=True)\n",
    "df['full_text']=df['full_text'].str.replace('\\r','',regex=True)"
   ]
  },
  {
   "cell_type": "code",
   "execution_count": 12,
   "metadata": {
    "execution": {
     "iopub.execute_input": "2024-09-29T03:26:03.003039Z",
     "iopub.status.busy": "2024-09-29T03:26:03.002422Z",
     "iopub.status.idle": "2024-09-29T03:26:03.023369Z",
     "shell.execute_reply": "2024-09-29T03:26:03.022156Z",
     "shell.execute_reply.started": "2024-09-29T03:26:03.002991Z"
    }
   },
   "outputs": [
    {
     "data": {
      "text/plain": [
       "2    people always wish they had the same technolog...\n",
       "2    people always wish they had the same technolog...\n",
       "Name: full_text, dtype: object"
      ]
     },
     "execution_count": 12,
     "metadata": {},
     "output_type": "execute_result"
    }
   ],
   "source": [
    "df['full_text'][2]"
   ]
  },
  {
   "cell_type": "code",
   "execution_count": 13,
   "metadata": {
    "execution": {
     "iopub.execute_input": "2024-09-29T03:26:03.025311Z",
     "iopub.status.busy": "2024-09-29T03:26:03.024750Z",
     "iopub.status.idle": "2024-09-29T03:26:03.318985Z",
     "shell.execute_reply": "2024-09-29T03:26:03.317379Z",
     "shell.execute_reply.started": "2024-09-29T03:26:03.025262Z"
    }
   },
   "outputs": [],
   "source": [
    "from unicodedata import normalize\n",
    "remove_accent = lambda text: normalize(\"NFKD\", text).encode(\"ascii\", \"ignore\").decode(\"utf-8\", \"ignore\")\n",
    "\n",
    "df[\"full_text\"] = df[\"full_text\"].apply(remove_accent)"
   ]
  },
  {
   "cell_type": "code",
   "execution_count": 14,
   "metadata": {
    "execution": {
     "iopub.execute_input": "2024-09-29T03:26:03.321840Z",
     "iopub.status.busy": "2024-09-29T03:26:03.321385Z",
     "iopub.status.idle": "2024-09-29T03:26:03.617649Z",
     "shell.execute_reply": "2024-09-29T03:26:03.615854Z",
     "shell.execute_reply.started": "2024-09-29T03:26:03.321778Z"
    }
   },
   "outputs": [
    {
     "data": {
      "image/png": "[encoded data removed]",
      "text/plain": [
       "<Figure size 640x480 with 1 Axes>"
      ]
     },
     "metadata": {},
     "output_type": "display_data"
    }
   ],
   "source": [
    "sns.countplot(x=df['score']);"
   ]
  },
  {
   "cell_type": "markdown",
   "metadata": {},
   "source": [
    "## WordCloud"
   ]
  },
  {
   "cell_type": "code",
   "execution_count": 15,
   "metadata": {
    "execution": {
     "iopub.execute_input": "2024-09-29T03:26:04.088732Z",
     "iopub.status.busy": "2024-09-29T03:26:04.088248Z",
     "iopub.status.idle": "2024-09-29T03:26:04.140307Z",
     "shell.execute_reply": "2024-09-29T03:26:04.138544Z",
     "shell.execute_reply.started": "2024-09-29T03:26:04.088674Z"
    }
   },
   "outputs": [],
   "source": [
    "from wordcloud import WordCloud\n",
    "from wordcloud import STOPWORDS\n",
    "from PIL import Image\n",
    "import numpy as np"
   ]
  },
  {
   "cell_type": "code",
   "execution_count": 16,
   "metadata": {
    "execution": {
     "iopub.execute_input": "2024-09-29T03:26:04.818944Z",
     "iopub.status.busy": "2024-09-29T03:26:04.818246Z",
     "iopub.status.idle": "2024-09-29T03:26:04.826634Z",
     "shell.execute_reply": "2024-09-29T03:26:04.824775Z",
     "shell.execute_reply.started": "2024-09-29T03:26:04.818898Z"
    }
   },
   "outputs": [],
   "source": [
    "def wc(data,bgcolor):\n",
    "    plt.figure(figsize=(6,6))\n",
    "    mask=np.array(Image.open('/kaggle/input/cloudd/cloud.png'))\n",
    "    wc=WordCloud(background_color=bgcolor,stopwords='STOPWORDS',mask=mask)\n",
    "    wc.generate(' '.join(data))\n",
    "    plt.imshow(wc)\n",
    "    plt.axis('off')"
   ]
  },
  {
   "cell_type": "code",
   "execution_count": 17,
   "metadata": {
    "execution": {
     "iopub.execute_input": "2024-09-29T03:26:05.733000Z",
     "iopub.status.busy": "2024-09-29T03:26:05.732585Z",
     "iopub.status.idle": "2024-09-29T03:26:50.901341Z",
     "shell.execute_reply": "2024-09-29T03:26:50.899355Z",
     "shell.execute_reply.started": "2024-09-29T03:26:05.732962Z"
    }
   },
   "outputs": [
    {
     "data": {
      "image/png": "[encoded data removed]",
      "text/plain": [
       "<Figure size 600x600 with 1 Axes>"
      ]
     },
     "metadata": {},
     "output_type": "display_data"
    }
   ],
   "source": [
    "wc(df['full_text'],'white')"
   ]
  },
  {
   "cell_type": "markdown",
   "metadata": {},
   "source": [
    "## Polarity-Subjectivity"
   ]
  },
  {
   "cell_type": "code",
   "execution_count": 18,
   "metadata": {
    "execution": {
     "iopub.execute_input": "2024-09-29T03:26:50.904864Z",
     "iopub.status.busy": "2024-09-29T03:26:50.904219Z",
     "iopub.status.idle": "2024-09-29T03:26:50.964168Z",
     "shell.execute_reply": "2024-09-29T03:26:50.962865Z",
     "shell.execute_reply.started": "2024-09-29T03:26:50.904797Z"
    }
   },
   "outputs": [],
   "source": [
    "from textblob import TextBlob"
   ]
  },
  {
   "cell_type": "code",
   "execution_count": 19,
   "metadata": {
    "execution": {
     "iopub.execute_input": "2024-09-29T03:26:50.966426Z",
     "iopub.status.busy": "2024-09-29T03:26:50.965943Z",
     "iopub.status.idle": "2024-09-29T03:28:35.778963Z",
     "shell.execute_reply": "2024-09-29T03:28:35.777637Z",
     "shell.execute_reply.started": "2024-09-29T03:26:50.966372Z"
    }
   },
   "outputs": [],
   "source": [
    "df['polarity'] = df['full_text'].apply(lambda x: TextBlob(x).sentiment.polarity)\n",
    "df['subjectivity']= df['full_text'].apply(lambda x: TextBlob(x).sentiment.subjectivity)"
   ]
  },
  {
   "cell_type": "markdown",
   "metadata": {},
   "source": [
    "## Vectorization and Lemma-Stemma"
   ]
  },
  {
   "cell_type": "code",
   "execution_count": 20,
   "metadata": {
    "execution": {
     "iopub.execute_input": "2024-09-29T03:28:35.782189Z",
     "iopub.status.busy": "2024-09-29T03:28:35.781782Z",
     "iopub.status.idle": "2024-09-29T03:28:35.788427Z",
     "shell.execute_reply": "2024-09-29T03:28:35.787024Z",
     "shell.execute_reply.started": "2024-09-29T03:28:35.782149Z"
    }
   },
   "outputs": [],
   "source": [
    "from sklearn.feature_extraction.text import CountVectorizer,TfidfVectorizer"
   ]
  },
  {
   "cell_type": "code",
   "execution_count": 21,
   "metadata": {
    "execution": {
     "iopub.execute_input": "2024-09-29T03:28:35.790816Z",
     "iopub.status.busy": "2024-09-29T03:28:35.790194Z",
     "iopub.status.idle": "2024-09-29T03:28:35.802650Z",
     "shell.execute_reply": "2024-09-29T03:28:35.801039Z",
     "shell.execute_reply.started": "2024-09-29T03:28:35.790737Z"
    }
   },
   "outputs": [],
   "source": [
    "from nltk.stem import PorterStemmer\n",
    "pr=PorterStemmer()"
   ]
  },
  {
   "cell_type": "code",
   "execution_count": 22,
   "metadata": {
    "execution": {
     "iopub.execute_input": "2024-09-29T03:28:35.804919Z",
     "iopub.status.busy": "2024-09-29T03:28:35.804359Z",
     "iopub.status.idle": "2024-09-29T03:28:35.815976Z",
     "shell.execute_reply": "2024-09-29T03:28:35.814763Z",
     "shell.execute_reply.started": "2024-09-29T03:28:35.804871Z"
    }
   },
   "outputs": [],
   "source": [
    "def lemmafn(text):\n",
    "    words=TextBlob(text).words\n",
    "    return [pr.stem(word) for word in words]"
   ]
  },
  {
   "cell_type": "code",
   "execution_count": 23,
   "metadata": {
    "execution": {
     "iopub.execute_input": "2024-09-29T03:28:35.819183Z",
     "iopub.status.busy": "2024-09-29T03:28:35.818643Z",
     "iopub.status.idle": "2024-09-29T03:28:35.837476Z",
     "shell.execute_reply": "2024-09-29T03:28:35.835895Z",
     "shell.execute_reply.started": "2024-09-29T03:28:35.819130Z"
    }
   },
   "outputs": [],
   "source": [
    "vect=CountVectorizer(stop_words='english',ngram_range=(1,2),max_features=10000,analyzer=lemmafn)"
   ]
  },
  {
   "cell_type": "code",
   "execution_count": 25,
   "metadata": {
    "execution": {
     "iopub.execute_input": "2024-09-29T03:28:36.029547Z",
     "iopub.status.busy": "2024-09-29T03:28:36.029200Z",
     "iopub.status.idle": "2024-09-29T03:28:36.038360Z",
     "shell.execute_reply": "2024-09-29T03:28:36.036663Z",
     "shell.execute_reply.started": "2024-09-29T03:28:36.029512Z"
    }
   },
   "outputs": [
    {
     "data": {
      "text/plain": [
       "(17307, 3)"
      ]
     },
     "execution_count": 25,
     "metadata": {},
     "output_type": "execute_result"
    }
   ],
   "source": [
    "train.shape"
   ]
  },
  {
   "cell_type": "code",
   "execution_count": 26,
   "metadata": {
    "execution": {
     "iopub.execute_input": "2024-09-29T03:28:36.044677Z",
     "iopub.status.busy": "2024-09-29T03:28:36.044243Z",
     "iopub.status.idle": "2024-09-29T03:28:36.055532Z",
     "shell.execute_reply": "2024-09-29T03:28:36.054071Z",
     "shell.execute_reply.started": "2024-09-29T03:28:36.044635Z"
    }
   },
   "outputs": [],
   "source": [
    "train.drop('essay_id', axis=1, inplace=True)"
   ]
  },
  {
   "cell_type": "code",
   "execution_count": 27,
   "metadata": {
    "execution": {
     "iopub.execute_input": "2024-09-29T03:28:36.057377Z",
     "iopub.status.busy": "2024-09-29T03:28:36.056974Z",
     "iopub.status.idle": "2024-09-29T03:28:36.072943Z",
     "shell.execute_reply": "2024-09-29T03:28:36.071287Z",
     "shell.execute_reply.started": "2024-09-29T03:28:36.057337Z"
    }
   },
   "outputs": [
    {
     "data": {
      "text/html": [
       "<div>\n",
       "<style scoped>\n",
       "    .dataframe tbody tr th:only-of-type {\n",
       "        vertical-align: middle;\n",
       "    }\n",
       "\n",
       "    .dataframe tbody tr th {\n",
       "        vertical-align: top;\n",
       "    }\n",
       "\n",
       "    .dataframe thead th {\n",
       "        text-align: right;\n",
       "    }\n",
       "</style>\n",
       "<table border=\"1\" class=\"dataframe\">\n",
       "  <thead>\n",
       "    <tr style=\"text-align: right;\">\n",
       "      <th></th>\n",
       "      <th>full_text</th>\n",
       "      <th>score</th>\n",
       "    </tr>\n",
       "  </thead>\n",
       "  <tbody>\n",
       "    <tr>\n",
       "      <th>0</th>\n",
       "      <td>Many people have car where they live. The thin...</td>\n",
       "      <td>3</td>\n",
       "    </tr>\n",
       "    <tr>\n",
       "      <th>1</th>\n",
       "      <td>I am a scientist at NASA that is discussing th...</td>\n",
       "      <td>3</td>\n",
       "    </tr>\n",
       "    <tr>\n",
       "      <th>2</th>\n",
       "      <td>People always wish they had the same technolog...</td>\n",
       "      <td>4</td>\n",
       "    </tr>\n",
       "    <tr>\n",
       "      <th>3</th>\n",
       "      <td>We all heard about Venus, the planet without a...</td>\n",
       "      <td>4</td>\n",
       "    </tr>\n",
       "    <tr>\n",
       "      <th>4</th>\n",
       "      <td>Dear, State Senator\\n\\nThis is a letter to arg...</td>\n",
       "      <td>3</td>\n",
       "    </tr>\n",
       "  </tbody>\n",
       "</table>\n",
       "</div>"
      ],
      "text/plain": [
       "                                           full_text  score\n",
       "0  Many people have car where they live. The thin...      3\n",
       "1  I am a scientist at NASA that is discussing th...      3\n",
       "2  People always wish they had the same technolog...      4\n",
       "3  We all heard about Venus, the planet without a...      4\n",
       "4  Dear, State Senator\\n\\nThis is a letter to arg...      3"
      ]
     },
     "execution_count": 27,
     "metadata": {},
     "output_type": "execute_result"
    }
   ],
   "source": [
    "train.head()"
   ]
  },
  {
   "cell_type": "markdown",
   "metadata": {},
   "source": [
    "## Modelling"
   ]
  },
  {
   "cell_type": "code",
   "execution_count": 24,
   "metadata": {
    "execution": {
     "iopub.execute_input": "2024-09-29T03:28:35.839745Z",
     "iopub.status.busy": "2024-09-29T03:28:35.839280Z",
     "iopub.status.idle": "2024-09-29T03:28:36.027876Z",
     "shell.execute_reply": "2024-09-29T03:28:36.026740Z",
     "shell.execute_reply.started": "2024-09-29T03:28:35.839672Z"
    }
   },
   "outputs": [],
   "source": [
    "from sklearn.ensemble import RandomForestClassifier\n",
    "from sklearn.model_selection import train_test_split\n",
    "from sklearn.metrics import accuracy_score, confusion_matrix, classification_report\n",
    "from sklearn.model_selection import KFold, cross_val_score\n",
    "from sklearn.datasets import make_classification"
   ]
  },
  {
   "cell_type": "code",
   "execution_count": 28,
   "metadata": {
    "execution": {
     "iopub.execute_input": "2024-09-29T03:28:36.075119Z",
     "iopub.status.busy": "2024-09-29T03:28:36.074542Z",
     "iopub.status.idle": "2024-09-29T03:28:36.083982Z",
     "shell.execute_reply": "2024-09-29T03:28:36.082783Z",
     "shell.execute_reply.started": "2024-09-29T03:28:36.075054Z"
    }
   },
   "outputs": [],
   "source": [
    "train=df[:17307]\n",
    "test=df[17307:]"
   ]
  },
  {
   "cell_type": "code",
   "execution_count": 29,
   "metadata": {
    "execution": {
     "iopub.execute_input": "2024-09-29T03:28:36.086014Z",
     "iopub.status.busy": "2024-09-29T03:28:36.085533Z",
     "iopub.status.idle": "2024-09-29T03:28:36.095679Z",
     "shell.execute_reply": "2024-09-29T03:28:36.093946Z",
     "shell.execute_reply.started": "2024-09-29T03:28:36.085974Z"
    }
   },
   "outputs": [],
   "source": [
    "x=train['full_text']\n",
    "y=train['score']"
   ]
  },
  {
   "cell_type": "code",
   "execution_count": 30,
   "metadata": {
    "execution": {
     "iopub.execute_input": "2024-09-29T03:28:36.099086Z",
     "iopub.status.busy": "2024-09-29T03:28:36.097611Z",
     "iopub.status.idle": "2024-09-29T03:33:36.943397Z",
     "shell.execute_reply": "2024-09-29T03:33:36.942146Z",
     "shell.execute_reply.started": "2024-09-29T03:28:36.099039Z"
    }
   },
   "outputs": [],
   "source": [
    "x=vect.fit_transform(x)"
   ]
  },
  {
   "cell_type": "code",
   "execution_count": 31,
   "metadata": {
    "execution": {
     "iopub.execute_input": "2024-09-29T03:33:36.945347Z",
     "iopub.status.busy": "2024-09-29T03:33:36.944967Z",
     "iopub.status.idle": "2024-09-29T03:33:36.964983Z",
     "shell.execute_reply": "2024-09-29T03:33:36.963839Z",
     "shell.execute_reply.started": "2024-09-29T03:33:36.945308Z"
    }
   },
   "outputs": [],
   "source": [
    "x_train,x_test,y_train,y_test= train_test_split(x,y, random_state=42,test_size=.20)"
   ]
  },
  {
   "cell_type": "code",
   "execution_count": 32,
   "metadata": {
    "execution": {
     "iopub.execute_input": "2024-09-29T03:33:36.966787Z",
     "iopub.status.busy": "2024-09-29T03:33:36.966341Z",
     "iopub.status.idle": "2024-09-29T03:34:16.358366Z",
     "shell.execute_reply": "2024-09-29T03:34:16.357269Z",
     "shell.execute_reply.started": "2024-09-29T03:33:36.966747Z"
    }
   },
   "outputs": [
    {
     "data": {
      "text/plain": [
       "0.549104563835933"
      ]
     },
     "execution_count": 32,
     "metadata": {},
     "output_type": "execute_result"
    }
   ],
   "source": [
    "r=RandomForestClassifier()\n",
    "model=r.fit(x_train,y_train)\n",
    "rpred=r.predict(x_test)\n",
    "accuracy_score(rpred,y_test)"
   ]
  },
  {
   "cell_type": "code",
   "execution_count": 33,
   "metadata": {
    "execution": {
     "iopub.execute_input": "2024-09-29T03:34:16.360188Z",
     "iopub.status.busy": "2024-09-29T03:34:16.359842Z",
     "iopub.status.idle": "2024-09-29T03:34:16.384301Z",
     "shell.execute_reply": "2024-09-29T03:34:16.382885Z",
     "shell.execute_reply.started": "2024-09-29T03:34:16.360151Z"
    }
   },
   "outputs": [
    {
     "name": "stdout",
     "output_type": "stream",
     "text": [
      "              precision    recall  f1-score   support\n",
      "\n",
      "         1.0       0.04      0.91      0.07        11\n",
      "         2.0       0.61      0.61      0.61       968\n",
      "         3.0       0.76      0.53      0.62      1818\n",
      "         4.0       0.45      0.52      0.48       656\n",
      "         5.0       0.02      0.33      0.03         9\n",
      "         6.0       0.00      0.00      0.00         0\n",
      "\n",
      "    accuracy                           0.55      3462\n",
      "   macro avg       0.31      0.48      0.30      3462\n",
      "weighted avg       0.66      0.55      0.59      3462\n",
      "\n"
     ]
    }
   ],
   "source": [
    "print(classification_report(rpred, y_test))"
   ]
  },
  {
   "cell_type": "code",
   "execution_count": 34,
   "metadata": {
    "execution": {
     "iopub.execute_input": "2024-09-29T03:34:16.386382Z",
     "iopub.status.busy": "2024-09-29T03:34:16.386022Z",
     "iopub.status.idle": "2024-09-29T03:34:16.401600Z",
     "shell.execute_reply": "2024-09-29T03:34:16.400272Z",
     "shell.execute_reply.started": "2024-09-29T03:34:16.386345Z"
    }
   },
   "outputs": [
    {
     "data": {
      "text/plain": [
       "array([[ 10,   1,   0,   0,   0,   0],\n",
       "       [180, 586, 196,   6,   0,   0],\n",
       "       [ 67, 364, 963, 404,  20,   0],\n",
       "       [  3,  14, 106, 339, 160,  34],\n",
       "       [  0,   0,   0,   1,   3,   5],\n",
       "       [  0,   0,   0,   0,   0,   0]])"
      ]
     },
     "execution_count": 34,
     "metadata": {},
     "output_type": "execute_result"
    }
   ],
   "source": [
    "confusion_matrix(rpred, y_test)"
   ]
  },
  {
   "cell_type": "code",
   "execution_count": 35,
   "metadata": {
    "execution": {
     "iopub.execute_input": "2024-09-29T03:34:16.403937Z",
     "iopub.status.busy": "2024-09-29T03:34:16.403461Z",
     "iopub.status.idle": "2024-09-29T03:34:16.897939Z",
     "shell.execute_reply": "2024-09-29T03:34:16.896361Z",
     "shell.execute_reply.started": "2024-09-29T03:34:16.403897Z"
    }
   },
   "outputs": [
    {
     "data": {
      "image/png": "[encoded data removed]",
      "text/plain": [
       "<Figure size 640x480 with 2 Axes>"
      ]
     },
     "metadata": {},
     "output_type": "display_data"
    }
   ],
   "source": [
    "cm = confusion_matrix(rpred, y_test)\n",
    "normalized_cm = cm / cm.sum()\n",
    "sns.heatmap(normalized_cm, annot=True, cmap='Blues');"
   ]
  },
  {
   "cell_type": "code",
   "execution_count": 36,
   "metadata": {
    "execution": {
     "iopub.execute_input": "2024-09-29T03:34:16.900264Z",
     "iopub.status.busy": "2024-09-29T03:34:16.899592Z",
     "iopub.status.idle": "2024-09-29T03:42:30.541203Z",
     "shell.execute_reply": "2024-09-29T03:42:30.540004Z",
     "shell.execute_reply.started": "2024-09-29T03:34:16.900214Z"
    }
   },
   "outputs": [
    {
     "name": "stdout",
     "output_type": "stream",
     "text": [
      "Accuracy Scores: [0.5407279  0.54794916 0.5550419  0.55215256 0.54348454]\n",
      "Mean Accuracy: 0.5478712119580884\n"
     ]
    }
   ],
   "source": [
    "#K-Fold Cross Validation\n",
    "x=train['full_text']\n",
    "y=train['score']\n",
    "x=vect.fit_transform(x)\n",
    "\n",
    "model=RandomForestClassifier()\n",
    "\n",
    "#K-fold cross validation (K=5)\n",
    "kf=KFold(n_splits=5, shuffle=True, random_state=42)\n",
    "\n",
    "#Calculating cross validation results\n",
    "scores = cross_val_score(model, x, y, cv=kf, scoring='accuracy')\n",
    "\n",
    "#Average of results\n",
    "print(f\"Accuracy Scores: {scores}\")\n",
    "print(f\"Mean Accuracy: {scores.mean()}\")"
   ]
  },
  {
   "cell_type": "code",
   "execution_count": 37,
   "metadata": {
    "execution": {
     "iopub.execute_input": "2024-09-29T03:42:30.542980Z",
     "iopub.status.busy": "2024-09-29T03:42:30.542603Z",
     "iopub.status.idle": "2024-09-29T03:42:30.572206Z",
     "shell.execute_reply": "2024-09-29T03:42:30.570363Z",
     "shell.execute_reply.started": "2024-09-29T03:42:30.542944Z"
    }
   },
   "outputs": [],
   "source": [
    "import pandas as pd\n",
    "import numpy as np\n",
    "\n",
    "from sklearn.linear_model import LogisticRegression\n",
    "from sklearn.naive_bayes import  BernoulliNB, MultinomialNB\n",
    "from sklearn.neighbors import KNeighborsClassifier\n",
    "from sklearn.tree import DecisionTreeClassifier\n",
    "from sklearn.ensemble import RandomForestClassifier, AdaBoostClassifier, GradientBoostingClassifier\n",
    "from sklearn.svm import SVC\n",
    "from sklearn.neural_network import MLPClassifier\n",
    "\n",
    "from sklearn.model_selection import train_test_split\n",
    "from sklearn.metrics import accuracy_score, precision_score, recall_score, f1_score\n",
    "\n",
    "def algo_test(x, y):\n",
    "    \n",
    "    lr = LogisticRegression(max_iter=1000)\n",
    "    b = BernoulliNB()\n",
    "    nb = MultinomialNB()\n",
    "    knn = KNeighborsClassifier()\n",
    "    dt = DecisionTreeClassifier()\n",
    "    rf = RandomForestClassifier()\n",
    "    abc = AdaBoostClassifier()\n",
    "    gbc = GradientBoostingClassifier()\n",
    "    svc = SVC()\n",
    "    mlp = MLPClassifier(max_iter=1000)\n",
    "\n",
    "    algos = [lr, b, nb, knn, dt, rf, abc, gbc, svc, mlp]\n",
    "    algo_names = ['Logistic Regression', 'BernoulliNB', 'MultinomialNB', 'K-Nearest Neighbors',\n",
    "                  'Decision Tree', 'Random Forest', 'AdaBoost', 'Gradient Boosting', 'SVM', 'MLP Classifier']\n",
    "\n",
    "    x_train, x_test, y_train, y_test = train_test_split(x, y, test_size=0.2, random_state=42)\n",
    "\n",
    "    accuracy = []\n",
    "    precision = []\n",
    "    recall = []\n",
    "    f1 = []\n",
    "\n",
    "    \n",
    "    result = pd.DataFrame(columns=['Accuracy', 'Precision', 'Recall', 'F1-score'], index=algo_names)\n",
    "    \n",
    "    for algo in algos:\n",
    "        algo.fit(x_train, y_train)\n",
    "        y_pred = algo.predict(x_test)\n",
    "        accuracy.append(accuracy_score(y_test, y_pred))\n",
    "        precision.append(precision_score(y_test, y_pred, average='weighted'))\n",
    "        recall.append(recall_score(y_test, y_pred, average='weighted'))\n",
    "        f1.append(f1_score(y_test, y_pred, average='weighted'))\n",
    "        \n",
    "    result['Accuracy'] = accuracy\n",
    "    result['Precision'] = precision\n",
    "    result['Recall'] = recall\n",
    "    result['F1-score'] = f1\n",
    "    \n",
    "    \n",
    "    rtable = result.sort_values('Accuracy', ascending=False)\n",
    "    return rtable\n"
   ]
  },
  {
   "cell_type": "code",
   "execution_count": 46,
   "metadata": {
    "execution": {
     "iopub.execute_input": "2024-09-29T03:51:54.466953Z",
     "iopub.status.busy": "2024-09-29T03:51:54.466363Z",
     "iopub.status.idle": "2024-09-29T04:08:30.256728Z",
     "shell.execute_reply": "2024-09-29T04:08:30.254932Z",
     "shell.execute_reply.started": "2024-09-29T03:51:54.466909Z"
    }
   },
   "outputs": [
    {
     "data": {
      "text/html": [
       "<div>\n",
       "<style scoped>\n",
       "    .dataframe tbody tr th:only-of-type {\n",
       "        vertical-align: middle;\n",
       "    }\n",
       "\n",
       "    .dataframe tbody tr th {\n",
       "        vertical-align: top;\n",
       "    }\n",
       "\n",
       "    .dataframe thead th {\n",
       "        text-align: right;\n",
       "    }\n",
       "</style>\n",
       "<table border=\"1\" class=\"dataframe\">\n",
       "  <thead>\n",
       "    <tr style=\"text-align: right;\">\n",
       "      <th></th>\n",
       "      <th>Accuracy</th>\n",
       "      <th>Precision</th>\n",
       "      <th>Recall</th>\n",
       "      <th>F1-score</th>\n",
       "    </tr>\n",
       "  </thead>\n",
       "  <tbody>\n",
       "    <tr>\n",
       "      <th>SVM</th>\n",
       "      <td>0.605719</td>\n",
       "      <td>0.612354</td>\n",
       "      <td>0.605719</td>\n",
       "      <td>0.583657</td>\n",
       "    </tr>\n",
       "    <tr>\n",
       "      <th>Gradient Boosting</th>\n",
       "      <td>0.558059</td>\n",
       "      <td>0.561241</td>\n",
       "      <td>0.558059</td>\n",
       "      <td>0.546780</td>\n",
       "    </tr>\n",
       "    <tr>\n",
       "      <th>Random Forest</th>\n",
       "      <td>0.542172</td>\n",
       "      <td>0.562369</td>\n",
       "      <td>0.542172</td>\n",
       "      <td>0.501217</td>\n",
       "    </tr>\n",
       "    <tr>\n",
       "      <th>Logistic Regression</th>\n",
       "      <td>0.524552</td>\n",
       "      <td>0.521721</td>\n",
       "      <td>0.524552</td>\n",
       "      <td>0.522864</td>\n",
       "    </tr>\n",
       "    <tr>\n",
       "      <th>K-Nearest Neighbors</th>\n",
       "      <td>0.475448</td>\n",
       "      <td>0.489578</td>\n",
       "      <td>0.475448</td>\n",
       "      <td>0.460551</td>\n",
       "    </tr>\n",
       "    <tr>\n",
       "      <th>MLP Classifier</th>\n",
       "      <td>0.464183</td>\n",
       "      <td>0.459092</td>\n",
       "      <td>0.464183</td>\n",
       "      <td>0.458797</td>\n",
       "    </tr>\n",
       "    <tr>\n",
       "      <th>BernoulliNB</th>\n",
       "      <td>0.458983</td>\n",
       "      <td>0.481700</td>\n",
       "      <td>0.458983</td>\n",
       "      <td>0.457849</td>\n",
       "    </tr>\n",
       "    <tr>\n",
       "      <th>AdaBoost</th>\n",
       "      <td>0.454073</td>\n",
       "      <td>0.448178</td>\n",
       "      <td>0.454073</td>\n",
       "      <td>0.430796</td>\n",
       "    </tr>\n",
       "    <tr>\n",
       "      <th>Decision Tree</th>\n",
       "      <td>0.432120</td>\n",
       "      <td>0.428644</td>\n",
       "      <td>0.432120</td>\n",
       "      <td>0.430187</td>\n",
       "    </tr>\n",
       "    <tr>\n",
       "      <th>MultinomialNB</th>\n",
       "      <td>0.297805</td>\n",
       "      <td>0.363428</td>\n",
       "      <td>0.297805</td>\n",
       "      <td>0.297156</td>\n",
       "    </tr>\n",
       "  </tbody>\n",
       "</table>\n",
       "</div>"
      ],
      "text/plain": [
       "                     Accuracy  Precision    Recall  F1-score\n",
       "SVM                  0.605719   0.612354  0.605719  0.583657\n",
       "Gradient Boosting    0.558059   0.561241  0.558059  0.546780\n",
       "Random Forest        0.542172   0.562369  0.542172  0.501217\n",
       "Logistic Regression  0.524552   0.521721  0.524552  0.522864\n",
       "K-Nearest Neighbors  0.475448   0.489578  0.475448  0.460551\n",
       "MLP Classifier       0.464183   0.459092  0.464183  0.458797\n",
       "BernoulliNB          0.458983   0.481700  0.458983  0.457849\n",
       "AdaBoost             0.454073   0.448178  0.454073  0.430796\n",
       "Decision Tree        0.432120   0.428644  0.432120  0.430187\n",
       "MultinomialNB        0.297805   0.363428  0.297805  0.297156"
      ]
     },
     "execution_count": 46,
     "metadata": {},
     "output_type": "execute_result"
    }
   ],
   "source": [
    "algo_test(x,y)"
   ]
  },
  {
   "cell_type": "markdown",
   "metadata": {},
   "source": [
    "## Test Data Prediction"
   ]
  },
  {
   "cell_type": "code",
   "execution_count": 38,
   "metadata": {
    "execution": {
     "iopub.execute_input": "2024-09-29T03:42:30.574486Z",
     "iopub.status.busy": "2024-09-29T03:42:30.573904Z",
     "iopub.status.idle": "2024-09-29T03:42:30.581479Z",
     "shell.execute_reply": "2024-09-29T03:42:30.580076Z",
     "shell.execute_reply.started": "2024-09-29T03:42:30.574439Z"
    }
   },
   "outputs": [],
   "source": [
    "test1=test.drop('score',axis=1)"
   ]
  },
  {
   "cell_type": "code",
   "execution_count": 39,
   "metadata": {
    "execution": {
     "iopub.execute_input": "2024-09-29T03:42:30.583807Z",
     "iopub.status.busy": "2024-09-29T03:42:30.583228Z",
     "iopub.status.idle": "2024-09-29T03:42:30.662221Z",
     "shell.execute_reply": "2024-09-29T03:42:30.661082Z",
     "shell.execute_reply.started": "2024-09-29T03:42:30.583749Z"
    }
   },
   "outputs": [],
   "source": [
    "test1=vect.transform(test['full_text'])"
   ]
  },
  {
   "cell_type": "code",
   "execution_count": 40,
   "metadata": {
    "execution": {
     "iopub.execute_input": "2024-09-29T03:42:30.663879Z",
     "iopub.status.busy": "2024-09-29T03:42:30.663509Z",
     "iopub.status.idle": "2024-09-29T03:49:38.198822Z",
     "shell.execute_reply": "2024-09-29T03:49:38.197477Z",
     "shell.execute_reply.started": "2024-09-29T03:42:30.663841Z"
    }
   },
   "outputs": [],
   "source": [
    "svc = SVC()\n",
    "svc.fit(x,y)\n",
    "pred=svc.predict(test1)"
   ]
  },
  {
   "cell_type": "code",
   "execution_count": 41,
   "metadata": {
    "execution": {
     "iopub.execute_input": "2024-09-29T03:49:38.200967Z",
     "iopub.status.busy": "2024-09-29T03:49:38.200472Z",
     "iopub.status.idle": "2024-09-29T03:49:38.210665Z",
     "shell.execute_reply": "2024-09-29T03:49:38.209441Z",
     "shell.execute_reply.started": "2024-09-29T03:49:38.200916Z"
    }
   },
   "outputs": [],
   "source": [
    "pred1=pd.DataFrame()\n",
    "pred1['essay_id']=test['essay_id']\n",
    "pred1['score']=pred"
   ]
  },
  {
   "cell_type": "code",
   "execution_count": 42,
   "metadata": {
    "execution": {
     "iopub.execute_input": "2024-09-29T03:49:38.212568Z",
     "iopub.status.busy": "2024-09-29T03:49:38.212131Z",
     "iopub.status.idle": "2024-09-29T03:49:38.231965Z",
     "shell.execute_reply": "2024-09-29T03:49:38.230541Z",
     "shell.execute_reply.started": "2024-09-29T03:49:38.212507Z"
    }
   },
   "outputs": [
    {
     "data": {
      "text/html": [
       "<div>\n",
       "<style scoped>\n",
       "    .dataframe tbody tr th:only-of-type {\n",
       "        vertical-align: middle;\n",
       "    }\n",
       "\n",
       "    .dataframe tbody tr th {\n",
       "        vertical-align: top;\n",
       "    }\n",
       "\n",
       "    .dataframe thead th {\n",
       "        text-align: right;\n",
       "    }\n",
       "</style>\n",
       "<table border=\"1\" class=\"dataframe\">\n",
       "  <thead>\n",
       "    <tr style=\"text-align: right;\">\n",
       "      <th></th>\n",
       "      <th>essay_id</th>\n",
       "      <th>score</th>\n",
       "    </tr>\n",
       "  </thead>\n",
       "  <tbody>\n",
       "    <tr>\n",
       "      <th>0</th>\n",
       "      <td>000d118</td>\n",
       "      <td>3.0</td>\n",
       "    </tr>\n",
       "    <tr>\n",
       "      <th>1</th>\n",
       "      <td>000fe60</td>\n",
       "      <td>3.0</td>\n",
       "    </tr>\n",
       "    <tr>\n",
       "      <th>2</th>\n",
       "      <td>001ab80</td>\n",
       "      <td>4.0</td>\n",
       "    </tr>\n",
       "  </tbody>\n",
       "</table>\n",
       "</div>"
      ],
      "text/plain": [
       "  essay_id  score\n",
       "0  000d118    3.0\n",
       "1  000fe60    3.0\n",
       "2  001ab80    4.0"
      ]
     },
     "execution_count": 42,
     "metadata": {},
     "output_type": "execute_result"
    }
   ],
   "source": [
    "pred1"
   ]
  },
  {
   "cell_type": "code",
   "execution_count": 43,
   "metadata": {
    "execution": {
     "iopub.execute_input": "2024-09-29T03:49:38.233760Z",
     "iopub.status.busy": "2024-09-29T03:49:38.233367Z",
     "iopub.status.idle": "2024-09-29T03:49:38.256381Z",
     "shell.execute_reply": "2024-09-29T03:49:38.254884Z",
     "shell.execute_reply.started": "2024-09-29T03:49:38.233721Z"
    }
   },
   "outputs": [
    {
     "name": "stdout",
     "output_type": "stream",
     "text": [
      "<class 'pandas.core.frame.DataFrame'>\n",
      "Index: 3 entries, 0 to 2\n",
      "Data columns (total 2 columns):\n",
      " #   Column    Non-Null Count  Dtype  \n",
      "---  ------    --------------  -----  \n",
      " 0   essay_id  3 non-null      object \n",
      " 1   score     3 non-null      float64\n",
      "dtypes: float64(1), object(1)\n",
      "memory usage: 72.0+ bytes\n"
     ]
    }
   ],
   "source": [
    "pred1.info()"
   ]
  },
  {
   "cell_type": "code",
   "execution_count": 44,
   "metadata": {
    "execution": {
     "iopub.execute_input": "2024-09-29T03:49:38.263591Z",
     "iopub.status.busy": "2024-09-29T03:49:38.263149Z",
     "iopub.status.idle": "2024-09-29T03:49:38.272337Z",
     "shell.execute_reply": "2024-09-29T03:49:38.271117Z",
     "shell.execute_reply.started": "2024-09-29T03:49:38.263550Z"
    }
   },
   "outputs": [],
   "source": [
    "pred1.to_csv('submission_lal.csv', index=False)"
   ]
  },
  {
   "cell_type": "markdown",
   "metadata": {},
   "source": [
    "## Summary"
   ]
  },
  {
   "cell_type": "markdown",
   "metadata": {},
   "source": [
    "The training and test data sets were combined to allow all data to be analyzed as a single set. Unnecessary characters such as punctuation marks and numbers were removed. The texts were simplified by removing accents (e.g. special characters). A word cloud was created from the given text column and the most frequently used words were visualized. This was useful for determining key themes in the text. The emotional state (polarity) and subjectivity analyses of the texts were performed. These analyses were used to understand the general attitude of the texts. Lemmatization and stemming processes were applied to reduce the words to their roots. This step was important for better understanding the subtleties of the language. The text data was converted to numerical data. This process is necessary for machine learning algorithms to process the texts. The data was divided into training (x, y) and test sets. This was prepared to be used in the training and evaluation stages of the model. The model was trained with the selected machine learning algorithm. In this step, the learning process of the model began. Various metrics were used to evaluate the performance of the model: Confusion Matrix: It was used to visualize the prediction performance of the model.\n",
    "\n",
    "Classification Report: Metrics such as accuracy, recall and F1 score were calculated. K-Fold Cross Validation: It was implemented to evaluate the overall performance of the model more reliably. The trained model made predictions on the test dataset and the results were obtained. The prediction results were saved in a CSV file format. This file was prepared so that the results could be analyzed or shared later.\n",
    "\n",
    "This study covers a process where a series of natural language processing and machine learning techniques were used to develop automatic essay scoring systems. The analyses and model evaluations provided important information for the automatic evaluation of written texts. Such systems can play a critical role in education to evaluate student performance and provide feedback."
   ]
  }
 ],
 "metadata": {
  "kaggle": {
   "accelerator": "none",
   "dataSources": [
    {
     "databundleVersionId": 8059942,
     "sourceId": 71485,
     "sourceType": "competition"
    },
    {
     "datasetId": 5769083,
     "sourceId": 9483836,
     "sourceType": "datasetVersion"
    }
   ],
   "dockerImageVersionId": 30775,
   "isGpuEnabled": false,
   "isInternetEnabled": true,
   "language": "python",
   "sourceType": "notebook"
  },
  "kernelspec": {
   "display_name": "Python 3 (ipykernel)",
   "language": "python",
   "name": "python3"
  },
  "language_info": {
   "codemirror_mode": {
    "name": "ipython",
    "version": 3
   },
   "file_extension": ".py",
   "mimetype": "text/x-python",
   "name": "python",
   "nbconvert_exporter": "python",
   "pygments_lexer": "ipython3",
   "version": "3.11.7"
  }
 },
 "nbformat": 4,
 "nbformat_minor": 4
}
