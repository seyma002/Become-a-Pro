{
 "cells": [
  {
   "cell_type": "markdown",
   "metadata": {},
   "source": [
    "## Feedback Prize - English Language Learning"
   ]
  },
  {
   "cell_type": "markdown",
   "metadata": {},
   "source": [
    "Bu yarışmanın amacı, 8. ile 12. sınıf düzeyindeki İngilizce Dil Öğrenicilerinin (ELL'ler) dil yeterliliklerini değerlendirmektir. ELL'lerin yazdığı denemelerden oluşan bir veri seti kullanarak, daha iyi destek sağlayan yeterlilik modellerinin geliştirilmesi hedeflenmektedir. Öğrencilerin İngilizce dil gelişimini daha doğru bir şekilde değerlendirmek ve öğretmenlerin not verme sürecini hızlandırmak için bu çalışmanın sonuçları büyük önem taşımaktadır. Böylece, ELL'ler, dil yeterliliklerine uygun öğrenme görevleri alarak İngilizce becerilerini geliştirme fırsatı bulacaklardır.\n",
    "\n",
    "Bu yarışma, Vanderbilt Üniversitesi ve The Learning Agency Lab tarafından desteklenen bir girişimdir. Yarışmaya katılan veri bilimciler, makine öğrenimi, doğal dil işleme ve eğitim verisi analitiği gibi becerilerini kullanarak ELL'leri desteklemek için otomatik geri bildirim araçlarını geliştirme fırsatı bulacaklardır. Bu araçların ELL'lerin mevcut dil seviyeleri bağlamında çalışmalarının değerlendirilmesine olanak tanıyarak öğretmenlerin not verme yükünü hafifletmesi ve öğrencilerin daha uygun öğrenme görevleri almasını sağlaması beklenmektedir.\n",
    "\n",
    "Vanderbilt Üniversitesi ve The Learning Agency Lab, Bill & Melinda Gates Vakfı, Schmidt Futures ve Chan Zuckerberg Initiative gibi kuruluşların desteğiyle bu çalışmanın gerçekleştirilmesine olanak tanımıştır."
   ]
  },
  {
   "cell_type": "markdown",
   "metadata": {},
   "source": [
    "![](data:image/jpeg;base64,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) "
   ]
  },
  {
   "cell_type": "markdown",
   "metadata": {},
   "source": [
    "<a href='https://www.kaggle.com/competitions/feedback-prize-english-language-learning' target=_blank>Yarışmayı burada bulabilirsiniz</a>"
   ]
  },
  {
   "cell_type": "code",
   "execution_count": 43,
   "metadata": {
    "_cell_guid": "b1076dfc-b9ad-4769-8c92-a6c4dae69d19",
    "_uuid": "8f2839f25d086af736a60e9eeb907d3b93b6e0e5",
    "execution": {
     "iopub.execute_input": "2024-09-28T17:11:07.048968Z",
     "iopub.status.busy": "2024-09-28T17:11:07.048103Z",
     "iopub.status.idle": "2024-09-28T17:11:07.059849Z",
     "shell.execute_reply": "2024-09-28T17:11:07.058663Z",
     "shell.execute_reply.started": "2024-09-28T17:11:07.048924Z"
    }
   },
   "outputs": [
    {
     "name": "stdout",
     "output_type": "stream",
     "text": [
      "/kaggle/input/cloudd/cloud.png\n",
      "/kaggle/input/feedback-prize-english-language-learning/sample_submission.csv\n",
      "/kaggle/input/feedback-prize-english-language-learning/train.csv\n",
      "/kaggle/input/feedback-prize-english-language-learning/test.csv\n"
     ]
    }
   ],
   "source": [
    "import os\n",
    "for dirname, _, filenames in os.walk('/kaggle/input'):\n",
    "    for filename in filenames:\n",
    "        print(os.path.join(dirname, filename))"
   ]
  },
  {
   "cell_type": "markdown",
   "metadata": {},
   "source": [
    "## Kütüphaneleri Yükleme"
   ]
  },
  {
   "cell_type": "code",
   "execution_count": 44,
   "metadata": {
    "execution": {
     "iopub.execute_input": "2024-09-28T17:11:07.065849Z",
     "iopub.status.busy": "2024-09-28T17:11:07.064525Z",
     "iopub.status.idle": "2024-09-28T17:11:07.071096Z",
     "shell.execute_reply": "2024-09-28T17:11:07.070084Z",
     "shell.execute_reply.started": "2024-09-28T17:11:07.065796Z"
    }
   },
   "outputs": [],
   "source": [
    "import nltk\n",
    "import pandas as pd\n",
    "import numpy as np\n",
    "import seaborn as sns\n",
    "import matplotlib.pyplot as plt\n",
    "import warnings \n",
    "warnings.filterwarnings('ignore')"
   ]
  },
  {
   "cell_type": "code",
   "execution_count": 45,
   "metadata": {
    "execution": {
     "iopub.execute_input": "2024-09-28T17:11:07.076193Z",
     "iopub.status.busy": "2024-09-28T17:11:07.075343Z",
     "iopub.status.idle": "2024-09-28T17:11:07.209669Z",
     "shell.execute_reply": "2024-09-28T17:11:07.208560Z",
     "shell.execute_reply.started": "2024-09-28T17:11:07.076154Z"
    }
   },
   "outputs": [],
   "source": [
    "train=pd.read_csv('/kaggle/input/feedback-prize-english-language-learning/train.csv')\n",
    "test=pd.read_csv('/kaggle/input/feedback-prize-english-language-learning/test.csv')\n",
    "#Dosyaları okuyoruz."
   ]
  },
  {
   "cell_type": "markdown",
   "metadata": {},
   "source": [
    "## EDA - Exploratory Data Analysis - Keşifçi Veri Analizi"
   ]
  },
  {
   "cell_type": "code",
   "execution_count": 46,
   "metadata": {
    "execution": {
     "iopub.execute_input": "2024-09-28T17:11:07.211975Z",
     "iopub.status.busy": "2024-09-28T17:11:07.211599Z",
     "iopub.status.idle": "2024-09-28T17:11:07.231463Z",
     "shell.execute_reply": "2024-09-28T17:11:07.230211Z",
     "shell.execute_reply.started": "2024-09-28T17:11:07.211938Z"
    }
   },
   "outputs": [
    {
     "data": {
      "text/html": [
       "<div>\n",
       "<style scoped>\n",
       "    .dataframe tbody tr th:only-of-type {\n",
       "        vertical-align: middle;\n",
       "    }\n",
       "\n",
       "    .dataframe tbody tr th {\n",
       "        vertical-align: top;\n",
       "    }\n",
       "\n",
       "    .dataframe thead th {\n",
       "        text-align: right;\n",
       "    }\n",
       "</style>\n",
       "<table border=\"1\" class=\"dataframe\">\n",
       "  <thead>\n",
       "    <tr style=\"text-align: right;\">\n",
       "      <th></th>\n",
       "      <th>text_id</th>\n",
       "      <th>full_text</th>\n",
       "      <th>cohesion</th>\n",
       "      <th>syntax</th>\n",
       "      <th>vocabulary</th>\n",
       "      <th>phraseology</th>\n",
       "      <th>grammar</th>\n",
       "      <th>conventions</th>\n",
       "    </tr>\n",
       "  </thead>\n",
       "  <tbody>\n",
       "    <tr>\n",
       "      <th>0</th>\n",
       "      <td>0016926B079C</td>\n",
       "      <td>I think that students would benefit from learn...</td>\n",
       "      <td>3.5</td>\n",
       "      <td>3.5</td>\n",
       "      <td>3.0</td>\n",
       "      <td>3.0</td>\n",
       "      <td>4.0</td>\n",
       "      <td>3.0</td>\n",
       "    </tr>\n",
       "    <tr>\n",
       "      <th>1</th>\n",
       "      <td>0022683E9EA5</td>\n",
       "      <td>When a problem is a change you have to let it ...</td>\n",
       "      <td>2.5</td>\n",
       "      <td>2.5</td>\n",
       "      <td>3.0</td>\n",
       "      <td>2.0</td>\n",
       "      <td>2.0</td>\n",
       "      <td>2.5</td>\n",
       "    </tr>\n",
       "    <tr>\n",
       "      <th>2</th>\n",
       "      <td>00299B378633</td>\n",
       "      <td>Dear, Principal\\n\\nIf u change the school poli...</td>\n",
       "      <td>3.0</td>\n",
       "      <td>3.5</td>\n",
       "      <td>3.0</td>\n",
       "      <td>3.0</td>\n",
       "      <td>3.0</td>\n",
       "      <td>2.5</td>\n",
       "    </tr>\n",
       "    <tr>\n",
       "      <th>3</th>\n",
       "      <td>003885A45F42</td>\n",
       "      <td>The best time in life is when you become yours...</td>\n",
       "      <td>4.5</td>\n",
       "      <td>4.5</td>\n",
       "      <td>4.5</td>\n",
       "      <td>4.5</td>\n",
       "      <td>4.0</td>\n",
       "      <td>5.0</td>\n",
       "    </tr>\n",
       "    <tr>\n",
       "      <th>4</th>\n",
       "      <td>0049B1DF5CCC</td>\n",
       "      <td>Small act of kindness can impact in other peop...</td>\n",
       "      <td>2.5</td>\n",
       "      <td>3.0</td>\n",
       "      <td>3.0</td>\n",
       "      <td>3.0</td>\n",
       "      <td>2.5</td>\n",
       "      <td>2.5</td>\n",
       "    </tr>\n",
       "  </tbody>\n",
       "</table>\n",
       "</div>"
      ],
      "text/plain": [
       "        text_id                                          full_text  cohesion  \\\n",
       "0  0016926B079C  I think that students would benefit from learn...       3.5   \n",
       "1  0022683E9EA5  When a problem is a change you have to let it ...       2.5   \n",
       "2  00299B378633  Dear, Principal\\n\\nIf u change the school poli...       3.0   \n",
       "3  003885A45F42  The best time in life is when you become yours...       4.5   \n",
       "4  0049B1DF5CCC  Small act of kindness can impact in other peop...       2.5   \n",
       "\n",
       "   syntax  vocabulary  phraseology  grammar  conventions  \n",
       "0     3.5         3.0          3.0      4.0          3.0  \n",
       "1     2.5         3.0          2.0      2.0          2.5  \n",
       "2     3.5         3.0          3.0      3.0          2.5  \n",
       "3     4.5         4.5          4.5      4.0          5.0  \n",
       "4     3.0         3.0          3.0      2.5          2.5  "
      ]
     },
     "execution_count": 46,
     "metadata": {},
     "output_type": "execute_result"
    }
   ],
   "source": [
    "train.head()"
   ]
  },
  {
   "cell_type": "code",
   "execution_count": 47,
   "metadata": {
    "execution": {
     "iopub.execute_input": "2024-09-28T17:11:07.234063Z",
     "iopub.status.busy": "2024-09-28T17:11:07.233258Z",
     "iopub.status.idle": "2024-09-28T17:11:07.246914Z",
     "shell.execute_reply": "2024-09-28T17:11:07.245853Z",
     "shell.execute_reply.started": "2024-09-28T17:11:07.234020Z"
    }
   },
   "outputs": [
    {
     "data": {
      "text/html": [
       "<div>\n",
       "<style scoped>\n",
       "    .dataframe tbody tr th:only-of-type {\n",
       "        vertical-align: middle;\n",
       "    }\n",
       "\n",
       "    .dataframe tbody tr th {\n",
       "        vertical-align: top;\n",
       "    }\n",
       "\n",
       "    .dataframe thead th {\n",
       "        text-align: right;\n",
       "    }\n",
       "</style>\n",
       "<table border=\"1\" class=\"dataframe\">\n",
       "  <thead>\n",
       "    <tr style=\"text-align: right;\">\n",
       "      <th></th>\n",
       "      <th>text_id</th>\n",
       "      <th>full_text</th>\n",
       "    </tr>\n",
       "  </thead>\n",
       "  <tbody>\n",
       "    <tr>\n",
       "      <th>0</th>\n",
       "      <td>0000C359D63E</td>\n",
       "      <td>when a person has no experience on a job their...</td>\n",
       "    </tr>\n",
       "    <tr>\n",
       "      <th>1</th>\n",
       "      <td>000BAD50D026</td>\n",
       "      <td>Do you think students would benefit from being...</td>\n",
       "    </tr>\n",
       "    <tr>\n",
       "      <th>2</th>\n",
       "      <td>00367BB2546B</td>\n",
       "      <td>Thomas Jefferson once states that \"it is wonde...</td>\n",
       "    </tr>\n",
       "  </tbody>\n",
       "</table>\n",
       "</div>"
      ],
      "text/plain": [
       "        text_id                                          full_text\n",
       "0  0000C359D63E  when a person has no experience on a job their...\n",
       "1  000BAD50D026  Do you think students would benefit from being...\n",
       "2  00367BB2546B  Thomas Jefferson once states that \"it is wonde..."
      ]
     },
     "execution_count": 47,
     "metadata": {},
     "output_type": "execute_result"
    }
   ],
   "source": [
    "test.head()"
   ]
  },
  {
   "cell_type": "code",
   "execution_count": 48,
   "metadata": {
    "execution": {
     "iopub.execute_input": "2024-09-28T17:11:07.250751Z",
     "iopub.status.busy": "2024-09-28T17:11:07.250128Z",
     "iopub.status.idle": "2024-09-28T17:11:07.259053Z",
     "shell.execute_reply": "2024-09-28T17:11:07.257916Z",
     "shell.execute_reply.started": "2024-09-28T17:11:07.250708Z"
    }
   },
   "outputs": [
    {
     "data": {
      "text/plain": [
       "((3911, 8), (3, 2))"
      ]
     },
     "execution_count": 48,
     "metadata": {},
     "output_type": "execute_result"
    }
   ],
   "source": [
    "train.shape, test.shape"
   ]
  },
  {
   "cell_type": "code",
   "execution_count": 49,
   "metadata": {
    "execution": {
     "iopub.execute_input": "2024-09-28T17:11:07.260930Z",
     "iopub.status.busy": "2024-09-28T17:11:07.260477Z",
     "iopub.status.idle": "2024-09-28T17:11:07.273710Z",
     "shell.execute_reply": "2024-09-28T17:11:07.272685Z",
     "shell.execute_reply.started": "2024-09-28T17:11:07.260892Z"
    }
   },
   "outputs": [
    {
     "data": {
      "text/plain": [
       "text_id        0\n",
       "full_text      0\n",
       "cohesion       0\n",
       "syntax         0\n",
       "vocabulary     0\n",
       "phraseology    0\n",
       "grammar        0\n",
       "conventions    0\n",
       "dtype: int64"
      ]
     },
     "execution_count": 49,
     "metadata": {},
     "output_type": "execute_result"
    }
   ],
   "source": [
    "train.isnull().sum()"
   ]
  },
  {
   "cell_type": "code",
   "execution_count": 50,
   "metadata": {
    "execution": {
     "iopub.execute_input": "2024-09-28T17:11:07.276947Z",
     "iopub.status.busy": "2024-09-28T17:11:07.275065Z",
     "iopub.status.idle": "2024-09-28T17:11:07.286449Z",
     "shell.execute_reply": "2024-09-28T17:11:07.285270Z",
     "shell.execute_reply.started": "2024-09-28T17:11:07.276905Z"
    }
   },
   "outputs": [
    {
     "data": {
      "text/plain": [
       "text_id      0\n",
       "full_text    0\n",
       "dtype: int64"
      ]
     },
     "execution_count": 50,
     "metadata": {},
     "output_type": "execute_result"
    }
   ],
   "source": [
    "test.isnull().sum()"
   ]
  },
  {
   "cell_type": "code",
   "execution_count": 51,
   "metadata": {
    "execution": {
     "iopub.execute_input": "2024-09-28T17:11:07.288647Z",
     "iopub.status.busy": "2024-09-28T17:11:07.287956Z",
     "iopub.status.idle": "2024-09-28T17:11:07.321722Z",
     "shell.execute_reply": "2024-09-28T17:11:07.320570Z",
     "shell.execute_reply.started": "2024-09-28T17:11:07.288566Z"
    }
   },
   "outputs": [
    {
     "data": {
      "text/html": [
       "<div>\n",
       "<style scoped>\n",
       "    .dataframe tbody tr th:only-of-type {\n",
       "        vertical-align: middle;\n",
       "    }\n",
       "\n",
       "    .dataframe tbody tr th {\n",
       "        vertical-align: top;\n",
       "    }\n",
       "\n",
       "    .dataframe thead th {\n",
       "        text-align: right;\n",
       "    }\n",
       "</style>\n",
       "<table border=\"1\" class=\"dataframe\">\n",
       "  <thead>\n",
       "    <tr style=\"text-align: right;\">\n",
       "      <th></th>\n",
       "      <th>cohesion</th>\n",
       "      <th>syntax</th>\n",
       "      <th>vocabulary</th>\n",
       "      <th>phraseology</th>\n",
       "      <th>grammar</th>\n",
       "      <th>conventions</th>\n",
       "    </tr>\n",
       "  </thead>\n",
       "  <tbody>\n",
       "    <tr>\n",
       "      <th>count</th>\n",
       "      <td>3911.000000</td>\n",
       "      <td>3911.000000</td>\n",
       "      <td>3911.000000</td>\n",
       "      <td>3911.000000</td>\n",
       "      <td>3911.000000</td>\n",
       "      <td>3911.000000</td>\n",
       "    </tr>\n",
       "    <tr>\n",
       "      <th>mean</th>\n",
       "      <td>3.127077</td>\n",
       "      <td>3.028254</td>\n",
       "      <td>3.235745</td>\n",
       "      <td>3.116850</td>\n",
       "      <td>3.032856</td>\n",
       "      <td>3.081053</td>\n",
       "    </tr>\n",
       "    <tr>\n",
       "      <th>std</th>\n",
       "      <td>0.662542</td>\n",
       "      <td>0.644399</td>\n",
       "      <td>0.583148</td>\n",
       "      <td>0.655997</td>\n",
       "      <td>0.699841</td>\n",
       "      <td>0.671450</td>\n",
       "    </tr>\n",
       "    <tr>\n",
       "      <th>min</th>\n",
       "      <td>1.000000</td>\n",
       "      <td>1.000000</td>\n",
       "      <td>1.000000</td>\n",
       "      <td>1.000000</td>\n",
       "      <td>1.000000</td>\n",
       "      <td>1.000000</td>\n",
       "    </tr>\n",
       "    <tr>\n",
       "      <th>25%</th>\n",
       "      <td>2.500000</td>\n",
       "      <td>2.500000</td>\n",
       "      <td>3.000000</td>\n",
       "      <td>2.500000</td>\n",
       "      <td>2.500000</td>\n",
       "      <td>2.500000</td>\n",
       "    </tr>\n",
       "    <tr>\n",
       "      <th>50%</th>\n",
       "      <td>3.000000</td>\n",
       "      <td>3.000000</td>\n",
       "      <td>3.000000</td>\n",
       "      <td>3.000000</td>\n",
       "      <td>3.000000</td>\n",
       "      <td>3.000000</td>\n",
       "    </tr>\n",
       "    <tr>\n",
       "      <th>75%</th>\n",
       "      <td>3.500000</td>\n",
       "      <td>3.500000</td>\n",
       "      <td>3.500000</td>\n",
       "      <td>3.500000</td>\n",
       "      <td>3.500000</td>\n",
       "      <td>3.500000</td>\n",
       "    </tr>\n",
       "    <tr>\n",
       "      <th>max</th>\n",
       "      <td>5.000000</td>\n",
       "      <td>5.000000</td>\n",
       "      <td>5.000000</td>\n",
       "      <td>5.000000</td>\n",
       "      <td>5.000000</td>\n",
       "      <td>5.000000</td>\n",
       "    </tr>\n",
       "  </tbody>\n",
       "</table>\n",
       "</div>"
      ],
      "text/plain": [
       "          cohesion       syntax   vocabulary  phraseology      grammar  \\\n",
       "count  3911.000000  3911.000000  3911.000000  3911.000000  3911.000000   \n",
       "mean      3.127077     3.028254     3.235745     3.116850     3.032856   \n",
       "std       0.662542     0.644399     0.583148     0.655997     0.699841   \n",
       "min       1.000000     1.000000     1.000000     1.000000     1.000000   \n",
       "25%       2.500000     2.500000     3.000000     2.500000     2.500000   \n",
       "50%       3.000000     3.000000     3.000000     3.000000     3.000000   \n",
       "75%       3.500000     3.500000     3.500000     3.500000     3.500000   \n",
       "max       5.000000     5.000000     5.000000     5.000000     5.000000   \n",
       "\n",
       "       conventions  \n",
       "count  3911.000000  \n",
       "mean      3.081053  \n",
       "std       0.671450  \n",
       "min       1.000000  \n",
       "25%       2.500000  \n",
       "50%       3.000000  \n",
       "75%       3.500000  \n",
       "max       5.000000  "
      ]
     },
     "execution_count": 51,
     "metadata": {},
     "output_type": "execute_result"
    }
   ],
   "source": [
    "train.describe()"
   ]
  },
  {
   "cell_type": "code",
   "execution_count": 52,
   "metadata": {
    "execution": {
     "iopub.execute_input": "2024-09-28T17:11:07.323303Z",
     "iopub.status.busy": "2024-09-28T17:11:07.322967Z",
     "iopub.status.idle": "2024-09-28T17:11:07.337741Z",
     "shell.execute_reply": "2024-09-28T17:11:07.336668Z",
     "shell.execute_reply.started": "2024-09-28T17:11:07.323266Z"
    }
   },
   "outputs": [
    {
     "data": {
      "text/html": [
       "<div>\n",
       "<style scoped>\n",
       "    .dataframe tbody tr th:only-of-type {\n",
       "        vertical-align: middle;\n",
       "    }\n",
       "\n",
       "    .dataframe tbody tr th {\n",
       "        vertical-align: top;\n",
       "    }\n",
       "\n",
       "    .dataframe thead th {\n",
       "        text-align: right;\n",
       "    }\n",
       "</style>\n",
       "<table border=\"1\" class=\"dataframe\">\n",
       "  <thead>\n",
       "    <tr style=\"text-align: right;\">\n",
       "      <th></th>\n",
       "      <th>cohesion</th>\n",
       "      <th>syntax</th>\n",
       "      <th>vocabulary</th>\n",
       "      <th>phraseology</th>\n",
       "      <th>grammar</th>\n",
       "      <th>conventions</th>\n",
       "    </tr>\n",
       "  </thead>\n",
       "  <tbody>\n",
       "    <tr>\n",
       "      <th>cohesion</th>\n",
       "      <td>1.000000</td>\n",
       "      <td>0.695459</td>\n",
       "      <td>0.666151</td>\n",
       "      <td>0.690058</td>\n",
       "      <td>0.638689</td>\n",
       "      <td>0.666151</td>\n",
       "    </tr>\n",
       "    <tr>\n",
       "      <th>syntax</th>\n",
       "      <td>0.695459</td>\n",
       "      <td>1.000000</td>\n",
       "      <td>0.680562</td>\n",
       "      <td>0.725467</td>\n",
       "      <td>0.709525</td>\n",
       "      <td>0.700025</td>\n",
       "    </tr>\n",
       "    <tr>\n",
       "      <th>vocabulary</th>\n",
       "      <td>0.666151</td>\n",
       "      <td>0.680562</td>\n",
       "      <td>1.000000</td>\n",
       "      <td>0.735261</td>\n",
       "      <td>0.654852</td>\n",
       "      <td>0.664292</td>\n",
       "    </tr>\n",
       "    <tr>\n",
       "      <th>phraseology</th>\n",
       "      <td>0.690058</td>\n",
       "      <td>0.725467</td>\n",
       "      <td>0.735261</td>\n",
       "      <td>1.000000</td>\n",
       "      <td>0.719746</td>\n",
       "      <td>0.666842</td>\n",
       "    </tr>\n",
       "    <tr>\n",
       "      <th>grammar</th>\n",
       "      <td>0.638689</td>\n",
       "      <td>0.709525</td>\n",
       "      <td>0.654852</td>\n",
       "      <td>0.719746</td>\n",
       "      <td>1.000000</td>\n",
       "      <td>0.673301</td>\n",
       "    </tr>\n",
       "    <tr>\n",
       "      <th>conventions</th>\n",
       "      <td>0.666151</td>\n",
       "      <td>0.700025</td>\n",
       "      <td>0.664292</td>\n",
       "      <td>0.666842</td>\n",
       "      <td>0.673301</td>\n",
       "      <td>1.000000</td>\n",
       "    </tr>\n",
       "  </tbody>\n",
       "</table>\n",
       "</div>"
      ],
      "text/plain": [
       "             cohesion    syntax  vocabulary  phraseology   grammar  \\\n",
       "cohesion     1.000000  0.695459    0.666151     0.690058  0.638689   \n",
       "syntax       0.695459  1.000000    0.680562     0.725467  0.709525   \n",
       "vocabulary   0.666151  0.680562    1.000000     0.735261  0.654852   \n",
       "phraseology  0.690058  0.725467    0.735261     1.000000  0.719746   \n",
       "grammar      0.638689  0.709525    0.654852     0.719746  1.000000   \n",
       "conventions  0.666151  0.700025    0.664292     0.666842  0.673301   \n",
       "\n",
       "             conventions  \n",
       "cohesion        0.666151  \n",
       "syntax          0.700025  \n",
       "vocabulary      0.664292  \n",
       "phraseology     0.666842  \n",
       "grammar         0.673301  \n",
       "conventions     1.000000  "
      ]
     },
     "execution_count": 52,
     "metadata": {},
     "output_type": "execute_result"
    }
   ],
   "source": [
    "train.corr(numeric_only=True)"
   ]
  },
  {
   "cell_type": "code",
   "execution_count": 53,
   "metadata": {
    "execution": {
     "iopub.execute_input": "2024-09-28T17:11:07.340052Z",
     "iopub.status.busy": "2024-09-28T17:11:07.339294Z",
     "iopub.status.idle": "2024-09-28T17:11:07.820135Z",
     "shell.execute_reply": "2024-09-28T17:11:07.819009Z",
     "shell.execute_reply.started": "2024-09-28T17:11:07.339995Z"
    }
   },
   "outputs": [
    {
     "data": {
      "image/png": "[encoded data removed]",
      "text/plain": [
       "<Figure size 640x480 with 2 Axes>"
      ]
     },
     "metadata": {},
     "output_type": "display_data"
    }
   ],
   "source": [
    "sns.heatmap(train.corr(numeric_only=True), annot=True);"
   ]
  },
  {
   "cell_type": "code",
   "execution_count": 54,
   "metadata": {
    "execution": {
     "iopub.execute_input": "2024-09-28T17:11:07.826022Z",
     "iopub.status.busy": "2024-09-28T17:11:07.825565Z",
     "iopub.status.idle": "2024-09-28T17:11:07.831865Z",
     "shell.execute_reply": "2024-09-28T17:11:07.830683Z",
     "shell.execute_reply.started": "2024-09-28T17:11:07.825985Z"
    }
   },
   "outputs": [],
   "source": [
    "train.drop('text_id', axis=1, inplace=True)"
   ]
  },
  {
   "cell_type": "code",
   "execution_count": 55,
   "metadata": {
    "execution": {
     "iopub.execute_input": "2024-09-28T17:11:07.834391Z",
     "iopub.status.busy": "2024-09-28T17:11:07.833452Z",
     "iopub.status.idle": "2024-09-28T17:11:07.842530Z",
     "shell.execute_reply": "2024-09-28T17:11:07.841658Z",
     "shell.execute_reply.started": "2024-09-28T17:11:07.834341Z"
    }
   },
   "outputs": [],
   "source": [
    "from textblob import TextBlob"
   ]
  },
  {
   "cell_type": "code",
   "execution_count": 56,
   "metadata": {
    "execution": {
     "iopub.execute_input": "2024-09-28T17:11:07.844332Z",
     "iopub.status.busy": "2024-09-28T17:11:07.843780Z",
     "iopub.status.idle": "2024-09-28T17:11:07.854666Z",
     "shell.execute_reply": "2024-09-28T17:11:07.853769Z",
     "shell.execute_reply.started": "2024-09-28T17:11:07.844277Z"
    }
   },
   "outputs": [
    {
     "name": "stdout",
     "output_type": "stream",
     "text": [
      "[nltk_data] Downloading package stopwords to /usr/share/nltk_data...\n",
      "[nltk_data]   Package stopwords is already up-to-date!\n"
     ]
    },
    {
     "data": {
      "text/plain": [
       "True"
      ]
     },
     "execution_count": 56,
     "metadata": {},
     "output_type": "execute_result"
    }
   ],
   "source": [
    "nltk.download('stopwords')"
   ]
  },
  {
   "cell_type": "code",
   "execution_count": 57,
   "metadata": {
    "execution": {
     "iopub.execute_input": "2024-09-28T17:11:07.856514Z",
     "iopub.status.busy": "2024-09-28T17:11:07.856063Z",
     "iopub.status.idle": "2024-09-28T17:11:08.580308Z",
     "shell.execute_reply": "2024-09-28T17:11:08.579321Z",
     "shell.execute_reply.started": "2024-09-28T17:11:07.856475Z"
    }
   },
   "outputs": [],
   "source": [
    "train['full_text']=train['full_text'].str.lower()\n",
    "train['full_text']=train['full_text'].str.replace('[^\\w\\s]','',regex=True)\n",
    "train['full_text']=train['full_text'].str.replace('\\d+','',regex=True)\n",
    "train['full_text']=train['full_text'].str.replace('\\n','',regex=True)\n",
    "train['full_text']=train['full_text'].str.replace('\\r','',regex=True)"
   ]
  },
  {
   "cell_type": "markdown",
   "metadata": {},
   "source": [
    "## WordCloud Oluşturma"
   ]
  },
  {
   "cell_type": "code",
   "execution_count": 58,
   "metadata": {
    "execution": {
     "iopub.execute_input": "2024-09-28T17:11:08.581914Z",
     "iopub.status.busy": "2024-09-28T17:11:08.581531Z",
     "iopub.status.idle": "2024-09-28T17:11:08.586984Z",
     "shell.execute_reply": "2024-09-28T17:11:08.586015Z",
     "shell.execute_reply.started": "2024-09-28T17:11:08.581876Z"
    }
   },
   "outputs": [],
   "source": [
    "from wordcloud import WordCloud\n",
    "from wordcloud import STOPWORDS\n",
    "from PIL import Image \n",
    "import numpy as np\n",
    "import matplotlib.pyplot as plt"
   ]
  },
  {
   "cell_type": "code",
   "execution_count": 88,
   "metadata": {
    "execution": {
     "iopub.execute_input": "2024-09-28T17:12:43.897877Z",
     "iopub.status.busy": "2024-09-28T17:12:43.897360Z",
     "iopub.status.idle": "2024-09-28T17:12:43.904147Z",
     "shell.execute_reply": "2024-09-28T17:12:43.903048Z",
     "shell.execute_reply.started": "2024-09-28T17:12:43.897832Z"
    }
   },
   "outputs": [],
   "source": [
    "def wc(data,bgcolor):\n",
    "    plt.figure(figsize=(8,8))\n",
    "    mask=np.array(Image.open('/kaggle/input/cloudd/cloud.png'))\n",
    "    wc=WordCloud(background_color=bgcolor,stopwords=STOPWORDS,mask=mask)\n",
    "    wc.generate(' '.join(data))\n",
    "    plt.imshow(wc)\n",
    "    plt.axis('off')"
   ]
  },
  {
   "cell_type": "code",
   "execution_count": 89,
   "metadata": {
    "execution": {
     "iopub.execute_input": "2024-09-28T17:12:44.084881Z",
     "iopub.status.busy": "2024-09-28T17:12:44.084334Z",
     "iopub.status.idle": "2024-09-28T17:12:52.891698Z",
     "shell.execute_reply": "2024-09-28T17:12:52.890635Z",
     "shell.execute_reply.started": "2024-09-28T17:12:44.084837Z"
    }
   },
   "outputs": [
    {
     "data": {
      "image/png": "[encoded data removed]",
      "text/plain": [
       "<Figure size 800x800 with 1 Axes>"
      ]
     },
     "metadata": {},
     "output_type": "display_data"
    }
   ],
   "source": [
    "wc(train['full_text'],'white')\n",
    "\n",
    "#Style cloud burada hata verdi.O yüzden kullanmadım."
   ]
  },
  {
   "cell_type": "code",
   "execution_count": 65,
   "metadata": {
    "execution": {
     "iopub.execute_input": "2024-09-28T17:12:03.851170Z",
     "iopub.status.busy": "2024-09-28T17:12:03.850724Z",
     "iopub.status.idle": "2024-09-28T17:12:03.856294Z",
     "shell.execute_reply": "2024-09-28T17:12:03.855075Z",
     "shell.execute_reply.started": "2024-09-28T17:12:03.851129Z"
    }
   },
   "outputs": [],
   "source": [
    "#pip install neattext"
   ]
  },
  {
   "cell_type": "code",
   "execution_count": 64,
   "metadata": {
    "execution": {
     "iopub.execute_input": "2024-09-28T17:11:54.416594Z",
     "iopub.status.busy": "2024-09-28T17:11:54.416103Z",
     "iopub.status.idle": "2024-09-28T17:11:54.450084Z",
     "shell.execute_reply": "2024-09-28T17:11:54.449039Z",
     "shell.execute_reply.started": "2024-09-28T17:11:54.416527Z"
    }
   },
   "outputs": [],
   "source": [
    "import neattext.functions as nfx"
   ]
  },
  {
   "cell_type": "code",
   "execution_count": 66,
   "metadata": {
    "execution": {
     "iopub.execute_input": "2024-09-28T17:12:09.052437Z",
     "iopub.status.busy": "2024-09-28T17:12:09.051438Z",
     "iopub.status.idle": "2024-09-28T17:12:09.069161Z",
     "shell.execute_reply": "2024-09-28T17:12:09.068094Z",
     "shell.execute_reply.started": "2024-09-28T17:12:09.052382Z"
    }
   },
   "outputs": [],
   "source": [
    "all=' '.join(train['full_text'].tolist())\n",
    "all1=' '.join(test['full_text'].tolist())"
   ]
  },
  {
   "cell_type": "code",
   "execution_count": 67,
   "metadata": {
    "execution": {
     "iopub.execute_input": "2024-09-28T17:12:09.071637Z",
     "iopub.status.busy": "2024-09-28T17:12:09.071142Z",
     "iopub.status.idle": "2024-09-28T17:12:09.651385Z",
     "shell.execute_reply": "2024-09-28T17:12:09.650419Z",
     "shell.execute_reply.started": "2024-09-28T17:12:09.071561Z"
    }
   },
   "outputs": [],
   "source": [
    "s1=nfx.remove_stopwords(all)\n",
    "s2=nfx.remove_stopwords(all1)"
   ]
  },
  {
   "cell_type": "code",
   "execution_count": 68,
   "metadata": {
    "execution": {
     "iopub.execute_input": "2024-09-28T17:12:09.654102Z",
     "iopub.status.busy": "2024-09-28T17:12:09.653656Z",
     "iopub.status.idle": "2024-09-28T17:12:09.659263Z",
     "shell.execute_reply": "2024-09-28T17:12:09.658272Z",
     "shell.execute_reply.started": "2024-09-28T17:12:09.654050Z"
    }
   },
   "outputs": [],
   "source": [
    "from collections import Counter"
   ]
  },
  {
   "cell_type": "code",
   "execution_count": 69,
   "metadata": {
    "execution": {
     "iopub.execute_input": "2024-09-28T17:12:09.661002Z",
     "iopub.status.busy": "2024-09-28T17:12:09.660687Z",
     "iopub.status.idle": "2024-09-28T17:12:09.672140Z",
     "shell.execute_reply": "2024-09-28T17:12:09.671008Z",
     "shell.execute_reply.started": "2024-09-28T17:12:09.660967Z"
    }
   },
   "outputs": [],
   "source": [
    "#print(Counter(s1.split()))"
   ]
  },
  {
   "cell_type": "code",
   "execution_count": 70,
   "metadata": {
    "execution": {
     "iopub.execute_input": "2024-09-28T17:12:09.675999Z",
     "iopub.status.busy": "2024-09-28T17:12:09.675170Z",
     "iopub.status.idle": "2024-09-28T17:12:09.852947Z",
     "shell.execute_reply": "2024-09-28T17:12:09.852040Z",
     "shell.execute_reply.started": "2024-09-28T17:12:09.675944Z"
    }
   },
   "outputs": [],
   "source": [
    "data=Counter(s1.split()).most_common(30)\n",
    "data=dict(data)"
   ]
  },
  {
   "cell_type": "code",
   "execution_count": 71,
   "metadata": {
    "execution": {
     "iopub.execute_input": "2024-09-28T17:12:09.854642Z",
     "iopub.status.busy": "2024-09-28T17:12:09.854203Z",
     "iopub.status.idle": "2024-09-28T17:12:09.863176Z",
     "shell.execute_reply": "2024-09-28T17:12:09.861886Z",
     "shell.execute_reply.started": "2024-09-28T17:12:09.854573Z"
    }
   },
   "outputs": [
    {
     "data": {
      "text/plain": [
       "{'people': 14515,\n",
       " 'students': 12879,\n",
       " 'school': 12333,\n",
       " 'good': 8348,\n",
       " 'time': 8243,\n",
       " 'like': 7944,\n",
       " 'work': 7826,\n",
       " 'want': 7158,\n",
       " 'help': 6716,\n",
       " 'life': 6558,\n",
       " 'dont': 6318,\n",
       " 'think': 6131,\n",
       " 'know': 4845,\n",
       " 'need': 4826,\n",
       " 'going': 4545,\n",
       " 'things': 4475,\n",
       " 'better': 4367,\n",
       " 'person': 4260,\n",
       " 'example': 3903,\n",
       " 'learn': 3643,\n",
       " 'student': 3629,\n",
       " 'way': 3616,\n",
       " 'classes': 3256,\n",
       " 'day': 3213,\n",
       " 'lot': 2997,\n",
       " 'thing': 2862,\n",
       " 'class': 2834,\n",
       " 'home': 2827,\n",
       " 'bad': 2684,\n",
       " 'new': 2581}"
      ]
     },
     "execution_count": 71,
     "metadata": {},
     "output_type": "execute_result"
    }
   ],
   "source": [
    "data"
   ]
  },
  {
   "cell_type": "code",
   "execution_count": 72,
   "metadata": {
    "execution": {
     "iopub.execute_input": "2024-09-28T17:12:09.864820Z",
     "iopub.status.busy": "2024-09-28T17:12:09.864429Z",
     "iopub.status.idle": "2024-09-28T17:12:09.872571Z",
     "shell.execute_reply": "2024-09-28T17:12:09.871558Z",
     "shell.execute_reply.started": "2024-09-28T17:12:09.864784Z"
    }
   },
   "outputs": [],
   "source": [
    "data1=Counter(s2.split()).most_common(30)\n",
    "data1=dict(data1)"
   ]
  },
  {
   "cell_type": "code",
   "execution_count": 73,
   "metadata": {
    "execution": {
     "iopub.execute_input": "2024-09-28T17:12:09.874924Z",
     "iopub.status.busy": "2024-09-28T17:12:09.874228Z",
     "iopub.status.idle": "2024-09-28T17:12:10.848597Z",
     "shell.execute_reply": "2024-09-28T17:12:10.847752Z",
     "shell.execute_reply.started": "2024-09-28T17:12:09.874875Z"
    }
   },
   "outputs": [],
   "source": [
    "train['full_text']=train['full_text'].apply(lambda x: nfx.clean_text(x))\n",
    "test['full_text']=test['full_text'].apply(lambda x: nfx.clean_text(x))"
   ]
  },
  {
   "cell_type": "code",
   "execution_count": 74,
   "metadata": {
    "execution": {
     "iopub.execute_input": "2024-09-28T17:12:10.850351Z",
     "iopub.status.busy": "2024-09-28T17:12:10.849910Z",
     "iopub.status.idle": "2024-09-28T17:12:12.073736Z",
     "shell.execute_reply": "2024-09-28T17:12:12.072345Z",
     "shell.execute_reply.started": "2024-09-28T17:12:10.850303Z"
    }
   },
   "outputs": [],
   "source": [
    "train['full_text']=train['full_text'].apply(lambda x: nfx.normalize(x))\n",
    "test['full_text']=test['full_text'].apply(lambda x: nfx.normalize(x))"
   ]
  },
  {
   "cell_type": "code",
   "execution_count": 75,
   "metadata": {
    "execution": {
     "iopub.execute_input": "2024-09-28T17:12:12.075776Z",
     "iopub.status.busy": "2024-09-28T17:12:12.075284Z",
     "iopub.status.idle": "2024-09-28T17:12:12.082851Z",
     "shell.execute_reply": "2024-09-28T17:12:12.081692Z",
     "shell.execute_reply.started": "2024-09-28T17:12:12.075719Z"
    }
   },
   "outputs": [
    {
     "data": {
      "text/plain": [
       "'problem change let best matter happening change mind need wake look problems best way change want change time ago aproblem change different help understand tings wokfirst different example remember came united states think going change think going change different country realist wrong problem change change way remember shy think change lot problems think thing life need different way dont let happened ruing change want problem example think going change dont need shy anymore need start seeing different ways mad need know going happened afterpeople different way know change best dont let body change way want change cant choice problems decide itsecond help understand things work instance mom lot problems faith people mom scare high im scare high understand mos scare high scare high time mom airplane laugh scare funny different way like high understand hoe things work people example think mom different understand like high need understand help understand things work need start things work persons lifea problem change different help understand different opinion different understand different opinion people think'"
      ]
     },
     "execution_count": 75,
     "metadata": {},
     "output_type": "execute_result"
    }
   ],
   "source": [
    "train['full_text'][1]"
   ]
  },
  {
   "cell_type": "code",
   "execution_count": 77,
   "metadata": {
    "execution": {
     "iopub.execute_input": "2024-09-28T17:12:12.237752Z",
     "iopub.status.busy": "2024-09-28T17:12:12.237291Z",
     "iopub.status.idle": "2024-09-28T17:12:12.245182Z",
     "shell.execute_reply": "2024-09-28T17:12:12.244138Z",
     "shell.execute_reply.started": "2024-09-28T17:12:12.237701Z"
    }
   },
   "outputs": [
    {
     "data": {
      "text/plain": [
       "'think students benefit able attend classes home? yes! benefit student attend classes home. student want attend classes home thinks important . think learned fast, understand student attend classes school. example friend told attand classes home good her, subject understand attend classes school attend home classes good subject. like science think science important understand science understand science attend classes home. parent want children attend classes school, christian want children attend classes school believe science want children disrespectful teacher them. maybe student deciding attend classes home benefit good people lot money. people attend classes home. student attend classes home hate bull trouble. student come school bull student fight other. know people scared fight bull someone. example girl attend day school girl bull beat everyday try kill self think fight parent sigh want kill herself, immediately stop her, let children school think school like school. attand class home good sometime. student attend classes home reason provide experience try learned themselves. order achieve life attend classes home deciding whether.'"
      ]
     },
     "execution_count": 77,
     "metadata": {},
     "output_type": "execute_result"
    }
   ],
   "source": [
    "test['full_text'][1]"
   ]
  },
  {
   "cell_type": "code",
   "execution_count": 79,
   "metadata": {
    "execution": {
     "iopub.execute_input": "2024-09-28T17:12:12.257026Z",
     "iopub.status.busy": "2024-09-28T17:12:12.256661Z",
     "iopub.status.idle": "2024-09-28T17:12:12.323928Z",
     "shell.execute_reply": "2024-09-28T17:12:12.322916Z",
     "shell.execute_reply.started": "2024-09-28T17:12:12.256988Z"
    }
   },
   "outputs": [
    {
     "name": "stdout",
     "output_type": "stream",
     "text": [
      "[nltk_data] Downloading package wordnet to /usr/share/nltk_data...\n",
      "[nltk_data]   Package wordnet is already up-to-date!\n"
     ]
    },
    {
     "data": {
      "text/plain": [
       "True"
      ]
     },
     "execution_count": 79,
     "metadata": {},
     "output_type": "execute_result"
    }
   ],
   "source": [
    "nltk.download('wordnet')"
   ]
  },
  {
   "cell_type": "code",
   "execution_count": 80,
   "metadata": {
    "execution": {
     "iopub.execute_input": "2024-09-28T17:12:12.325703Z",
     "iopub.status.busy": "2024-09-28T17:12:12.325260Z",
     "iopub.status.idle": "2024-09-28T17:12:12.330832Z",
     "shell.execute_reply": "2024-09-28T17:12:12.329750Z",
     "shell.execute_reply.started": "2024-09-28T17:12:12.325653Z"
    }
   },
   "outputs": [],
   "source": [
    "from nltk.stem import PorterStemmer\n",
    "pr=PorterStemmer()"
   ]
  },
  {
   "cell_type": "code",
   "execution_count": 81,
   "metadata": {
    "execution": {
     "iopub.execute_input": "2024-09-28T17:12:12.332601Z",
     "iopub.status.busy": "2024-09-28T17:12:12.332264Z",
     "iopub.status.idle": "2024-09-28T17:12:12.342558Z",
     "shell.execute_reply": "2024-09-28T17:12:12.341649Z",
     "shell.execute_reply.started": "2024-09-28T17:12:12.332557Z"
    }
   },
   "outputs": [],
   "source": [
    "def lemmafn(text):\n",
    "    words=TextBlob(text).words\n",
    "    return [pr.stem(word) for word in words]"
   ]
  },
  {
   "cell_type": "code",
   "execution_count": 82,
   "metadata": {
    "execution": {
     "iopub.execute_input": "2024-09-28T17:12:12.344300Z",
     "iopub.status.busy": "2024-09-28T17:12:12.343946Z",
     "iopub.status.idle": "2024-09-28T17:12:12.556552Z",
     "shell.execute_reply": "2024-09-28T17:12:12.555508Z",
     "shell.execute_reply.started": "2024-09-28T17:12:12.344263Z"
    }
   },
   "outputs": [],
   "source": [
    "train['full_text']=train['full_text'].apply(lambda x: nfx.remove_stopwords(x))\n",
    "test['full_text']=test['full_text'].apply(lambda x: nfx.remove_stopwords(x))"
   ]
  },
  {
   "cell_type": "code",
   "execution_count": 83,
   "metadata": {
    "execution": {
     "iopub.execute_input": "2024-09-28T17:12:12.558298Z",
     "iopub.status.busy": "2024-09-28T17:12:12.557957Z",
     "iopub.status.idle": "2024-09-28T17:12:12.563250Z",
     "shell.execute_reply": "2024-09-28T17:12:12.562176Z",
     "shell.execute_reply.started": "2024-09-28T17:12:12.558261Z"
    }
   },
   "outputs": [],
   "source": [
    "from sklearn.feature_extraction.text import CountVectorizer,TfidfVectorizer"
   ]
  },
  {
   "cell_type": "code",
   "execution_count": 84,
   "metadata": {
    "execution": {
     "iopub.execute_input": "2024-09-28T17:12:12.564995Z",
     "iopub.status.busy": "2024-09-28T17:12:12.564591Z",
     "iopub.status.idle": "2024-09-28T17:12:12.573420Z",
     "shell.execute_reply": "2024-09-28T17:12:12.572377Z",
     "shell.execute_reply.started": "2024-09-28T17:12:12.564958Z"
    }
   },
   "outputs": [],
   "source": [
    "vect=CountVectorizer(stop_words='english',ngram_range=(1,2),max_features=10000,analyzer=lemmafn)"
   ]
  },
  {
   "cell_type": "code",
   "execution_count": 85,
   "metadata": {
    "execution": {
     "iopub.execute_input": "2024-09-28T17:12:12.574960Z",
     "iopub.status.busy": "2024-09-28T17:12:12.574601Z",
     "iopub.status.idle": "2024-09-28T17:12:12.585672Z",
     "shell.execute_reply": "2024-09-28T17:12:12.584757Z",
     "shell.execute_reply.started": "2024-09-28T17:12:12.574924Z"
    }
   },
   "outputs": [
    {
     "data": {
      "text/plain": [
       "(3911, 7)"
      ]
     },
     "execution_count": 85,
     "metadata": {},
     "output_type": "execute_result"
    }
   ],
   "source": [
    "train.shape"
   ]
  },
  {
   "cell_type": "code",
   "execution_count": 86,
   "metadata": {
    "execution": {
     "iopub.execute_input": "2024-09-28T17:12:12.587493Z",
     "iopub.status.busy": "2024-09-28T17:12:12.587087Z",
     "iopub.status.idle": "2024-09-28T17:12:12.607317Z",
     "shell.execute_reply": "2024-09-28T17:12:12.606201Z",
     "shell.execute_reply.started": "2024-09-28T17:12:12.587456Z"
    }
   },
   "outputs": [
    {
     "data": {
      "text/html": [
       "<div>\n",
       "<style scoped>\n",
       "    .dataframe tbody tr th:only-of-type {\n",
       "        vertical-align: middle;\n",
       "    }\n",
       "\n",
       "    .dataframe tbody tr th {\n",
       "        vertical-align: top;\n",
       "    }\n",
       "\n",
       "    .dataframe thead th {\n",
       "        text-align: right;\n",
       "    }\n",
       "</style>\n",
       "<table border=\"1\" class=\"dataframe\">\n",
       "  <thead>\n",
       "    <tr style=\"text-align: right;\">\n",
       "      <th></th>\n",
       "      <th>full_text</th>\n",
       "      <th>cohesion</th>\n",
       "      <th>syntax</th>\n",
       "      <th>vocabulary</th>\n",
       "      <th>phraseology</th>\n",
       "      <th>grammar</th>\n",
       "      <th>conventions</th>\n",
       "    </tr>\n",
       "  </thead>\n",
       "  <tbody>\n",
       "    <tr>\n",
       "      <th>0</th>\n",
       "      <td>think students benefit learning homebecause wo...</td>\n",
       "      <td>3.5</td>\n",
       "      <td>3.5</td>\n",
       "      <td>3.0</td>\n",
       "      <td>3.0</td>\n",
       "      <td>4.0</td>\n",
       "      <td>3.0</td>\n",
       "    </tr>\n",
       "    <tr>\n",
       "      <th>1</th>\n",
       "      <td>problem change let best matter happening chang...</td>\n",
       "      <td>2.5</td>\n",
       "      <td>2.5</td>\n",
       "      <td>3.0</td>\n",
       "      <td>2.0</td>\n",
       "      <td>2.0</td>\n",
       "      <td>2.5</td>\n",
       "    </tr>\n",
       "    <tr>\n",
       "      <th>2</th>\n",
       "      <td>dear principalif u change school policy grade ...</td>\n",
       "      <td>3.0</td>\n",
       "      <td>3.5</td>\n",
       "      <td>3.0</td>\n",
       "      <td>3.0</td>\n",
       "      <td>3.0</td>\n",
       "      <td>2.5</td>\n",
       "    </tr>\n",
       "    <tr>\n",
       "      <th>3</th>\n",
       "      <td>best time life agree greatest accomplishment w...</td>\n",
       "      <td>4.5</td>\n",
       "      <td>4.5</td>\n",
       "      <td>4.5</td>\n",
       "      <td>4.5</td>\n",
       "      <td>4.0</td>\n",
       "      <td>5.0</td>\n",
       "    </tr>\n",
       "    <tr>\n",
       "      <th>4</th>\n",
       "      <td>small act kindness impact people change people...</td>\n",
       "      <td>2.5</td>\n",
       "      <td>3.0</td>\n",
       "      <td>3.0</td>\n",
       "      <td>3.0</td>\n",
       "      <td>2.5</td>\n",
       "      <td>2.5</td>\n",
       "    </tr>\n",
       "  </tbody>\n",
       "</table>\n",
       "</div>"
      ],
      "text/plain": [
       "                                           full_text  cohesion  syntax  \\\n",
       "0  think students benefit learning homebecause wo...       3.5     3.5   \n",
       "1  problem change let best matter happening chang...       2.5     2.5   \n",
       "2  dear principalif u change school policy grade ...       3.0     3.5   \n",
       "3  best time life agree greatest accomplishment w...       4.5     4.5   \n",
       "4  small act kindness impact people change people...       2.5     3.0   \n",
       "\n",
       "   vocabulary  phraseology  grammar  conventions  \n",
       "0         3.0          3.0      4.0          3.0  \n",
       "1         3.0          2.0      2.0          2.5  \n",
       "2         3.0          3.0      3.0          2.5  \n",
       "3         4.5          4.5      4.0          5.0  \n",
       "4         3.0          3.0      2.5          2.5  "
      ]
     },
     "execution_count": 86,
     "metadata": {},
     "output_type": "execute_result"
    }
   ],
   "source": [
    "train.head()"
   ]
  },
  {
   "cell_type": "markdown",
   "metadata": {},
   "source": [
    "## Modelleme"
   ]
  },
  {
   "cell_type": "code",
   "execution_count": 92,
   "metadata": {
    "execution": {
     "iopub.execute_input": "2024-09-28T17:14:37.780779Z",
     "iopub.status.busy": "2024-09-28T17:14:37.779727Z",
     "iopub.status.idle": "2024-09-28T17:15:14.285917Z",
     "shell.execute_reply": "2024-09-28T17:15:14.284797Z",
     "shell.execute_reply.started": "2024-09-28T17:14:37.780729Z"
    }
   },
   "outputs": [],
   "source": [
    "x_train=vect.fit_transform(train['full_text'])\n",
    "x_test=vect.transform(test['full_text'])"
   ]
  },
  {
   "cell_type": "code",
   "execution_count": 93,
   "metadata": {
    "execution": {
     "iopub.execute_input": "2024-09-28T17:15:14.298060Z",
     "iopub.status.busy": "2024-09-28T17:15:14.297615Z",
     "iopub.status.idle": "2024-09-28T17:15:14.307367Z",
     "shell.execute_reply": "2024-09-28T17:15:14.306088Z",
     "shell.execute_reply.started": "2024-09-28T17:15:14.298020Z"
    }
   },
   "outputs": [],
   "source": [
    "train.drop('full_text', axis=1 ,inplace=True)"
   ]
  },
  {
   "cell_type": "code",
   "execution_count": 94,
   "metadata": {
    "execution": {
     "iopub.execute_input": "2024-09-28T17:15:18.109688Z",
     "iopub.status.busy": "2024-09-28T17:15:18.109225Z",
     "iopub.status.idle": "2024-09-28T17:15:18.117947Z",
     "shell.execute_reply": "2024-09-28T17:15:18.116778Z",
     "shell.execute_reply.started": "2024-09-28T17:15:18.109644Z"
    }
   },
   "outputs": [
    {
     "data": {
      "text/plain": [
       "<Compressed Sparse Row sparse matrix of dtype 'int64'\n",
       "\twith 296174 stored elements and shape (3911, 10000)>"
      ]
     },
     "execution_count": 94,
     "metadata": {},
     "output_type": "execute_result"
    }
   ],
   "source": [
    "x_train"
   ]
  },
  {
   "cell_type": "code",
   "execution_count": 104,
   "metadata": {
    "execution": {
     "iopub.execute_input": "2024-09-28T17:27:04.193130Z",
     "iopub.status.busy": "2024-09-28T17:27:04.192701Z",
     "iopub.status.idle": "2024-09-28T17:27:18.917515Z",
     "shell.execute_reply": "2024-09-28T17:27:18.916300Z",
     "shell.execute_reply.started": "2024-09-28T17:27:04.193091Z"
    }
   },
   "outputs": [],
   "source": [
    "from sklearn.multioutput import MultiOutputRegressor\n",
    "from sklearn.linear_model import LinearRegression\n",
    "from sklearn.metrics import r2_score, mean_squared_error\n",
    "\n",
    "model = MultiOutputRegressor(LinearRegression())\n",
    "\n",
    "model.fit(x_train, train)\n",
    "pred_train = model.predict(x_train)"
   ]
  },
  {
   "cell_type": "code",
   "execution_count": 105,
   "metadata": {
    "execution": {
     "iopub.execute_input": "2024-09-28T17:27:18.920034Z",
     "iopub.status.busy": "2024-09-28T17:27:18.919632Z",
     "iopub.status.idle": "2024-09-28T17:27:18.932232Z",
     "shell.execute_reply": "2024-09-28T17:27:18.931066Z",
     "shell.execute_reply.started": "2024-09-28T17:27:18.919992Z"
    }
   },
   "outputs": [
    {
     "name": "stdout",
     "output_type": "stream",
     "text": [
      "Root Mean Squared Error: 0.0017647177456181406\n",
      "R2 Score: 0.9999927550770141\n"
     ]
    }
   ],
   "source": [
    "rmse = mean_squared_error(train, pred_train) ** 0.5\n",
    "r2 = r2_score(train, pred_train)\n",
    "\n",
    "\n",
    "print('Root Mean Squared Error:', rmse)\n",
    "print('R2 Score:', r2)"
   ]
  },
  {
   "cell_type": "code",
   "execution_count": 106,
   "metadata": {
    "execution": {
     "iopub.execute_input": "2024-09-28T17:27:59.976122Z",
     "iopub.status.busy": "2024-09-28T17:27:59.975148Z",
     "iopub.status.idle": "2024-09-28T17:27:59.982461Z",
     "shell.execute_reply": "2024-09-28T17:27:59.981140Z",
     "shell.execute_reply.started": "2024-09-28T17:27:59.976076Z"
    }
   },
   "outputs": [],
   "source": [
    "# Test veri setinde tahmin yapma\n",
    "pred_test = model.predict(x_test)"
   ]
  },
  {
   "cell_type": "code",
   "execution_count": 107,
   "metadata": {
    "execution": {
     "iopub.execute_input": "2024-09-28T17:28:01.532910Z",
     "iopub.status.busy": "2024-09-28T17:28:01.532423Z",
     "iopub.status.idle": "2024-09-28T17:28:01.539062Z",
     "shell.execute_reply": "2024-09-28T17:28:01.537697Z",
     "shell.execute_reply.started": "2024-09-28T17:28:01.532866Z"
    }
   },
   "outputs": [],
   "source": [
    "# Sonuçları DataFrame'e çevirme\n",
    "pred_df = pd.DataFrame(pred_test, columns=['cohesion', 'syntax', 'vocabulary', 'phraseology', 'grammar', 'conventions'])"
   ]
  },
  {
   "cell_type": "code",
   "execution_count": 109,
   "metadata": {
    "execution": {
     "iopub.execute_input": "2024-09-28T17:28:04.473045Z",
     "iopub.status.busy": "2024-09-28T17:28:04.472077Z",
     "iopub.status.idle": "2024-09-28T17:28:04.483127Z",
     "shell.execute_reply": "2024-09-28T17:28:04.482006Z",
     "shell.execute_reply.started": "2024-09-28T17:28:04.472987Z"
    }
   },
   "outputs": [],
   "source": [
    "pred_df.insert(0, 'text_id', test['text_id'])  \n",
    "\n",
    "# Kaggle için gönderim dosyasını oluşturma\n",
    "pred_df.to_csv('submission_ell.csv', index=False)"
   ]
  },
  {
   "cell_type": "code",
   "execution_count": 110,
   "metadata": {
    "execution": {
     "iopub.execute_input": "2024-09-28T17:28:09.131299Z",
     "iopub.status.busy": "2024-09-28T17:28:09.130842Z",
     "iopub.status.idle": "2024-09-28T17:28:09.146178Z",
     "shell.execute_reply": "2024-09-28T17:28:09.144971Z",
     "shell.execute_reply.started": "2024-09-28T17:28:09.131256Z"
    }
   },
   "outputs": [
    {
     "data": {
      "text/html": [
       "<div>\n",
       "<style scoped>\n",
       "    .dataframe tbody tr th:only-of-type {\n",
       "        vertical-align: middle;\n",
       "    }\n",
       "\n",
       "    .dataframe tbody tr th {\n",
       "        vertical-align: top;\n",
       "    }\n",
       "\n",
       "    .dataframe thead th {\n",
       "        text-align: right;\n",
       "    }\n",
       "</style>\n",
       "<table border=\"1\" class=\"dataframe\">\n",
       "  <thead>\n",
       "    <tr style=\"text-align: right;\">\n",
       "      <th></th>\n",
       "      <th>text_id</th>\n",
       "      <th>cohesion</th>\n",
       "      <th>syntax</th>\n",
       "      <th>vocabulary</th>\n",
       "      <th>phraseology</th>\n",
       "      <th>grammar</th>\n",
       "      <th>conventions</th>\n",
       "    </tr>\n",
       "  </thead>\n",
       "  <tbody>\n",
       "    <tr>\n",
       "      <th>0</th>\n",
       "      <td>0000C359D63E</td>\n",
       "      <td>2.825011</td>\n",
       "      <td>2.387837</td>\n",
       "      <td>2.942800</td>\n",
       "      <td>1.772737</td>\n",
       "      <td>1.826738</td>\n",
       "      <td>2.616136</td>\n",
       "    </tr>\n",
       "    <tr>\n",
       "      <th>1</th>\n",
       "      <td>000BAD50D026</td>\n",
       "      <td>2.364608</td>\n",
       "      <td>2.541493</td>\n",
       "      <td>2.420433</td>\n",
       "      <td>2.119588</td>\n",
       "      <td>2.278095</td>\n",
       "      <td>3.243927</td>\n",
       "    </tr>\n",
       "    <tr>\n",
       "      <th>2</th>\n",
       "      <td>00367BB2546B</td>\n",
       "      <td>2.778455</td>\n",
       "      <td>3.225427</td>\n",
       "      <td>2.945941</td>\n",
       "      <td>2.764871</td>\n",
       "      <td>3.682219</td>\n",
       "      <td>2.850762</td>\n",
       "    </tr>\n",
       "  </tbody>\n",
       "</table>\n",
       "</div>"
      ],
      "text/plain": [
       "        text_id  cohesion    syntax  vocabulary  phraseology   grammar  \\\n",
       "0  0000C359D63E  2.825011  2.387837    2.942800     1.772737  1.826738   \n",
       "1  000BAD50D026  2.364608  2.541493    2.420433     2.119588  2.278095   \n",
       "2  00367BB2546B  2.778455  3.225427    2.945941     2.764871  3.682219   \n",
       "\n",
       "   conventions  \n",
       "0     2.616136  \n",
       "1     3.243927  \n",
       "2     2.850762  "
      ]
     },
     "execution_count": 110,
     "metadata": {},
     "output_type": "execute_result"
    }
   ],
   "source": [
    "pred_df.head()"
   ]
  },
  {
   "cell_type": "markdown",
   "metadata": {},
   "source": [
    "## Özet"
   ]
  },
  {
   "cell_type": "markdown",
   "metadata": {},
   "source": [
    "Bu projede, İngilizce Dil Öğrenicilerinin (ELL'ler) yazılı metinleri üzerinde çalışarak dil yeterliliklerini değerlendirmek amacıyla çeşitli adımlar izledik. İlk olarak, veri setimizi okuyarak başladık. Ardından, metin verilerindeki noktalama işaretlerini kaldırdık.Daha sonra neattext kütüphanesini kullandık.Stopwordsleri kaldırdık.\n",
    "\n",
    "Sonrasında, metin verilerinden görsel bir temsil oluşturmak için bir kelime bulutu (word cloud) oluşturduk. Bu aşama, metinlerdeki en sık kullanılan kelimeleri ve ifadeleri görselleştirerek dil kullanımını anlamamıza yardımcı oldu.\n",
    "\n",
    "Metin verilerini hazırladıktan sonra, fit_transform yöntemi ile verilerimizi vektörleştirdik ve bu vektörleri kullanarak modelimizi eğittik. Model eğitimi tamamlandıktan sonra, test verimizi kullanarak tahminler yaptık. Bu süreç, ELL'lerin dil gelişimini daha iyi değerlendirmek için önemli bir adım oldu.\n",
    "\n",
    "Sonuç olarak, bu çalışma, yazılı dil becerilerini ölçmek ve geliştirmek için veri bilimi teknikleri kullanarak ELL'lere daha iyi destek sağlamayı hedeflemektedir.\n",
    "\n",
    "(Tahmin ettiğimiz dosyayı yükleme kısmı açık değildi.Bu yüzden yüklemedik.)"
   ]
  }
 ],
 "metadata": {
  "kaggle": {
   "accelerator": "none",
   "dataSources": [
    {
     "databundleVersionId": 4196674,
     "sourceId": 38321,
     "sourceType": "competition"
    },
    {
     "datasetId": 5769083,
     "sourceId": 9483836,
     "sourceType": "datasetVersion"
    }
   ],
   "dockerImageVersionId": 30775,
   "isGpuEnabled": false,
   "isInternetEnabled": true,
   "language": "python",
   "sourceType": "notebook"
  },
  "kernelspec": {
   "display_name": "Python 3 (ipykernel)",
   "language": "python",
   "name": "python3"
  },
  "language_info": {
   "codemirror_mode": {
    "name": "ipython",
    "version": 3
   },
   "file_extension": ".py",
   "mimetype": "text/x-python",
   "name": "python",
   "nbconvert_exporter": "python",
   "pygments_lexer": "ipython3",
   "version": "3.11.7"
  }
 },
 "nbformat": 4,
 "nbformat_minor": 4
}
