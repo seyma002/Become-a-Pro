{
 "cells": [
  {
   "cell_type": "markdown",
   "metadata": {},
   "source": [
    "## Ghouls, Goblins, and Ghosts"
   ]
  },
  {
   "cell_type": "markdown",
   "metadata": {},
   "source": [
    "This project involves a machine learning model developed for the Kaggle competition \"Ghouls, Goblins, and Ghosts Boo\" to classify scary creatures. Data was collected to identify a total of 371 different creatures using various features (bone length, degree of decay, level of soullessness, etc.). Our goal is to use this information to correctly predict the species of each creature in the test set.\n",
    "\n",
    "The challenges faced by data scientists and the large number of creatures increase the importance of accurate classification. In this context, we aim to achieve the best results using different machine learning methods."
   ]
  },
  {
   "cell_type": "markdown",
   "metadata": {},
   "source": [
    "![](data:image/jpeg;base64,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)"
   ]
  },
  {
   "cell_type": "code",
   "execution_count": 1,
   "metadata": {
    "_cell_guid": "b1076dfc-b9ad-4769-8c92-a6c4dae69d19",
    "_uuid": "8f2839f25d086af736a60e9eeb907d3b93b6e0e5",
    "execution": {
     "iopub.execute_input": "2024-09-30T06:48:52.992739Z",
     "iopub.status.busy": "2024-09-30T06:48:52.992334Z",
     "iopub.status.idle": "2024-09-30T06:48:53.991295Z",
     "shell.execute_reply": "2024-09-30T06:48:53.990086Z",
     "shell.execute_reply.started": "2024-09-30T06:48:52.992700Z"
    }
   },
   "outputs": [
    {
     "name": "stdout",
     "output_type": "stream",
     "text": [
      "/kaggle/input/ghouls-goblins-and-ghosts-boo/train.csv.zip\n",
      "/kaggle/input/ghouls-goblins-and-ghosts-boo/sample_submission.csv.zip\n",
      "/kaggle/input/ghouls-goblins-and-ghosts-boo/test.csv.zip\n"
     ]
    }
   ],
   "source": [
    "import os\n",
    "for dirname, _, filenames in os.walk('/kaggle/input'):\n",
    "    for filename in filenames:\n",
    "        print(os.path.join(dirname, filename))"
   ]
  },
  {
   "cell_type": "markdown",
   "metadata": {},
   "source": [
    "## Import Libraries"
   ]
  },
  {
   "cell_type": "code",
   "execution_count": 2,
   "metadata": {
    "execution": {
     "iopub.execute_input": "2024-09-30T06:48:53.993452Z",
     "iopub.status.busy": "2024-09-30T06:48:53.992953Z",
     "iopub.status.idle": "2024-09-30T06:48:53.998496Z",
     "shell.execute_reply": "2024-09-30T06:48:53.997349Z",
     "shell.execute_reply.started": "2024-09-30T06:48:53.993414Z"
    }
   },
   "outputs": [],
   "source": [
    "import zipfile\n",
    "import os\n",
    "import pandas as pd\n",
    "import numpy as np\n",
    "import seaborn as sns \n",
    "import matplotlib.pyplot as plt\n",
    "import warnings\n",
    "warnings.filterwarnings('ignore')"
   ]
  },
  {
   "cell_type": "code",
   "execution_count": 4,
   "metadata": {
    "execution": {
     "iopub.execute_input": "2024-09-30T06:48:54.022667Z",
     "iopub.status.busy": "2024-09-30T06:48:54.021572Z",
     "iopub.status.idle": "2024-09-30T06:48:54.034442Z",
     "shell.execute_reply": "2024-09-30T06:48:54.033085Z",
     "shell.execute_reply.started": "2024-09-30T06:48:54.022613Z"
    }
   },
   "outputs": [],
   "source": [
    "zip_file_path = '/kaggle/input/ghouls-goblins-and-ghosts-boo/train.csv.zip'\n",
    "output_directory = '/kaggle/working/train_data'\n",
    "\n",
    "os.makedirs(output_directory, exist_ok=True)\n",
    "\n",
    "with zipfile.ZipFile(zip_file_path, 'r') as zip_ref:\n",
    "    zip_ref.extractall(output_directory)"
   ]
  },
  {
   "cell_type": "code",
   "execution_count": 3,
   "metadata": {
    "execution": {
     "iopub.execute_input": "2024-09-30T06:48:54.000456Z",
     "iopub.status.busy": "2024-09-30T06:48:53.999937Z",
     "iopub.status.idle": "2024-09-30T06:48:54.018612Z",
     "shell.execute_reply": "2024-09-30T06:48:54.016928Z",
     "shell.execute_reply.started": "2024-09-30T06:48:54.000405Z"
    }
   },
   "outputs": [],
   "source": [
    "zip_file_path = '/kaggle/input/ghouls-goblins-and-ghosts-boo/test.csv.zip'\n",
    "output_directory = '/kaggle/working/test_data'\n",
    "\n",
    "os.makedirs(output_directory, exist_ok=True)\n",
    "\n",
    "with zipfile.ZipFile(zip_file_path, 'r') as zip_ref:\n",
    "    zip_ref.extractall(output_directory)"
   ]
  },
  {
   "cell_type": "code",
   "execution_count": 6,
   "metadata": {
    "execution": {
     "iopub.execute_input": "2024-09-30T06:48:55.636843Z",
     "iopub.status.busy": "2024-09-30T06:48:55.636348Z",
     "iopub.status.idle": "2024-09-30T06:48:55.654256Z",
     "shell.execute_reply": "2024-09-30T06:48:55.653061Z",
     "shell.execute_reply.started": "2024-09-30T06:48:55.636805Z"
    }
   },
   "outputs": [],
   "source": [
    "train=pd.read_csv('/kaggle/working/train_data/train.csv')\n",
    "test=pd.read_csv('/kaggle/working/test_data/test.csv')"
   ]
  },
  {
   "cell_type": "markdown",
   "metadata": {},
   "source": [
    "## EDA"
   ]
  },
  {
   "cell_type": "code",
   "execution_count": 7,
   "metadata": {
    "execution": {
     "iopub.execute_input": "2024-09-30T06:48:55.656188Z",
     "iopub.status.busy": "2024-09-30T06:48:55.655785Z",
     "iopub.status.idle": "2024-09-30T06:48:55.683225Z",
     "shell.execute_reply": "2024-09-30T06:48:55.682156Z",
     "shell.execute_reply.started": "2024-09-30T06:48:55.656147Z"
    }
   },
   "outputs": [
    {
     "data": {
      "text/html": [
       "<div>\n",
       "<style scoped>\n",
       "    .dataframe tbody tr th:only-of-type {\n",
       "        vertical-align: middle;\n",
       "    }\n",
       "\n",
       "    .dataframe tbody tr th {\n",
       "        vertical-align: top;\n",
       "    }\n",
       "\n",
       "    .dataframe thead th {\n",
       "        text-align: right;\n",
       "    }\n",
       "</style>\n",
       "<table border=\"1\" class=\"dataframe\">\n",
       "  <thead>\n",
       "    <tr style=\"text-align: right;\">\n",
       "      <th></th>\n",
       "      <th>id</th>\n",
       "      <th>bone_length</th>\n",
       "      <th>rotting_flesh</th>\n",
       "      <th>hair_length</th>\n",
       "      <th>has_soul</th>\n",
       "      <th>color</th>\n",
       "      <th>type</th>\n",
       "    </tr>\n",
       "  </thead>\n",
       "  <tbody>\n",
       "    <tr>\n",
       "      <th>0</th>\n",
       "      <td>0</td>\n",
       "      <td>0.354512</td>\n",
       "      <td>0.350839</td>\n",
       "      <td>0.465761</td>\n",
       "      <td>0.781142</td>\n",
       "      <td>clear</td>\n",
       "      <td>Ghoul</td>\n",
       "    </tr>\n",
       "    <tr>\n",
       "      <th>1</th>\n",
       "      <td>1</td>\n",
       "      <td>0.575560</td>\n",
       "      <td>0.425868</td>\n",
       "      <td>0.531401</td>\n",
       "      <td>0.439899</td>\n",
       "      <td>green</td>\n",
       "      <td>Goblin</td>\n",
       "    </tr>\n",
       "    <tr>\n",
       "      <th>2</th>\n",
       "      <td>2</td>\n",
       "      <td>0.467875</td>\n",
       "      <td>0.354330</td>\n",
       "      <td>0.811616</td>\n",
       "      <td>0.791225</td>\n",
       "      <td>black</td>\n",
       "      <td>Ghoul</td>\n",
       "    </tr>\n",
       "    <tr>\n",
       "      <th>3</th>\n",
       "      <td>4</td>\n",
       "      <td>0.776652</td>\n",
       "      <td>0.508723</td>\n",
       "      <td>0.636766</td>\n",
       "      <td>0.884464</td>\n",
       "      <td>black</td>\n",
       "      <td>Ghoul</td>\n",
       "    </tr>\n",
       "    <tr>\n",
       "      <th>4</th>\n",
       "      <td>5</td>\n",
       "      <td>0.566117</td>\n",
       "      <td>0.875862</td>\n",
       "      <td>0.418594</td>\n",
       "      <td>0.636438</td>\n",
       "      <td>green</td>\n",
       "      <td>Ghost</td>\n",
       "    </tr>\n",
       "  </tbody>\n",
       "</table>\n",
       "</div>"
      ],
      "text/plain": [
       "   id  bone_length  rotting_flesh  hair_length  has_soul  color    type\n",
       "0   0     0.354512       0.350839     0.465761  0.781142  clear   Ghoul\n",
       "1   1     0.575560       0.425868     0.531401  0.439899  green  Goblin\n",
       "2   2     0.467875       0.354330     0.811616  0.791225  black   Ghoul\n",
       "3   4     0.776652       0.508723     0.636766  0.884464  black   Ghoul\n",
       "4   5     0.566117       0.875862     0.418594  0.636438  green   Ghost"
      ]
     },
     "execution_count": 7,
     "metadata": {},
     "output_type": "execute_result"
    }
   ],
   "source": [
    "train.head()"
   ]
  },
  {
   "cell_type": "code",
   "execution_count": 8,
   "metadata": {
    "execution": {
     "iopub.execute_input": "2024-09-30T06:48:55.685643Z",
     "iopub.status.busy": "2024-09-30T06:48:55.684847Z",
     "iopub.status.idle": "2024-09-30T06:48:55.700225Z",
     "shell.execute_reply": "2024-09-30T06:48:55.698805Z",
     "shell.execute_reply.started": "2024-09-30T06:48:55.685593Z"
    }
   },
   "outputs": [
    {
     "data": {
      "text/html": [
       "<div>\n",
       "<style scoped>\n",
       "    .dataframe tbody tr th:only-of-type {\n",
       "        vertical-align: middle;\n",
       "    }\n",
       "\n",
       "    .dataframe tbody tr th {\n",
       "        vertical-align: top;\n",
       "    }\n",
       "\n",
       "    .dataframe thead th {\n",
       "        text-align: right;\n",
       "    }\n",
       "</style>\n",
       "<table border=\"1\" class=\"dataframe\">\n",
       "  <thead>\n",
       "    <tr style=\"text-align: right;\">\n",
       "      <th></th>\n",
       "      <th>id</th>\n",
       "      <th>bone_length</th>\n",
       "      <th>rotting_flesh</th>\n",
       "      <th>hair_length</th>\n",
       "      <th>has_soul</th>\n",
       "      <th>color</th>\n",
       "    </tr>\n",
       "  </thead>\n",
       "  <tbody>\n",
       "    <tr>\n",
       "      <th>0</th>\n",
       "      <td>3</td>\n",
       "      <td>0.471774</td>\n",
       "      <td>0.387937</td>\n",
       "      <td>0.706087</td>\n",
       "      <td>0.698537</td>\n",
       "      <td>black</td>\n",
       "    </tr>\n",
       "    <tr>\n",
       "      <th>1</th>\n",
       "      <td>6</td>\n",
       "      <td>0.427332</td>\n",
       "      <td>0.645024</td>\n",
       "      <td>0.565558</td>\n",
       "      <td>0.451462</td>\n",
       "      <td>white</td>\n",
       "    </tr>\n",
       "    <tr>\n",
       "      <th>2</th>\n",
       "      <td>9</td>\n",
       "      <td>0.549602</td>\n",
       "      <td>0.491931</td>\n",
       "      <td>0.660387</td>\n",
       "      <td>0.449809</td>\n",
       "      <td>black</td>\n",
       "    </tr>\n",
       "    <tr>\n",
       "      <th>3</th>\n",
       "      <td>10</td>\n",
       "      <td>0.638095</td>\n",
       "      <td>0.682867</td>\n",
       "      <td>0.471409</td>\n",
       "      <td>0.356924</td>\n",
       "      <td>white</td>\n",
       "    </tr>\n",
       "    <tr>\n",
       "      <th>4</th>\n",
       "      <td>13</td>\n",
       "      <td>0.361762</td>\n",
       "      <td>0.583997</td>\n",
       "      <td>0.377256</td>\n",
       "      <td>0.276364</td>\n",
       "      <td>black</td>\n",
       "    </tr>\n",
       "  </tbody>\n",
       "</table>\n",
       "</div>"
      ],
      "text/plain": [
       "   id  bone_length  rotting_flesh  hair_length  has_soul  color\n",
       "0   3     0.471774       0.387937     0.706087  0.698537  black\n",
       "1   6     0.427332       0.645024     0.565558  0.451462  white\n",
       "2   9     0.549602       0.491931     0.660387  0.449809  black\n",
       "3  10     0.638095       0.682867     0.471409  0.356924  white\n",
       "4  13     0.361762       0.583997     0.377256  0.276364  black"
      ]
     },
     "execution_count": 8,
     "metadata": {},
     "output_type": "execute_result"
    }
   ],
   "source": [
    "test.head()"
   ]
  },
  {
   "cell_type": "code",
   "execution_count": 9,
   "metadata": {
    "execution": {
     "iopub.execute_input": "2024-09-30T06:48:55.702926Z",
     "iopub.status.busy": "2024-09-30T06:48:55.702455Z",
     "iopub.status.idle": "2024-09-30T06:48:55.716116Z",
     "shell.execute_reply": "2024-09-30T06:48:55.714801Z",
     "shell.execute_reply.started": "2024-09-30T06:48:55.702865Z"
    }
   },
   "outputs": [
    {
     "data": {
      "text/plain": [
       "(371, 7)"
      ]
     },
     "execution_count": 9,
     "metadata": {},
     "output_type": "execute_result"
    }
   ],
   "source": [
    "train.shape"
   ]
  },
  {
   "cell_type": "code",
   "execution_count": 10,
   "metadata": {
    "execution": {
     "iopub.execute_input": "2024-09-30T06:48:55.721925Z",
     "iopub.status.busy": "2024-09-30T06:48:55.721144Z",
     "iopub.status.idle": "2024-09-30T06:48:55.733826Z",
     "shell.execute_reply": "2024-09-30T06:48:55.732402Z",
     "shell.execute_reply.started": "2024-09-30T06:48:55.721866Z"
    }
   },
   "outputs": [
    {
     "data": {
      "text/plain": [
       "(529, 6)"
      ]
     },
     "execution_count": 10,
     "metadata": {},
     "output_type": "execute_result"
    }
   ],
   "source": [
    "test.shape"
   ]
  },
  {
   "cell_type": "code",
   "execution_count": 11,
   "metadata": {
    "execution": {
     "iopub.execute_input": "2024-09-30T06:48:55.735465Z",
     "iopub.status.busy": "2024-09-30T06:48:55.735094Z",
     "iopub.status.idle": "2024-09-30T06:48:55.753283Z",
     "shell.execute_reply": "2024-09-30T06:48:55.752126Z",
     "shell.execute_reply.started": "2024-09-30T06:48:55.735416Z"
    }
   },
   "outputs": [
    {
     "data": {
      "text/plain": [
       "id               0\n",
       "bone_length      0\n",
       "rotting_flesh    0\n",
       "hair_length      0\n",
       "has_soul         0\n",
       "color            0\n",
       "type             0\n",
       "dtype: int64"
      ]
     },
     "execution_count": 11,
     "metadata": {},
     "output_type": "execute_result"
    }
   ],
   "source": [
    "train.isnull().sum()"
   ]
  },
  {
   "cell_type": "code",
   "execution_count": 12,
   "metadata": {
    "execution": {
     "iopub.execute_input": "2024-09-30T06:48:55.755388Z",
     "iopub.status.busy": "2024-09-30T06:48:55.754976Z",
     "iopub.status.idle": "2024-09-30T06:48:55.770879Z",
     "shell.execute_reply": "2024-09-30T06:48:55.769388Z",
     "shell.execute_reply.started": "2024-09-30T06:48:55.755347Z"
    }
   },
   "outputs": [
    {
     "data": {
      "text/plain": [
       "id               0\n",
       "bone_length      0\n",
       "rotting_flesh    0\n",
       "hair_length      0\n",
       "has_soul         0\n",
       "color            0\n",
       "dtype: int64"
      ]
     },
     "execution_count": 12,
     "metadata": {},
     "output_type": "execute_result"
    }
   ],
   "source": [
    "test.isnull().sum()"
   ]
  },
  {
   "cell_type": "code",
   "execution_count": 13,
   "metadata": {
    "execution": {
     "iopub.execute_input": "2024-09-30T06:48:55.773019Z",
     "iopub.status.busy": "2024-09-30T06:48:55.772509Z",
     "iopub.status.idle": "2024-09-30T06:48:55.783894Z",
     "shell.execute_reply": "2024-09-30T06:48:55.782822Z",
     "shell.execute_reply.started": "2024-09-30T06:48:55.772936Z"
    }
   },
   "outputs": [],
   "source": [
    "df=pd.concat([train,test])"
   ]
  },
  {
   "cell_type": "code",
   "execution_count": 14,
   "metadata": {
    "execution": {
     "iopub.execute_input": "2024-09-30T06:48:55.786400Z",
     "iopub.status.busy": "2024-09-30T06:48:55.785903Z",
     "iopub.status.idle": "2024-09-30T06:48:55.806119Z",
     "shell.execute_reply": "2024-09-30T06:48:55.804985Z",
     "shell.execute_reply.started": "2024-09-30T06:48:55.786346Z"
    }
   },
   "outputs": [
    {
     "data": {
      "text/html": [
       "<div>\n",
       "<style scoped>\n",
       "    .dataframe tbody tr th:only-of-type {\n",
       "        vertical-align: middle;\n",
       "    }\n",
       "\n",
       "    .dataframe tbody tr th {\n",
       "        vertical-align: top;\n",
       "    }\n",
       "\n",
       "    .dataframe thead th {\n",
       "        text-align: right;\n",
       "    }\n",
       "</style>\n",
       "<table border=\"1\" class=\"dataframe\">\n",
       "  <thead>\n",
       "    <tr style=\"text-align: right;\">\n",
       "      <th></th>\n",
       "      <th>id</th>\n",
       "      <th>bone_length</th>\n",
       "      <th>rotting_flesh</th>\n",
       "      <th>hair_length</th>\n",
       "      <th>has_soul</th>\n",
       "      <th>color</th>\n",
       "      <th>type</th>\n",
       "    </tr>\n",
       "  </thead>\n",
       "  <tbody>\n",
       "    <tr>\n",
       "      <th>0</th>\n",
       "      <td>0</td>\n",
       "      <td>0.354512</td>\n",
       "      <td>0.350839</td>\n",
       "      <td>0.465761</td>\n",
       "      <td>0.781142</td>\n",
       "      <td>clear</td>\n",
       "      <td>Ghoul</td>\n",
       "    </tr>\n",
       "    <tr>\n",
       "      <th>1</th>\n",
       "      <td>1</td>\n",
       "      <td>0.575560</td>\n",
       "      <td>0.425868</td>\n",
       "      <td>0.531401</td>\n",
       "      <td>0.439899</td>\n",
       "      <td>green</td>\n",
       "      <td>Goblin</td>\n",
       "    </tr>\n",
       "    <tr>\n",
       "      <th>2</th>\n",
       "      <td>2</td>\n",
       "      <td>0.467875</td>\n",
       "      <td>0.354330</td>\n",
       "      <td>0.811616</td>\n",
       "      <td>0.791225</td>\n",
       "      <td>black</td>\n",
       "      <td>Ghoul</td>\n",
       "    </tr>\n",
       "    <tr>\n",
       "      <th>3</th>\n",
       "      <td>4</td>\n",
       "      <td>0.776652</td>\n",
       "      <td>0.508723</td>\n",
       "      <td>0.636766</td>\n",
       "      <td>0.884464</td>\n",
       "      <td>black</td>\n",
       "      <td>Ghoul</td>\n",
       "    </tr>\n",
       "    <tr>\n",
       "      <th>4</th>\n",
       "      <td>5</td>\n",
       "      <td>0.566117</td>\n",
       "      <td>0.875862</td>\n",
       "      <td>0.418594</td>\n",
       "      <td>0.636438</td>\n",
       "      <td>green</td>\n",
       "      <td>Ghost</td>\n",
       "    </tr>\n",
       "  </tbody>\n",
       "</table>\n",
       "</div>"
      ],
      "text/plain": [
       "   id  bone_length  rotting_flesh  hair_length  has_soul  color    type\n",
       "0   0     0.354512       0.350839     0.465761  0.781142  clear   Ghoul\n",
       "1   1     0.575560       0.425868     0.531401  0.439899  green  Goblin\n",
       "2   2     0.467875       0.354330     0.811616  0.791225  black   Ghoul\n",
       "3   4     0.776652       0.508723     0.636766  0.884464  black   Ghoul\n",
       "4   5     0.566117       0.875862     0.418594  0.636438  green   Ghost"
      ]
     },
     "execution_count": 14,
     "metadata": {},
     "output_type": "execute_result"
    }
   ],
   "source": [
    "df.head()"
   ]
  },
  {
   "cell_type": "code",
   "execution_count": 15,
   "metadata": {
    "execution": {
     "iopub.execute_input": "2024-09-30T06:48:55.808758Z",
     "iopub.status.busy": "2024-09-30T06:48:55.808229Z",
     "iopub.status.idle": "2024-09-30T06:48:55.830210Z",
     "shell.execute_reply": "2024-09-30T06:48:55.829076Z",
     "shell.execute_reply.started": "2024-09-30T06:48:55.808687Z"
    }
   },
   "outputs": [
    {
     "data": {
      "text/html": [
       "<div>\n",
       "<style scoped>\n",
       "    .dataframe tbody tr th:only-of-type {\n",
       "        vertical-align: middle;\n",
       "    }\n",
       "\n",
       "    .dataframe tbody tr th {\n",
       "        vertical-align: top;\n",
       "    }\n",
       "\n",
       "    .dataframe thead th {\n",
       "        text-align: right;\n",
       "    }\n",
       "</style>\n",
       "<table border=\"1\" class=\"dataframe\">\n",
       "  <thead>\n",
       "    <tr style=\"text-align: right;\">\n",
       "      <th></th>\n",
       "      <th>id</th>\n",
       "      <th>bone_length</th>\n",
       "      <th>rotting_flesh</th>\n",
       "      <th>hair_length</th>\n",
       "      <th>has_soul</th>\n",
       "    </tr>\n",
       "  </thead>\n",
       "  <tbody>\n",
       "    <tr>\n",
       "      <th>id</th>\n",
       "      <td>1.000000</td>\n",
       "      <td>-0.055528</td>\n",
       "      <td>0.051417</td>\n",
       "      <td>-0.001244</td>\n",
       "      <td>0.026444</td>\n",
       "    </tr>\n",
       "    <tr>\n",
       "      <th>bone_length</th>\n",
       "      <td>-0.055528</td>\n",
       "      <td>1.000000</td>\n",
       "      <td>-0.036473</td>\n",
       "      <td>0.391096</td>\n",
       "      <td>0.389710</td>\n",
       "    </tr>\n",
       "    <tr>\n",
       "      <th>rotting_flesh</th>\n",
       "      <td>0.051417</td>\n",
       "      <td>-0.036473</td>\n",
       "      <td>1.000000</td>\n",
       "      <td>-0.198511</td>\n",
       "      <td>-0.157359</td>\n",
       "    </tr>\n",
       "    <tr>\n",
       "      <th>hair_length</th>\n",
       "      <td>-0.001244</td>\n",
       "      <td>0.391096</td>\n",
       "      <td>-0.198511</td>\n",
       "      <td>1.000000</td>\n",
       "      <td>0.490707</td>\n",
       "    </tr>\n",
       "    <tr>\n",
       "      <th>has_soul</th>\n",
       "      <td>0.026444</td>\n",
       "      <td>0.389710</td>\n",
       "      <td>-0.157359</td>\n",
       "      <td>0.490707</td>\n",
       "      <td>1.000000</td>\n",
       "    </tr>\n",
       "  </tbody>\n",
       "</table>\n",
       "</div>"
      ],
      "text/plain": [
       "                     id  bone_length  rotting_flesh  hair_length  has_soul\n",
       "id             1.000000    -0.055528       0.051417    -0.001244  0.026444\n",
       "bone_length   -0.055528     1.000000      -0.036473     0.391096  0.389710\n",
       "rotting_flesh  0.051417    -0.036473       1.000000    -0.198511 -0.157359\n",
       "hair_length   -0.001244     0.391096      -0.198511     1.000000  0.490707\n",
       "has_soul       0.026444     0.389710      -0.157359     0.490707  1.000000"
      ]
     },
     "execution_count": 15,
     "metadata": {},
     "output_type": "execute_result"
    }
   ],
   "source": [
    "df.corr(numeric_only=True)"
   ]
  },
  {
   "cell_type": "code",
   "execution_count": 16,
   "metadata": {
    "execution": {
     "iopub.execute_input": "2024-09-30T06:48:55.832236Z",
     "iopub.status.busy": "2024-09-30T06:48:55.831805Z",
     "iopub.status.idle": "2024-09-30T06:48:56.261513Z",
     "shell.execute_reply": "2024-09-30T06:48:56.260227Z",
     "shell.execute_reply.started": "2024-09-30T06:48:55.832195Z"
    }
   },
   "outputs": [
    {
     "data": {
      "image/png": "[encoded data removed]",
      "text/plain": [
       "<Figure size 640x480 with 2 Axes>"
      ]
     },
     "metadata": {},
     "output_type": "display_data"
    }
   ],
   "source": [
    "sns.heatmap(df.corr(numeric_only=True),annot=True);"
   ]
  },
  {
   "cell_type": "markdown",
   "metadata": {},
   "source": [
    "## Data Visualization"
   ]
  },
  {
   "cell_type": "code",
   "execution_count": 17,
   "metadata": {
    "execution": {
     "iopub.execute_input": "2024-09-30T06:48:56.264312Z",
     "iopub.status.busy": "2024-09-30T06:48:56.263617Z",
     "iopub.status.idle": "2024-09-30T06:48:56.524842Z",
     "shell.execute_reply": "2024-09-30T06:48:56.523469Z",
     "shell.execute_reply.started": "2024-09-30T06:48:56.264255Z"
    }
   },
   "outputs": [
    {
     "data": {
      "image/png": "[encoded data removed]",
      "text/plain": [
       "<Figure size 640x480 with 1 Axes>"
      ]
     },
     "metadata": {},
     "output_type": "display_data"
    }
   ],
   "source": [
    "sns.countplot(x=df['color']);"
   ]
  },
  {
   "cell_type": "code",
   "execution_count": 18,
   "metadata": {
    "execution": {
     "iopub.execute_input": "2024-09-30T06:48:56.526968Z",
     "iopub.status.busy": "2024-09-30T06:48:56.526488Z",
     "iopub.status.idle": "2024-09-30T06:48:56.752215Z",
     "shell.execute_reply": "2024-09-30T06:48:56.750808Z",
     "shell.execute_reply.started": "2024-09-30T06:48:56.526907Z"
    }
   },
   "outputs": [
    {
     "data": {
      "image/png": "[encoded data removed]",
      "text/plain": [
       "<Figure size 640x480 with 1 Axes>"
      ]
     },
     "metadata": {},
     "output_type": "display_data"
    }
   ],
   "source": [
    "sns.countplot(x=df['type']);"
   ]
  },
  {
   "cell_type": "code",
   "execution_count": 60,
   "metadata": {
    "execution": {
     "iopub.execute_input": "2024-09-30T07:02:05.189505Z",
     "iopub.status.busy": "2024-09-30T07:02:05.189040Z",
     "iopub.status.idle": "2024-09-30T07:02:05.527261Z",
     "shell.execute_reply": "2024-09-30T07:02:05.526075Z",
     "shell.execute_reply.started": "2024-09-30T07:02:05.189465Z"
    }
   },
   "outputs": [
    {
     "data": {
      "image/png": "[encoded data removed]",
      "text/plain": [
       "<Figure size 640x480 with 1 Axes>"
      ]
     },
     "metadata": {},
     "output_type": "display_data"
    }
   ],
   "source": [
    "sns.kdeplot(df['bone_length'], fill=True, color='green');"
   ]
  },
  {
   "cell_type": "code",
   "execution_count": 61,
   "metadata": {
    "execution": {
     "iopub.execute_input": "2024-09-30T07:02:23.756151Z",
     "iopub.status.busy": "2024-09-30T07:02:23.755657Z",
     "iopub.status.idle": "2024-09-30T07:02:24.009516Z",
     "shell.execute_reply": "2024-09-30T07:02:24.008322Z",
     "shell.execute_reply.started": "2024-09-30T07:02:23.756108Z"
    }
   },
   "outputs": [
    {
     "data": {
      "image/png": "[encoded data removed]",
      "text/plain": [
       "<Figure size 640x480 with 1 Axes>"
      ]
     },
     "metadata": {},
     "output_type": "display_data"
    }
   ],
   "source": [
    "sns.kdeplot(df['rotting_flesh'], fill=True, color='red');"
   ]
  },
  {
   "cell_type": "code",
   "execution_count": 62,
   "metadata": {
    "execution": {
     "iopub.execute_input": "2024-09-30T07:02:36.978512Z",
     "iopub.status.busy": "2024-09-30T07:02:36.978120Z",
     "iopub.status.idle": "2024-09-30T07:02:37.337217Z",
     "shell.execute_reply": "2024-09-30T07:02:37.335771Z",
     "shell.execute_reply.started": "2024-09-30T07:02:36.978478Z"
    }
   },
   "outputs": [
    {
     "data": {
      "image/png": "[encoded data removed]",
      "text/plain": [
       "<Figure size 640x480 with 1 Axes>"
      ]
     },
     "metadata": {},
     "output_type": "display_data"
    }
   ],
   "source": [
    "sns.kdeplot(df['hair_length'], fill=True, color='green');"
   ]
  },
  {
   "cell_type": "markdown",
   "metadata": {},
   "source": [
    "## Modelling"
   ]
  },
  {
   "cell_type": "code",
   "execution_count": 22,
   "metadata": {
    "execution": {
     "iopub.execute_input": "2024-09-30T06:48:57.083358Z",
     "iopub.status.busy": "2024-09-30T06:48:57.082872Z",
     "iopub.status.idle": "2024-09-30T06:48:57.668324Z",
     "shell.execute_reply": "2024-09-30T06:48:57.667107Z",
     "shell.execute_reply.started": "2024-09-30T06:48:57.083305Z"
    }
   },
   "outputs": [],
   "source": [
    "from sklearn.model_selection import train_test_split\n",
    "from sklearn.naive_bayes import GaussianNB\n",
    "from sklearn.naive_bayes import BernoulliNB\n",
    "from sklearn.metrics import accuracy_score, confusion_matrix, classification_report\n",
    "from sklearn.metrics import roc_curve, auc\n",
    "from sklearn.model_selection import KFold, cross_val_score\n",
    "from sklearn.ensemble import RandomForestClassifier\n",
    "from sklearn.datasets import make_classification"
   ]
  },
  {
   "cell_type": "code",
   "execution_count": 21,
   "metadata": {
    "execution": {
     "iopub.execute_input": "2024-09-30T06:48:57.073660Z",
     "iopub.status.busy": "2024-09-30T06:48:57.073119Z",
     "iopub.status.idle": "2024-09-30T06:48:57.081382Z",
     "shell.execute_reply": "2024-09-30T06:48:57.079770Z",
     "shell.execute_reply.started": "2024-09-30T06:48:57.073605Z"
    }
   },
   "outputs": [],
   "source": [
    "train=df[:371]\n",
    "test=df[371:]"
   ]
  },
  {
   "cell_type": "code",
   "execution_count": 23,
   "metadata": {
    "execution": {
     "iopub.execute_input": "2024-09-30T06:48:57.672516Z",
     "iopub.status.busy": "2024-09-30T06:48:57.672072Z",
     "iopub.status.idle": "2024-09-30T06:48:57.679651Z",
     "shell.execute_reply": "2024-09-30T06:48:57.678466Z",
     "shell.execute_reply.started": "2024-09-30T06:48:57.672478Z"
    }
   },
   "outputs": [],
   "source": [
    "x=train.drop('type', axis=1)\n",
    "y=train[['type']]"
   ]
  },
  {
   "cell_type": "code",
   "execution_count": 24,
   "metadata": {
    "execution": {
     "iopub.execute_input": "2024-09-30T06:48:57.681861Z",
     "iopub.status.busy": "2024-09-30T06:48:57.681140Z",
     "iopub.status.idle": "2024-09-30T06:48:57.695617Z",
     "shell.execute_reply": "2024-09-30T06:48:57.694098Z",
     "shell.execute_reply.started": "2024-09-30T06:48:57.681809Z"
    }
   },
   "outputs": [],
   "source": [
    "x=pd.get_dummies(x)"
   ]
  },
  {
   "cell_type": "code",
   "execution_count": 25,
   "metadata": {
    "execution": {
     "iopub.execute_input": "2024-09-30T06:48:57.698531Z",
     "iopub.status.busy": "2024-09-30T06:48:57.697365Z",
     "iopub.status.idle": "2024-09-30T06:48:57.717623Z",
     "shell.execute_reply": "2024-09-30T06:48:57.716117Z",
     "shell.execute_reply.started": "2024-09-30T06:48:57.698476Z"
    }
   },
   "outputs": [
    {
     "data": {
      "text/html": [
       "<div>\n",
       "<style scoped>\n",
       "    .dataframe tbody tr th:only-of-type {\n",
       "        vertical-align: middle;\n",
       "    }\n",
       "\n",
       "    .dataframe tbody tr th {\n",
       "        vertical-align: top;\n",
       "    }\n",
       "\n",
       "    .dataframe thead th {\n",
       "        text-align: right;\n",
       "    }\n",
       "</style>\n",
       "<table border=\"1\" class=\"dataframe\">\n",
       "  <thead>\n",
       "    <tr style=\"text-align: right;\">\n",
       "      <th></th>\n",
       "      <th>id</th>\n",
       "      <th>bone_length</th>\n",
       "      <th>rotting_flesh</th>\n",
       "      <th>hair_length</th>\n",
       "      <th>has_soul</th>\n",
       "      <th>color_black</th>\n",
       "      <th>color_blood</th>\n",
       "      <th>color_blue</th>\n",
       "      <th>color_clear</th>\n",
       "      <th>color_green</th>\n",
       "      <th>color_white</th>\n",
       "    </tr>\n",
       "  </thead>\n",
       "  <tbody>\n",
       "    <tr>\n",
       "      <th>0</th>\n",
       "      <td>0</td>\n",
       "      <td>0.354512</td>\n",
       "      <td>0.350839</td>\n",
       "      <td>0.465761</td>\n",
       "      <td>0.781142</td>\n",
       "      <td>False</td>\n",
       "      <td>False</td>\n",
       "      <td>False</td>\n",
       "      <td>True</td>\n",
       "      <td>False</td>\n",
       "      <td>False</td>\n",
       "    </tr>\n",
       "    <tr>\n",
       "      <th>1</th>\n",
       "      <td>1</td>\n",
       "      <td>0.575560</td>\n",
       "      <td>0.425868</td>\n",
       "      <td>0.531401</td>\n",
       "      <td>0.439899</td>\n",
       "      <td>False</td>\n",
       "      <td>False</td>\n",
       "      <td>False</td>\n",
       "      <td>False</td>\n",
       "      <td>True</td>\n",
       "      <td>False</td>\n",
       "    </tr>\n",
       "    <tr>\n",
       "      <th>2</th>\n",
       "      <td>2</td>\n",
       "      <td>0.467875</td>\n",
       "      <td>0.354330</td>\n",
       "      <td>0.811616</td>\n",
       "      <td>0.791225</td>\n",
       "      <td>True</td>\n",
       "      <td>False</td>\n",
       "      <td>False</td>\n",
       "      <td>False</td>\n",
       "      <td>False</td>\n",
       "      <td>False</td>\n",
       "    </tr>\n",
       "    <tr>\n",
       "      <th>3</th>\n",
       "      <td>4</td>\n",
       "      <td>0.776652</td>\n",
       "      <td>0.508723</td>\n",
       "      <td>0.636766</td>\n",
       "      <td>0.884464</td>\n",
       "      <td>True</td>\n",
       "      <td>False</td>\n",
       "      <td>False</td>\n",
       "      <td>False</td>\n",
       "      <td>False</td>\n",
       "      <td>False</td>\n",
       "    </tr>\n",
       "    <tr>\n",
       "      <th>4</th>\n",
       "      <td>5</td>\n",
       "      <td>0.566117</td>\n",
       "      <td>0.875862</td>\n",
       "      <td>0.418594</td>\n",
       "      <td>0.636438</td>\n",
       "      <td>False</td>\n",
       "      <td>False</td>\n",
       "      <td>False</td>\n",
       "      <td>False</td>\n",
       "      <td>True</td>\n",
       "      <td>False</td>\n",
       "    </tr>\n",
       "  </tbody>\n",
       "</table>\n",
       "</div>"
      ],
      "text/plain": [
       "   id  bone_length  rotting_flesh  hair_length  has_soul  color_black  \\\n",
       "0   0     0.354512       0.350839     0.465761  0.781142        False   \n",
       "1   1     0.575560       0.425868     0.531401  0.439899        False   \n",
       "2   2     0.467875       0.354330     0.811616  0.791225         True   \n",
       "3   4     0.776652       0.508723     0.636766  0.884464         True   \n",
       "4   5     0.566117       0.875862     0.418594  0.636438        False   \n",
       "\n",
       "   color_blood  color_blue  color_clear  color_green  color_white  \n",
       "0        False       False         True        False        False  \n",
       "1        False       False        False         True        False  \n",
       "2        False       False        False        False        False  \n",
       "3        False       False        False        False        False  \n",
       "4        False       False        False         True        False  "
      ]
     },
     "execution_count": 25,
     "metadata": {},
     "output_type": "execute_result"
    }
   ],
   "source": [
    "x.head()"
   ]
  },
  {
   "cell_type": "code",
   "execution_count": 26,
   "metadata": {
    "execution": {
     "iopub.execute_input": "2024-09-30T06:48:57.719629Z",
     "iopub.status.busy": "2024-09-30T06:48:57.719161Z",
     "iopub.status.idle": "2024-09-30T06:48:57.736152Z",
     "shell.execute_reply": "2024-09-30T06:48:57.734862Z",
     "shell.execute_reply.started": "2024-09-30T06:48:57.719587Z"
    }
   },
   "outputs": [],
   "source": [
    "x_train,x_test,y_train,y_test=train_test_split(x,y, test_size=.20, random_state=42)"
   ]
  },
  {
   "cell_type": "code",
   "execution_count": 27,
   "metadata": {
    "execution": {
     "iopub.execute_input": "2024-09-30T06:48:57.739261Z",
     "iopub.status.busy": "2024-09-30T06:48:57.738746Z",
     "iopub.status.idle": "2024-09-30T06:48:57.964388Z",
     "shell.execute_reply": "2024-09-30T06:48:57.963260Z",
     "shell.execute_reply.started": "2024-09-30T06:48:57.739207Z"
    }
   },
   "outputs": [
    {
     "data": {
      "text/plain": [
       "0.6933333333333334"
      ]
     },
     "execution_count": 27,
     "metadata": {},
     "output_type": "execute_result"
    }
   ],
   "source": [
    "rf = RandomForestClassifier()\n",
    "rf.fit(x_train,y_train)\n",
    "tahmin=rf.predict(x_test)\n",
    "accuracy_score(tahmin,y_test)"
   ]
  },
  {
   "cell_type": "code",
   "execution_count": 28,
   "metadata": {
    "execution": {
     "iopub.execute_input": "2024-09-30T06:48:57.972189Z",
     "iopub.status.busy": "2024-09-30T06:48:57.971231Z",
     "iopub.status.idle": "2024-09-30T06:48:57.986219Z",
     "shell.execute_reply": "2024-09-30T06:48:57.985092Z",
     "shell.execute_reply.started": "2024-09-30T06:48:57.972142Z"
    }
   },
   "outputs": [
    {
     "data": {
      "text/plain": [
       "array([[17,  2,  4],\n",
       "       [ 0, 20,  3],\n",
       "       [ 7,  7, 15]])"
      ]
     },
     "execution_count": 28,
     "metadata": {},
     "output_type": "execute_result"
    }
   ],
   "source": [
    "confusion_matrix(tahmin,y_test)"
   ]
  },
  {
   "cell_type": "code",
   "execution_count": 29,
   "metadata": {
    "execution": {
     "iopub.execute_input": "2024-09-30T06:48:57.988517Z",
     "iopub.status.busy": "2024-09-30T06:48:57.988059Z",
     "iopub.status.idle": "2024-09-30T06:48:58.314226Z",
     "shell.execute_reply": "2024-09-30T06:48:58.313099Z",
     "shell.execute_reply.started": "2024-09-30T06:48:57.988467Z"
    }
   },
   "outputs": [
    {
     "data": {
      "text/plain": [
       "<Axes: >"
      ]
     },
     "execution_count": 29,
     "metadata": {},
     "output_type": "execute_result"
    },
    {
     "data": {
      "image/png": "[encoded data removed]",
      "text/plain": [
       "<Figure size 640x480 with 2 Axes>"
      ]
     },
     "metadata": {},
     "output_type": "display_data"
    }
   ],
   "source": [
    "cm = confusion_matrix(tahmin, y_test)\n",
    "normalized_cm = cm / cm.sum()\n",
    "sns.heatmap(normalized_cm, annot=True, cmap='Blues')"
   ]
  },
  {
   "cell_type": "code",
   "execution_count": 30,
   "metadata": {
    "execution": {
     "iopub.execute_input": "2024-09-30T06:48:58.315923Z",
     "iopub.status.busy": "2024-09-30T06:48:58.315543Z",
     "iopub.status.idle": "2024-09-30T06:48:58.336375Z",
     "shell.execute_reply": "2024-09-30T06:48:58.334913Z",
     "shell.execute_reply.started": "2024-09-30T06:48:58.315884Z"
    }
   },
   "outputs": [
    {
     "name": "stdout",
     "output_type": "stream",
     "text": [
      "              precision    recall  f1-score   support\n",
      "\n",
      "       Ghost       0.71      0.74      0.72        23\n",
      "       Ghoul       0.69      0.87      0.77        23\n",
      "      Goblin       0.68      0.52      0.59        29\n",
      "\n",
      "    accuracy                           0.69        75\n",
      "   macro avg       0.69      0.71      0.69        75\n",
      "weighted avg       0.69      0.69      0.69        75\n",
      "\n"
     ]
    }
   ],
   "source": [
    "print(classification_report(tahmin,y_test))"
   ]
  },
  {
   "cell_type": "code",
   "execution_count": 31,
   "metadata": {
    "execution": {
     "iopub.execute_input": "2024-09-30T06:48:58.338463Z",
     "iopub.status.busy": "2024-09-30T06:48:58.338098Z",
     "iopub.status.idle": "2024-09-30T06:48:59.390193Z",
     "shell.execute_reply": "2024-09-30T06:48:59.389041Z",
     "shell.execute_reply.started": "2024-09-30T06:48:58.338426Z"
    }
   },
   "outputs": [
    {
     "name": "stdout",
     "output_type": "stream",
     "text": [
      "Accuracy Scores: [0.70666667 0.68918919 0.67567568 0.72972973 0.75675676]\n",
      "Mean Accuracy: 0.7116036036036035\n"
     ]
    }
   ],
   "source": [
    "#K-Fold Cross Validation\n",
    "x=train.drop('type', axis=1)\n",
    "y=train[['type']]\n",
    "x=pd.get_dummies(x)\n",
    "\n",
    "model=RandomForestClassifier()\n",
    "\n",
    "#K-fold cross validation (K=5)\n",
    "kf=KFold(n_splits=5, shuffle=True, random_state=42)\n",
    "\n",
    "#Calculating cross validation results\n",
    "scores = cross_val_score(model, x, y, cv=kf, scoring='accuracy')\n",
    "\n",
    "#Average of results\n",
    "print(f\"Accuracy Scores: {scores}\")\n",
    "print(f\"Mean Accuracy: {scores.mean()}\")"
   ]
  },
  {
   "cell_type": "code",
   "execution_count": 32,
   "metadata": {
    "execution": {
     "iopub.execute_input": "2024-09-30T06:48:59.392243Z",
     "iopub.status.busy": "2024-09-30T06:48:59.391800Z",
     "iopub.status.idle": "2024-09-30T06:48:59.412898Z",
     "shell.execute_reply": "2024-09-30T06:48:59.411738Z",
     "shell.execute_reply.started": "2024-09-30T06:48:59.392205Z"
    }
   },
   "outputs": [],
   "source": [
    "import pandas as pd\n",
    "import numpy as np\n",
    "\n",
    "from sklearn.linear_model import LogisticRegression\n",
    "from sklearn.naive_bayes import  BernoulliNB, MultinomialNB\n",
    "from sklearn.neighbors import KNeighborsClassifier\n",
    "from sklearn.tree import DecisionTreeClassifier\n",
    "from sklearn.ensemble import RandomForestClassifier, AdaBoostClassifier, GradientBoostingClassifier\n",
    "from sklearn.svm import SVC\n",
    "from sklearn.neural_network import MLPClassifier\n",
    "\n",
    "from sklearn.model_selection import train_test_split\n",
    "from sklearn.metrics import accuracy_score, precision_score, recall_score, f1_score\n",
    "\n",
    "def algo_test(x, y):\n",
    "\n",
    "    lr = LogisticRegression(max_iter=1000)\n",
    "    b = BernoulliNB()\n",
    "    nb = MultinomialNB()\n",
    "    knn = KNeighborsClassifier()\n",
    "    dt = DecisionTreeClassifier()\n",
    "    rf = RandomForestClassifier()\n",
    "    abc = AdaBoostClassifier()\n",
    "    gbc = GradientBoostingClassifier()\n",
    "    svc = SVC()\n",
    "    mlp = MLPClassifier(max_iter=1000)\n",
    "\n",
    "    algos = [lr,  b, nb, knn, dt, rf, abc, gbc, svc, mlp]\n",
    "    algo_names = ['Logistic Regression', 'BernoulliNB','MultinomialNB','K-Nearest Neighbors',\n",
    "                  'Decision Tree', 'Random Forest', 'AdaBoost', 'Gradient Boosting', 'SVM', 'MLP Classifier']\n",
    "\n",
    "    x_train, x_test, y_train, y_test = train_test_split(x, y, test_size=0.2, random_state=42)\n",
    "\n",
    "    accuracy = []\n",
    "    precision = []\n",
    "    recall = []\n",
    "    f1 = []\n",
    "\n",
    "\n",
    "    result = pd.DataFrame(columns=['Accuracy', 'Precision', 'Recall', 'F1-score'], index=algo_names)\n",
    "\n",
    "    for algo in algos:\n",
    "        algo.fit(x_train, y_train)\n",
    "        y_pred = algo.predict(x_test)\n",
    "        accuracy.append(accuracy_score(y_test, y_pred))\n",
    "        precision.append(precision_score(y_test, y_pred, average='weighted'))\n",
    "        recall.append(recall_score(y_test, y_pred, average='weighted'))\n",
    "        f1.append(f1_score(y_test, y_pred, average='weighted'))\n",
    "\n",
    "    result['Accuracy'] = accuracy\n",
    "    result['Precision'] = precision\n",
    "    result['Recall'] = recall\n",
    "    result['F1-score'] = f1\n",
    "\n",
    "\n",
    "    rtable = result.sort_values('Accuracy', ascending=False)\n",
    "    return rtable\n"
   ]
  },
  {
   "cell_type": "code",
   "execution_count": 33,
   "metadata": {
    "execution": {
     "iopub.execute_input": "2024-09-30T06:48:59.414797Z",
     "iopub.status.busy": "2024-09-30T06:48:59.414357Z",
     "iopub.status.idle": "2024-09-30T06:49:00.607219Z",
     "shell.execute_reply": "2024-09-30T06:49:00.606082Z",
     "shell.execute_reply.started": "2024-09-30T06:48:59.414747Z"
    }
   },
   "outputs": [
    {
     "data": {
      "text/html": [
       "<div>\n",
       "<style scoped>\n",
       "    .dataframe tbody tr th:only-of-type {\n",
       "        vertical-align: middle;\n",
       "    }\n",
       "\n",
       "    .dataframe tbody tr th {\n",
       "        vertical-align: top;\n",
       "    }\n",
       "\n",
       "    .dataframe thead th {\n",
       "        text-align: right;\n",
       "    }\n",
       "</style>\n",
       "<table border=\"1\" class=\"dataframe\">\n",
       "  <thead>\n",
       "    <tr style=\"text-align: right;\">\n",
       "      <th></th>\n",
       "      <th>Accuracy</th>\n",
       "      <th>Precision</th>\n",
       "      <th>Recall</th>\n",
       "      <th>F1-score</th>\n",
       "    </tr>\n",
       "  </thead>\n",
       "  <tbody>\n",
       "    <tr>\n",
       "      <th>Random Forest</th>\n",
       "      <td>0.693333</td>\n",
       "      <td>0.719324</td>\n",
       "      <td>0.693333</td>\n",
       "      <td>0.701197</td>\n",
       "    </tr>\n",
       "    <tr>\n",
       "      <th>Logistic Regression</th>\n",
       "      <td>0.680000</td>\n",
       "      <td>0.723148</td>\n",
       "      <td>0.680000</td>\n",
       "      <td>0.690664</td>\n",
       "    </tr>\n",
       "    <tr>\n",
       "      <th>Gradient Boosting</th>\n",
       "      <td>0.680000</td>\n",
       "      <td>0.704867</td>\n",
       "      <td>0.680000</td>\n",
       "      <td>0.686524</td>\n",
       "    </tr>\n",
       "    <tr>\n",
       "      <th>AdaBoost</th>\n",
       "      <td>0.666667</td>\n",
       "      <td>0.662935</td>\n",
       "      <td>0.666667</td>\n",
       "      <td>0.663696</td>\n",
       "    </tr>\n",
       "    <tr>\n",
       "      <th>Decision Tree</th>\n",
       "      <td>0.626667</td>\n",
       "      <td>0.657569</td>\n",
       "      <td>0.626667</td>\n",
       "      <td>0.636717</td>\n",
       "    </tr>\n",
       "    <tr>\n",
       "      <th>K-Nearest Neighbors</th>\n",
       "      <td>0.400000</td>\n",
       "      <td>0.394805</td>\n",
       "      <td>0.400000</td>\n",
       "      <td>0.391655</td>\n",
       "    </tr>\n",
       "    <tr>\n",
       "      <th>MultinomialNB</th>\n",
       "      <td>0.360000</td>\n",
       "      <td>0.379576</td>\n",
       "      <td>0.360000</td>\n",
       "      <td>0.357003</td>\n",
       "    </tr>\n",
       "    <tr>\n",
       "      <th>MLP Classifier</th>\n",
       "      <td>0.360000</td>\n",
       "      <td>0.559577</td>\n",
       "      <td>0.360000</td>\n",
       "      <td>0.300650</td>\n",
       "    </tr>\n",
       "    <tr>\n",
       "      <th>SVM</th>\n",
       "      <td>0.320000</td>\n",
       "      <td>0.298891</td>\n",
       "      <td>0.320000</td>\n",
       "      <td>0.276838</td>\n",
       "    </tr>\n",
       "    <tr>\n",
       "      <th>BernoulliNB</th>\n",
       "      <td>0.280000</td>\n",
       "      <td>0.172434</td>\n",
       "      <td>0.280000</td>\n",
       "      <td>0.212564</td>\n",
       "    </tr>\n",
       "  </tbody>\n",
       "</table>\n",
       "</div>"
      ],
      "text/plain": [
       "                     Accuracy  Precision    Recall  F1-score\n",
       "Random Forest        0.693333   0.719324  0.693333  0.701197\n",
       "Logistic Regression  0.680000   0.723148  0.680000  0.690664\n",
       "Gradient Boosting    0.680000   0.704867  0.680000  0.686524\n",
       "AdaBoost             0.666667   0.662935  0.666667  0.663696\n",
       "Decision Tree        0.626667   0.657569  0.626667  0.636717\n",
       "K-Nearest Neighbors  0.400000   0.394805  0.400000  0.391655\n",
       "MultinomialNB        0.360000   0.379576  0.360000  0.357003\n",
       "MLP Classifier       0.360000   0.559577  0.360000  0.300650\n",
       "SVM                  0.320000   0.298891  0.320000  0.276838\n",
       "BernoulliNB          0.280000   0.172434  0.280000  0.212564"
      ]
     },
     "execution_count": 33,
     "metadata": {},
     "output_type": "execute_result"
    }
   ],
   "source": [
    "algo_test(x,y)"
   ]
  },
  {
   "cell_type": "markdown",
   "metadata": {},
   "source": [
    "## Test Data Prediction"
   ]
  },
  {
   "cell_type": "code",
   "execution_count": 42,
   "metadata": {
    "execution": {
     "iopub.execute_input": "2024-09-30T06:56:34.932074Z",
     "iopub.status.busy": "2024-09-30T06:56:34.931569Z",
     "iopub.status.idle": "2024-09-30T06:56:34.938225Z",
     "shell.execute_reply": "2024-09-30T06:56:34.936785Z",
     "shell.execute_reply.started": "2024-09-30T06:56:34.932029Z"
    }
   },
   "outputs": [],
   "source": [
    "train=df[:371]\n",
    "test=df[371:]"
   ]
  },
  {
   "cell_type": "code",
   "execution_count": 43,
   "metadata": {
    "execution": {
     "iopub.execute_input": "2024-09-30T06:56:36.177768Z",
     "iopub.status.busy": "2024-09-30T06:56:36.177359Z",
     "iopub.status.idle": "2024-09-30T06:56:36.184705Z",
     "shell.execute_reply": "2024-09-30T06:56:36.183533Z",
     "shell.execute_reply.started": "2024-09-30T06:56:36.177731Z"
    }
   },
   "outputs": [],
   "source": [
    "x=train.drop('type', axis=1)\n",
    "y=train[['type']]"
   ]
  },
  {
   "cell_type": "code",
   "execution_count": 44,
   "metadata": {
    "execution": {
     "iopub.execute_input": "2024-09-30T06:56:36.497533Z",
     "iopub.status.busy": "2024-09-30T06:56:36.497114Z",
     "iopub.status.idle": "2024-09-30T06:56:36.508066Z",
     "shell.execute_reply": "2024-09-30T06:56:36.506699Z",
     "shell.execute_reply.started": "2024-09-30T06:56:36.497495Z"
    }
   },
   "outputs": [],
   "source": [
    "x=pd.get_dummies(x)"
   ]
  },
  {
   "cell_type": "code",
   "execution_count": 45,
   "metadata": {
    "execution": {
     "iopub.execute_input": "2024-09-30T06:56:36.844474Z",
     "iopub.status.busy": "2024-09-30T06:56:36.844058Z",
     "iopub.status.idle": "2024-09-30T06:56:36.859380Z",
     "shell.execute_reply": "2024-09-30T06:56:36.858369Z",
     "shell.execute_reply.started": "2024-09-30T06:56:36.844435Z"
    }
   },
   "outputs": [
    {
     "data": {
      "text/html": [
       "<div>\n",
       "<style scoped>\n",
       "    .dataframe tbody tr th:only-of-type {\n",
       "        vertical-align: middle;\n",
       "    }\n",
       "\n",
       "    .dataframe tbody tr th {\n",
       "        vertical-align: top;\n",
       "    }\n",
       "\n",
       "    .dataframe thead th {\n",
       "        text-align: right;\n",
       "    }\n",
       "</style>\n",
       "<table border=\"1\" class=\"dataframe\">\n",
       "  <thead>\n",
       "    <tr style=\"text-align: right;\">\n",
       "      <th></th>\n",
       "      <th>id</th>\n",
       "      <th>bone_length</th>\n",
       "      <th>rotting_flesh</th>\n",
       "      <th>hair_length</th>\n",
       "      <th>has_soul</th>\n",
       "      <th>color</th>\n",
       "      <th>type</th>\n",
       "    </tr>\n",
       "  </thead>\n",
       "  <tbody>\n",
       "    <tr>\n",
       "      <th>0</th>\n",
       "      <td>3</td>\n",
       "      <td>0.471774</td>\n",
       "      <td>0.387937</td>\n",
       "      <td>0.706087</td>\n",
       "      <td>0.698537</td>\n",
       "      <td>black</td>\n",
       "      <td>NaN</td>\n",
       "    </tr>\n",
       "    <tr>\n",
       "      <th>1</th>\n",
       "      <td>6</td>\n",
       "      <td>0.427332</td>\n",
       "      <td>0.645024</td>\n",
       "      <td>0.565558</td>\n",
       "      <td>0.451462</td>\n",
       "      <td>white</td>\n",
       "      <td>NaN</td>\n",
       "    </tr>\n",
       "    <tr>\n",
       "      <th>2</th>\n",
       "      <td>9</td>\n",
       "      <td>0.549602</td>\n",
       "      <td>0.491931</td>\n",
       "      <td>0.660387</td>\n",
       "      <td>0.449809</td>\n",
       "      <td>black</td>\n",
       "      <td>NaN</td>\n",
       "    </tr>\n",
       "    <tr>\n",
       "      <th>3</th>\n",
       "      <td>10</td>\n",
       "      <td>0.638095</td>\n",
       "      <td>0.682867</td>\n",
       "      <td>0.471409</td>\n",
       "      <td>0.356924</td>\n",
       "      <td>white</td>\n",
       "      <td>NaN</td>\n",
       "    </tr>\n",
       "    <tr>\n",
       "      <th>4</th>\n",
       "      <td>13</td>\n",
       "      <td>0.361762</td>\n",
       "      <td>0.583997</td>\n",
       "      <td>0.377256</td>\n",
       "      <td>0.276364</td>\n",
       "      <td>black</td>\n",
       "      <td>NaN</td>\n",
       "    </tr>\n",
       "  </tbody>\n",
       "</table>\n",
       "</div>"
      ],
      "text/plain": [
       "   id  bone_length  rotting_flesh  hair_length  has_soul  color type\n",
       "0   3     0.471774       0.387937     0.706087  0.698537  black  NaN\n",
       "1   6     0.427332       0.645024     0.565558  0.451462  white  NaN\n",
       "2   9     0.549602       0.491931     0.660387  0.449809  black  NaN\n",
       "3  10     0.638095       0.682867     0.471409  0.356924  white  NaN\n",
       "4  13     0.361762       0.583997     0.377256  0.276364  black  NaN"
      ]
     },
     "execution_count": 45,
     "metadata": {},
     "output_type": "execute_result"
    }
   ],
   "source": [
    "test.head()"
   ]
  },
  {
   "cell_type": "code",
   "execution_count": 46,
   "metadata": {
    "execution": {
     "iopub.execute_input": "2024-09-30T06:56:37.450211Z",
     "iopub.status.busy": "2024-09-30T06:56:37.449788Z",
     "iopub.status.idle": "2024-09-30T06:56:37.459933Z",
     "shell.execute_reply": "2024-09-30T06:56:37.458737Z",
     "shell.execute_reply.started": "2024-09-30T06:56:37.450172Z"
    }
   },
   "outputs": [],
   "source": [
    "test=pd.get_dummies(test)"
   ]
  },
  {
   "cell_type": "code",
   "execution_count": 47,
   "metadata": {
    "execution": {
     "iopub.execute_input": "2024-09-30T06:56:38.846079Z",
     "iopub.status.busy": "2024-09-30T06:56:38.845594Z",
     "iopub.status.idle": "2024-09-30T06:56:38.863374Z",
     "shell.execute_reply": "2024-09-30T06:56:38.862078Z",
     "shell.execute_reply.started": "2024-09-30T06:56:38.846031Z"
    }
   },
   "outputs": [
    {
     "data": {
      "text/html": [
       "<div>\n",
       "<style scoped>\n",
       "    .dataframe tbody tr th:only-of-type {\n",
       "        vertical-align: middle;\n",
       "    }\n",
       "\n",
       "    .dataframe tbody tr th {\n",
       "        vertical-align: top;\n",
       "    }\n",
       "\n",
       "    .dataframe thead th {\n",
       "        text-align: right;\n",
       "    }\n",
       "</style>\n",
       "<table border=\"1\" class=\"dataframe\">\n",
       "  <thead>\n",
       "    <tr style=\"text-align: right;\">\n",
       "      <th></th>\n",
       "      <th>id</th>\n",
       "      <th>bone_length</th>\n",
       "      <th>rotting_flesh</th>\n",
       "      <th>hair_length</th>\n",
       "      <th>has_soul</th>\n",
       "      <th>color_black</th>\n",
       "      <th>color_blood</th>\n",
       "      <th>color_blue</th>\n",
       "      <th>color_clear</th>\n",
       "      <th>color_green</th>\n",
       "      <th>color_white</th>\n",
       "    </tr>\n",
       "  </thead>\n",
       "  <tbody>\n",
       "    <tr>\n",
       "      <th>0</th>\n",
       "      <td>3</td>\n",
       "      <td>0.471774</td>\n",
       "      <td>0.387937</td>\n",
       "      <td>0.706087</td>\n",
       "      <td>0.698537</td>\n",
       "      <td>True</td>\n",
       "      <td>False</td>\n",
       "      <td>False</td>\n",
       "      <td>False</td>\n",
       "      <td>False</td>\n",
       "      <td>False</td>\n",
       "    </tr>\n",
       "    <tr>\n",
       "      <th>1</th>\n",
       "      <td>6</td>\n",
       "      <td>0.427332</td>\n",
       "      <td>0.645024</td>\n",
       "      <td>0.565558</td>\n",
       "      <td>0.451462</td>\n",
       "      <td>False</td>\n",
       "      <td>False</td>\n",
       "      <td>False</td>\n",
       "      <td>False</td>\n",
       "      <td>False</td>\n",
       "      <td>True</td>\n",
       "    </tr>\n",
       "    <tr>\n",
       "      <th>2</th>\n",
       "      <td>9</td>\n",
       "      <td>0.549602</td>\n",
       "      <td>0.491931</td>\n",
       "      <td>0.660387</td>\n",
       "      <td>0.449809</td>\n",
       "      <td>True</td>\n",
       "      <td>False</td>\n",
       "      <td>False</td>\n",
       "      <td>False</td>\n",
       "      <td>False</td>\n",
       "      <td>False</td>\n",
       "    </tr>\n",
       "    <tr>\n",
       "      <th>3</th>\n",
       "      <td>10</td>\n",
       "      <td>0.638095</td>\n",
       "      <td>0.682867</td>\n",
       "      <td>0.471409</td>\n",
       "      <td>0.356924</td>\n",
       "      <td>False</td>\n",
       "      <td>False</td>\n",
       "      <td>False</td>\n",
       "      <td>False</td>\n",
       "      <td>False</td>\n",
       "      <td>True</td>\n",
       "    </tr>\n",
       "    <tr>\n",
       "      <th>4</th>\n",
       "      <td>13</td>\n",
       "      <td>0.361762</td>\n",
       "      <td>0.583997</td>\n",
       "      <td>0.377256</td>\n",
       "      <td>0.276364</td>\n",
       "      <td>True</td>\n",
       "      <td>False</td>\n",
       "      <td>False</td>\n",
       "      <td>False</td>\n",
       "      <td>False</td>\n",
       "      <td>False</td>\n",
       "    </tr>\n",
       "  </tbody>\n",
       "</table>\n",
       "</div>"
      ],
      "text/plain": [
       "   id  bone_length  rotting_flesh  hair_length  has_soul  color_black  \\\n",
       "0   3     0.471774       0.387937     0.706087  0.698537         True   \n",
       "1   6     0.427332       0.645024     0.565558  0.451462        False   \n",
       "2   9     0.549602       0.491931     0.660387  0.449809         True   \n",
       "3  10     0.638095       0.682867     0.471409  0.356924        False   \n",
       "4  13     0.361762       0.583997     0.377256  0.276364         True   \n",
       "\n",
       "   color_blood  color_blue  color_clear  color_green  color_white  \n",
       "0        False       False        False        False        False  \n",
       "1        False       False        False        False         True  \n",
       "2        False       False        False        False        False  \n",
       "3        False       False        False        False         True  \n",
       "4        False       False        False        False        False  "
      ]
     },
     "execution_count": 47,
     "metadata": {},
     "output_type": "execute_result"
    }
   ],
   "source": [
    "test.head()"
   ]
  },
  {
   "cell_type": "code",
   "execution_count": 52,
   "metadata": {
    "execution": {
     "iopub.execute_input": "2024-09-30T06:58:46.711369Z",
     "iopub.status.busy": "2024-09-30T06:58:46.710935Z",
     "iopub.status.idle": "2024-09-30T06:58:46.925456Z",
     "shell.execute_reply": "2024-09-30T06:58:46.924193Z",
     "shell.execute_reply.started": "2024-09-30T06:58:46.711332Z"
    }
   },
   "outputs": [
    {
     "data": {
      "text/html": [
       "<style>#sk-container-id-4 {color: black;background-color: white;}#sk-container-id-4 pre{padding: 0;}#sk-container-id-4 div.sk-toggleable {background-color: white;}#sk-container-id-4 label.sk-toggleable__label {cursor: pointer;display: block;width: 100%;margin-bottom: 0;padding: 0.3em;box-sizing: border-box;text-align: center;}#sk-container-id-4 label.sk-toggleable__label-arrow:before {content: \"▸\";float: left;margin-right: 0.25em;color: #696969;}#sk-container-id-4 label.sk-toggleable__label-arrow:hover:before {color: black;}#sk-container-id-4 div.sk-estimator:hover label.sk-toggleable__label-arrow:before {color: black;}#sk-container-id-4 div.sk-toggleable__content {max-height: 0;max-width: 0;overflow: hidden;text-align: left;background-color: #f0f8ff;}#sk-container-id-4 div.sk-toggleable__content pre {margin: 0.2em;color: black;border-radius: 0.25em;background-color: #f0f8ff;}#sk-container-id-4 input.sk-toggleable__control:checked~div.sk-toggleable__content {max-height: 200px;max-width: 100%;overflow: auto;}#sk-container-id-4 input.sk-toggleable__control:checked~label.sk-toggleable__label-arrow:before {content: \"▾\";}#sk-container-id-4 div.sk-estimator input.sk-toggleable__control:checked~label.sk-toggleable__label {background-color: #d4ebff;}#sk-container-id-4 div.sk-label input.sk-toggleable__control:checked~label.sk-toggleable__label {background-color: #d4ebff;}#sk-container-id-4 input.sk-hidden--visually {border: 0;clip: rect(1px 1px 1px 1px);clip: rect(1px, 1px, 1px, 1px);height: 1px;margin: -1px;overflow: hidden;padding: 0;position: absolute;width: 1px;}#sk-container-id-4 div.sk-estimator {font-family: monospace;background-color: #f0f8ff;border: 1px dotted black;border-radius: 0.25em;box-sizing: border-box;margin-bottom: 0.5em;}#sk-container-id-4 div.sk-estimator:hover {background-color: #d4ebff;}#sk-container-id-4 div.sk-parallel-item::after {content: \"\";width: 100%;border-bottom: 1px solid gray;flex-grow: 1;}#sk-container-id-4 div.sk-label:hover label.sk-toggleable__label {background-color: #d4ebff;}#sk-container-id-4 div.sk-serial::before {content: \"\";position: absolute;border-left: 1px solid gray;box-sizing: border-box;top: 0;bottom: 0;left: 50%;z-index: 0;}#sk-container-id-4 div.sk-serial {display: flex;flex-direction: column;align-items: center;background-color: white;padding-right: 0.2em;padding-left: 0.2em;position: relative;}#sk-container-id-4 div.sk-item {position: relative;z-index: 1;}#sk-container-id-4 div.sk-parallel {display: flex;align-items: stretch;justify-content: center;background-color: white;position: relative;}#sk-container-id-4 div.sk-item::before, #sk-container-id-4 div.sk-parallel-item::before {content: \"\";position: absolute;border-left: 1px solid gray;box-sizing: border-box;top: 0;bottom: 0;left: 50%;z-index: -1;}#sk-container-id-4 div.sk-parallel-item {display: flex;flex-direction: column;z-index: 1;position: relative;background-color: white;}#sk-container-id-4 div.sk-parallel-item:first-child::after {align-self: flex-end;width: 50%;}#sk-container-id-4 div.sk-parallel-item:last-child::after {align-self: flex-start;width: 50%;}#sk-container-id-4 div.sk-parallel-item:only-child::after {width: 0;}#sk-container-id-4 div.sk-dashed-wrapped {border: 1px dashed gray;margin: 0 0.4em 0.5em 0.4em;box-sizing: border-box;padding-bottom: 0.4em;background-color: white;}#sk-container-id-4 div.sk-label label {font-family: monospace;font-weight: bold;display: inline-block;line-height: 1.2em;}#sk-container-id-4 div.sk-label-container {text-align: center;}#sk-container-id-4 div.sk-container {/* jupyter's `normalize.less` sets `[hidden] { display: none; }` but bootstrap.min.css set `[hidden] { display: none !important; }` so we also need the `!important` here to be able to override the default hidden behavior on the sphinx rendered scikit-learn.org. See: https://github.com/scikit-learn/scikit-learn/issues/21755 */display: inline-block !important;position: relative;}#sk-container-id-4 div.sk-text-repr-fallback {display: none;}</style><div id=\"sk-container-id-4\" class=\"sk-top-container\"><div class=\"sk-text-repr-fallback\"><pre>RandomForestClassifier()</pre><b>In a Jupyter environment, please rerun this cell to show the HTML representation or trust the notebook. <br />On GitHub, the HTML representation is unable to render, please try loading this page with nbviewer.org.</b></div><div class=\"sk-container\" hidden><div class=\"sk-item\"><div class=\"sk-estimator sk-toggleable\"><input class=\"sk-toggleable__control sk-hidden--visually\" id=\"sk-estimator-id-4\" type=\"checkbox\" checked><label for=\"sk-estimator-id-4\" class=\"sk-toggleable__label sk-toggleable__label-arrow\">RandomForestClassifier</label><div class=\"sk-toggleable__content\"><pre>RandomForestClassifier()</pre></div></div></div></div></div>"
      ],
      "text/plain": [
       "RandomForestClassifier()"
      ]
     },
     "execution_count": 52,
     "metadata": {},
     "output_type": "execute_result"
    }
   ],
   "source": [
    "rf = RandomForestClassifier()\n",
    "rf.fit(x,y)"
   ]
  },
  {
   "cell_type": "code",
   "execution_count": 55,
   "metadata": {
    "execution": {
     "iopub.execute_input": "2024-09-30T06:59:15.302764Z",
     "iopub.status.busy": "2024-09-30T06:59:15.302330Z",
     "iopub.status.idle": "2024-09-30T06:59:15.329666Z",
     "shell.execute_reply": "2024-09-30T06:59:15.328455Z",
     "shell.execute_reply.started": "2024-09-30T06:59:15.302716Z"
    }
   },
   "outputs": [],
   "source": [
    "y_pred=rf.predict(test)"
   ]
  },
  {
   "cell_type": "code",
   "execution_count": 56,
   "metadata": {
    "collapsed": true,
    "execution": {
     "iopub.execute_input": "2024-09-30T06:59:15.572397Z",
     "iopub.status.busy": "2024-09-30T06:59:15.571977Z",
     "iopub.status.idle": "2024-09-30T06:59:15.581194Z",
     "shell.execute_reply": "2024-09-30T06:59:15.580059Z",
     "shell.execute_reply.started": "2024-09-30T06:59:15.572361Z"
    },
    "jupyter": {
     "outputs_hidden": true
    }
   },
   "outputs": [
    {
     "data": {
      "text/plain": [
       "array(['Ghoul', 'Goblin', 'Ghoul', 'Ghost', 'Ghost', 'Ghost', 'Ghoul',\n",
       "       'Ghoul', 'Goblin', 'Ghoul', 'Ghost', 'Ghoul', 'Goblin', 'Ghost',\n",
       "       'Ghoul', 'Ghost', 'Goblin', 'Ghost', 'Ghost', 'Ghoul', 'Ghoul',\n",
       "       'Ghoul', 'Goblin', 'Goblin', 'Ghoul', 'Goblin', 'Ghoul', 'Goblin',\n",
       "       'Ghoul', 'Ghoul', 'Goblin', 'Ghoul', 'Ghoul', 'Goblin', 'Goblin',\n",
       "       'Ghoul', 'Ghost', 'Goblin', 'Ghost', 'Ghoul', 'Goblin', 'Ghoul',\n",
       "       'Goblin', 'Ghoul', 'Ghost', 'Ghoul', 'Ghoul', 'Ghoul', 'Ghoul',\n",
       "       'Ghost', 'Goblin', 'Goblin', 'Ghost', 'Goblin', 'Goblin', 'Ghost',\n",
       "       'Goblin', 'Goblin', 'Ghoul', 'Ghost', 'Ghoul', 'Ghoul', 'Ghost',\n",
       "       'Goblin', 'Ghoul', 'Goblin', 'Ghoul', 'Ghoul', 'Ghost', 'Ghoul',\n",
       "       'Ghost', 'Goblin', 'Goblin', 'Ghoul', 'Goblin', 'Ghoul', 'Goblin',\n",
       "       'Goblin', 'Ghost', 'Goblin', 'Ghost', 'Goblin', 'Ghoul', 'Ghoul',\n",
       "       'Ghost', 'Ghost', 'Ghost', 'Goblin', 'Ghost', 'Ghost', 'Ghost',\n",
       "       'Ghost', 'Goblin', 'Goblin', 'Ghost', 'Ghost', 'Goblin', 'Goblin',\n",
       "       'Goblin', 'Ghost', 'Ghoul', 'Goblin', 'Goblin', 'Ghost', 'Ghoul',\n",
       "       'Goblin', 'Ghoul', 'Goblin', 'Ghoul', 'Ghoul', 'Ghost', 'Goblin',\n",
       "       'Goblin', 'Ghoul', 'Ghoul', 'Ghost', 'Ghost', 'Goblin', 'Ghoul',\n",
       "       'Ghost', 'Ghoul', 'Goblin', 'Ghost', 'Ghoul', 'Ghoul', 'Ghost',\n",
       "       'Ghost', 'Ghost', 'Ghoul', 'Ghoul', 'Ghost', 'Goblin', 'Goblin',\n",
       "       'Ghoul', 'Ghost', 'Goblin', 'Ghoul', 'Goblin', 'Goblin', 'Goblin',\n",
       "       'Ghoul', 'Ghost', 'Ghost', 'Ghoul', 'Ghoul', 'Ghost', 'Ghoul',\n",
       "       'Ghost', 'Ghost', 'Ghost', 'Goblin', 'Ghoul', 'Ghoul', 'Goblin',\n",
       "       'Goblin', 'Ghost', 'Ghoul', 'Ghoul', 'Ghost', 'Ghoul', 'Ghoul',\n",
       "       'Goblin', 'Ghoul', 'Goblin', 'Ghost', 'Ghost', 'Goblin', 'Ghost',\n",
       "       'Goblin', 'Ghost', 'Ghost', 'Ghoul', 'Ghost', 'Goblin', 'Ghoul',\n",
       "       'Ghoul', 'Ghost', 'Ghoul', 'Ghoul', 'Ghoul', 'Ghost', 'Ghost',\n",
       "       'Ghoul', 'Ghost', 'Ghost', 'Goblin', 'Goblin', 'Goblin', 'Ghoul',\n",
       "       'Ghost', 'Ghost', 'Ghoul', 'Goblin', 'Ghost', 'Ghoul', 'Goblin',\n",
       "       'Goblin', 'Goblin', 'Ghoul', 'Ghoul', 'Ghost', 'Ghost', 'Ghost',\n",
       "       'Ghost', 'Goblin', 'Ghost', 'Goblin', 'Ghost', 'Goblin', 'Ghoul',\n",
       "       'Goblin', 'Ghost', 'Ghost', 'Ghost', 'Goblin', 'Goblin', 'Ghoul',\n",
       "       'Ghost', 'Ghoul', 'Goblin', 'Goblin', 'Goblin', 'Goblin', 'Ghoul',\n",
       "       'Ghoul', 'Goblin', 'Ghost', 'Ghost', 'Goblin', 'Ghost', 'Ghost',\n",
       "       'Ghoul', 'Ghost', 'Ghost', 'Ghost', 'Ghoul', 'Ghost', 'Ghoul',\n",
       "       'Goblin', 'Goblin', 'Ghost', 'Ghost', 'Ghost', 'Ghost', 'Goblin',\n",
       "       'Goblin', 'Goblin', 'Ghost', 'Ghost', 'Goblin', 'Ghost', 'Ghost',\n",
       "       'Ghost', 'Ghoul', 'Goblin', 'Goblin', 'Ghost', 'Ghoul', 'Ghost',\n",
       "       'Ghost', 'Ghost', 'Goblin', 'Ghost', 'Goblin', 'Goblin', 'Ghoul',\n",
       "       'Ghoul', 'Ghoul', 'Goblin', 'Ghost', 'Ghoul', 'Goblin', 'Ghost',\n",
       "       'Goblin', 'Ghoul', 'Ghoul', 'Goblin', 'Ghoul', 'Goblin', 'Ghost',\n",
       "       'Ghost', 'Goblin', 'Ghoul', 'Ghoul', 'Ghoul', 'Ghoul', 'Ghost',\n",
       "       'Ghoul', 'Goblin', 'Ghost', 'Ghoul', 'Ghost', 'Ghoul', 'Goblin',\n",
       "       'Goblin', 'Goblin', 'Ghost', 'Goblin', 'Ghost', 'Ghoul', 'Goblin',\n",
       "       'Ghoul', 'Ghost', 'Ghost', 'Ghoul', 'Ghoul', 'Goblin', 'Goblin',\n",
       "       'Ghost', 'Goblin', 'Ghoul', 'Ghoul', 'Goblin', 'Ghost', 'Ghost',\n",
       "       'Ghoul', 'Goblin', 'Ghost', 'Ghost', 'Ghoul', 'Ghost', 'Goblin',\n",
       "       'Ghoul', 'Ghoul', 'Ghost', 'Goblin', 'Ghost', 'Goblin', 'Ghost',\n",
       "       'Ghoul', 'Ghoul', 'Goblin', 'Goblin', 'Ghost', 'Ghost', 'Ghoul',\n",
       "       'Ghost', 'Ghoul', 'Ghoul', 'Ghoul', 'Ghoul', 'Ghoul', 'Goblin',\n",
       "       'Goblin', 'Ghost', 'Goblin', 'Ghost', 'Goblin', 'Ghost', 'Ghoul',\n",
       "       'Ghoul', 'Ghost', 'Ghoul', 'Ghost', 'Goblin', 'Goblin', 'Goblin',\n",
       "       'Ghost', 'Ghost', 'Ghoul', 'Goblin', 'Ghost', 'Goblin', 'Ghost',\n",
       "       'Ghost', 'Ghoul', 'Ghoul', 'Goblin', 'Goblin', 'Ghoul', 'Ghost',\n",
       "       'Ghost', 'Ghoul', 'Ghost', 'Goblin', 'Ghost', 'Ghoul', 'Ghost',\n",
       "       'Ghost', 'Ghoul', 'Ghoul', 'Ghost', 'Ghost', 'Ghost', 'Goblin',\n",
       "       'Ghost', 'Ghost', 'Ghost', 'Goblin', 'Ghost', 'Goblin', 'Ghoul',\n",
       "       'Ghost', 'Ghost', 'Goblin', 'Ghoul', 'Ghoul', 'Goblin', 'Ghost',\n",
       "       'Ghoul', 'Goblin', 'Ghoul', 'Ghost', 'Ghoul', 'Ghost', 'Ghoul',\n",
       "       'Ghoul', 'Ghost', 'Goblin', 'Ghost', 'Ghost', 'Ghost', 'Ghoul',\n",
       "       'Ghost', 'Ghoul', 'Ghost', 'Goblin', 'Ghoul', 'Ghoul', 'Ghost',\n",
       "       'Ghost', 'Ghoul', 'Ghoul', 'Ghoul', 'Ghost', 'Ghost', 'Goblin',\n",
       "       'Ghoul', 'Ghoul', 'Ghost', 'Ghoul', 'Ghoul', 'Ghoul', 'Goblin',\n",
       "       'Goblin', 'Ghoul', 'Goblin', 'Ghost', 'Ghoul', 'Ghost', 'Ghoul',\n",
       "       'Ghoul', 'Ghost', 'Ghost', 'Ghost', 'Ghoul', 'Ghost', 'Ghoul',\n",
       "       'Goblin', 'Ghoul', 'Ghoul', 'Ghoul', 'Goblin', 'Ghoul', 'Ghoul',\n",
       "       'Ghost', 'Goblin', 'Ghost', 'Ghoul', 'Goblin', 'Ghost', 'Ghost',\n",
       "       'Ghoul', 'Ghoul', 'Goblin', 'Ghoul', 'Ghost', 'Ghoul', 'Ghoul',\n",
       "       'Ghost', 'Ghoul', 'Ghoul', 'Goblin', 'Ghoul', 'Ghost', 'Ghost',\n",
       "       'Goblin', 'Ghost', 'Ghost', 'Goblin', 'Goblin', 'Ghoul', 'Ghost',\n",
       "       'Ghoul', 'Ghost', 'Goblin', 'Ghost', 'Ghost', 'Ghost', 'Ghoul',\n",
       "       'Ghost', 'Goblin', 'Ghoul', 'Ghost', 'Ghoul', 'Ghost', 'Ghoul',\n",
       "       'Ghoul', 'Ghost', 'Ghost', 'Goblin', 'Ghost', 'Ghost', 'Goblin',\n",
       "       'Ghoul', 'Ghost', 'Ghoul', 'Ghost', 'Ghoul', 'Ghost', 'Ghoul',\n",
       "       'Ghoul', 'Ghost', 'Ghost', 'Ghoul', 'Ghoul', 'Goblin', 'Goblin',\n",
       "       'Goblin', 'Ghost', 'Ghoul', 'Goblin', 'Ghoul', 'Ghoul', 'Goblin',\n",
       "       'Ghost', 'Ghoul', 'Ghost', 'Ghost'], dtype=object)"
      ]
     },
     "execution_count": 56,
     "metadata": {},
     "output_type": "execute_result"
    }
   ],
   "source": [
    "y_pred"
   ]
  },
  {
   "cell_type": "code",
   "execution_count": 57,
   "metadata": {
    "execution": {
     "iopub.execute_input": "2024-09-30T07:00:07.621074Z",
     "iopub.status.busy": "2024-09-30T07:00:07.620650Z",
     "iopub.status.idle": "2024-09-30T07:00:07.629307Z",
     "shell.execute_reply": "2024-09-30T07:00:07.628148Z",
     "shell.execute_reply.started": "2024-09-30T07:00:07.621034Z"
    }
   },
   "outputs": [],
   "source": [
    "predictions1=pd.DataFrame()\n",
    "predictions1['id']=test['id']\n",
    "predictions1['type']=y_pred"
   ]
  },
  {
   "cell_type": "code",
   "execution_count": 58,
   "metadata": {
    "execution": {
     "iopub.execute_input": "2024-09-30T07:00:14.073393Z",
     "iopub.status.busy": "2024-09-30T07:00:14.072967Z",
     "iopub.status.idle": "2024-09-30T07:00:14.089919Z",
     "shell.execute_reply": "2024-09-30T07:00:14.088794Z",
     "shell.execute_reply.started": "2024-09-30T07:00:14.073357Z"
    }
   },
   "outputs": [
    {
     "name": "stdout",
     "output_type": "stream",
     "text": [
      "<class 'pandas.core.frame.DataFrame'>\n",
      "Index: 529 entries, 0 to 528\n",
      "Data columns (total 2 columns):\n",
      " #   Column  Non-Null Count  Dtype \n",
      "---  ------  --------------  ----- \n",
      " 0   id      529 non-null    int64 \n",
      " 1   type    529 non-null    object\n",
      "dtypes: int64(1), object(1)\n",
      "memory usage: 12.4+ KB\n"
     ]
    }
   ],
   "source": [
    "predictions1.info()"
   ]
  },
  {
   "cell_type": "code",
   "execution_count": 59,
   "metadata": {
    "execution": {
     "iopub.execute_input": "2024-09-30T07:00:24.125689Z",
     "iopub.status.busy": "2024-09-30T07:00:24.125141Z",
     "iopub.status.idle": "2024-09-30T07:00:24.136265Z",
     "shell.execute_reply": "2024-09-30T07:00:24.135075Z",
     "shell.execute_reply.started": "2024-09-30T07:00:24.125641Z"
    }
   },
   "outputs": [],
   "source": [
    "predictions1.to_csv('ghost_submission.csv', index=False)"
   ]
  },
  {
   "cell_type": "markdown",
   "metadata": {},
   "source": [
    "## Summary"
   ]
  },
  {
   "cell_type": "markdown",
   "metadata": {},
   "source": [
    "The training and test data sets were examined, missing values ​​were detected and data types were analyzed. Filling in missing data, converting categorical data to numerical data and normalization processes were performed. Initially, the Random Forest algorithm was used and the model was trained on the training data set. In addition, the overall performance of the model was tested with K-Fold cross-validation. The accuracy of the model was evaluated with confusion matrices and classification reports. Predictions were made on the test data set and the results were saved in a CSV file in a suitable format for submission to Kaggle. At the end of all these processes, the classification accuracy of the model was increased and an effective solution was developed for uninvited guests such as ghouls, ghosts and goblins."
   ]
  }
 ],
 "metadata": {
  "kaggle": {
   "accelerator": "none",
   "dataSources": [
    {
     "databundleVersionId": 39544,
     "sourceId": 5708,
     "sourceType": "competition"
    }
   ],
   "dockerImageVersionId": 30775,
   "isGpuEnabled": false,
   "isInternetEnabled": true,
   "language": "python",
   "sourceType": "notebook"
  },
  "kernelspec": {
   "display_name": "Python 3 (ipykernel)",
   "language": "python",
   "name": "python3"
  },
  "language_info": {
   "codemirror_mode": {
    "name": "ipython",
    "version": 3
   },
   "file_extension": ".py",
   "mimetype": "text/x-python",
   "name": "python",
   "nbconvert_exporter": "python",
   "pygments_lexer": "ipython3",
   "version": "3.11.7"
  }
 },
 "nbformat": 4,
 "nbformat_minor": 4
}
