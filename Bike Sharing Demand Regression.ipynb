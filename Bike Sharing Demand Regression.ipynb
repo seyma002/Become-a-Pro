{
 "cells": [
  {
   "cell_type": "markdown",
   "metadata": {},
   "source": [
    "## Bike Sharing Demand Regression"
   ]
  },
  {
   "cell_type": "markdown",
   "metadata": {},
   "source": [
    "This project aims to estimate the demand for bicycle rentals in the Capital Bikeshare program in Washington, D.C. Bike-sharing systems operate through automated networks that allow users to rent bicycles from one location and return them to another. Data from these systems provides a valuable resource for studying urban mobility because it includes travel times, departure and arrival points, and time information."
   ]
  },
  {
   "cell_type": "markdown",
   "metadata": {},
   "source": [
    "![](data:image/jpeg;base64,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)"
   ]
  },
  {
   "cell_type": "code",
   "execution_count": 1,
   "metadata": {
    "_cell_guid": "b1076dfc-b9ad-4769-8c92-a6c4dae69d19",
    "_uuid": "8f2839f25d086af736a60e9eeb907d3b93b6e0e5",
    "execution": {
     "iopub.execute_input": "2024-09-30T16:43:24.175448Z",
     "iopub.status.busy": "2024-09-30T16:43:24.174617Z",
     "iopub.status.idle": "2024-09-30T16:43:24.204442Z",
     "shell.execute_reply": "2024-09-30T16:43:24.203311Z",
     "shell.execute_reply.started": "2024-09-30T16:43:24.175402Z"
    }
   },
   "outputs": [
    {
     "name": "stdout",
     "output_type": "stream",
     "text": [
      "/kaggle/input/bike-sharing-demand/sampleSubmission.csv\n",
      "/kaggle/input/bike-sharing-demand/train.csv\n",
      "/kaggle/input/bike-sharing-demand/test.csv\n"
     ]
    }
   ],
   "source": [
    "import os\n",
    "for dirname, _, filenames in os.walk('/kaggle/input'):\n",
    "    for filename in filenames:\n",
    "        print(os.path.join(dirname, filename))"
   ]
  },
  {
   "cell_type": "markdown",
   "metadata": {},
   "source": [
    "## Import Libraries"
   ]
  },
  {
   "cell_type": "code",
   "execution_count": 2,
   "metadata": {
    "execution": {
     "iopub.execute_input": "2024-09-30T16:43:24.206469Z",
     "iopub.status.busy": "2024-09-30T16:43:24.206116Z",
     "iopub.status.idle": "2024-09-30T16:43:27.078468Z",
     "shell.execute_reply": "2024-09-30T16:43:27.077195Z",
     "shell.execute_reply.started": "2024-09-30T16:43:24.206431Z"
    }
   },
   "outputs": [],
   "source": [
    "import pandas as pd\n",
    "import numpy as np\n",
    "import seaborn as sns\n",
    "import matplotlib.pyplot as plt\n",
    "import datetime\n",
    "import warnings\n",
    "warnings.filterwarnings('ignore')"
   ]
  },
  {
   "cell_type": "code",
   "execution_count": 53,
   "metadata": {
    "execution": {
     "iopub.execute_input": "2024-09-30T16:54:31.107286Z",
     "iopub.status.busy": "2024-09-30T16:54:31.106854Z",
     "iopub.status.idle": "2024-09-30T16:54:31.153172Z",
     "shell.execute_reply": "2024-09-30T16:54:31.151967Z",
     "shell.execute_reply.started": "2024-09-30T16:54:31.107242Z"
    }
   },
   "outputs": [],
   "source": [
    "train=pd.read_csv('/kaggle/input/bike-sharing-demand/train.csv')\n",
    "test=pd.read_csv('/kaggle/input/bike-sharing-demand/test.csv')\n",
    "#Reading the file."
   ]
  },
  {
   "cell_type": "markdown",
   "metadata": {},
   "source": [
    "## EDA"
   ]
  },
  {
   "cell_type": "code",
   "execution_count": 4,
   "metadata": {
    "execution": {
     "iopub.execute_input": "2024-09-30T16:43:27.157921Z",
     "iopub.status.busy": "2024-09-30T16:43:27.157401Z",
     "iopub.status.idle": "2024-09-30T16:43:27.189922Z",
     "shell.execute_reply": "2024-09-30T16:43:27.188615Z",
     "shell.execute_reply.started": "2024-09-30T16:43:27.157866Z"
    }
   },
   "outputs": [
    {
     "data": {
      "text/html": [
       "<div>\n",
       "<style scoped>\n",
       "    .dataframe tbody tr th:only-of-type {\n",
       "        vertical-align: middle;\n",
       "    }\n",
       "\n",
       "    .dataframe tbody tr th {\n",
       "        vertical-align: top;\n",
       "    }\n",
       "\n",
       "    .dataframe thead th {\n",
       "        text-align: right;\n",
       "    }\n",
       "</style>\n",
       "<table border=\"1\" class=\"dataframe\">\n",
       "  <thead>\n",
       "    <tr style=\"text-align: right;\">\n",
       "      <th></th>\n",
       "      <th>datetime</th>\n",
       "      <th>season</th>\n",
       "      <th>holiday</th>\n",
       "      <th>workingday</th>\n",
       "      <th>weather</th>\n",
       "      <th>temp</th>\n",
       "      <th>atemp</th>\n",
       "      <th>humidity</th>\n",
       "      <th>windspeed</th>\n",
       "      <th>casual</th>\n",
       "      <th>registered</th>\n",
       "      <th>count</th>\n",
       "    </tr>\n",
       "  </thead>\n",
       "  <tbody>\n",
       "    <tr>\n",
       "      <th>0</th>\n",
       "      <td>2011-01-01 00:00:00</td>\n",
       "      <td>1</td>\n",
       "      <td>0</td>\n",
       "      <td>0</td>\n",
       "      <td>1</td>\n",
       "      <td>9.84</td>\n",
       "      <td>14.395</td>\n",
       "      <td>81</td>\n",
       "      <td>0.0</td>\n",
       "      <td>3</td>\n",
       "      <td>13</td>\n",
       "      <td>16</td>\n",
       "    </tr>\n",
       "    <tr>\n",
       "      <th>1</th>\n",
       "      <td>2011-01-01 01:00:00</td>\n",
       "      <td>1</td>\n",
       "      <td>0</td>\n",
       "      <td>0</td>\n",
       "      <td>1</td>\n",
       "      <td>9.02</td>\n",
       "      <td>13.635</td>\n",
       "      <td>80</td>\n",
       "      <td>0.0</td>\n",
       "      <td>8</td>\n",
       "      <td>32</td>\n",
       "      <td>40</td>\n",
       "    </tr>\n",
       "    <tr>\n",
       "      <th>2</th>\n",
       "      <td>2011-01-01 02:00:00</td>\n",
       "      <td>1</td>\n",
       "      <td>0</td>\n",
       "      <td>0</td>\n",
       "      <td>1</td>\n",
       "      <td>9.02</td>\n",
       "      <td>13.635</td>\n",
       "      <td>80</td>\n",
       "      <td>0.0</td>\n",
       "      <td>5</td>\n",
       "      <td>27</td>\n",
       "      <td>32</td>\n",
       "    </tr>\n",
       "    <tr>\n",
       "      <th>3</th>\n",
       "      <td>2011-01-01 03:00:00</td>\n",
       "      <td>1</td>\n",
       "      <td>0</td>\n",
       "      <td>0</td>\n",
       "      <td>1</td>\n",
       "      <td>9.84</td>\n",
       "      <td>14.395</td>\n",
       "      <td>75</td>\n",
       "      <td>0.0</td>\n",
       "      <td>3</td>\n",
       "      <td>10</td>\n",
       "      <td>13</td>\n",
       "    </tr>\n",
       "    <tr>\n",
       "      <th>4</th>\n",
       "      <td>2011-01-01 04:00:00</td>\n",
       "      <td>1</td>\n",
       "      <td>0</td>\n",
       "      <td>0</td>\n",
       "      <td>1</td>\n",
       "      <td>9.84</td>\n",
       "      <td>14.395</td>\n",
       "      <td>75</td>\n",
       "      <td>0.0</td>\n",
       "      <td>0</td>\n",
       "      <td>1</td>\n",
       "      <td>1</td>\n",
       "    </tr>\n",
       "  </tbody>\n",
       "</table>\n",
       "</div>"
      ],
      "text/plain": [
       "              datetime  season  holiday  workingday  weather  temp   atemp  \\\n",
       "0  2011-01-01 00:00:00       1        0           0        1  9.84  14.395   \n",
       "1  2011-01-01 01:00:00       1        0           0        1  9.02  13.635   \n",
       "2  2011-01-01 02:00:00       1        0           0        1  9.02  13.635   \n",
       "3  2011-01-01 03:00:00       1        0           0        1  9.84  14.395   \n",
       "4  2011-01-01 04:00:00       1        0           0        1  9.84  14.395   \n",
       "\n",
       "   humidity  windspeed  casual  registered  count  \n",
       "0        81        0.0       3          13     16  \n",
       "1        80        0.0       8          32     40  \n",
       "2        80        0.0       5          27     32  \n",
       "3        75        0.0       3          10     13  \n",
       "4        75        0.0       0           1      1  "
      ]
     },
     "execution_count": 4,
     "metadata": {},
     "output_type": "execute_result"
    }
   ],
   "source": [
    "train.head()"
   ]
  },
  {
   "cell_type": "code",
   "execution_count": 5,
   "metadata": {
    "execution": {
     "iopub.execute_input": "2024-09-30T16:43:27.192006Z",
     "iopub.status.busy": "2024-09-30T16:43:27.191531Z",
     "iopub.status.idle": "2024-09-30T16:43:27.206939Z",
     "shell.execute_reply": "2024-09-30T16:43:27.205797Z",
     "shell.execute_reply.started": "2024-09-30T16:43:27.191947Z"
    }
   },
   "outputs": [
    {
     "data": {
      "text/plain": [
       "datetime      0\n",
       "season        0\n",
       "holiday       0\n",
       "workingday    0\n",
       "weather       0\n",
       "temp          0\n",
       "atemp         0\n",
       "humidity      0\n",
       "windspeed     0\n",
       "casual        0\n",
       "registered    0\n",
       "count         0\n",
       "dtype: int64"
      ]
     },
     "execution_count": 5,
     "metadata": {},
     "output_type": "execute_result"
    }
   ],
   "source": [
    "train.isnull().sum()"
   ]
  },
  {
   "cell_type": "code",
   "execution_count": 6,
   "metadata": {
    "execution": {
     "iopub.execute_input": "2024-09-30T16:43:27.209997Z",
     "iopub.status.busy": "2024-09-30T16:43:27.209053Z",
     "iopub.status.idle": "2024-09-30T16:43:27.229833Z",
     "shell.execute_reply": "2024-09-30T16:43:27.228579Z",
     "shell.execute_reply.started": "2024-09-30T16:43:27.209932Z"
    }
   },
   "outputs": [
    {
     "data": {
      "text/html": [
       "<div>\n",
       "<style scoped>\n",
       "    .dataframe tbody tr th:only-of-type {\n",
       "        vertical-align: middle;\n",
       "    }\n",
       "\n",
       "    .dataframe tbody tr th {\n",
       "        vertical-align: top;\n",
       "    }\n",
       "\n",
       "    .dataframe thead th {\n",
       "        text-align: right;\n",
       "    }\n",
       "</style>\n",
       "<table border=\"1\" class=\"dataframe\">\n",
       "  <thead>\n",
       "    <tr style=\"text-align: right;\">\n",
       "      <th></th>\n",
       "      <th>datetime</th>\n",
       "      <th>season</th>\n",
       "      <th>holiday</th>\n",
       "      <th>workingday</th>\n",
       "      <th>weather</th>\n",
       "      <th>temp</th>\n",
       "      <th>atemp</th>\n",
       "      <th>humidity</th>\n",
       "      <th>windspeed</th>\n",
       "    </tr>\n",
       "  </thead>\n",
       "  <tbody>\n",
       "    <tr>\n",
       "      <th>0</th>\n",
       "      <td>2011-01-20 00:00:00</td>\n",
       "      <td>1</td>\n",
       "      <td>0</td>\n",
       "      <td>1</td>\n",
       "      <td>1</td>\n",
       "      <td>10.66</td>\n",
       "      <td>11.365</td>\n",
       "      <td>56</td>\n",
       "      <td>26.0027</td>\n",
       "    </tr>\n",
       "    <tr>\n",
       "      <th>1</th>\n",
       "      <td>2011-01-20 01:00:00</td>\n",
       "      <td>1</td>\n",
       "      <td>0</td>\n",
       "      <td>1</td>\n",
       "      <td>1</td>\n",
       "      <td>10.66</td>\n",
       "      <td>13.635</td>\n",
       "      <td>56</td>\n",
       "      <td>0.0000</td>\n",
       "    </tr>\n",
       "    <tr>\n",
       "      <th>2</th>\n",
       "      <td>2011-01-20 02:00:00</td>\n",
       "      <td>1</td>\n",
       "      <td>0</td>\n",
       "      <td>1</td>\n",
       "      <td>1</td>\n",
       "      <td>10.66</td>\n",
       "      <td>13.635</td>\n",
       "      <td>56</td>\n",
       "      <td>0.0000</td>\n",
       "    </tr>\n",
       "    <tr>\n",
       "      <th>3</th>\n",
       "      <td>2011-01-20 03:00:00</td>\n",
       "      <td>1</td>\n",
       "      <td>0</td>\n",
       "      <td>1</td>\n",
       "      <td>1</td>\n",
       "      <td>10.66</td>\n",
       "      <td>12.880</td>\n",
       "      <td>56</td>\n",
       "      <td>11.0014</td>\n",
       "    </tr>\n",
       "    <tr>\n",
       "      <th>4</th>\n",
       "      <td>2011-01-20 04:00:00</td>\n",
       "      <td>1</td>\n",
       "      <td>0</td>\n",
       "      <td>1</td>\n",
       "      <td>1</td>\n",
       "      <td>10.66</td>\n",
       "      <td>12.880</td>\n",
       "      <td>56</td>\n",
       "      <td>11.0014</td>\n",
       "    </tr>\n",
       "  </tbody>\n",
       "</table>\n",
       "</div>"
      ],
      "text/plain": [
       "              datetime  season  holiday  workingday  weather   temp   atemp  \\\n",
       "0  2011-01-20 00:00:00       1        0           1        1  10.66  11.365   \n",
       "1  2011-01-20 01:00:00       1        0           1        1  10.66  13.635   \n",
       "2  2011-01-20 02:00:00       1        0           1        1  10.66  13.635   \n",
       "3  2011-01-20 03:00:00       1        0           1        1  10.66  12.880   \n",
       "4  2011-01-20 04:00:00       1        0           1        1  10.66  12.880   \n",
       "\n",
       "   humidity  windspeed  \n",
       "0        56    26.0027  \n",
       "1        56     0.0000  \n",
       "2        56     0.0000  \n",
       "3        56    11.0014  \n",
       "4        56    11.0014  "
      ]
     },
     "execution_count": 6,
     "metadata": {},
     "output_type": "execute_result"
    }
   ],
   "source": [
    "test.head()"
   ]
  },
  {
   "cell_type": "code",
   "execution_count": 7,
   "metadata": {
    "execution": {
     "iopub.execute_input": "2024-09-30T16:43:27.231808Z",
     "iopub.status.busy": "2024-09-30T16:43:27.231363Z",
     "iopub.status.idle": "2024-09-30T16:43:27.250263Z",
     "shell.execute_reply": "2024-09-30T16:43:27.248824Z",
     "shell.execute_reply.started": "2024-09-30T16:43:27.231747Z"
    }
   },
   "outputs": [
    {
     "data": {
      "text/plain": [
       "datetime      0\n",
       "season        0\n",
       "holiday       0\n",
       "workingday    0\n",
       "weather       0\n",
       "temp          0\n",
       "atemp         0\n",
       "humidity      0\n",
       "windspeed     0\n",
       "dtype: int64"
      ]
     },
     "execution_count": 7,
     "metadata": {},
     "output_type": "execute_result"
    }
   ],
   "source": [
    "test.isnull().sum()"
   ]
  },
  {
   "cell_type": "code",
   "execution_count": 8,
   "metadata": {
    "execution": {
     "iopub.execute_input": "2024-09-30T16:43:27.252766Z",
     "iopub.status.busy": "2024-09-30T16:43:27.252258Z",
     "iopub.status.idle": "2024-09-30T16:43:27.260541Z",
     "shell.execute_reply": "2024-09-30T16:43:27.259154Z",
     "shell.execute_reply.started": "2024-09-30T16:43:27.252709Z"
    }
   },
   "outputs": [
    {
     "data": {
      "text/plain": [
       "(10886, 12)"
      ]
     },
     "execution_count": 8,
     "metadata": {},
     "output_type": "execute_result"
    }
   ],
   "source": [
    "train.shape"
   ]
  },
  {
   "cell_type": "code",
   "execution_count": 9,
   "metadata": {
    "execution": {
     "iopub.execute_input": "2024-09-30T16:43:27.266625Z",
     "iopub.status.busy": "2024-09-30T16:43:27.266198Z",
     "iopub.status.idle": "2024-09-30T16:43:27.274063Z",
     "shell.execute_reply": "2024-09-30T16:43:27.272902Z",
     "shell.execute_reply.started": "2024-09-30T16:43:27.266584Z"
    }
   },
   "outputs": [
    {
     "data": {
      "text/plain": [
       "(6493, 9)"
      ]
     },
     "execution_count": 9,
     "metadata": {},
     "output_type": "execute_result"
    }
   ],
   "source": [
    "test.shape"
   ]
  },
  {
   "cell_type": "code",
   "execution_count": 54,
   "metadata": {
    "execution": {
     "iopub.execute_input": "2024-09-30T16:54:43.321492Z",
     "iopub.status.busy": "2024-09-30T16:54:43.321042Z",
     "iopub.status.idle": "2024-09-30T16:54:43.329488Z",
     "shell.execute_reply": "2024-09-30T16:54:43.328446Z",
     "shell.execute_reply.started": "2024-09-30T16:54:43.321432Z"
    }
   },
   "outputs": [],
   "source": [
    "df=pd.concat([train,test])"
   ]
  },
  {
   "cell_type": "code",
   "execution_count": 11,
   "metadata": {
    "execution": {
     "iopub.execute_input": "2024-09-30T16:43:27.296354Z",
     "iopub.status.busy": "2024-09-30T16:43:27.295890Z",
     "iopub.status.idle": "2024-09-30T16:43:27.323693Z",
     "shell.execute_reply": "2024-09-30T16:43:27.322233Z",
     "shell.execute_reply.started": "2024-09-30T16:43:27.296295Z"
    }
   },
   "outputs": [
    {
     "data": {
      "text/html": [
       "<div>\n",
       "<style scoped>\n",
       "    .dataframe tbody tr th:only-of-type {\n",
       "        vertical-align: middle;\n",
       "    }\n",
       "\n",
       "    .dataframe tbody tr th {\n",
       "        vertical-align: top;\n",
       "    }\n",
       "\n",
       "    .dataframe thead th {\n",
       "        text-align: right;\n",
       "    }\n",
       "</style>\n",
       "<table border=\"1\" class=\"dataframe\">\n",
       "  <thead>\n",
       "    <tr style=\"text-align: right;\">\n",
       "      <th></th>\n",
       "      <th>datetime</th>\n",
       "      <th>season</th>\n",
       "      <th>holiday</th>\n",
       "      <th>workingday</th>\n",
       "      <th>weather</th>\n",
       "      <th>temp</th>\n",
       "      <th>atemp</th>\n",
       "      <th>humidity</th>\n",
       "      <th>windspeed</th>\n",
       "      <th>casual</th>\n",
       "      <th>registered</th>\n",
       "      <th>count</th>\n",
       "    </tr>\n",
       "  </thead>\n",
       "  <tbody>\n",
       "    <tr>\n",
       "      <th>0</th>\n",
       "      <td>2011-01-01 00:00:00</td>\n",
       "      <td>1</td>\n",
       "      <td>0</td>\n",
       "      <td>0</td>\n",
       "      <td>1</td>\n",
       "      <td>9.84</td>\n",
       "      <td>14.395</td>\n",
       "      <td>81</td>\n",
       "      <td>0.0</td>\n",
       "      <td>3.0</td>\n",
       "      <td>13.0</td>\n",
       "      <td>16.0</td>\n",
       "    </tr>\n",
       "    <tr>\n",
       "      <th>1</th>\n",
       "      <td>2011-01-01 01:00:00</td>\n",
       "      <td>1</td>\n",
       "      <td>0</td>\n",
       "      <td>0</td>\n",
       "      <td>1</td>\n",
       "      <td>9.02</td>\n",
       "      <td>13.635</td>\n",
       "      <td>80</td>\n",
       "      <td>0.0</td>\n",
       "      <td>8.0</td>\n",
       "      <td>32.0</td>\n",
       "      <td>40.0</td>\n",
       "    </tr>\n",
       "    <tr>\n",
       "      <th>2</th>\n",
       "      <td>2011-01-01 02:00:00</td>\n",
       "      <td>1</td>\n",
       "      <td>0</td>\n",
       "      <td>0</td>\n",
       "      <td>1</td>\n",
       "      <td>9.02</td>\n",
       "      <td>13.635</td>\n",
       "      <td>80</td>\n",
       "      <td>0.0</td>\n",
       "      <td>5.0</td>\n",
       "      <td>27.0</td>\n",
       "      <td>32.0</td>\n",
       "    </tr>\n",
       "    <tr>\n",
       "      <th>3</th>\n",
       "      <td>2011-01-01 03:00:00</td>\n",
       "      <td>1</td>\n",
       "      <td>0</td>\n",
       "      <td>0</td>\n",
       "      <td>1</td>\n",
       "      <td>9.84</td>\n",
       "      <td>14.395</td>\n",
       "      <td>75</td>\n",
       "      <td>0.0</td>\n",
       "      <td>3.0</td>\n",
       "      <td>10.0</td>\n",
       "      <td>13.0</td>\n",
       "    </tr>\n",
       "    <tr>\n",
       "      <th>4</th>\n",
       "      <td>2011-01-01 04:00:00</td>\n",
       "      <td>1</td>\n",
       "      <td>0</td>\n",
       "      <td>0</td>\n",
       "      <td>1</td>\n",
       "      <td>9.84</td>\n",
       "      <td>14.395</td>\n",
       "      <td>75</td>\n",
       "      <td>0.0</td>\n",
       "      <td>0.0</td>\n",
       "      <td>1.0</td>\n",
       "      <td>1.0</td>\n",
       "    </tr>\n",
       "  </tbody>\n",
       "</table>\n",
       "</div>"
      ],
      "text/plain": [
       "              datetime  season  holiday  workingday  weather  temp   atemp  \\\n",
       "0  2011-01-01 00:00:00       1        0           0        1  9.84  14.395   \n",
       "1  2011-01-01 01:00:00       1        0           0        1  9.02  13.635   \n",
       "2  2011-01-01 02:00:00       1        0           0        1  9.02  13.635   \n",
       "3  2011-01-01 03:00:00       1        0           0        1  9.84  14.395   \n",
       "4  2011-01-01 04:00:00       1        0           0        1  9.84  14.395   \n",
       "\n",
       "   humidity  windspeed  casual  registered  count  \n",
       "0        81        0.0     3.0        13.0   16.0  \n",
       "1        80        0.0     8.0        32.0   40.0  \n",
       "2        80        0.0     5.0        27.0   32.0  \n",
       "3        75        0.0     3.0        10.0   13.0  \n",
       "4        75        0.0     0.0         1.0    1.0  "
      ]
     },
     "execution_count": 11,
     "metadata": {},
     "output_type": "execute_result"
    }
   ],
   "source": [
    "df.head()"
   ]
  },
  {
   "cell_type": "code",
   "execution_count": 12,
   "metadata": {
    "execution": {
     "iopub.execute_input": "2024-09-30T16:43:27.325805Z",
     "iopub.status.busy": "2024-09-30T16:43:27.325223Z",
     "iopub.status.idle": "2024-09-30T16:43:27.340033Z",
     "shell.execute_reply": "2024-09-30T16:43:27.338586Z",
     "shell.execute_reply.started": "2024-09-30T16:43:27.325760Z"
    }
   },
   "outputs": [
    {
     "data": {
      "text/plain": [
       "(17379, 12)"
      ]
     },
     "execution_count": 12,
     "metadata": {},
     "output_type": "execute_result"
    }
   ],
   "source": [
    "df.shape"
   ]
  },
  {
   "cell_type": "code",
   "execution_count": 13,
   "metadata": {
    "execution": {
     "iopub.execute_input": "2024-09-30T16:43:27.342429Z",
     "iopub.status.busy": "2024-09-30T16:43:27.342013Z",
     "iopub.status.idle": "2024-09-30T16:43:27.371015Z",
     "shell.execute_reply": "2024-09-30T16:43:27.369824Z",
     "shell.execute_reply.started": "2024-09-30T16:43:27.342356Z"
    }
   },
   "outputs": [
    {
     "name": "stdout",
     "output_type": "stream",
     "text": [
      "<class 'pandas.core.frame.DataFrame'>\n",
      "Index: 17379 entries, 0 to 6492\n",
      "Data columns (total 12 columns):\n",
      " #   Column      Non-Null Count  Dtype  \n",
      "---  ------      --------------  -----  \n",
      " 0   datetime    17379 non-null  object \n",
      " 1   season      17379 non-null  int64  \n",
      " 2   holiday     17379 non-null  int64  \n",
      " 3   workingday  17379 non-null  int64  \n",
      " 4   weather     17379 non-null  int64  \n",
      " 5   temp        17379 non-null  float64\n",
      " 6   atemp       17379 non-null  float64\n",
      " 7   humidity    17379 non-null  int64  \n",
      " 8   windspeed   17379 non-null  float64\n",
      " 9   casual      10886 non-null  float64\n",
      " 10  registered  10886 non-null  float64\n",
      " 11  count       10886 non-null  float64\n",
      "dtypes: float64(6), int64(5), object(1)\n",
      "memory usage: 1.7+ MB\n"
     ]
    }
   ],
   "source": [
    "df.info()"
   ]
  },
  {
   "cell_type": "code",
   "execution_count": 14,
   "metadata": {
    "execution": {
     "iopub.execute_input": "2024-09-30T16:43:27.373352Z",
     "iopub.status.busy": "2024-09-30T16:43:27.372861Z",
     "iopub.status.idle": "2024-09-30T16:43:27.390712Z",
     "shell.execute_reply": "2024-09-30T16:43:27.389298Z",
     "shell.execute_reply.started": "2024-09-30T16:43:27.373299Z"
    }
   },
   "outputs": [
    {
     "data": {
      "text/plain": [
       "datetime         0\n",
       "season           0\n",
       "holiday          0\n",
       "workingday       0\n",
       "weather          0\n",
       "temp             0\n",
       "atemp            0\n",
       "humidity         0\n",
       "windspeed        0\n",
       "casual        6493\n",
       "registered    6493\n",
       "count         6493\n",
       "dtype: int64"
      ]
     },
     "execution_count": 14,
     "metadata": {},
     "output_type": "execute_result"
    }
   ],
   "source": [
    "df.isnull().sum()"
   ]
  },
  {
   "cell_type": "code",
   "execution_count": 15,
   "metadata": {
    "execution": {
     "iopub.execute_input": "2024-09-30T16:43:27.392903Z",
     "iopub.status.busy": "2024-09-30T16:43:27.392480Z",
     "iopub.status.idle": "2024-09-30T16:43:27.450781Z",
     "shell.execute_reply": "2024-09-30T16:43:27.449494Z",
     "shell.execute_reply.started": "2024-09-30T16:43:27.392843Z"
    }
   },
   "outputs": [
    {
     "data": {
      "text/html": [
       "<div>\n",
       "<style scoped>\n",
       "    .dataframe tbody tr th:only-of-type {\n",
       "        vertical-align: middle;\n",
       "    }\n",
       "\n",
       "    .dataframe tbody tr th {\n",
       "        vertical-align: top;\n",
       "    }\n",
       "\n",
       "    .dataframe thead th {\n",
       "        text-align: right;\n",
       "    }\n",
       "</style>\n",
       "<table border=\"1\" class=\"dataframe\">\n",
       "  <thead>\n",
       "    <tr style=\"text-align: right;\">\n",
       "      <th></th>\n",
       "      <th>season</th>\n",
       "      <th>holiday</th>\n",
       "      <th>workingday</th>\n",
       "      <th>weather</th>\n",
       "      <th>temp</th>\n",
       "      <th>atemp</th>\n",
       "      <th>humidity</th>\n",
       "      <th>windspeed</th>\n",
       "      <th>casual</th>\n",
       "      <th>registered</th>\n",
       "      <th>count</th>\n",
       "    </tr>\n",
       "  </thead>\n",
       "  <tbody>\n",
       "    <tr>\n",
       "      <th>count</th>\n",
       "      <td>17379.000000</td>\n",
       "      <td>17379.000000</td>\n",
       "      <td>17379.000000</td>\n",
       "      <td>17379.000000</td>\n",
       "      <td>17379.000000</td>\n",
       "      <td>17379.000000</td>\n",
       "      <td>17379.000000</td>\n",
       "      <td>17379.000000</td>\n",
       "      <td>10886.000000</td>\n",
       "      <td>10886.000000</td>\n",
       "      <td>10886.000000</td>\n",
       "    </tr>\n",
       "    <tr>\n",
       "      <th>mean</th>\n",
       "      <td>2.501640</td>\n",
       "      <td>0.028770</td>\n",
       "      <td>0.682721</td>\n",
       "      <td>1.425283</td>\n",
       "      <td>20.376474</td>\n",
       "      <td>23.788755</td>\n",
       "      <td>62.722884</td>\n",
       "      <td>12.736540</td>\n",
       "      <td>36.021955</td>\n",
       "      <td>155.552177</td>\n",
       "      <td>191.574132</td>\n",
       "    </tr>\n",
       "    <tr>\n",
       "      <th>std</th>\n",
       "      <td>1.106918</td>\n",
       "      <td>0.167165</td>\n",
       "      <td>0.465431</td>\n",
       "      <td>0.639357</td>\n",
       "      <td>7.894801</td>\n",
       "      <td>8.592511</td>\n",
       "      <td>19.292983</td>\n",
       "      <td>8.196795</td>\n",
       "      <td>49.960477</td>\n",
       "      <td>151.039033</td>\n",
       "      <td>181.144454</td>\n",
       "    </tr>\n",
       "    <tr>\n",
       "      <th>min</th>\n",
       "      <td>1.000000</td>\n",
       "      <td>0.000000</td>\n",
       "      <td>0.000000</td>\n",
       "      <td>1.000000</td>\n",
       "      <td>0.820000</td>\n",
       "      <td>0.000000</td>\n",
       "      <td>0.000000</td>\n",
       "      <td>0.000000</td>\n",
       "      <td>0.000000</td>\n",
       "      <td>0.000000</td>\n",
       "      <td>1.000000</td>\n",
       "    </tr>\n",
       "    <tr>\n",
       "      <th>25%</th>\n",
       "      <td>2.000000</td>\n",
       "      <td>0.000000</td>\n",
       "      <td>0.000000</td>\n",
       "      <td>1.000000</td>\n",
       "      <td>13.940000</td>\n",
       "      <td>16.665000</td>\n",
       "      <td>48.000000</td>\n",
       "      <td>7.001500</td>\n",
       "      <td>4.000000</td>\n",
       "      <td>36.000000</td>\n",
       "      <td>42.000000</td>\n",
       "    </tr>\n",
       "    <tr>\n",
       "      <th>50%</th>\n",
       "      <td>3.000000</td>\n",
       "      <td>0.000000</td>\n",
       "      <td>1.000000</td>\n",
       "      <td>1.000000</td>\n",
       "      <td>20.500000</td>\n",
       "      <td>24.240000</td>\n",
       "      <td>63.000000</td>\n",
       "      <td>12.998000</td>\n",
       "      <td>17.000000</td>\n",
       "      <td>118.000000</td>\n",
       "      <td>145.000000</td>\n",
       "    </tr>\n",
       "    <tr>\n",
       "      <th>75%</th>\n",
       "      <td>3.000000</td>\n",
       "      <td>0.000000</td>\n",
       "      <td>1.000000</td>\n",
       "      <td>2.000000</td>\n",
       "      <td>27.060000</td>\n",
       "      <td>31.060000</td>\n",
       "      <td>78.000000</td>\n",
       "      <td>16.997900</td>\n",
       "      <td>49.000000</td>\n",
       "      <td>222.000000</td>\n",
       "      <td>284.000000</td>\n",
       "    </tr>\n",
       "    <tr>\n",
       "      <th>max</th>\n",
       "      <td>4.000000</td>\n",
       "      <td>1.000000</td>\n",
       "      <td>1.000000</td>\n",
       "      <td>4.000000</td>\n",
       "      <td>41.000000</td>\n",
       "      <td>50.000000</td>\n",
       "      <td>100.000000</td>\n",
       "      <td>56.996900</td>\n",
       "      <td>367.000000</td>\n",
       "      <td>886.000000</td>\n",
       "      <td>977.000000</td>\n",
       "    </tr>\n",
       "  </tbody>\n",
       "</table>\n",
       "</div>"
      ],
      "text/plain": [
       "             season       holiday    workingday       weather          temp  \\\n",
       "count  17379.000000  17379.000000  17379.000000  17379.000000  17379.000000   \n",
       "mean       2.501640      0.028770      0.682721      1.425283     20.376474   \n",
       "std        1.106918      0.167165      0.465431      0.639357      7.894801   \n",
       "min        1.000000      0.000000      0.000000      1.000000      0.820000   \n",
       "25%        2.000000      0.000000      0.000000      1.000000     13.940000   \n",
       "50%        3.000000      0.000000      1.000000      1.000000     20.500000   \n",
       "75%        3.000000      0.000000      1.000000      2.000000     27.060000   \n",
       "max        4.000000      1.000000      1.000000      4.000000     41.000000   \n",
       "\n",
       "              atemp      humidity     windspeed        casual    registered  \\\n",
       "count  17379.000000  17379.000000  17379.000000  10886.000000  10886.000000   \n",
       "mean      23.788755     62.722884     12.736540     36.021955    155.552177   \n",
       "std        8.592511     19.292983      8.196795     49.960477    151.039033   \n",
       "min        0.000000      0.000000      0.000000      0.000000      0.000000   \n",
       "25%       16.665000     48.000000      7.001500      4.000000     36.000000   \n",
       "50%       24.240000     63.000000     12.998000     17.000000    118.000000   \n",
       "75%       31.060000     78.000000     16.997900     49.000000    222.000000   \n",
       "max       50.000000    100.000000     56.996900    367.000000    886.000000   \n",
       "\n",
       "              count  \n",
       "count  10886.000000  \n",
       "mean     191.574132  \n",
       "std      181.144454  \n",
       "min        1.000000  \n",
       "25%       42.000000  \n",
       "50%      145.000000  \n",
       "75%      284.000000  \n",
       "max      977.000000  "
      ]
     },
     "execution_count": 15,
     "metadata": {},
     "output_type": "execute_result"
    }
   ],
   "source": [
    "df.describe()"
   ]
  },
  {
   "cell_type": "code",
   "execution_count": 16,
   "metadata": {
    "execution": {
     "iopub.execute_input": "2024-09-30T16:43:27.452899Z",
     "iopub.status.busy": "2024-09-30T16:43:27.452338Z",
     "iopub.status.idle": "2024-09-30T16:43:27.494719Z",
     "shell.execute_reply": "2024-09-30T16:43:27.493440Z",
     "shell.execute_reply.started": "2024-09-30T16:43:27.452841Z"
    }
   },
   "outputs": [
    {
     "data": {
      "text/html": [
       "<div>\n",
       "<style scoped>\n",
       "    .dataframe tbody tr th:only-of-type {\n",
       "        vertical-align: middle;\n",
       "    }\n",
       "\n",
       "    .dataframe tbody tr th {\n",
       "        vertical-align: top;\n",
       "    }\n",
       "\n",
       "    .dataframe thead th {\n",
       "        text-align: right;\n",
       "    }\n",
       "</style>\n",
       "<table border=\"1\" class=\"dataframe\">\n",
       "  <thead>\n",
       "    <tr style=\"text-align: right;\">\n",
       "      <th></th>\n",
       "      <th>season</th>\n",
       "      <th>holiday</th>\n",
       "      <th>workingday</th>\n",
       "      <th>weather</th>\n",
       "      <th>temp</th>\n",
       "      <th>atemp</th>\n",
       "      <th>humidity</th>\n",
       "      <th>windspeed</th>\n",
       "      <th>casual</th>\n",
       "      <th>registered</th>\n",
       "      <th>count</th>\n",
       "    </tr>\n",
       "  </thead>\n",
       "  <tbody>\n",
       "    <tr>\n",
       "      <th>season</th>\n",
       "      <td>1.000000</td>\n",
       "      <td>-0.009585</td>\n",
       "      <td>0.013743</td>\n",
       "      <td>-0.014524</td>\n",
       "      <td>0.312025</td>\n",
       "      <td>0.319380</td>\n",
       "      <td>0.150625</td>\n",
       "      <td>-0.149773</td>\n",
       "      <td>0.096758</td>\n",
       "      <td>0.164011</td>\n",
       "      <td>0.163439</td>\n",
       "    </tr>\n",
       "    <tr>\n",
       "      <th>holiday</th>\n",
       "      <td>-0.009585</td>\n",
       "      <td>1.000000</td>\n",
       "      <td>-0.252471</td>\n",
       "      <td>-0.017036</td>\n",
       "      <td>-0.027340</td>\n",
       "      <td>-0.030973</td>\n",
       "      <td>-0.010588</td>\n",
       "      <td>0.003988</td>\n",
       "      <td>0.043799</td>\n",
       "      <td>-0.020956</td>\n",
       "      <td>-0.005393</td>\n",
       "    </tr>\n",
       "    <tr>\n",
       "      <th>workingday</th>\n",
       "      <td>0.013743</td>\n",
       "      <td>-0.252471</td>\n",
       "      <td>1.000000</td>\n",
       "      <td>0.044672</td>\n",
       "      <td>0.055390</td>\n",
       "      <td>0.054667</td>\n",
       "      <td>0.015688</td>\n",
       "      <td>-0.011830</td>\n",
       "      <td>-0.319111</td>\n",
       "      <td>0.119460</td>\n",
       "      <td>0.011594</td>\n",
       "    </tr>\n",
       "    <tr>\n",
       "      <th>weather</th>\n",
       "      <td>-0.014524</td>\n",
       "      <td>-0.017036</td>\n",
       "      <td>0.044672</td>\n",
       "      <td>1.000000</td>\n",
       "      <td>-0.102640</td>\n",
       "      <td>-0.105563</td>\n",
       "      <td>0.418130</td>\n",
       "      <td>0.026226</td>\n",
       "      <td>-0.135918</td>\n",
       "      <td>-0.109340</td>\n",
       "      <td>-0.128655</td>\n",
       "    </tr>\n",
       "    <tr>\n",
       "      <th>temp</th>\n",
       "      <td>0.312025</td>\n",
       "      <td>-0.027340</td>\n",
       "      <td>0.055390</td>\n",
       "      <td>-0.102640</td>\n",
       "      <td>1.000000</td>\n",
       "      <td>0.987672</td>\n",
       "      <td>-0.069881</td>\n",
       "      <td>-0.023125</td>\n",
       "      <td>0.467097</td>\n",
       "      <td>0.318571</td>\n",
       "      <td>0.394454</td>\n",
       "    </tr>\n",
       "    <tr>\n",
       "      <th>atemp</th>\n",
       "      <td>0.319380</td>\n",
       "      <td>-0.030973</td>\n",
       "      <td>0.054667</td>\n",
       "      <td>-0.105563</td>\n",
       "      <td>0.987672</td>\n",
       "      <td>1.000000</td>\n",
       "      <td>-0.051918</td>\n",
       "      <td>-0.062336</td>\n",
       "      <td>0.462067</td>\n",
       "      <td>0.314635</td>\n",
       "      <td>0.389784</td>\n",
       "    </tr>\n",
       "    <tr>\n",
       "      <th>humidity</th>\n",
       "      <td>0.150625</td>\n",
       "      <td>-0.010588</td>\n",
       "      <td>0.015688</td>\n",
       "      <td>0.418130</td>\n",
       "      <td>-0.069881</td>\n",
       "      <td>-0.051918</td>\n",
       "      <td>1.000000</td>\n",
       "      <td>-0.290105</td>\n",
       "      <td>-0.348187</td>\n",
       "      <td>-0.265458</td>\n",
       "      <td>-0.317371</td>\n",
       "    </tr>\n",
       "    <tr>\n",
       "      <th>windspeed</th>\n",
       "      <td>-0.149773</td>\n",
       "      <td>0.003988</td>\n",
       "      <td>-0.011830</td>\n",
       "      <td>0.026226</td>\n",
       "      <td>-0.023125</td>\n",
       "      <td>-0.062336</td>\n",
       "      <td>-0.290105</td>\n",
       "      <td>1.000000</td>\n",
       "      <td>0.092276</td>\n",
       "      <td>0.091052</td>\n",
       "      <td>0.101369</td>\n",
       "    </tr>\n",
       "    <tr>\n",
       "      <th>casual</th>\n",
       "      <td>0.096758</td>\n",
       "      <td>0.043799</td>\n",
       "      <td>-0.319111</td>\n",
       "      <td>-0.135918</td>\n",
       "      <td>0.467097</td>\n",
       "      <td>0.462067</td>\n",
       "      <td>-0.348187</td>\n",
       "      <td>0.092276</td>\n",
       "      <td>1.000000</td>\n",
       "      <td>0.497250</td>\n",
       "      <td>0.690414</td>\n",
       "    </tr>\n",
       "    <tr>\n",
       "      <th>registered</th>\n",
       "      <td>0.164011</td>\n",
       "      <td>-0.020956</td>\n",
       "      <td>0.119460</td>\n",
       "      <td>-0.109340</td>\n",
       "      <td>0.318571</td>\n",
       "      <td>0.314635</td>\n",
       "      <td>-0.265458</td>\n",
       "      <td>0.091052</td>\n",
       "      <td>0.497250</td>\n",
       "      <td>1.000000</td>\n",
       "      <td>0.970948</td>\n",
       "    </tr>\n",
       "    <tr>\n",
       "      <th>count</th>\n",
       "      <td>0.163439</td>\n",
       "      <td>-0.005393</td>\n",
       "      <td>0.011594</td>\n",
       "      <td>-0.128655</td>\n",
       "      <td>0.394454</td>\n",
       "      <td>0.389784</td>\n",
       "      <td>-0.317371</td>\n",
       "      <td>0.101369</td>\n",
       "      <td>0.690414</td>\n",
       "      <td>0.970948</td>\n",
       "      <td>1.000000</td>\n",
       "    </tr>\n",
       "  </tbody>\n",
       "</table>\n",
       "</div>"
      ],
      "text/plain": [
       "              season   holiday  workingday   weather      temp     atemp  \\\n",
       "season      1.000000 -0.009585    0.013743 -0.014524  0.312025  0.319380   \n",
       "holiday    -0.009585  1.000000   -0.252471 -0.017036 -0.027340 -0.030973   \n",
       "workingday  0.013743 -0.252471    1.000000  0.044672  0.055390  0.054667   \n",
       "weather    -0.014524 -0.017036    0.044672  1.000000 -0.102640 -0.105563   \n",
       "temp        0.312025 -0.027340    0.055390 -0.102640  1.000000  0.987672   \n",
       "atemp       0.319380 -0.030973    0.054667 -0.105563  0.987672  1.000000   \n",
       "humidity    0.150625 -0.010588    0.015688  0.418130 -0.069881 -0.051918   \n",
       "windspeed  -0.149773  0.003988   -0.011830  0.026226 -0.023125 -0.062336   \n",
       "casual      0.096758  0.043799   -0.319111 -0.135918  0.467097  0.462067   \n",
       "registered  0.164011 -0.020956    0.119460 -0.109340  0.318571  0.314635   \n",
       "count       0.163439 -0.005393    0.011594 -0.128655  0.394454  0.389784   \n",
       "\n",
       "            humidity  windspeed    casual  registered     count  \n",
       "season      0.150625  -0.149773  0.096758    0.164011  0.163439  \n",
       "holiday    -0.010588   0.003988  0.043799   -0.020956 -0.005393  \n",
       "workingday  0.015688  -0.011830 -0.319111    0.119460  0.011594  \n",
       "weather     0.418130   0.026226 -0.135918   -0.109340 -0.128655  \n",
       "temp       -0.069881  -0.023125  0.467097    0.318571  0.394454  \n",
       "atemp      -0.051918  -0.062336  0.462067    0.314635  0.389784  \n",
       "humidity    1.000000  -0.290105 -0.348187   -0.265458 -0.317371  \n",
       "windspeed  -0.290105   1.000000  0.092276    0.091052  0.101369  \n",
       "casual     -0.348187   0.092276  1.000000    0.497250  0.690414  \n",
       "registered -0.265458   0.091052  0.497250    1.000000  0.970948  \n",
       "count      -0.317371   0.101369  0.690414    0.970948  1.000000  "
      ]
     },
     "execution_count": 16,
     "metadata": {},
     "output_type": "execute_result"
    }
   ],
   "source": [
    "df.corr(numeric_only=True)"
   ]
  },
  {
   "cell_type": "code",
   "execution_count": 17,
   "metadata": {
    "execution": {
     "iopub.execute_input": "2024-09-30T16:43:27.497320Z",
     "iopub.status.busy": "2024-09-30T16:43:27.496615Z",
     "iopub.status.idle": "2024-09-30T16:43:28.372925Z",
     "shell.execute_reply": "2024-09-30T16:43:28.371577Z",
     "shell.execute_reply.started": "2024-09-30T16:43:27.497264Z"
    }
   },
   "outputs": [
    {
     "data": {
      "image/png": "[encoded data removed]",
      "text/plain": [
       "<Figure size 640x480 with 2 Axes>"
      ]
     },
     "metadata": {},
     "output_type": "display_data"
    }
   ],
   "source": [
    "sns.heatmap(df.corr(numeric_only=True),annot=True, cmap='viridis');"
   ]
  },
  {
   "cell_type": "code",
   "execution_count": 18,
   "metadata": {
    "execution": {
     "iopub.execute_input": "2024-09-30T16:43:28.375461Z",
     "iopub.status.busy": "2024-09-30T16:43:28.375039Z",
     "iopub.status.idle": "2024-09-30T16:43:28.384815Z",
     "shell.execute_reply": "2024-09-30T16:43:28.383579Z",
     "shell.execute_reply.started": "2024-09-30T16:43:28.375414Z"
    }
   },
   "outputs": [],
   "source": [
    "df.drop(['casual','registered','atemp'],axis=1, inplace=True)"
   ]
  },
  {
   "cell_type": "code",
   "execution_count": 19,
   "metadata": {
    "execution": {
     "iopub.execute_input": "2024-09-30T16:43:28.387498Z",
     "iopub.status.busy": "2024-09-30T16:43:28.386975Z",
     "iopub.status.idle": "2024-09-30T16:43:28.412694Z",
     "shell.execute_reply": "2024-09-30T16:43:28.411481Z",
     "shell.execute_reply.started": "2024-09-30T16:43:28.387370Z"
    }
   },
   "outputs": [],
   "source": [
    "df['datetime']=pd.to_datetime(df['datetime'])\n",
    "df['day']=df['datetime'].dt.day\n",
    "df['month']=df['datetime'].dt.month\n",
    "df['year']=df['datetime'].dt.year"
   ]
  },
  {
   "cell_type": "code",
   "execution_count": 20,
   "metadata": {
    "execution": {
     "iopub.execute_input": "2024-09-30T16:43:28.414742Z",
     "iopub.status.busy": "2024-09-30T16:43:28.414297Z",
     "iopub.status.idle": "2024-09-30T16:43:28.423247Z",
     "shell.execute_reply": "2024-09-30T16:43:28.422079Z",
     "shell.execute_reply.started": "2024-09-30T16:43:28.414692Z"
    }
   },
   "outputs": [],
   "source": [
    "df.drop('datetime',axis=1, inplace=True)"
   ]
  },
  {
   "cell_type": "markdown",
   "metadata": {},
   "source": [
    "## Data Visualization"
   ]
  },
  {
   "cell_type": "code",
   "execution_count": 21,
   "metadata": {
    "execution": {
     "iopub.execute_input": "2024-09-30T16:43:28.425000Z",
     "iopub.status.busy": "2024-09-30T16:43:28.424543Z",
     "iopub.status.idle": "2024-09-30T16:43:28.686814Z",
     "shell.execute_reply": "2024-09-30T16:43:28.685609Z",
     "shell.execute_reply.started": "2024-09-30T16:43:28.424945Z"
    }
   },
   "outputs": [
    {
     "data": {
      "image/png": "[encoded data removed]",
      "text/plain": [
       "<Figure size 640x480 with 1 Axes>"
      ]
     },
     "metadata": {},
     "output_type": "display_data"
    }
   ],
   "source": [
    "sns.countplot(x=df['season']);\n",
    "# 1 = spring, 2 = summer, 3 = fall, 4 = winter "
   ]
  },
  {
   "cell_type": "code",
   "execution_count": 22,
   "metadata": {
    "execution": {
     "iopub.execute_input": "2024-09-30T16:43:28.694611Z",
     "iopub.status.busy": "2024-09-30T16:43:28.691988Z",
     "iopub.status.idle": "2024-09-30T16:43:28.979465Z",
     "shell.execute_reply": "2024-09-30T16:43:28.978141Z",
     "shell.execute_reply.started": "2024-09-30T16:43:28.694555Z"
    }
   },
   "outputs": [
    {
     "data": {
      "image/png": "[encoded data removed]",
      "text/plain": [
       "<Figure size 640x480 with 1 Axes>"
      ]
     },
     "metadata": {},
     "output_type": "display_data"
    }
   ],
   "source": [
    "sns.countplot(x=df['holiday']);\n",
    "#whether the day is considered a holiday"
   ]
  },
  {
   "cell_type": "code",
   "execution_count": 23,
   "metadata": {
    "execution": {
     "iopub.execute_input": "2024-09-30T16:43:28.981679Z",
     "iopub.status.busy": "2024-09-30T16:43:28.981197Z",
     "iopub.status.idle": "2024-09-30T16:43:29.217806Z",
     "shell.execute_reply": "2024-09-30T16:43:29.216572Z",
     "shell.execute_reply.started": "2024-09-30T16:43:28.981625Z"
    }
   },
   "outputs": [
    {
     "data": {
      "image/png": "[encoded data removed]",
      "text/plain": [
       "<Figure size 640x480 with 1 Axes>"
      ]
     },
     "metadata": {},
     "output_type": "display_data"
    }
   ],
   "source": [
    "sns.countplot(x=df['workingday']);\n",
    "# whether the day is neither a weekend nor holiday"
   ]
  },
  {
   "cell_type": "code",
   "execution_count": 24,
   "metadata": {
    "execution": {
     "iopub.execute_input": "2024-09-30T16:43:29.227085Z",
     "iopub.status.busy": "2024-09-30T16:43:29.226568Z",
     "iopub.status.idle": "2024-09-30T16:43:29.480612Z",
     "shell.execute_reply": "2024-09-30T16:43:29.479249Z",
     "shell.execute_reply.started": "2024-09-30T16:43:29.227029Z"
    }
   },
   "outputs": [
    {
     "data": {
      "image/png": "[encoded data removed]",
      "text/plain": [
       "<Figure size 640x480 with 1 Axes>"
      ]
     },
     "metadata": {},
     "output_type": "display_data"
    }
   ],
   "source": [
    "sns.countplot(x=df['weather']);\n",
    "#1: Clear, Few clouds, Partly cloudy, Partly cloudy\n",
    "#2: Mist + Cloudy, Mist + Broken clouds, Mist + Few clouds, Mist\n",
    "#3: Light Snow, Light Rain + Thunderstorm + Scattered clouds, Light Rain + Scattered clouds\n",
    "#4: Heavy Rain + Ice Pallets + Thunderstorm + Mist, Snow + Fog "
   ]
  },
  {
   "cell_type": "code",
   "execution_count": 25,
   "metadata": {
    "execution": {
     "iopub.execute_input": "2024-09-30T16:43:29.482391Z",
     "iopub.status.busy": "2024-09-30T16:43:29.482018Z",
     "iopub.status.idle": "2024-09-30T16:43:29.997988Z",
     "shell.execute_reply": "2024-09-30T16:43:29.996608Z",
     "shell.execute_reply.started": "2024-09-30T16:43:29.482337Z"
    }
   },
   "outputs": [
    {
     "data": {
      "image/png": "[encoded data removed]",
      "text/plain": [
       "<Figure size 640x480 with 1 Axes>"
      ]
     },
     "metadata": {},
     "output_type": "display_data"
    }
   ],
   "source": [
    "sns.countplot(x=df['day']);"
   ]
  },
  {
   "cell_type": "code",
   "execution_count": 26,
   "metadata": {
    "execution": {
     "iopub.execute_input": "2024-09-30T16:43:29.999964Z",
     "iopub.status.busy": "2024-09-30T16:43:29.999604Z",
     "iopub.status.idle": "2024-09-30T16:43:30.350997Z",
     "shell.execute_reply": "2024-09-30T16:43:30.349841Z",
     "shell.execute_reply.started": "2024-09-30T16:43:29.999926Z"
    }
   },
   "outputs": [
    {
     "data": {
      "image/png": "[encoded data removed]",
      "text/plain": [
       "<Figure size 640x480 with 1 Axes>"
      ]
     },
     "metadata": {},
     "output_type": "display_data"
    }
   ],
   "source": [
    "sns.countplot(x=df['month']);"
   ]
  },
  {
   "cell_type": "code",
   "execution_count": 27,
   "metadata": {
    "execution": {
     "iopub.execute_input": "2024-09-30T16:43:30.352731Z",
     "iopub.status.busy": "2024-09-30T16:43:30.352336Z",
     "iopub.status.idle": "2024-09-30T16:43:30.522237Z",
     "shell.execute_reply": "2024-09-30T16:43:30.520095Z",
     "shell.execute_reply.started": "2024-09-30T16:43:30.352691Z"
    }
   },
   "outputs": [
    {
     "data": {
      "image/png": "[encoded data removed]",
      "text/plain": [
       "<Figure size 640x480 with 1 Axes>"
      ]
     },
     "metadata": {},
     "output_type": "display_data"
    }
   ],
   "source": [
    "sns.countplot(x=df['year']);"
   ]
  },
  {
   "cell_type": "code",
   "execution_count": 28,
   "metadata": {
    "execution": {
     "iopub.execute_input": "2024-09-30T16:43:30.523734Z",
     "iopub.status.busy": "2024-09-30T16:43:30.523357Z",
     "iopub.status.idle": "2024-09-30T16:43:31.158016Z",
     "shell.execute_reply": "2024-09-30T16:43:31.156955Z",
     "shell.execute_reply.started": "2024-09-30T16:43:30.523691Z"
    }
   },
   "outputs": [
    {
     "data": {
      "image/png": "[encoded data removed]",
      "text/plain": [
       "<Figure size 640x480 with 1 Axes>"
      ]
     },
     "metadata": {},
     "output_type": "display_data"
    }
   ],
   "source": [
    "sns.histplot(x=df['temp'], kde=True,bins=100, color='blue');"
   ]
  },
  {
   "cell_type": "code",
   "execution_count": 29,
   "metadata": {
    "execution": {
     "iopub.execute_input": "2024-09-30T16:43:31.160129Z",
     "iopub.status.busy": "2024-09-30T16:43:31.159689Z",
     "iopub.status.idle": "2024-09-30T16:43:32.066452Z",
     "shell.execute_reply": "2024-09-30T16:43:32.065423Z",
     "shell.execute_reply.started": "2024-09-30T16:43:31.160079Z"
    }
   },
   "outputs": [
    {
     "data": {
      "image/png": "[encoded data removed]",
      "text/plain": [
       "<Figure size 640x480 with 1 Axes>"
      ]
     },
     "metadata": {},
     "output_type": "display_data"
    }
   ],
   "source": [
    "sns.barplot(x='season', y='count', data=df)\n",
    "plt.title('Total Count by Season')\n",
    "plt.xlabel('Season')\n",
    "plt.ylabel('Total Count');"
   ]
  },
  {
   "cell_type": "code",
   "execution_count": 30,
   "metadata": {
    "execution": {
     "iopub.execute_input": "2024-09-30T16:43:32.068075Z",
     "iopub.status.busy": "2024-09-30T16:43:32.067747Z",
     "iopub.status.idle": "2024-09-30T16:43:32.366161Z",
     "shell.execute_reply": "2024-09-30T16:43:32.365022Z",
     "shell.execute_reply.started": "2024-09-30T16:43:32.068039Z"
    }
   },
   "outputs": [
    {
     "data": {
      "image/png": "[encoded data removed]",
      "text/plain": [
       "<Figure size 640x480 with 1 Axes>"
      ]
     },
     "metadata": {},
     "output_type": "display_data"
    }
   ],
   "source": [
    "sns.boxplot(x='weather', y='count', data=df)\n",
    "plt.title('Bike Count Distribution by Weather')\n",
    "plt.xlabel('Weather Condition')\n",
    "plt.ylabel('Count');"
   ]
  },
  {
   "cell_type": "code",
   "execution_count": 31,
   "metadata": {
    "execution": {
     "iopub.execute_input": "2024-09-30T16:43:32.368382Z",
     "iopub.status.busy": "2024-09-30T16:43:32.367939Z",
     "iopub.status.idle": "2024-09-30T16:43:32.376038Z",
     "shell.execute_reply": "2024-09-30T16:43:32.374777Z",
     "shell.execute_reply.started": "2024-09-30T16:43:32.368331Z"
    }
   },
   "outputs": [
    {
     "data": {
      "text/plain": [
       "(10886, 12)"
      ]
     },
     "execution_count": 31,
     "metadata": {},
     "output_type": "execute_result"
    }
   ],
   "source": [
    "train.shape"
   ]
  },
  {
   "cell_type": "markdown",
   "metadata": {},
   "source": [
    "## Modelling"
   ]
  },
  {
   "cell_type": "code",
   "execution_count": 32,
   "metadata": {
    "execution": {
     "iopub.execute_input": "2024-09-30T16:43:32.378097Z",
     "iopub.status.busy": "2024-09-30T16:43:32.377629Z",
     "iopub.status.idle": "2024-09-30T16:43:32.812682Z",
     "shell.execute_reply": "2024-09-30T16:43:32.811339Z",
     "shell.execute_reply.started": "2024-09-30T16:43:32.378044Z"
    }
   },
   "outputs": [],
   "source": [
    "from sklearn.linear_model import LinearRegression\n",
    "from sklearn.ensemble import RandomForestRegressor\n",
    "from sklearn.preprocessing import StandardScaler\n",
    "from sklearn.model_selection import train_test_split\n",
    "from sklearn.metrics import r2_score, mean_squared_error"
   ]
  },
  {
   "cell_type": "code",
   "execution_count": 39,
   "metadata": {
    "execution": {
     "iopub.execute_input": "2024-09-30T16:43:32.967736Z",
     "iopub.status.busy": "2024-09-30T16:43:32.967250Z",
     "iopub.status.idle": "2024-09-30T16:43:32.981308Z",
     "shell.execute_reply": "2024-09-30T16:43:32.980101Z",
     "shell.execute_reply.started": "2024-09-30T16:43:32.967673Z"
    }
   },
   "outputs": [],
   "source": [
    "from sklearn.preprocessing import MinMaxScaler"
   ]
  },
  {
   "cell_type": "code",
   "execution_count": 33,
   "metadata": {
    "execution": {
     "iopub.execute_input": "2024-09-30T16:43:32.814542Z",
     "iopub.status.busy": "2024-09-30T16:43:32.814149Z",
     "iopub.status.idle": "2024-09-30T16:43:32.820218Z",
     "shell.execute_reply": "2024-09-30T16:43:32.819026Z",
     "shell.execute_reply.started": "2024-09-30T16:43:32.814481Z"
    }
   },
   "outputs": [],
   "source": [
    "train=df[:10886]\n",
    "test=df[10886:]"
   ]
  },
  {
   "cell_type": "code",
   "execution_count": 34,
   "metadata": {
    "execution": {
     "iopub.execute_input": "2024-09-30T16:43:32.822918Z",
     "iopub.status.busy": "2024-09-30T16:43:32.821934Z",
     "iopub.status.idle": "2024-09-30T16:43:32.843389Z",
     "shell.execute_reply": "2024-09-30T16:43:32.842073Z",
     "shell.execute_reply.started": "2024-09-30T16:43:32.822856Z"
    }
   },
   "outputs": [
    {
     "data": {
      "text/html": [
       "<div>\n",
       "<style scoped>\n",
       "    .dataframe tbody tr th:only-of-type {\n",
       "        vertical-align: middle;\n",
       "    }\n",
       "\n",
       "    .dataframe tbody tr th {\n",
       "        vertical-align: top;\n",
       "    }\n",
       "\n",
       "    .dataframe thead th {\n",
       "        text-align: right;\n",
       "    }\n",
       "</style>\n",
       "<table border=\"1\" class=\"dataframe\">\n",
       "  <thead>\n",
       "    <tr style=\"text-align: right;\">\n",
       "      <th></th>\n",
       "      <th>season</th>\n",
       "      <th>holiday</th>\n",
       "      <th>workingday</th>\n",
       "      <th>weather</th>\n",
       "      <th>temp</th>\n",
       "      <th>humidity</th>\n",
       "      <th>windspeed</th>\n",
       "      <th>count</th>\n",
       "      <th>day</th>\n",
       "      <th>month</th>\n",
       "      <th>year</th>\n",
       "    </tr>\n",
       "  </thead>\n",
       "  <tbody>\n",
       "    <tr>\n",
       "      <th>0</th>\n",
       "      <td>1</td>\n",
       "      <td>0</td>\n",
       "      <td>0</td>\n",
       "      <td>1</td>\n",
       "      <td>9.84</td>\n",
       "      <td>81</td>\n",
       "      <td>0.0</td>\n",
       "      <td>16.0</td>\n",
       "      <td>1</td>\n",
       "      <td>1</td>\n",
       "      <td>2011</td>\n",
       "    </tr>\n",
       "    <tr>\n",
       "      <th>1</th>\n",
       "      <td>1</td>\n",
       "      <td>0</td>\n",
       "      <td>0</td>\n",
       "      <td>1</td>\n",
       "      <td>9.02</td>\n",
       "      <td>80</td>\n",
       "      <td>0.0</td>\n",
       "      <td>40.0</td>\n",
       "      <td>1</td>\n",
       "      <td>1</td>\n",
       "      <td>2011</td>\n",
       "    </tr>\n",
       "    <tr>\n",
       "      <th>2</th>\n",
       "      <td>1</td>\n",
       "      <td>0</td>\n",
       "      <td>0</td>\n",
       "      <td>1</td>\n",
       "      <td>9.02</td>\n",
       "      <td>80</td>\n",
       "      <td>0.0</td>\n",
       "      <td>32.0</td>\n",
       "      <td>1</td>\n",
       "      <td>1</td>\n",
       "      <td>2011</td>\n",
       "    </tr>\n",
       "    <tr>\n",
       "      <th>3</th>\n",
       "      <td>1</td>\n",
       "      <td>0</td>\n",
       "      <td>0</td>\n",
       "      <td>1</td>\n",
       "      <td>9.84</td>\n",
       "      <td>75</td>\n",
       "      <td>0.0</td>\n",
       "      <td>13.0</td>\n",
       "      <td>1</td>\n",
       "      <td>1</td>\n",
       "      <td>2011</td>\n",
       "    </tr>\n",
       "    <tr>\n",
       "      <th>4</th>\n",
       "      <td>1</td>\n",
       "      <td>0</td>\n",
       "      <td>0</td>\n",
       "      <td>1</td>\n",
       "      <td>9.84</td>\n",
       "      <td>75</td>\n",
       "      <td>0.0</td>\n",
       "      <td>1.0</td>\n",
       "      <td>1</td>\n",
       "      <td>1</td>\n",
       "      <td>2011</td>\n",
       "    </tr>\n",
       "  </tbody>\n",
       "</table>\n",
       "</div>"
      ],
      "text/plain": [
       "   season  holiday  workingday  weather  temp  humidity  windspeed  count  \\\n",
       "0       1        0           0        1  9.84        81        0.0   16.0   \n",
       "1       1        0           0        1  9.02        80        0.0   40.0   \n",
       "2       1        0           0        1  9.02        80        0.0   32.0   \n",
       "3       1        0           0        1  9.84        75        0.0   13.0   \n",
       "4       1        0           0        1  9.84        75        0.0    1.0   \n",
       "\n",
       "   day  month  year  \n",
       "0    1      1  2011  \n",
       "1    1      1  2011  \n",
       "2    1      1  2011  \n",
       "3    1      1  2011  \n",
       "4    1      1  2011  "
      ]
     },
     "execution_count": 34,
     "metadata": {},
     "output_type": "execute_result"
    }
   ],
   "source": [
    "train.head()"
   ]
  },
  {
   "cell_type": "code",
   "execution_count": 46,
   "metadata": {
    "execution": {
     "iopub.execute_input": "2024-09-30T16:52:19.338975Z",
     "iopub.status.busy": "2024-09-30T16:52:19.338049Z",
     "iopub.status.idle": "2024-09-30T16:52:19.346847Z",
     "shell.execute_reply": "2024-09-30T16:52:19.345708Z",
     "shell.execute_reply.started": "2024-09-30T16:52:19.338924Z"
    }
   },
   "outputs": [],
   "source": [
    "x=train.drop('count',axis=1)\n",
    "y=train[['count']]"
   ]
  },
  {
   "cell_type": "code",
   "execution_count": 47,
   "metadata": {
    "execution": {
     "iopub.execute_input": "2024-09-30T16:52:19.631891Z",
     "iopub.status.busy": "2024-09-30T16:52:19.631417Z",
     "iopub.status.idle": "2024-09-30T16:52:19.643219Z",
     "shell.execute_reply": "2024-09-30T16:52:19.641748Z",
     "shell.execute_reply.started": "2024-09-30T16:52:19.631849Z"
    }
   },
   "outputs": [],
   "source": [
    " x_train, x_test, y_train, y_test = train_test_split(x, y, test_size=0.2, random_state=42)"
   ]
  },
  {
   "cell_type": "code",
   "execution_count": 48,
   "metadata": {
    "execution": {
     "iopub.execute_input": "2024-09-30T16:52:20.057052Z",
     "iopub.status.busy": "2024-09-30T16:52:20.056525Z",
     "iopub.status.idle": "2024-09-30T16:52:20.077924Z",
     "shell.execute_reply": "2024-09-30T16:52:20.076668Z",
     "shell.execute_reply.started": "2024-09-30T16:52:20.057000Z"
    }
   },
   "outputs": [
    {
     "name": "stdout",
     "output_type": "stream",
     "text": [
      "Root Mean Squared Error: 149.36320354015055\n",
      "R2 Score: 0.3241006477245221\n"
     ]
    }
   ],
   "source": [
    "lr=LinearRegression()\n",
    "model=lr.fit(x_train_scaled, y_train)\n",
    "pred = lr.predict(x_test_scaled)\n",
    "rmse=mean_squared_error(y_test, pred)**.5\n",
    "r2=r2_score(y_test, pred)\n",
    "\n",
    "print('Root Mean Squared Error:', rmse)\n",
    "print('R2 Score:', r2)"
   ]
  },
  {
   "cell_type": "code",
   "execution_count": 43,
   "metadata": {
    "execution": {
     "iopub.execute_input": "2024-09-30T16:50:48.169323Z",
     "iopub.status.busy": "2024-09-30T16:50:48.168214Z",
     "iopub.status.idle": "2024-09-30T16:50:48.350283Z",
     "shell.execute_reply": "2024-09-30T16:50:48.349409Z",
     "shell.execute_reply.started": "2024-09-30T16:50:48.169271Z"
    }
   },
   "outputs": [
    {
     "name": "stdout",
     "output_type": "stream",
     "text": [
      "Root Mean Squared Error: 135.75762220579253\n",
      "R2 Score: 0.44162850916151586\n"
     ]
    }
   ],
   "source": [
    "xgb = XGBRegressor()\n",
    "model=xgb.fit(x_train_scaled, y_train)\n",
    "pred = xgb.predict(x_test_scaled)\n",
    "rmse=mean_squared_error(y_test, pred)**.5\n",
    "r2=r2_score(y_test, pred)\n",
    "\n",
    "print('Root Mean Squared Error:', rmse)\n",
    "print('R2 Score:', r2)"
   ]
  },
  {
   "cell_type": "code",
   "execution_count": 44,
   "metadata": {
    "execution": {
     "iopub.execute_input": "2024-09-30T16:50:50.991860Z",
     "iopub.status.busy": "2024-09-30T16:50:50.991415Z",
     "iopub.status.idle": "2024-09-30T16:50:51.725965Z",
     "shell.execute_reply": "2024-09-30T16:50:51.724756Z",
     "shell.execute_reply.started": "2024-09-30T16:50:50.991821Z"
    }
   },
   "outputs": [
    {
     "name": "stdout",
     "output_type": "stream",
     "text": [
      "Root Mean Squared Error: 138.11540603482544\n",
      "R2 Score: 0.42206494228471236\n"
     ]
    }
   ],
   "source": [
    "gbr = GradientBoostingRegressor()\n",
    "model=gbr.fit(x_train_scaled, y_train)\n",
    "pred = gbr.predict(x_test_scaled)\n",
    "rmse=mean_squared_error(y_test, pred)**.5\n",
    "r2=r2_score(y_test, pred)\n",
    "\n",
    "print('Root Mean Squared Error:', rmse)\n",
    "print('R2 Score:', r2)"
   ]
  },
  {
   "cell_type": "markdown",
   "metadata": {
    "execution": {
     "iopub.status.busy": "2024-09-30T16:43:33.678672Z",
     "iopub.status.idle": "2024-09-30T16:43:33.679106Z",
     "shell.execute_reply": "2024-09-30T16:43:33.678915Z",
     "shell.execute_reply.started": "2024-09-30T16:43:33.678893Z"
    }
   },
   "source": [
    "## Test Data Predict"
   ]
  },
  {
   "cell_type": "code",
   "execution_count": 58,
   "metadata": {
    "execution": {
     "iopub.execute_input": "2024-09-30T16:57:19.734753Z",
     "iopub.status.busy": "2024-09-30T16:57:19.733441Z",
     "iopub.status.idle": "2024-09-30T16:57:19.756278Z",
     "shell.execute_reply": "2024-09-30T16:57:19.754932Z",
     "shell.execute_reply.started": "2024-09-30T16:57:19.734701Z"
    }
   },
   "outputs": [],
   "source": [
    "test=pd.read_csv('/kaggle/input/bike-sharing-demand/test.csv')"
   ]
  },
  {
   "cell_type": "code",
   "execution_count": 49,
   "metadata": {
    "execution": {
     "iopub.execute_input": "2024-09-30T16:53:16.735005Z",
     "iopub.status.busy": "2024-09-30T16:53:16.734570Z",
     "iopub.status.idle": "2024-09-30T16:53:17.307114Z",
     "shell.execute_reply": "2024-09-30T16:53:17.306172Z",
     "shell.execute_reply.started": "2024-09-30T16:53:16.734963Z"
    }
   },
   "outputs": [],
   "source": [
    "xgb = XGBRegressor()\n",
    "xgb.fit(x_train, y_train)\n",
    "x_test = test.drop('count', axis=1)"
   ]
  },
  {
   "cell_type": "code",
   "execution_count": 50,
   "metadata": {
    "execution": {
     "iopub.execute_input": "2024-09-30T16:53:30.918888Z",
     "iopub.status.busy": "2024-09-30T16:53:30.918422Z",
     "iopub.status.idle": "2024-09-30T16:53:30.937063Z",
     "shell.execute_reply": "2024-09-30T16:53:30.935978Z",
     "shell.execute_reply.started": "2024-09-30T16:53:30.918846Z"
    }
   },
   "outputs": [],
   "source": [
    "predictions=xgb.predict(x_test)"
   ]
  },
  {
   "cell_type": "code",
   "execution_count": 55,
   "metadata": {
    "execution": {
     "iopub.execute_input": "2024-09-30T16:55:22.857410Z",
     "iopub.status.busy": "2024-09-30T16:55:22.856973Z",
     "iopub.status.idle": "2024-09-30T16:55:22.865605Z",
     "shell.execute_reply": "2024-09-30T16:55:22.864114Z",
     "shell.execute_reply.started": "2024-09-30T16:55:22.857367Z"
    }
   },
   "outputs": [],
   "source": [
    "predictions1=pd.DataFrame()\n",
    "predictions1['datetime']=test['datetime']"
   ]
  },
  {
   "cell_type": "code",
   "execution_count": 56,
   "metadata": {
    "execution": {
     "iopub.execute_input": "2024-09-30T16:55:34.855533Z",
     "iopub.status.busy": "2024-09-30T16:55:34.855022Z",
     "iopub.status.idle": "2024-09-30T16:55:34.861457Z",
     "shell.execute_reply": "2024-09-30T16:55:34.860278Z",
     "shell.execute_reply.started": "2024-09-30T16:55:34.855468Z"
    }
   },
   "outputs": [],
   "source": [
    "predictions1['count']=predictions"
   ]
  },
  {
   "cell_type": "code",
   "execution_count": 57,
   "metadata": {
    "execution": {
     "iopub.execute_input": "2024-09-30T16:55:55.485848Z",
     "iopub.status.busy": "2024-09-30T16:55:55.484905Z",
     "iopub.status.idle": "2024-09-30T16:55:55.515769Z",
     "shell.execute_reply": "2024-09-30T16:55:55.514579Z",
     "shell.execute_reply.started": "2024-09-30T16:55:55.485797Z"
    }
   },
   "outputs": [],
   "source": [
    "predictions1.to_csv('bike_submission.csv', index=False)"
   ]
  },
  {
   "cell_type": "markdown",
   "metadata": {},
   "source": [
    "## Summary"
   ]
  },
  {
   "cell_type": "markdown",
   "metadata": {},
   "source": [
    "The training and test data sets were read separately and combined into a format suitable for analysis. At this stage, the structure of both data sets was examined and their features were determined. Visualization of the data was done to understand the change in bicycle rental demand over time and its relationship with the weather. Using different graphs and maps, the rental habits of the users and the effects of weather conditions were analyzed. The combined data set was divided into training and test sets. Using the training data, a machine learning model was trained to predict bicycle rental demand.\n",
    "\n",
    "The data was standardized to increase the performance of the model. The trained model made predictions on the test data set. The obtained predictions were saved in a CSV file containing bicycle rental demands. The project was completed with the successful training of the model and the accurate recording of the predictions. This study makes a significant contribution to the use of bicycle sharing systems and the understanding of urban mobility.\n",
    "\n",
    "The project provides important information for examining urban mobility by predicting bicycle rental demands in Washington, D.C. The obtained results can be used for the management and optimization of bicycle sharing systems. The project has been completed  and aims to provide new skills to the participants."
   ]
  }
 ],
 "metadata": {
  "kaggle": {
   "accelerator": "none",
   "dataSources": [
    {
     "databundleVersionId": 32624,
     "sourceId": 3948,
     "sourceType": "competition"
    }
   ],
   "dockerImageVersionId": 30775,
   "isGpuEnabled": false,
   "isInternetEnabled": false,
   "language": "python",
   "sourceType": "notebook"
  },
  "kernelspec": {
   "display_name": "Python 3 (ipykernel)",
   "language": "python",
   "name": "python3"
  },
  "language_info": {
   "codemirror_mode": {
    "name": "ipython",
    "version": 3
   },
   "file_extension": ".py",
   "mimetype": "text/x-python",
   "name": "python",
   "nbconvert_exporter": "python",
   "pygments_lexer": "ipython3",
   "version": "3.11.7"
  }
 },
 "nbformat": 4,
 "nbformat_minor": 4
}
