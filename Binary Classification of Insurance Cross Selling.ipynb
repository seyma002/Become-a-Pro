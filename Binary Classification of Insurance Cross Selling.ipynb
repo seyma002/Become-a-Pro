{
 "cells": [
  {
   "cell_type": "markdown",
   "metadata": {},
   "source": [
    "## Binary Classification of Insurance Cross Selling"
   ]
  },
  {
   "cell_type": "markdown",
   "metadata": {},
   "source": [
    "The goal of this competition is to predict customers who will respond positively to a car insurance offer. This type of binary classification problem provides an excellent opportunity to develop your machine learning skills. The project includes reading, processing, visualizing, and modeling data."
   ]
  },
  {
   "cell_type": "markdown",
   "metadata": {},
   "source": [
    "<a href='https://www.kaggle.com/competitions/playground-series-s4e7' target=_blank>You can find the data file here</a>"
   ]
  },
  {
   "cell_type": "markdown",
   "metadata": {},
   "source": [
    "![](https://riskcovry.com/wp-content/uploads/2022/04/d.jpg)"
   ]
  },
  {
   "cell_type": "markdown",
   "metadata": {},
   "source": [
    "<a href='https://www.kaggle.com/competitions/playground-series-s4e7' target=_blank>You can find the competition here</a>"
   ]
  },
  {
   "cell_type": "code",
   "execution_count": 1,
   "metadata": {
    "_cell_guid": "b1076dfc-b9ad-4769-8c92-a6c4dae69d19",
    "_uuid": "8f2839f25d086af736a60e9eeb907d3b93b6e0e5",
    "execution": {
     "iopub.execute_input": "2024-09-30T04:12:35.746663Z",
     "iopub.status.busy": "2024-09-30T04:12:35.746214Z",
     "iopub.status.idle": "2024-09-30T04:12:35.779701Z",
     "shell.execute_reply": "2024-09-30T04:12:35.778423Z",
     "shell.execute_reply.started": "2024-09-30T04:12:35.746621Z"
    }
   },
   "outputs": [
    {
     "name": "stdout",
     "output_type": "stream",
     "text": [
      "/kaggle/input/playground-series-s4e7/sample_submission.csv\n",
      "/kaggle/input/playground-series-s4e7/train.csv\n",
      "/kaggle/input/playground-series-s4e7/test.csv\n"
     ]
    }
   ],
   "source": [
    "import os\n",
    "for dirname, _, filenames in os.walk('/kaggle/input'):\n",
    "    for filename in filenames:\n",
    "        print(os.path.join(dirname, filename))"
   ]
  },
  {
   "cell_type": "markdown",
   "metadata": {},
   "source": [
    "## Import Libraries"
   ]
  },
  {
   "cell_type": "code",
   "execution_count": 2,
   "metadata": {
    "execution": {
     "iopub.execute_input": "2024-09-30T04:12:35.782210Z",
     "iopub.status.busy": "2024-09-30T04:12:35.781676Z",
     "iopub.status.idle": "2024-09-30T04:12:38.688953Z",
     "shell.execute_reply": "2024-09-30T04:12:38.687751Z",
     "shell.execute_reply.started": "2024-09-30T04:12:35.782167Z"
    }
   },
   "outputs": [],
   "source": [
    "import pandas as pd\n",
    "import seaborn as sns\n",
    "import matplotlib.pyplot as plt\n",
    "import warnings\n",
    "warnings.filterwarnings('ignore')"
   ]
  },
  {
   "cell_type": "code",
   "execution_count": 3,
   "metadata": {
    "execution": {
     "iopub.execute_input": "2024-09-30T04:12:38.691499Z",
     "iopub.status.busy": "2024-09-30T04:12:38.690996Z",
     "iopub.status.idle": "2024-09-30T04:13:19.446263Z",
     "shell.execute_reply": "2024-09-30T04:13:19.445036Z",
     "shell.execute_reply.started": "2024-09-30T04:12:38.691458Z"
    }
   },
   "outputs": [],
   "source": [
    "train=pd.read_csv('/kaggle/input/playground-series-s4e7/train.csv')\n",
    "test=pd.read_csv('/kaggle/input/playground-series-s4e7/test.csv')\n",
    "#Reading the file."
   ]
  },
  {
   "cell_type": "markdown",
   "metadata": {},
   "source": [
    "## EDA"
   ]
  },
  {
   "cell_type": "code",
   "execution_count": 4,
   "metadata": {
    "execution": {
     "iopub.execute_input": "2024-09-30T04:13:19.448112Z",
     "iopub.status.busy": "2024-09-30T04:13:19.447734Z",
     "iopub.status.idle": "2024-09-30T04:13:19.479961Z",
     "shell.execute_reply": "2024-09-30T04:13:19.478581Z",
     "shell.execute_reply.started": "2024-09-30T04:13:19.448071Z"
    }
   },
   "outputs": [
    {
     "data": {
      "text/html": [
       "<div>\n",
       "<style scoped>\n",
       "    .dataframe tbody tr th:only-of-type {\n",
       "        vertical-align: middle;\n",
       "    }\n",
       "\n",
       "    .dataframe tbody tr th {\n",
       "        vertical-align: top;\n",
       "    }\n",
       "\n",
       "    .dataframe thead th {\n",
       "        text-align: right;\n",
       "    }\n",
       "</style>\n",
       "<table border=\"1\" class=\"dataframe\">\n",
       "  <thead>\n",
       "    <tr style=\"text-align: right;\">\n",
       "      <th></th>\n",
       "      <th>id</th>\n",
       "      <th>Gender</th>\n",
       "      <th>Age</th>\n",
       "      <th>Driving_License</th>\n",
       "      <th>Region_Code</th>\n",
       "      <th>Previously_Insured</th>\n",
       "      <th>Vehicle_Age</th>\n",
       "      <th>Vehicle_Damage</th>\n",
       "      <th>Annual_Premium</th>\n",
       "      <th>Policy_Sales_Channel</th>\n",
       "      <th>Vintage</th>\n",
       "      <th>Response</th>\n",
       "    </tr>\n",
       "  </thead>\n",
       "  <tbody>\n",
       "    <tr>\n",
       "      <th>0</th>\n",
       "      <td>0</td>\n",
       "      <td>Male</td>\n",
       "      <td>21</td>\n",
       "      <td>1</td>\n",
       "      <td>35.0</td>\n",
       "      <td>0</td>\n",
       "      <td>1-2 Year</td>\n",
       "      <td>Yes</td>\n",
       "      <td>65101.0</td>\n",
       "      <td>124.0</td>\n",
       "      <td>187</td>\n",
       "      <td>0</td>\n",
       "    </tr>\n",
       "    <tr>\n",
       "      <th>1</th>\n",
       "      <td>1</td>\n",
       "      <td>Male</td>\n",
       "      <td>43</td>\n",
       "      <td>1</td>\n",
       "      <td>28.0</td>\n",
       "      <td>0</td>\n",
       "      <td>&gt; 2 Years</td>\n",
       "      <td>Yes</td>\n",
       "      <td>58911.0</td>\n",
       "      <td>26.0</td>\n",
       "      <td>288</td>\n",
       "      <td>1</td>\n",
       "    </tr>\n",
       "    <tr>\n",
       "      <th>2</th>\n",
       "      <td>2</td>\n",
       "      <td>Female</td>\n",
       "      <td>25</td>\n",
       "      <td>1</td>\n",
       "      <td>14.0</td>\n",
       "      <td>1</td>\n",
       "      <td>&lt; 1 Year</td>\n",
       "      <td>No</td>\n",
       "      <td>38043.0</td>\n",
       "      <td>152.0</td>\n",
       "      <td>254</td>\n",
       "      <td>0</td>\n",
       "    </tr>\n",
       "    <tr>\n",
       "      <th>3</th>\n",
       "      <td>3</td>\n",
       "      <td>Female</td>\n",
       "      <td>35</td>\n",
       "      <td>1</td>\n",
       "      <td>1.0</td>\n",
       "      <td>0</td>\n",
       "      <td>1-2 Year</td>\n",
       "      <td>Yes</td>\n",
       "      <td>2630.0</td>\n",
       "      <td>156.0</td>\n",
       "      <td>76</td>\n",
       "      <td>0</td>\n",
       "    </tr>\n",
       "    <tr>\n",
       "      <th>4</th>\n",
       "      <td>4</td>\n",
       "      <td>Female</td>\n",
       "      <td>36</td>\n",
       "      <td>1</td>\n",
       "      <td>15.0</td>\n",
       "      <td>1</td>\n",
       "      <td>1-2 Year</td>\n",
       "      <td>No</td>\n",
       "      <td>31951.0</td>\n",
       "      <td>152.0</td>\n",
       "      <td>294</td>\n",
       "      <td>0</td>\n",
       "    </tr>\n",
       "  </tbody>\n",
       "</table>\n",
       "</div>"
      ],
      "text/plain": [
       "   id  Gender  Age  Driving_License  Region_Code  Previously_Insured  \\\n",
       "0   0    Male   21                1         35.0                   0   \n",
       "1   1    Male   43                1         28.0                   0   \n",
       "2   2  Female   25                1         14.0                   1   \n",
       "3   3  Female   35                1          1.0                   0   \n",
       "4   4  Female   36                1         15.0                   1   \n",
       "\n",
       "  Vehicle_Age Vehicle_Damage  Annual_Premium  Policy_Sales_Channel  Vintage  \\\n",
       "0    1-2 Year            Yes         65101.0                 124.0      187   \n",
       "1   > 2 Years            Yes         58911.0                  26.0      288   \n",
       "2    < 1 Year             No         38043.0                 152.0      254   \n",
       "3    1-2 Year            Yes          2630.0                 156.0       76   \n",
       "4    1-2 Year             No         31951.0                 152.0      294   \n",
       "\n",
       "   Response  \n",
       "0         0  \n",
       "1         1  \n",
       "2         0  \n",
       "3         0  \n",
       "4         0  "
      ]
     },
     "execution_count": 4,
     "metadata": {},
     "output_type": "execute_result"
    }
   ],
   "source": [
    "train.head()"
   ]
  },
  {
   "cell_type": "code",
   "execution_count": 5,
   "metadata": {
    "execution": {
     "iopub.execute_input": "2024-09-30T04:13:19.483161Z",
     "iopub.status.busy": "2024-09-30T04:13:19.482674Z",
     "iopub.status.idle": "2024-09-30T04:13:19.501974Z",
     "shell.execute_reply": "2024-09-30T04:13:19.500756Z",
     "shell.execute_reply.started": "2024-09-30T04:13:19.483110Z"
    }
   },
   "outputs": [
    {
     "data": {
      "text/html": [
       "<div>\n",
       "<style scoped>\n",
       "    .dataframe tbody tr th:only-of-type {\n",
       "        vertical-align: middle;\n",
       "    }\n",
       "\n",
       "    .dataframe tbody tr th {\n",
       "        vertical-align: top;\n",
       "    }\n",
       "\n",
       "    .dataframe thead th {\n",
       "        text-align: right;\n",
       "    }\n",
       "</style>\n",
       "<table border=\"1\" class=\"dataframe\">\n",
       "  <thead>\n",
       "    <tr style=\"text-align: right;\">\n",
       "      <th></th>\n",
       "      <th>id</th>\n",
       "      <th>Gender</th>\n",
       "      <th>Age</th>\n",
       "      <th>Driving_License</th>\n",
       "      <th>Region_Code</th>\n",
       "      <th>Previously_Insured</th>\n",
       "      <th>Vehicle_Age</th>\n",
       "      <th>Vehicle_Damage</th>\n",
       "      <th>Annual_Premium</th>\n",
       "      <th>Policy_Sales_Channel</th>\n",
       "      <th>Vintage</th>\n",
       "    </tr>\n",
       "  </thead>\n",
       "  <tbody>\n",
       "    <tr>\n",
       "      <th>0</th>\n",
       "      <td>11504798</td>\n",
       "      <td>Female</td>\n",
       "      <td>20</td>\n",
       "      <td>1</td>\n",
       "      <td>47.0</td>\n",
       "      <td>0</td>\n",
       "      <td>&lt; 1 Year</td>\n",
       "      <td>No</td>\n",
       "      <td>2630.0</td>\n",
       "      <td>160.0</td>\n",
       "      <td>228</td>\n",
       "    </tr>\n",
       "    <tr>\n",
       "      <th>1</th>\n",
       "      <td>11504799</td>\n",
       "      <td>Male</td>\n",
       "      <td>47</td>\n",
       "      <td>1</td>\n",
       "      <td>28.0</td>\n",
       "      <td>0</td>\n",
       "      <td>1-2 Year</td>\n",
       "      <td>Yes</td>\n",
       "      <td>37483.0</td>\n",
       "      <td>124.0</td>\n",
       "      <td>123</td>\n",
       "    </tr>\n",
       "    <tr>\n",
       "      <th>2</th>\n",
       "      <td>11504800</td>\n",
       "      <td>Male</td>\n",
       "      <td>47</td>\n",
       "      <td>1</td>\n",
       "      <td>43.0</td>\n",
       "      <td>0</td>\n",
       "      <td>1-2 Year</td>\n",
       "      <td>Yes</td>\n",
       "      <td>2630.0</td>\n",
       "      <td>26.0</td>\n",
       "      <td>271</td>\n",
       "    </tr>\n",
       "    <tr>\n",
       "      <th>3</th>\n",
       "      <td>11504801</td>\n",
       "      <td>Female</td>\n",
       "      <td>22</td>\n",
       "      <td>1</td>\n",
       "      <td>47.0</td>\n",
       "      <td>1</td>\n",
       "      <td>&lt; 1 Year</td>\n",
       "      <td>No</td>\n",
       "      <td>24502.0</td>\n",
       "      <td>152.0</td>\n",
       "      <td>115</td>\n",
       "    </tr>\n",
       "    <tr>\n",
       "      <th>4</th>\n",
       "      <td>11504802</td>\n",
       "      <td>Male</td>\n",
       "      <td>51</td>\n",
       "      <td>1</td>\n",
       "      <td>19.0</td>\n",
       "      <td>0</td>\n",
       "      <td>1-2 Year</td>\n",
       "      <td>No</td>\n",
       "      <td>34115.0</td>\n",
       "      <td>124.0</td>\n",
       "      <td>148</td>\n",
       "    </tr>\n",
       "  </tbody>\n",
       "</table>\n",
       "</div>"
      ],
      "text/plain": [
       "         id  Gender  Age  Driving_License  Region_Code  Previously_Insured  \\\n",
       "0  11504798  Female   20                1         47.0                   0   \n",
       "1  11504799    Male   47                1         28.0                   0   \n",
       "2  11504800    Male   47                1         43.0                   0   \n",
       "3  11504801  Female   22                1         47.0                   1   \n",
       "4  11504802    Male   51                1         19.0                   0   \n",
       "\n",
       "  Vehicle_Age Vehicle_Damage  Annual_Premium  Policy_Sales_Channel  Vintage  \n",
       "0    < 1 Year             No          2630.0                 160.0      228  \n",
       "1    1-2 Year            Yes         37483.0                 124.0      123  \n",
       "2    1-2 Year            Yes          2630.0                  26.0      271  \n",
       "3    < 1 Year             No         24502.0                 152.0      115  \n",
       "4    1-2 Year             No         34115.0                 124.0      148  "
      ]
     },
     "execution_count": 5,
     "metadata": {},
     "output_type": "execute_result"
    }
   ],
   "source": [
    "test.head()"
   ]
  },
  {
   "cell_type": "code",
   "execution_count": 6,
   "metadata": {
    "execution": {
     "iopub.execute_input": "2024-09-30T04:13:19.503976Z",
     "iopub.status.busy": "2024-09-30T04:13:19.503520Z",
     "iopub.status.idle": "2024-09-30T04:13:19.514975Z",
     "shell.execute_reply": "2024-09-30T04:13:19.513722Z",
     "shell.execute_reply.started": "2024-09-30T04:13:19.503935Z"
    }
   },
   "outputs": [
    {
     "data": {
      "text/plain": [
       "((11504798, 12), (7669866, 11))"
      ]
     },
     "execution_count": 6,
     "metadata": {},
     "output_type": "execute_result"
    }
   ],
   "source": [
    "train.shape, test.shape"
   ]
  },
  {
   "cell_type": "code",
   "execution_count": 7,
   "metadata": {
    "execution": {
     "iopub.execute_input": "2024-09-30T04:13:19.516962Z",
     "iopub.status.busy": "2024-09-30T04:13:19.516553Z",
     "iopub.status.idle": "2024-09-30T04:13:23.291575Z",
     "shell.execute_reply": "2024-09-30T04:13:23.290167Z",
     "shell.execute_reply.started": "2024-09-30T04:13:19.516919Z"
    }
   },
   "outputs": [
    {
     "data": {
      "text/plain": [
       "id                      0\n",
       "Gender                  0\n",
       "Age                     0\n",
       "Driving_License         0\n",
       "Region_Code             0\n",
       "Previously_Insured      0\n",
       "Vehicle_Age             0\n",
       "Vehicle_Damage          0\n",
       "Annual_Premium          0\n",
       "Policy_Sales_Channel    0\n",
       "Vintage                 0\n",
       "Response                0\n",
       "dtype: int64"
      ]
     },
     "execution_count": 7,
     "metadata": {},
     "output_type": "execute_result"
    }
   ],
   "source": [
    "train.isnull().sum()"
   ]
  },
  {
   "cell_type": "code",
   "execution_count": 8,
   "metadata": {
    "execution": {
     "iopub.execute_input": "2024-09-30T04:13:23.296846Z",
     "iopub.status.busy": "2024-09-30T04:13:23.296463Z",
     "iopub.status.idle": "2024-09-30T04:13:25.800650Z",
     "shell.execute_reply": "2024-09-30T04:13:25.799575Z",
     "shell.execute_reply.started": "2024-09-30T04:13:23.296808Z"
    }
   },
   "outputs": [
    {
     "data": {
      "text/plain": [
       "id                      0\n",
       "Gender                  0\n",
       "Age                     0\n",
       "Driving_License         0\n",
       "Region_Code             0\n",
       "Previously_Insured      0\n",
       "Vehicle_Age             0\n",
       "Vehicle_Damage          0\n",
       "Annual_Premium          0\n",
       "Policy_Sales_Channel    0\n",
       "Vintage                 0\n",
       "dtype: int64"
      ]
     },
     "execution_count": 8,
     "metadata": {},
     "output_type": "execute_result"
    }
   ],
   "source": [
    "test.isnull().sum()"
   ]
  },
  {
   "cell_type": "code",
   "execution_count": 9,
   "metadata": {
    "execution": {
     "iopub.execute_input": "2024-09-30T04:13:25.802553Z",
     "iopub.status.busy": "2024-09-30T04:13:25.802191Z",
     "iopub.status.idle": "2024-09-30T04:13:27.385169Z",
     "shell.execute_reply": "2024-09-30T04:13:27.383933Z",
     "shell.execute_reply.started": "2024-09-30T04:13:25.802515Z"
    }
   },
   "outputs": [],
   "source": [
    "df=pd.concat([train,test])\n",
    "#Merging the files."
   ]
  },
  {
   "cell_type": "code",
   "execution_count": 10,
   "metadata": {
    "execution": {
     "iopub.execute_input": "2024-09-30T04:13:27.386966Z",
     "iopub.status.busy": "2024-09-30T04:13:27.386602Z",
     "iopub.status.idle": "2024-09-30T04:13:28.114848Z",
     "shell.execute_reply": "2024-09-30T04:13:28.113771Z",
     "shell.execute_reply.started": "2024-09-30T04:13:27.386922Z"
    }
   },
   "outputs": [],
   "source": [
    "train.drop('id', axis=1 ,inplace=True)"
   ]
  },
  {
   "cell_type": "code",
   "execution_count": 11,
   "metadata": {
    "execution": {
     "iopub.execute_input": "2024-09-30T04:13:28.119614Z",
     "iopub.status.busy": "2024-09-30T04:13:28.119229Z",
     "iopub.status.idle": "2024-09-30T04:13:36.010258Z",
     "shell.execute_reply": "2024-09-30T04:13:36.008952Z",
     "shell.execute_reply.started": "2024-09-30T04:13:28.119574Z"
    }
   },
   "outputs": [
    {
     "data": {
      "text/html": [
       "<div>\n",
       "<style scoped>\n",
       "    .dataframe tbody tr th:only-of-type {\n",
       "        vertical-align: middle;\n",
       "    }\n",
       "\n",
       "    .dataframe tbody tr th {\n",
       "        vertical-align: top;\n",
       "    }\n",
       "\n",
       "    .dataframe thead th {\n",
       "        text-align: right;\n",
       "    }\n",
       "</style>\n",
       "<table border=\"1\" class=\"dataframe\">\n",
       "  <thead>\n",
       "    <tr style=\"text-align: right;\">\n",
       "      <th></th>\n",
       "      <th>id</th>\n",
       "      <th>Age</th>\n",
       "      <th>Driving_License</th>\n",
       "      <th>Region_Code</th>\n",
       "      <th>Previously_Insured</th>\n",
       "      <th>Annual_Premium</th>\n",
       "      <th>Policy_Sales_Channel</th>\n",
       "      <th>Vintage</th>\n",
       "      <th>Response</th>\n",
       "    </tr>\n",
       "  </thead>\n",
       "  <tbody>\n",
       "    <tr>\n",
       "      <th>count</th>\n",
       "      <td>1.917466e+07</td>\n",
       "      <td>1.917466e+07</td>\n",
       "      <td>1.917466e+07</td>\n",
       "      <td>1.917466e+07</td>\n",
       "      <td>1.917466e+07</td>\n",
       "      <td>1.917466e+07</td>\n",
       "      <td>1.917466e+07</td>\n",
       "      <td>1.917466e+07</td>\n",
       "      <td>1.150480e+07</td>\n",
       "    </tr>\n",
       "    <tr>\n",
       "      <th>mean</th>\n",
       "      <td>9.587332e+06</td>\n",
       "      <td>3.838669e+01</td>\n",
       "      <td>9.980215e-01</td>\n",
       "      <td>2.642186e+01</td>\n",
       "      <td>4.630288e-01</td>\n",
       "      <td>3.046303e+04</td>\n",
       "      <td>1.124013e+02</td>\n",
       "      <td>1.638985e+02</td>\n",
       "      <td>1.229973e-01</td>\n",
       "    </tr>\n",
       "    <tr>\n",
       "      <th>std</th>\n",
       "      <td>5.535249e+06</td>\n",
       "      <td>1.499588e+01</td>\n",
       "      <td>4.443627e-02</td>\n",
       "      <td>1.299268e+01</td>\n",
       "      <td>4.986313e-01</td>\n",
       "      <td>1.645119e+04</td>\n",
       "      <td>5.405087e+01</td>\n",
       "      <td>7.998150e+01</td>\n",
       "      <td>3.284341e-01</td>\n",
       "    </tr>\n",
       "    <tr>\n",
       "      <th>min</th>\n",
       "      <td>0.000000e+00</td>\n",
       "      <td>2.000000e+01</td>\n",
       "      <td>0.000000e+00</td>\n",
       "      <td>0.000000e+00</td>\n",
       "      <td>0.000000e+00</td>\n",
       "      <td>2.630000e+03</td>\n",
       "      <td>1.000000e+00</td>\n",
       "      <td>1.000000e+01</td>\n",
       "      <td>0.000000e+00</td>\n",
       "    </tr>\n",
       "    <tr>\n",
       "      <th>25%</th>\n",
       "      <td>4.793666e+06</td>\n",
       "      <td>2.400000e+01</td>\n",
       "      <td>1.000000e+00</td>\n",
       "      <td>1.500000e+01</td>\n",
       "      <td>0.000000e+00</td>\n",
       "      <td>2.527900e+04</td>\n",
       "      <td>2.900000e+01</td>\n",
       "      <td>9.900000e+01</td>\n",
       "      <td>0.000000e+00</td>\n",
       "    </tr>\n",
       "    <tr>\n",
       "      <th>50%</th>\n",
       "      <td>9.587332e+06</td>\n",
       "      <td>3.600000e+01</td>\n",
       "      <td>1.000000e+00</td>\n",
       "      <td>2.800000e+01</td>\n",
       "      <td>0.000000e+00</td>\n",
       "      <td>3.182400e+04</td>\n",
       "      <td>1.510000e+02</td>\n",
       "      <td>1.660000e+02</td>\n",
       "      <td>0.000000e+00</td>\n",
       "    </tr>\n",
       "    <tr>\n",
       "      <th>75%</th>\n",
       "      <td>1.438100e+07</td>\n",
       "      <td>4.900000e+01</td>\n",
       "      <td>1.000000e+00</td>\n",
       "      <td>3.500000e+01</td>\n",
       "      <td>1.000000e+00</td>\n",
       "      <td>3.945400e+04</td>\n",
       "      <td>1.520000e+02</td>\n",
       "      <td>2.320000e+02</td>\n",
       "      <td>0.000000e+00</td>\n",
       "    </tr>\n",
       "    <tr>\n",
       "      <th>max</th>\n",
       "      <td>1.917466e+07</td>\n",
       "      <td>8.500000e+01</td>\n",
       "      <td>1.000000e+00</td>\n",
       "      <td>5.200000e+01</td>\n",
       "      <td>1.000000e+00</td>\n",
       "      <td>5.401650e+05</td>\n",
       "      <td>1.630000e+02</td>\n",
       "      <td>2.990000e+02</td>\n",
       "      <td>1.000000e+00</td>\n",
       "    </tr>\n",
       "  </tbody>\n",
       "</table>\n",
       "</div>"
      ],
      "text/plain": [
       "                 id           Age  Driving_License   Region_Code  \\\n",
       "count  1.917466e+07  1.917466e+07     1.917466e+07  1.917466e+07   \n",
       "mean   9.587332e+06  3.838669e+01     9.980215e-01  2.642186e+01   \n",
       "std    5.535249e+06  1.499588e+01     4.443627e-02  1.299268e+01   \n",
       "min    0.000000e+00  2.000000e+01     0.000000e+00  0.000000e+00   \n",
       "25%    4.793666e+06  2.400000e+01     1.000000e+00  1.500000e+01   \n",
       "50%    9.587332e+06  3.600000e+01     1.000000e+00  2.800000e+01   \n",
       "75%    1.438100e+07  4.900000e+01     1.000000e+00  3.500000e+01   \n",
       "max    1.917466e+07  8.500000e+01     1.000000e+00  5.200000e+01   \n",
       "\n",
       "       Previously_Insured  Annual_Premium  Policy_Sales_Channel       Vintage  \\\n",
       "count        1.917466e+07    1.917466e+07          1.917466e+07  1.917466e+07   \n",
       "mean         4.630288e-01    3.046303e+04          1.124013e+02  1.638985e+02   \n",
       "std          4.986313e-01    1.645119e+04          5.405087e+01  7.998150e+01   \n",
       "min          0.000000e+00    2.630000e+03          1.000000e+00  1.000000e+01   \n",
       "25%          0.000000e+00    2.527900e+04          2.900000e+01  9.900000e+01   \n",
       "50%          0.000000e+00    3.182400e+04          1.510000e+02  1.660000e+02   \n",
       "75%          1.000000e+00    3.945400e+04          1.520000e+02  2.320000e+02   \n",
       "max          1.000000e+00    5.401650e+05          1.630000e+02  2.990000e+02   \n",
       "\n",
       "           Response  \n",
       "count  1.150480e+07  \n",
       "mean   1.229973e-01  \n",
       "std    3.284341e-01  \n",
       "min    0.000000e+00  \n",
       "25%    0.000000e+00  \n",
       "50%    0.000000e+00  \n",
       "75%    0.000000e+00  \n",
       "max    1.000000e+00  "
      ]
     },
     "execution_count": 11,
     "metadata": {},
     "output_type": "execute_result"
    }
   ],
   "source": [
    "df.describe()"
   ]
  },
  {
   "cell_type": "code",
   "execution_count": 12,
   "metadata": {
    "execution": {
     "iopub.execute_input": "2024-09-30T04:13:36.011913Z",
     "iopub.status.busy": "2024-09-30T04:13:36.011559Z",
     "iopub.status.idle": "2024-09-30T04:13:40.974410Z",
     "shell.execute_reply": "2024-09-30T04:13:40.973291Z",
     "shell.execute_reply.started": "2024-09-30T04:13:36.011860Z"
    }
   },
   "outputs": [
    {
     "data": {
      "text/html": [
       "<div>\n",
       "<style scoped>\n",
       "    .dataframe tbody tr th:only-of-type {\n",
       "        vertical-align: middle;\n",
       "    }\n",
       "\n",
       "    .dataframe tbody tr th {\n",
       "        vertical-align: top;\n",
       "    }\n",
       "\n",
       "    .dataframe thead th {\n",
       "        text-align: right;\n",
       "    }\n",
       "</style>\n",
       "<table border=\"1\" class=\"dataframe\">\n",
       "  <thead>\n",
       "    <tr style=\"text-align: right;\">\n",
       "      <th></th>\n",
       "      <th>id</th>\n",
       "      <th>Age</th>\n",
       "      <th>Driving_License</th>\n",
       "      <th>Region_Code</th>\n",
       "      <th>Previously_Insured</th>\n",
       "      <th>Annual_Premium</th>\n",
       "      <th>Policy_Sales_Channel</th>\n",
       "      <th>Vintage</th>\n",
       "      <th>Response</th>\n",
       "    </tr>\n",
       "  </thead>\n",
       "  <tbody>\n",
       "    <tr>\n",
       "      <th>id</th>\n",
       "      <td>1.000000</td>\n",
       "      <td>0.000159</td>\n",
       "      <td>0.000006</td>\n",
       "      <td>0.000402</td>\n",
       "      <td>0.000198</td>\n",
       "      <td>0.000074</td>\n",
       "      <td>-0.000217</td>\n",
       "      <td>-0.000050</td>\n",
       "      <td>0.000018</td>\n",
       "    </tr>\n",
       "    <tr>\n",
       "      <th>Age</th>\n",
       "      <td>0.000159</td>\n",
       "      <td>1.000000</td>\n",
       "      <td>-0.078358</td>\n",
       "      <td>0.037462</td>\n",
       "      <td>-0.276452</td>\n",
       "      <td>0.056462</td>\n",
       "      <td>-0.591589</td>\n",
       "      <td>-0.013346</td>\n",
       "      <td>0.122134</td>\n",
       "    </tr>\n",
       "    <tr>\n",
       "      <th>Driving_License</th>\n",
       "      <td>0.000006</td>\n",
       "      <td>-0.078358</td>\n",
       "      <td>1.000000</td>\n",
       "      <td>-0.001515</td>\n",
       "      <td>0.013687</td>\n",
       "      <td>-0.007184</td>\n",
       "      <td>0.042783</td>\n",
       "      <td>-0.000555</td>\n",
       "      <td>0.009197</td>\n",
       "    </tr>\n",
       "    <tr>\n",
       "      <th>Region_Code</th>\n",
       "      <td>0.000402</td>\n",
       "      <td>0.037462</td>\n",
       "      <td>-0.001515</td>\n",
       "      <td>1.000000</td>\n",
       "      <td>-0.022227</td>\n",
       "      <td>-0.001949</td>\n",
       "      <td>-0.037757</td>\n",
       "      <td>-0.005325</td>\n",
       "      <td>0.012816</td>\n",
       "    </tr>\n",
       "    <tr>\n",
       "      <th>Previously_Insured</th>\n",
       "      <td>0.000198</td>\n",
       "      <td>-0.276452</td>\n",
       "      <td>0.013687</td>\n",
       "      <td>-0.022227</td>\n",
       "      <td>1.000000</td>\n",
       "      <td>0.007741</td>\n",
       "      <td>0.236874</td>\n",
       "      <td>0.019692</td>\n",
       "      <td>-0.345930</td>\n",
       "    </tr>\n",
       "    <tr>\n",
       "      <th>Annual_Premium</th>\n",
       "      <td>0.000074</td>\n",
       "      <td>0.056462</td>\n",
       "      <td>-0.007184</td>\n",
       "      <td>-0.001949</td>\n",
       "      <td>0.007741</td>\n",
       "      <td>1.000000</td>\n",
       "      <td>-0.128589</td>\n",
       "      <td>0.003235</td>\n",
       "      <td>0.032261</td>\n",
       "    </tr>\n",
       "    <tr>\n",
       "      <th>Policy_Sales_Channel</th>\n",
       "      <td>-0.000217</td>\n",
       "      <td>-0.591589</td>\n",
       "      <td>0.042783</td>\n",
       "      <td>-0.037757</td>\n",
       "      <td>0.236874</td>\n",
       "      <td>-0.128589</td>\n",
       "      <td>1.000000</td>\n",
       "      <td>0.009048</td>\n",
       "      <td>-0.152733</td>\n",
       "    </tr>\n",
       "    <tr>\n",
       "      <th>Vintage</th>\n",
       "      <td>-0.000050</td>\n",
       "      <td>-0.013346</td>\n",
       "      <td>-0.000555</td>\n",
       "      <td>-0.005325</td>\n",
       "      <td>0.019692</td>\n",
       "      <td>0.003235</td>\n",
       "      <td>0.009048</td>\n",
       "      <td>1.000000</td>\n",
       "      <td>-0.015177</td>\n",
       "    </tr>\n",
       "    <tr>\n",
       "      <th>Response</th>\n",
       "      <td>0.000018</td>\n",
       "      <td>0.122134</td>\n",
       "      <td>0.009197</td>\n",
       "      <td>0.012816</td>\n",
       "      <td>-0.345930</td>\n",
       "      <td>0.032261</td>\n",
       "      <td>-0.152733</td>\n",
       "      <td>-0.015177</td>\n",
       "      <td>1.000000</td>\n",
       "    </tr>\n",
       "  </tbody>\n",
       "</table>\n",
       "</div>"
      ],
      "text/plain": [
       "                            id       Age  Driving_License  Region_Code  \\\n",
       "id                    1.000000  0.000159         0.000006     0.000402   \n",
       "Age                   0.000159  1.000000        -0.078358     0.037462   \n",
       "Driving_License       0.000006 -0.078358         1.000000    -0.001515   \n",
       "Region_Code           0.000402  0.037462        -0.001515     1.000000   \n",
       "Previously_Insured    0.000198 -0.276452         0.013687    -0.022227   \n",
       "Annual_Premium        0.000074  0.056462        -0.007184    -0.001949   \n",
       "Policy_Sales_Channel -0.000217 -0.591589         0.042783    -0.037757   \n",
       "Vintage              -0.000050 -0.013346        -0.000555    -0.005325   \n",
       "Response              0.000018  0.122134         0.009197     0.012816   \n",
       "\n",
       "                      Previously_Insured  Annual_Premium  \\\n",
       "id                              0.000198        0.000074   \n",
       "Age                            -0.276452        0.056462   \n",
       "Driving_License                 0.013687       -0.007184   \n",
       "Region_Code                    -0.022227       -0.001949   \n",
       "Previously_Insured              1.000000        0.007741   \n",
       "Annual_Premium                  0.007741        1.000000   \n",
       "Policy_Sales_Channel            0.236874       -0.128589   \n",
       "Vintage                         0.019692        0.003235   \n",
       "Response                       -0.345930        0.032261   \n",
       "\n",
       "                      Policy_Sales_Channel   Vintage  Response  \n",
       "id                               -0.000217 -0.000050  0.000018  \n",
       "Age                              -0.591589 -0.013346  0.122134  \n",
       "Driving_License                   0.042783 -0.000555  0.009197  \n",
       "Region_Code                      -0.037757 -0.005325  0.012816  \n",
       "Previously_Insured                0.236874  0.019692 -0.345930  \n",
       "Annual_Premium                   -0.128589  0.003235  0.032261  \n",
       "Policy_Sales_Channel              1.000000  0.009048 -0.152733  \n",
       "Vintage                           0.009048  1.000000 -0.015177  \n",
       "Response                         -0.152733 -0.015177  1.000000  "
      ]
     },
     "execution_count": 12,
     "metadata": {},
     "output_type": "execute_result"
    }
   ],
   "source": [
    "df.corr(numeric_only=True)"
   ]
  },
  {
   "cell_type": "code",
   "execution_count": 13,
   "metadata": {
    "execution": {
     "iopub.execute_input": "2024-09-30T04:13:40.976019Z",
     "iopub.status.busy": "2024-09-30T04:13:40.975668Z",
     "iopub.status.idle": "2024-09-30T04:13:46.700772Z",
     "shell.execute_reply": "2024-09-30T04:13:46.699339Z",
     "shell.execute_reply.started": "2024-09-30T04:13:40.975983Z"
    }
   },
   "outputs": [
    {
     "data": {
      "image/png": "[encoded data removed]",
      "text/plain": [
       "<Figure size 640x480 with 2 Axes>"
      ]
     },
     "metadata": {},
     "output_type": "display_data"
    }
   ],
   "source": [
    "sns.heatmap(df.corr(numeric_only=True),annot=True);"
   ]
  },
  {
   "cell_type": "markdown",
   "metadata": {},
   "source": [
    "## Data Visualization"
   ]
  },
  {
   "cell_type": "code",
   "execution_count": 14,
   "metadata": {
    "execution": {
     "iopub.execute_input": "2024-09-30T04:13:46.702809Z",
     "iopub.status.busy": "2024-09-30T04:13:46.702372Z",
     "iopub.status.idle": "2024-09-30T04:14:08.471855Z",
     "shell.execute_reply": "2024-09-30T04:14:08.470530Z",
     "shell.execute_reply.started": "2024-09-30T04:13:46.702763Z"
    }
   },
   "outputs": [
    {
     "data": {
      "image/png": "[encoded data removed]",
      "text/plain": [
       "<Figure size 640x480 with 1 Axes>"
      ]
     },
     "metadata": {},
     "output_type": "display_data"
    }
   ],
   "source": [
    "ax=sns.countplot(x=df['Gender'])\n",
    "ax.bar_label(ax.containers[0]);"
   ]
  },
  {
   "cell_type": "code",
   "execution_count": 15,
   "metadata": {
    "execution": {
     "iopub.execute_input": "2024-09-30T04:14:08.474122Z",
     "iopub.status.busy": "2024-09-30T04:14:08.473679Z",
     "iopub.status.idle": "2024-09-30T04:14:11.605391Z",
     "shell.execute_reply": "2024-09-30T04:14:11.603862Z",
     "shell.execute_reply.started": "2024-09-30T04:14:08.474078Z"
    }
   },
   "outputs": [
    {
     "data": {
      "image/png": "[encoded data removed]",
      "text/plain": [
       "<Figure size 1200x800 with 1 Axes>"
      ]
     },
     "metadata": {},
     "output_type": "display_data"
    }
   ],
   "source": [
    "plt.figure(figsize=(12,8))\n",
    "sns.countplot(x=df['Age'])\n",
    "plt.xticks(rotation=90);"
   ]
  },
  {
   "cell_type": "code",
   "execution_count": 16,
   "metadata": {
    "execution": {
     "iopub.execute_input": "2024-09-30T04:14:11.608131Z",
     "iopub.status.busy": "2024-09-30T04:14:11.607587Z",
     "iopub.status.idle": "2024-09-30T04:14:13.281985Z",
     "shell.execute_reply": "2024-09-30T04:14:13.280030Z",
     "shell.execute_reply.started": "2024-09-30T04:14:11.608074Z"
    }
   },
   "outputs": [
    {
     "data": {
      "image/png": "[encoded data removed]",
      "text/plain": [
       "<Figure size 640x480 with 1 Axes>"
      ]
     },
     "metadata": {},
     "output_type": "display_data"
    }
   ],
   "source": [
    "sns.countplot(x=df['Driving_License']);"
   ]
  },
  {
   "cell_type": "code",
   "execution_count": 17,
   "metadata": {
    "execution": {
     "iopub.execute_input": "2024-09-30T04:14:13.285724Z",
     "iopub.status.busy": "2024-09-30T04:14:13.284048Z",
     "iopub.status.idle": "2024-09-30T04:15:40.430294Z",
     "shell.execute_reply": "2024-09-30T04:15:40.429170Z",
     "shell.execute_reply.started": "2024-09-30T04:14:13.285661Z"
    }
   },
   "outputs": [
    {
     "data": {
      "image/png": "[encoded data removed]",
      "text/plain": [
       "<Figure size 640x480 with 1 Axes>"
      ]
     },
     "metadata": {},
     "output_type": "display_data"
    }
   ],
   "source": [
    "sns.histplot(x=df['Region_Code'], kde=True);"
   ]
  },
  {
   "cell_type": "code",
   "execution_count": 18,
   "metadata": {
    "execution": {
     "iopub.execute_input": "2024-09-30T04:15:40.432499Z",
     "iopub.status.busy": "2024-09-30T04:15:40.432029Z",
     "iopub.status.idle": "2024-09-30T04:15:40.437762Z",
     "shell.execute_reply": "2024-09-30T04:15:40.436560Z",
     "shell.execute_reply.started": "2024-09-30T04:15:40.432446Z"
    }
   },
   "outputs": [],
   "source": [
    "#df['Vehicle_Age']=df['Vehicle_Age'].str.replace(\"[^\\w\\s]\" , \"\",regex=True)"
   ]
  },
  {
   "cell_type": "code",
   "execution_count": 19,
   "metadata": {
    "execution": {
     "iopub.execute_input": "2024-09-30T04:15:40.439653Z",
     "iopub.status.busy": "2024-09-30T04:15:40.439276Z",
     "iopub.status.idle": "2024-09-30T04:16:08.238454Z",
     "shell.execute_reply": "2024-09-30T04:16:08.237073Z",
     "shell.execute_reply.started": "2024-09-30T04:15:40.439614Z"
    }
   },
   "outputs": [],
   "source": [
    "df['Vehicle_Age']=df['Vehicle_Age'].str.replace('1-2 Year','One to Two Years')\n",
    "df['Vehicle_Age']=df['Vehicle_Age'].str.replace('> 2 Years','More than Two Years')\n",
    "df['Vehicle_Age']=df['Vehicle_Age'].str.replace('< 1 Year', 'Less than One Year ')\n"
   ]
  },
  {
   "cell_type": "code",
   "execution_count": 20,
   "metadata": {
    "execution": {
     "iopub.execute_input": "2024-09-30T04:16:08.240597Z",
     "iopub.status.busy": "2024-09-30T04:16:08.240206Z",
     "iopub.status.idle": "2024-09-30T04:16:31.607815Z",
     "shell.execute_reply": "2024-09-30T04:16:31.606731Z",
     "shell.execute_reply.started": "2024-09-30T04:16:08.240556Z"
    }
   },
   "outputs": [
    {
     "data": {
      "image/png": "[encoded data removed]",
      "text/plain": [
       "<Figure size 640x480 with 1 Axes>"
      ]
     },
     "metadata": {},
     "output_type": "display_data"
    }
   ],
   "source": [
    "sns.countplot(x=df['Vehicle_Age']);"
   ]
  },
  {
   "cell_type": "code",
   "execution_count": 21,
   "metadata": {
    "execution": {
     "iopub.execute_input": "2024-09-30T04:16:31.609422Z",
     "iopub.status.busy": "2024-09-30T04:16:31.609073Z",
     "iopub.status.idle": "2024-09-30T04:16:53.050616Z",
     "shell.execute_reply": "2024-09-30T04:16:53.049369Z",
     "shell.execute_reply.started": "2024-09-30T04:16:31.609385Z"
    }
   },
   "outputs": [
    {
     "data": {
      "image/png": "[encoded data removed]",
      "text/plain": [
       "<Figure size 640x480 with 1 Axes>"
      ]
     },
     "metadata": {},
     "output_type": "display_data"
    }
   ],
   "source": [
    "sns.countplot(x=df['Vehicle_Damage']);"
   ]
  },
  {
   "cell_type": "code",
   "execution_count": 22,
   "metadata": {
    "execution": {
     "iopub.execute_input": "2024-09-30T04:16:53.052322Z",
     "iopub.status.busy": "2024-09-30T04:16:53.051955Z",
     "iopub.status.idle": "2024-09-30T04:18:13.535894Z",
     "shell.execute_reply": "2024-09-30T04:18:13.534655Z",
     "shell.execute_reply.started": "2024-09-30T04:16:53.052273Z"
    }
   },
   "outputs": [
    {
     "data": {
      "image/png": "[encoded data removed]",
      "text/plain": [
       "<Figure size 640x480 with 1 Axes>"
      ]
     },
     "metadata": {},
     "output_type": "display_data"
    }
   ],
   "source": [
    "sns.histplot(x=df['Annual_Premium'], kde=True, bins=100);"
   ]
  },
  {
   "cell_type": "code",
   "execution_count": 23,
   "metadata": {
    "execution": {
     "iopub.execute_input": "2024-09-30T04:18:13.538234Z",
     "iopub.status.busy": "2024-09-30T04:18:13.537725Z",
     "iopub.status.idle": "2024-09-30T04:19:36.172038Z",
     "shell.execute_reply": "2024-09-30T04:19:36.170952Z",
     "shell.execute_reply.started": "2024-09-30T04:18:13.538180Z"
    }
   },
   "outputs": [
    {
     "data": {
      "image/png": "[encoded data removed]",
      "text/plain": [
       "<Figure size 640x480 with 1 Axes>"
      ]
     },
     "metadata": {},
     "output_type": "display_data"
    }
   ],
   "source": [
    "sns.kdeplot(x=df['Policy_Sales_Channel'], fill=True);"
   ]
  },
  {
   "cell_type": "code",
   "execution_count": 24,
   "metadata": {
    "execution": {
     "iopub.execute_input": "2024-09-30T04:19:36.174187Z",
     "iopub.status.busy": "2024-09-30T04:19:36.173775Z",
     "iopub.status.idle": "2024-09-30T04:20:59.909635Z",
     "shell.execute_reply": "2024-09-30T04:20:59.908496Z",
     "shell.execute_reply.started": "2024-09-30T04:19:36.174147Z"
    }
   },
   "outputs": [
    {
     "data": {
      "image/png": "[encoded data removed]",
      "text/plain": [
       "<Figure size 640x480 with 1 Axes>"
      ]
     },
     "metadata": {},
     "output_type": "display_data"
    }
   ],
   "source": [
    "sns.kdeplot(x=df['Vintage'], fill=True);"
   ]
  },
  {
   "cell_type": "code",
   "execution_count": 25,
   "metadata": {
    "execution": {
     "iopub.execute_input": "2024-09-30T04:20:59.911738Z",
     "iopub.status.busy": "2024-09-30T04:20:59.911341Z",
     "iopub.status.idle": "2024-09-30T04:21:00.051689Z",
     "shell.execute_reply": "2024-09-30T04:21:00.050229Z",
     "shell.execute_reply.started": "2024-09-30T04:20:59.911698Z"
    }
   },
   "outputs": [
    {
     "data": {
      "text/plain": [
       "Response\n",
       "0.0    10089739\n",
       "1.0     1415059\n",
       "Name: count, dtype: int64"
      ]
     },
     "execution_count": 25,
     "metadata": {},
     "output_type": "execute_result"
    }
   ],
   "source": [
    "df['Response'].value_counts()"
   ]
  },
  {
   "cell_type": "code",
   "execution_count": 26,
   "metadata": {
    "execution": {
     "iopub.execute_input": "2024-09-30T04:21:00.053493Z",
     "iopub.status.busy": "2024-09-30T04:21:00.053113Z",
     "iopub.status.idle": "2024-09-30T04:21:01.543264Z",
     "shell.execute_reply": "2024-09-30T04:21:01.541765Z",
     "shell.execute_reply.started": "2024-09-30T04:21:00.053450Z"
    }
   },
   "outputs": [
    {
     "data": {
      "image/png": "[encoded data removed]",
      "text/plain": [
       "<Figure size 640x480 with 1 Axes>"
      ]
     },
     "metadata": {},
     "output_type": "display_data"
    }
   ],
   "source": [
    "sns.countplot(x=df['Response']);"
   ]
  },
  {
   "cell_type": "markdown",
   "metadata": {},
   "source": [
    "## Modelling"
   ]
  },
  {
   "cell_type": "code",
   "execution_count": 27,
   "metadata": {
    "execution": {
     "iopub.execute_input": "2024-09-30T04:21:01.547714Z",
     "iopub.status.busy": "2024-09-30T04:21:01.547327Z",
     "iopub.status.idle": "2024-09-30T04:21:02.172546Z",
     "shell.execute_reply": "2024-09-30T04:21:02.171443Z",
     "shell.execute_reply.started": "2024-09-30T04:21:01.547675Z"
    }
   },
   "outputs": [],
   "source": [
    "from sklearn.model_selection import train_test_split\n",
    "from sklearn.naive_bayes import GaussianNB\n",
    "from sklearn.naive_bayes import BernoulliNB\n",
    "from sklearn.metrics import accuracy_score, confusion_matrix, classification_report\n",
    "from sklearn.metrics import roc_curve, auc\n",
    "from sklearn.model_selection import KFold, cross_val_score\n",
    "from sklearn.ensemble import RandomForestClassifier\n",
    "from sklearn.datasets import make_classification"
   ]
  },
  {
   "cell_type": "code",
   "execution_count": 28,
   "metadata": {
    "execution": {
     "iopub.execute_input": "2024-09-30T04:21:02.174531Z",
     "iopub.status.busy": "2024-09-30T04:21:02.174094Z",
     "iopub.status.idle": "2024-09-30T04:21:02.185051Z",
     "shell.execute_reply": "2024-09-30T04:21:02.183835Z",
     "shell.execute_reply.started": "2024-09-30T04:21:02.174487Z"
    }
   },
   "outputs": [
    {
     "data": {
      "text/plain": [
       "(11504798, 11)"
      ]
     },
     "execution_count": 28,
     "metadata": {},
     "output_type": "execute_result"
    }
   ],
   "source": [
    "train.shape"
   ]
  },
  {
   "cell_type": "code",
   "execution_count": 29,
   "metadata": {
    "execution": {
     "iopub.execute_input": "2024-09-30T04:21:02.193640Z",
     "iopub.status.busy": "2024-09-30T04:21:02.193212Z",
     "iopub.status.idle": "2024-09-30T04:21:26.141812Z",
     "shell.execute_reply": "2024-09-30T04:21:26.139060Z",
     "shell.execute_reply.started": "2024-09-30T04:21:02.193593Z"
    }
   },
   "outputs": [],
   "source": [
    "df=pd.get_dummies(df)"
   ]
  },
  {
   "cell_type": "code",
   "execution_count": 30,
   "metadata": {
    "execution": {
     "iopub.execute_input": "2024-09-30T04:21:26.145356Z",
     "iopub.status.busy": "2024-09-30T04:21:26.144894Z",
     "iopub.status.idle": "2024-09-30T04:21:26.154882Z",
     "shell.execute_reply": "2024-09-30T04:21:26.153640Z",
     "shell.execute_reply.started": "2024-09-30T04:21:26.145310Z"
    }
   },
   "outputs": [
    {
     "data": {
      "text/plain": [
       "(19174664, 16)"
      ]
     },
     "execution_count": 30,
     "metadata": {},
     "output_type": "execute_result"
    }
   ],
   "source": [
    "df.shape"
   ]
  },
  {
   "cell_type": "code",
   "execution_count": 31,
   "metadata": {
    "execution": {
     "iopub.execute_input": "2024-09-30T04:21:26.156756Z",
     "iopub.status.busy": "2024-09-30T04:21:26.156283Z",
     "iopub.status.idle": "2024-09-30T04:21:26.191613Z",
     "shell.execute_reply": "2024-09-30T04:21:26.190227Z",
     "shell.execute_reply.started": "2024-09-30T04:21:26.156715Z"
    }
   },
   "outputs": [
    {
     "data": {
      "text/html": [
       "<div>\n",
       "<style scoped>\n",
       "    .dataframe tbody tr th:only-of-type {\n",
       "        vertical-align: middle;\n",
       "    }\n",
       "\n",
       "    .dataframe tbody tr th {\n",
       "        vertical-align: top;\n",
       "    }\n",
       "\n",
       "    .dataframe thead th {\n",
       "        text-align: right;\n",
       "    }\n",
       "</style>\n",
       "<table border=\"1\" class=\"dataframe\">\n",
       "  <thead>\n",
       "    <tr style=\"text-align: right;\">\n",
       "      <th></th>\n",
       "      <th>id</th>\n",
       "      <th>Age</th>\n",
       "      <th>Driving_License</th>\n",
       "      <th>Region_Code</th>\n",
       "      <th>Previously_Insured</th>\n",
       "      <th>Annual_Premium</th>\n",
       "      <th>Policy_Sales_Channel</th>\n",
       "      <th>Vintage</th>\n",
       "      <th>Response</th>\n",
       "      <th>Gender_Female</th>\n",
       "      <th>Gender_Male</th>\n",
       "      <th>Vehicle_Age_Less than One Year</th>\n",
       "      <th>Vehicle_Age_More than Two Years</th>\n",
       "      <th>Vehicle_Age_One to Two Years</th>\n",
       "      <th>Vehicle_Damage_No</th>\n",
       "      <th>Vehicle_Damage_Yes</th>\n",
       "    </tr>\n",
       "  </thead>\n",
       "  <tbody>\n",
       "    <tr>\n",
       "      <th>0</th>\n",
       "      <td>0</td>\n",
       "      <td>21</td>\n",
       "      <td>1</td>\n",
       "      <td>35.0</td>\n",
       "      <td>0</td>\n",
       "      <td>65101.0</td>\n",
       "      <td>124.0</td>\n",
       "      <td>187</td>\n",
       "      <td>0.0</td>\n",
       "      <td>False</td>\n",
       "      <td>True</td>\n",
       "      <td>False</td>\n",
       "      <td>False</td>\n",
       "      <td>True</td>\n",
       "      <td>False</td>\n",
       "      <td>True</td>\n",
       "    </tr>\n",
       "    <tr>\n",
       "      <th>1</th>\n",
       "      <td>1</td>\n",
       "      <td>43</td>\n",
       "      <td>1</td>\n",
       "      <td>28.0</td>\n",
       "      <td>0</td>\n",
       "      <td>58911.0</td>\n",
       "      <td>26.0</td>\n",
       "      <td>288</td>\n",
       "      <td>1.0</td>\n",
       "      <td>False</td>\n",
       "      <td>True</td>\n",
       "      <td>False</td>\n",
       "      <td>True</td>\n",
       "      <td>False</td>\n",
       "      <td>False</td>\n",
       "      <td>True</td>\n",
       "    </tr>\n",
       "    <tr>\n",
       "      <th>2</th>\n",
       "      <td>2</td>\n",
       "      <td>25</td>\n",
       "      <td>1</td>\n",
       "      <td>14.0</td>\n",
       "      <td>1</td>\n",
       "      <td>38043.0</td>\n",
       "      <td>152.0</td>\n",
       "      <td>254</td>\n",
       "      <td>0.0</td>\n",
       "      <td>True</td>\n",
       "      <td>False</td>\n",
       "      <td>True</td>\n",
       "      <td>False</td>\n",
       "      <td>False</td>\n",
       "      <td>True</td>\n",
       "      <td>False</td>\n",
       "    </tr>\n",
       "    <tr>\n",
       "      <th>3</th>\n",
       "      <td>3</td>\n",
       "      <td>35</td>\n",
       "      <td>1</td>\n",
       "      <td>1.0</td>\n",
       "      <td>0</td>\n",
       "      <td>2630.0</td>\n",
       "      <td>156.0</td>\n",
       "      <td>76</td>\n",
       "      <td>0.0</td>\n",
       "      <td>True</td>\n",
       "      <td>False</td>\n",
       "      <td>False</td>\n",
       "      <td>False</td>\n",
       "      <td>True</td>\n",
       "      <td>False</td>\n",
       "      <td>True</td>\n",
       "    </tr>\n",
       "    <tr>\n",
       "      <th>4</th>\n",
       "      <td>4</td>\n",
       "      <td>36</td>\n",
       "      <td>1</td>\n",
       "      <td>15.0</td>\n",
       "      <td>1</td>\n",
       "      <td>31951.0</td>\n",
       "      <td>152.0</td>\n",
       "      <td>294</td>\n",
       "      <td>0.0</td>\n",
       "      <td>True</td>\n",
       "      <td>False</td>\n",
       "      <td>False</td>\n",
       "      <td>False</td>\n",
       "      <td>True</td>\n",
       "      <td>True</td>\n",
       "      <td>False</td>\n",
       "    </tr>\n",
       "  </tbody>\n",
       "</table>\n",
       "</div>"
      ],
      "text/plain": [
       "   id  Age  Driving_License  Region_Code  Previously_Insured  Annual_Premium  \\\n",
       "0   0   21                1         35.0                   0         65101.0   \n",
       "1   1   43                1         28.0                   0         58911.0   \n",
       "2   2   25                1         14.0                   1         38043.0   \n",
       "3   3   35                1          1.0                   0          2630.0   \n",
       "4   4   36                1         15.0                   1         31951.0   \n",
       "\n",
       "   Policy_Sales_Channel  Vintage  Response  Gender_Female  Gender_Male  \\\n",
       "0                 124.0      187       0.0          False         True   \n",
       "1                  26.0      288       1.0          False         True   \n",
       "2                 152.0      254       0.0           True        False   \n",
       "3                 156.0       76       0.0           True        False   \n",
       "4                 152.0      294       0.0           True        False   \n",
       "\n",
       "   Vehicle_Age_Less than One Year   Vehicle_Age_More than Two Years  \\\n",
       "0                            False                            False   \n",
       "1                            False                             True   \n",
       "2                             True                            False   \n",
       "3                            False                            False   \n",
       "4                            False                            False   \n",
       "\n",
       "   Vehicle_Age_One to Two Years  Vehicle_Damage_No  Vehicle_Damage_Yes  \n",
       "0                          True              False                True  \n",
       "1                         False              False                True  \n",
       "2                         False               True               False  \n",
       "3                          True              False                True  \n",
       "4                          True               True               False  "
      ]
     },
     "execution_count": 31,
     "metadata": {},
     "output_type": "execute_result"
    }
   ],
   "source": [
    "df.head()"
   ]
  },
  {
   "cell_type": "code",
   "execution_count": 32,
   "metadata": {
    "execution": {
     "iopub.execute_input": "2024-09-30T04:21:26.194163Z",
     "iopub.status.busy": "2024-09-30T04:21:26.193708Z",
     "iopub.status.idle": "2024-09-30T04:21:26.362952Z",
     "shell.execute_reply": "2024-09-30T04:21:26.361426Z",
     "shell.execute_reply.started": "2024-09-30T04:21:26.194117Z"
    }
   },
   "outputs": [],
   "source": [
    "train=df[:11504798]\n",
    "test=df[11504798:]"
   ]
  },
  {
   "cell_type": "code",
   "execution_count": 33,
   "metadata": {
    "execution": {
     "iopub.execute_input": "2024-09-30T04:21:26.365145Z",
     "iopub.status.busy": "2024-09-30T04:21:26.364710Z",
     "iopub.status.idle": "2024-09-30T04:21:26.391780Z",
     "shell.execute_reply": "2024-09-30T04:21:26.390653Z",
     "shell.execute_reply.started": "2024-09-30T04:21:26.365102Z"
    }
   },
   "outputs": [
    {
     "data": {
      "text/html": [
       "<div>\n",
       "<style scoped>\n",
       "    .dataframe tbody tr th:only-of-type {\n",
       "        vertical-align: middle;\n",
       "    }\n",
       "\n",
       "    .dataframe tbody tr th {\n",
       "        vertical-align: top;\n",
       "    }\n",
       "\n",
       "    .dataframe thead th {\n",
       "        text-align: right;\n",
       "    }\n",
       "</style>\n",
       "<table border=\"1\" class=\"dataframe\">\n",
       "  <thead>\n",
       "    <tr style=\"text-align: right;\">\n",
       "      <th></th>\n",
       "      <th>id</th>\n",
       "      <th>Age</th>\n",
       "      <th>Driving_License</th>\n",
       "      <th>Region_Code</th>\n",
       "      <th>Previously_Insured</th>\n",
       "      <th>Annual_Premium</th>\n",
       "      <th>Policy_Sales_Channel</th>\n",
       "      <th>Vintage</th>\n",
       "      <th>Response</th>\n",
       "      <th>Gender_Female</th>\n",
       "      <th>Gender_Male</th>\n",
       "      <th>Vehicle_Age_Less than One Year</th>\n",
       "      <th>Vehicle_Age_More than Two Years</th>\n",
       "      <th>Vehicle_Age_One to Two Years</th>\n",
       "      <th>Vehicle_Damage_No</th>\n",
       "      <th>Vehicle_Damage_Yes</th>\n",
       "    </tr>\n",
       "  </thead>\n",
       "  <tbody>\n",
       "    <tr>\n",
       "      <th>0</th>\n",
       "      <td>0</td>\n",
       "      <td>21</td>\n",
       "      <td>1</td>\n",
       "      <td>35.0</td>\n",
       "      <td>0</td>\n",
       "      <td>65101.0</td>\n",
       "      <td>124.0</td>\n",
       "      <td>187</td>\n",
       "      <td>0.0</td>\n",
       "      <td>False</td>\n",
       "      <td>True</td>\n",
       "      <td>False</td>\n",
       "      <td>False</td>\n",
       "      <td>True</td>\n",
       "      <td>False</td>\n",
       "      <td>True</td>\n",
       "    </tr>\n",
       "    <tr>\n",
       "      <th>1</th>\n",
       "      <td>1</td>\n",
       "      <td>43</td>\n",
       "      <td>1</td>\n",
       "      <td>28.0</td>\n",
       "      <td>0</td>\n",
       "      <td>58911.0</td>\n",
       "      <td>26.0</td>\n",
       "      <td>288</td>\n",
       "      <td>1.0</td>\n",
       "      <td>False</td>\n",
       "      <td>True</td>\n",
       "      <td>False</td>\n",
       "      <td>True</td>\n",
       "      <td>False</td>\n",
       "      <td>False</td>\n",
       "      <td>True</td>\n",
       "    </tr>\n",
       "    <tr>\n",
       "      <th>2</th>\n",
       "      <td>2</td>\n",
       "      <td>25</td>\n",
       "      <td>1</td>\n",
       "      <td>14.0</td>\n",
       "      <td>1</td>\n",
       "      <td>38043.0</td>\n",
       "      <td>152.0</td>\n",
       "      <td>254</td>\n",
       "      <td>0.0</td>\n",
       "      <td>True</td>\n",
       "      <td>False</td>\n",
       "      <td>True</td>\n",
       "      <td>False</td>\n",
       "      <td>False</td>\n",
       "      <td>True</td>\n",
       "      <td>False</td>\n",
       "    </tr>\n",
       "    <tr>\n",
       "      <th>3</th>\n",
       "      <td>3</td>\n",
       "      <td>35</td>\n",
       "      <td>1</td>\n",
       "      <td>1.0</td>\n",
       "      <td>0</td>\n",
       "      <td>2630.0</td>\n",
       "      <td>156.0</td>\n",
       "      <td>76</td>\n",
       "      <td>0.0</td>\n",
       "      <td>True</td>\n",
       "      <td>False</td>\n",
       "      <td>False</td>\n",
       "      <td>False</td>\n",
       "      <td>True</td>\n",
       "      <td>False</td>\n",
       "      <td>True</td>\n",
       "    </tr>\n",
       "    <tr>\n",
       "      <th>4</th>\n",
       "      <td>4</td>\n",
       "      <td>36</td>\n",
       "      <td>1</td>\n",
       "      <td>15.0</td>\n",
       "      <td>1</td>\n",
       "      <td>31951.0</td>\n",
       "      <td>152.0</td>\n",
       "      <td>294</td>\n",
       "      <td>0.0</td>\n",
       "      <td>True</td>\n",
       "      <td>False</td>\n",
       "      <td>False</td>\n",
       "      <td>False</td>\n",
       "      <td>True</td>\n",
       "      <td>True</td>\n",
       "      <td>False</td>\n",
       "    </tr>\n",
       "  </tbody>\n",
       "</table>\n",
       "</div>"
      ],
      "text/plain": [
       "   id  Age  Driving_License  Region_Code  Previously_Insured  Annual_Premium  \\\n",
       "0   0   21                1         35.0                   0         65101.0   \n",
       "1   1   43                1         28.0                   0         58911.0   \n",
       "2   2   25                1         14.0                   1         38043.0   \n",
       "3   3   35                1          1.0                   0          2630.0   \n",
       "4   4   36                1         15.0                   1         31951.0   \n",
       "\n",
       "   Policy_Sales_Channel  Vintage  Response  Gender_Female  Gender_Male  \\\n",
       "0                 124.0      187       0.0          False         True   \n",
       "1                  26.0      288       1.0          False         True   \n",
       "2                 152.0      254       0.0           True        False   \n",
       "3                 156.0       76       0.0           True        False   \n",
       "4                 152.0      294       0.0           True        False   \n",
       "\n",
       "   Vehicle_Age_Less than One Year   Vehicle_Age_More than Two Years  \\\n",
       "0                            False                            False   \n",
       "1                            False                             True   \n",
       "2                             True                            False   \n",
       "3                            False                            False   \n",
       "4                            False                            False   \n",
       "\n",
       "   Vehicle_Age_One to Two Years  Vehicle_Damage_No  Vehicle_Damage_Yes  \n",
       "0                          True              False                True  \n",
       "1                         False              False                True  \n",
       "2                         False               True               False  \n",
       "3                          True              False                True  \n",
       "4                          True               True               False  "
      ]
     },
     "execution_count": 33,
     "metadata": {},
     "output_type": "execute_result"
    }
   ],
   "source": [
    "train.head()"
   ]
  },
  {
   "cell_type": "code",
   "execution_count": 34,
   "metadata": {
    "execution": {
     "iopub.execute_input": "2024-09-30T04:21:26.393977Z",
     "iopub.status.busy": "2024-09-30T04:21:26.393557Z",
     "iopub.status.idle": "2024-09-30T04:21:26.896757Z",
     "shell.execute_reply": "2024-09-30T04:21:26.895542Z",
     "shell.execute_reply.started": "2024-09-30T04:21:26.393931Z"
    }
   },
   "outputs": [],
   "source": [
    "x=train.drop('Response', axis=1)\n",
    "y=train[['Response']]"
   ]
  },
  {
   "cell_type": "code",
   "execution_count": 35,
   "metadata": {
    "execution": {
     "iopub.execute_input": "2024-09-30T04:21:26.898555Z",
     "iopub.status.busy": "2024-09-30T04:21:26.898166Z",
     "iopub.status.idle": "2024-09-30T04:21:30.240158Z",
     "shell.execute_reply": "2024-09-30T04:21:30.238634Z",
     "shell.execute_reply.started": "2024-09-30T04:21:26.898514Z"
    }
   },
   "outputs": [],
   "source": [
    "x_train, x_test, y_train, y_test=train_test_split(x, y, test_size=0.20, random_state=42)"
   ]
  },
  {
   "cell_type": "code",
   "execution_count": 36,
   "metadata": {
    "execution": {
     "iopub.execute_input": "2024-09-30T04:21:30.243132Z",
     "iopub.status.busy": "2024-09-30T04:21:30.242048Z",
     "iopub.status.idle": "2024-09-30T04:21:37.403666Z",
     "shell.execute_reply": "2024-09-30T04:21:37.402619Z",
     "shell.execute_reply.started": "2024-09-30T04:21:30.243074Z"
    }
   },
   "outputs": [
    {
     "data": {
      "text/plain": [
       "0.8768327133022739"
      ]
     },
     "execution_count": 36,
     "metadata": {},
     "output_type": "execute_result"
    }
   ],
   "source": [
    "g=GaussianNB()\n",
    "g.fit(x_train,y_train)\n",
    "gtahmin=g.predict(x_test)\n",
    "accuracy_score(gtahmin,y_test)"
   ]
  },
  {
   "cell_type": "code",
   "execution_count": 37,
   "metadata": {
    "execution": {
     "iopub.execute_input": "2024-09-30T04:21:37.405204Z",
     "iopub.status.busy": "2024-09-30T04:21:37.404886Z",
     "iopub.status.idle": "2024-09-30T04:21:43.624976Z",
     "shell.execute_reply": "2024-09-30T04:21:43.623714Z",
     "shell.execute_reply.started": "2024-09-30T04:21:37.405169Z"
    }
   },
   "outputs": [
    {
     "name": "stdout",
     "output_type": "stream",
     "text": [
      "              precision    recall  f1-score   support\n",
      "\n",
      "         0.0       1.00      0.88      0.93   2300579\n",
      "         1.0       0.00      0.21      0.00       381\n",
      "\n",
      "    accuracy                           0.88   2300960\n",
      "   macro avg       0.50      0.54      0.47   2300960\n",
      "weighted avg       1.00      0.88      0.93   2300960\n",
      "\n"
     ]
    }
   ],
   "source": [
    "print(classification_report(gtahmin,y_test))"
   ]
  },
  {
   "cell_type": "code",
   "execution_count": 38,
   "metadata": {
    "execution": {
     "iopub.execute_input": "2024-09-30T04:21:43.627051Z",
     "iopub.status.busy": "2024-09-30T04:21:43.626619Z",
     "iopub.status.idle": "2024-09-30T04:21:46.310140Z",
     "shell.execute_reply": "2024-09-30T04:21:46.308963Z",
     "shell.execute_reply.started": "2024-09-30T04:21:43.627001Z"
    }
   },
   "outputs": [
    {
     "data": {
      "text/plain": [
       "array([[2017476,  283103],\n",
       "       [    300,      81]])"
      ]
     },
     "execution_count": 38,
     "metadata": {},
     "output_type": "execute_result"
    }
   ],
   "source": [
    "confusion_matrix(gtahmin,y_test)"
   ]
  },
  {
   "cell_type": "code",
   "execution_count": 39,
   "metadata": {
    "execution": {
     "iopub.execute_input": "2024-09-30T04:21:46.311724Z",
     "iopub.status.busy": "2024-09-30T04:21:46.311395Z",
     "iopub.status.idle": "2024-09-30T04:21:49.305911Z",
     "shell.execute_reply": "2024-09-30T04:21:49.304619Z",
     "shell.execute_reply.started": "2024-09-30T04:21:46.311689Z"
    }
   },
   "outputs": [
    {
     "data": {
      "text/plain": [
       "<Axes: >"
      ]
     },
     "execution_count": 39,
     "metadata": {},
     "output_type": "execute_result"
    },
    {
     "data": {
      "image/png": "[encoded data removed]",
      "text/plain": [
       "<Figure size 640x480 with 2 Axes>"
      ]
     },
     "metadata": {},
     "output_type": "display_data"
    }
   ],
   "source": [
    "cm = confusion_matrix(gtahmin, y_test)\n",
    "normalized_cm = cm / cm.sum()\n",
    "sns.heatmap(normalized_cm, annot=True, cmap='Blues')"
   ]
  },
  {
   "cell_type": "code",
   "execution_count": 40,
   "metadata": {
    "execution": {
     "iopub.execute_input": "2024-09-30T04:21:49.308255Z",
     "iopub.status.busy": "2024-09-30T04:21:49.307749Z",
     "iopub.status.idle": "2024-09-30T04:21:50.993281Z",
     "shell.execute_reply": "2024-09-30T04:21:50.992024Z",
     "shell.execute_reply.started": "2024-09-30T04:21:49.308200Z"
    }
   },
   "outputs": [],
   "source": [
    "#Auc and Roc\n",
    "y_scores = g.predict_proba(x_test)[:, 1]\n",
    "fpr, tpr, thresholds = roc_curve(y_test, y_scores)\n",
    "roc_auc = auc(fpr, tpr)"
   ]
  },
  {
   "cell_type": "code",
   "execution_count": 41,
   "metadata": {
    "execution": {
     "iopub.execute_input": "2024-09-30T04:21:50.995338Z",
     "iopub.status.busy": "2024-09-30T04:21:50.994985Z",
     "iopub.status.idle": "2024-09-30T04:21:51.340425Z",
     "shell.execute_reply": "2024-09-30T04:21:51.339254Z",
     "shell.execute_reply.started": "2024-09-30T04:21:50.995301Z"
    }
   },
   "outputs": [
    {
     "data": {
      "image/png": "[encoded data removed]",
      "text/plain": [
       "<Figure size 640x480 with 1 Axes>"
      ]
     },
     "metadata": {},
     "output_type": "display_data"
    }
   ],
   "source": [
    "plt.figure()\n",
    "plt.plot(fpr, tpr, color='blue', label='ROC curve (area = %0.2f)' % roc_auc)\n",
    "plt.plot([0, 1], [0, 1], color='red', linestyle='--')\n",
    "plt.xlim([0.0, 1.0])\n",
    "plt.ylim([0.0, 1.05])\n",
    "plt.xlabel('False Positive Rate')\n",
    "plt.ylabel('True Positive Rate')\n",
    "plt.title('Receiver Operating Characteristic')\n",
    "plt.legend(loc='lower right')\n",
    "plt.show()"
   ]
  },
  {
   "cell_type": "markdown",
   "metadata": {},
   "source": [
    "## Test Data Prediction"
   ]
  },
  {
   "cell_type": "code",
   "execution_count": 42,
   "metadata": {
    "execution": {
     "iopub.execute_input": "2024-09-30T04:21:51.342689Z",
     "iopub.status.busy": "2024-09-30T04:21:51.342199Z",
     "iopub.status.idle": "2024-09-30T04:21:52.794922Z",
     "shell.execute_reply": "2024-09-30T04:21:52.793812Z",
     "shell.execute_reply.started": "2024-09-30T04:21:51.342640Z"
    }
   },
   "outputs": [],
   "source": [
    "df=pd.get_dummies(df)"
   ]
  },
  {
   "cell_type": "code",
   "execution_count": 43,
   "metadata": {
    "execution": {
     "iopub.execute_input": "2024-09-30T04:21:52.796710Z",
     "iopub.status.busy": "2024-09-30T04:21:52.796348Z",
     "iopub.status.idle": "2024-09-30T04:21:52.802388Z",
     "shell.execute_reply": "2024-09-30T04:21:52.801160Z",
     "shell.execute_reply.started": "2024-09-30T04:21:52.796671Z"
    }
   },
   "outputs": [],
   "source": [
    "train=df[:11504798]\n",
    "test=df[11504798:]"
   ]
  },
  {
   "cell_type": "code",
   "execution_count": 44,
   "metadata": {
    "execution": {
     "iopub.execute_input": "2024-09-30T04:21:52.804552Z",
     "iopub.status.busy": "2024-09-30T04:21:52.804174Z",
     "iopub.status.idle": "2024-09-30T04:21:52.829760Z",
     "shell.execute_reply": "2024-09-30T04:21:52.828497Z",
     "shell.execute_reply.started": "2024-09-30T04:21:52.804512Z"
    }
   },
   "outputs": [
    {
     "data": {
      "text/html": [
       "<div>\n",
       "<style scoped>\n",
       "    .dataframe tbody tr th:only-of-type {\n",
       "        vertical-align: middle;\n",
       "    }\n",
       "\n",
       "    .dataframe tbody tr th {\n",
       "        vertical-align: top;\n",
       "    }\n",
       "\n",
       "    .dataframe thead th {\n",
       "        text-align: right;\n",
       "    }\n",
       "</style>\n",
       "<table border=\"1\" class=\"dataframe\">\n",
       "  <thead>\n",
       "    <tr style=\"text-align: right;\">\n",
       "      <th></th>\n",
       "      <th>id</th>\n",
       "      <th>Age</th>\n",
       "      <th>Driving_License</th>\n",
       "      <th>Region_Code</th>\n",
       "      <th>Previously_Insured</th>\n",
       "      <th>Annual_Premium</th>\n",
       "      <th>Policy_Sales_Channel</th>\n",
       "      <th>Vintage</th>\n",
       "      <th>Response</th>\n",
       "      <th>Gender_Female</th>\n",
       "      <th>Gender_Male</th>\n",
       "      <th>Vehicle_Age_Less than One Year</th>\n",
       "      <th>Vehicle_Age_More than Two Years</th>\n",
       "      <th>Vehicle_Age_One to Two Years</th>\n",
       "      <th>Vehicle_Damage_No</th>\n",
       "      <th>Vehicle_Damage_Yes</th>\n",
       "    </tr>\n",
       "  </thead>\n",
       "  <tbody>\n",
       "    <tr>\n",
       "      <th>0</th>\n",
       "      <td>0</td>\n",
       "      <td>21</td>\n",
       "      <td>1</td>\n",
       "      <td>35.0</td>\n",
       "      <td>0</td>\n",
       "      <td>65101.0</td>\n",
       "      <td>124.0</td>\n",
       "      <td>187</td>\n",
       "      <td>0.0</td>\n",
       "      <td>False</td>\n",
       "      <td>True</td>\n",
       "      <td>False</td>\n",
       "      <td>False</td>\n",
       "      <td>True</td>\n",
       "      <td>False</td>\n",
       "      <td>True</td>\n",
       "    </tr>\n",
       "    <tr>\n",
       "      <th>1</th>\n",
       "      <td>1</td>\n",
       "      <td>43</td>\n",
       "      <td>1</td>\n",
       "      <td>28.0</td>\n",
       "      <td>0</td>\n",
       "      <td>58911.0</td>\n",
       "      <td>26.0</td>\n",
       "      <td>288</td>\n",
       "      <td>1.0</td>\n",
       "      <td>False</td>\n",
       "      <td>True</td>\n",
       "      <td>False</td>\n",
       "      <td>True</td>\n",
       "      <td>False</td>\n",
       "      <td>False</td>\n",
       "      <td>True</td>\n",
       "    </tr>\n",
       "    <tr>\n",
       "      <th>2</th>\n",
       "      <td>2</td>\n",
       "      <td>25</td>\n",
       "      <td>1</td>\n",
       "      <td>14.0</td>\n",
       "      <td>1</td>\n",
       "      <td>38043.0</td>\n",
       "      <td>152.0</td>\n",
       "      <td>254</td>\n",
       "      <td>0.0</td>\n",
       "      <td>True</td>\n",
       "      <td>False</td>\n",
       "      <td>True</td>\n",
       "      <td>False</td>\n",
       "      <td>False</td>\n",
       "      <td>True</td>\n",
       "      <td>False</td>\n",
       "    </tr>\n",
       "    <tr>\n",
       "      <th>3</th>\n",
       "      <td>3</td>\n",
       "      <td>35</td>\n",
       "      <td>1</td>\n",
       "      <td>1.0</td>\n",
       "      <td>0</td>\n",
       "      <td>2630.0</td>\n",
       "      <td>156.0</td>\n",
       "      <td>76</td>\n",
       "      <td>0.0</td>\n",
       "      <td>True</td>\n",
       "      <td>False</td>\n",
       "      <td>False</td>\n",
       "      <td>False</td>\n",
       "      <td>True</td>\n",
       "      <td>False</td>\n",
       "      <td>True</td>\n",
       "    </tr>\n",
       "    <tr>\n",
       "      <th>4</th>\n",
       "      <td>4</td>\n",
       "      <td>36</td>\n",
       "      <td>1</td>\n",
       "      <td>15.0</td>\n",
       "      <td>1</td>\n",
       "      <td>31951.0</td>\n",
       "      <td>152.0</td>\n",
       "      <td>294</td>\n",
       "      <td>0.0</td>\n",
       "      <td>True</td>\n",
       "      <td>False</td>\n",
       "      <td>False</td>\n",
       "      <td>False</td>\n",
       "      <td>True</td>\n",
       "      <td>True</td>\n",
       "      <td>False</td>\n",
       "    </tr>\n",
       "  </tbody>\n",
       "</table>\n",
       "</div>"
      ],
      "text/plain": [
       "   id  Age  Driving_License  Region_Code  Previously_Insured  Annual_Premium  \\\n",
       "0   0   21                1         35.0                   0         65101.0   \n",
       "1   1   43                1         28.0                   0         58911.0   \n",
       "2   2   25                1         14.0                   1         38043.0   \n",
       "3   3   35                1          1.0                   0          2630.0   \n",
       "4   4   36                1         15.0                   1         31951.0   \n",
       "\n",
       "   Policy_Sales_Channel  Vintage  Response  Gender_Female  Gender_Male  \\\n",
       "0                 124.0      187       0.0          False         True   \n",
       "1                  26.0      288       1.0          False         True   \n",
       "2                 152.0      254       0.0           True        False   \n",
       "3                 156.0       76       0.0           True        False   \n",
       "4                 152.0      294       0.0           True        False   \n",
       "\n",
       "   Vehicle_Age_Less than One Year   Vehicle_Age_More than Two Years  \\\n",
       "0                            False                            False   \n",
       "1                            False                             True   \n",
       "2                             True                            False   \n",
       "3                            False                            False   \n",
       "4                            False                            False   \n",
       "\n",
       "   Vehicle_Age_One to Two Years  Vehicle_Damage_No  Vehicle_Damage_Yes  \n",
       "0                          True              False                True  \n",
       "1                         False              False                True  \n",
       "2                         False               True               False  \n",
       "3                          True              False                True  \n",
       "4                          True               True               False  "
      ]
     },
     "execution_count": 44,
     "metadata": {},
     "output_type": "execute_result"
    }
   ],
   "source": [
    "train.head()"
   ]
  },
  {
   "cell_type": "code",
   "execution_count": 45,
   "metadata": {
    "execution": {
     "iopub.execute_input": "2024-09-30T04:21:52.832213Z",
     "iopub.status.busy": "2024-09-30T04:21:52.831385Z",
     "iopub.status.idle": "2024-09-30T04:21:52.855482Z",
     "shell.execute_reply": "2024-09-30T04:21:52.854295Z",
     "shell.execute_reply.started": "2024-09-30T04:21:52.832169Z"
    }
   },
   "outputs": [
    {
     "data": {
      "text/html": [
       "<div>\n",
       "<style scoped>\n",
       "    .dataframe tbody tr th:only-of-type {\n",
       "        vertical-align: middle;\n",
       "    }\n",
       "\n",
       "    .dataframe tbody tr th {\n",
       "        vertical-align: top;\n",
       "    }\n",
       "\n",
       "    .dataframe thead th {\n",
       "        text-align: right;\n",
       "    }\n",
       "</style>\n",
       "<table border=\"1\" class=\"dataframe\">\n",
       "  <thead>\n",
       "    <tr style=\"text-align: right;\">\n",
       "      <th></th>\n",
       "      <th>id</th>\n",
       "      <th>Age</th>\n",
       "      <th>Driving_License</th>\n",
       "      <th>Region_Code</th>\n",
       "      <th>Previously_Insured</th>\n",
       "      <th>Annual_Premium</th>\n",
       "      <th>Policy_Sales_Channel</th>\n",
       "      <th>Vintage</th>\n",
       "      <th>Response</th>\n",
       "      <th>Gender_Female</th>\n",
       "      <th>Gender_Male</th>\n",
       "      <th>Vehicle_Age_Less than One Year</th>\n",
       "      <th>Vehicle_Age_More than Two Years</th>\n",
       "      <th>Vehicle_Age_One to Two Years</th>\n",
       "      <th>Vehicle_Damage_No</th>\n",
       "      <th>Vehicle_Damage_Yes</th>\n",
       "    </tr>\n",
       "  </thead>\n",
       "  <tbody>\n",
       "    <tr>\n",
       "      <th>0</th>\n",
       "      <td>11504798</td>\n",
       "      <td>20</td>\n",
       "      <td>1</td>\n",
       "      <td>47.0</td>\n",
       "      <td>0</td>\n",
       "      <td>2630.0</td>\n",
       "      <td>160.0</td>\n",
       "      <td>228</td>\n",
       "      <td>NaN</td>\n",
       "      <td>True</td>\n",
       "      <td>False</td>\n",
       "      <td>True</td>\n",
       "      <td>False</td>\n",
       "      <td>False</td>\n",
       "      <td>True</td>\n",
       "      <td>False</td>\n",
       "    </tr>\n",
       "    <tr>\n",
       "      <th>1</th>\n",
       "      <td>11504799</td>\n",
       "      <td>47</td>\n",
       "      <td>1</td>\n",
       "      <td>28.0</td>\n",
       "      <td>0</td>\n",
       "      <td>37483.0</td>\n",
       "      <td>124.0</td>\n",
       "      <td>123</td>\n",
       "      <td>NaN</td>\n",
       "      <td>False</td>\n",
       "      <td>True</td>\n",
       "      <td>False</td>\n",
       "      <td>False</td>\n",
       "      <td>True</td>\n",
       "      <td>False</td>\n",
       "      <td>True</td>\n",
       "    </tr>\n",
       "    <tr>\n",
       "      <th>2</th>\n",
       "      <td>11504800</td>\n",
       "      <td>47</td>\n",
       "      <td>1</td>\n",
       "      <td>43.0</td>\n",
       "      <td>0</td>\n",
       "      <td>2630.0</td>\n",
       "      <td>26.0</td>\n",
       "      <td>271</td>\n",
       "      <td>NaN</td>\n",
       "      <td>False</td>\n",
       "      <td>True</td>\n",
       "      <td>False</td>\n",
       "      <td>False</td>\n",
       "      <td>True</td>\n",
       "      <td>False</td>\n",
       "      <td>True</td>\n",
       "    </tr>\n",
       "    <tr>\n",
       "      <th>3</th>\n",
       "      <td>11504801</td>\n",
       "      <td>22</td>\n",
       "      <td>1</td>\n",
       "      <td>47.0</td>\n",
       "      <td>1</td>\n",
       "      <td>24502.0</td>\n",
       "      <td>152.0</td>\n",
       "      <td>115</td>\n",
       "      <td>NaN</td>\n",
       "      <td>True</td>\n",
       "      <td>False</td>\n",
       "      <td>True</td>\n",
       "      <td>False</td>\n",
       "      <td>False</td>\n",
       "      <td>True</td>\n",
       "      <td>False</td>\n",
       "    </tr>\n",
       "    <tr>\n",
       "      <th>4</th>\n",
       "      <td>11504802</td>\n",
       "      <td>51</td>\n",
       "      <td>1</td>\n",
       "      <td>19.0</td>\n",
       "      <td>0</td>\n",
       "      <td>34115.0</td>\n",
       "      <td>124.0</td>\n",
       "      <td>148</td>\n",
       "      <td>NaN</td>\n",
       "      <td>False</td>\n",
       "      <td>True</td>\n",
       "      <td>False</td>\n",
       "      <td>False</td>\n",
       "      <td>True</td>\n",
       "      <td>True</td>\n",
       "      <td>False</td>\n",
       "    </tr>\n",
       "  </tbody>\n",
       "</table>\n",
       "</div>"
      ],
      "text/plain": [
       "         id  Age  Driving_License  Region_Code  Previously_Insured  \\\n",
       "0  11504798   20                1         47.0                   0   \n",
       "1  11504799   47                1         28.0                   0   \n",
       "2  11504800   47                1         43.0                   0   \n",
       "3  11504801   22                1         47.0                   1   \n",
       "4  11504802   51                1         19.0                   0   \n",
       "\n",
       "   Annual_Premium  Policy_Sales_Channel  Vintage  Response  Gender_Female  \\\n",
       "0          2630.0                 160.0      228       NaN           True   \n",
       "1         37483.0                 124.0      123       NaN          False   \n",
       "2          2630.0                  26.0      271       NaN          False   \n",
       "3         24502.0                 152.0      115       NaN           True   \n",
       "4         34115.0                 124.0      148       NaN          False   \n",
       "\n",
       "   Gender_Male  Vehicle_Age_Less than One Year   \\\n",
       "0        False                             True   \n",
       "1         True                            False   \n",
       "2         True                            False   \n",
       "3        False                             True   \n",
       "4         True                            False   \n",
       "\n",
       "   Vehicle_Age_More than Two Years  Vehicle_Age_One to Two Years  \\\n",
       "0                            False                         False   \n",
       "1                            False                          True   \n",
       "2                            False                          True   \n",
       "3                            False                         False   \n",
       "4                            False                          True   \n",
       "\n",
       "   Vehicle_Damage_No  Vehicle_Damage_Yes  \n",
       "0               True               False  \n",
       "1              False                True  \n",
       "2              False                True  \n",
       "3               True               False  \n",
       "4               True               False  "
      ]
     },
     "execution_count": 45,
     "metadata": {},
     "output_type": "execute_result"
    }
   ],
   "source": [
    "test.head()"
   ]
  },
  {
   "cell_type": "code",
   "execution_count": 46,
   "metadata": {
    "execution": {
     "iopub.execute_input": "2024-09-30T04:21:52.857259Z",
     "iopub.status.busy": "2024-09-30T04:21:52.856897Z",
     "iopub.status.idle": "2024-09-30T04:21:53.225265Z",
     "shell.execute_reply": "2024-09-30T04:21:53.223442Z",
     "shell.execute_reply.started": "2024-09-30T04:21:52.857221Z"
    }
   },
   "outputs": [],
   "source": [
    "x=train.drop('Response', axis=1)\n",
    "y=train[['Response']]"
   ]
  },
  {
   "cell_type": "code",
   "execution_count": 47,
   "metadata": {
    "execution": {
     "iopub.execute_input": "2024-09-30T04:21:53.227923Z",
     "iopub.status.busy": "2024-09-30T04:21:53.227369Z",
     "iopub.status.idle": "2024-09-30T04:21:58.644528Z",
     "shell.execute_reply": "2024-09-30T04:21:58.643390Z",
     "shell.execute_reply.started": "2024-09-30T04:21:53.227844Z"
    }
   },
   "outputs": [],
   "source": [
    "g=GaussianNB()\n",
    "g.fit(x_train, y_train)\n",
    "x_test=test.drop('Response', axis=1)"
   ]
  },
  {
   "cell_type": "code",
   "execution_count": 48,
   "metadata": {
    "execution": {
     "iopub.execute_input": "2024-09-30T04:21:58.646376Z",
     "iopub.status.busy": "2024-09-30T04:21:58.645995Z",
     "iopub.status.idle": "2024-09-30T04:22:01.508739Z",
     "shell.execute_reply": "2024-09-30T04:22:01.507624Z",
     "shell.execute_reply.started": "2024-09-30T04:21:58.646329Z"
    }
   },
   "outputs": [],
   "source": [
    "predictions=g.predict(x_test)"
   ]
  },
  {
   "cell_type": "code",
   "execution_count": 49,
   "metadata": {
    "execution": {
     "iopub.execute_input": "2024-09-30T04:22:01.510426Z",
     "iopub.status.busy": "2024-09-30T04:22:01.510088Z",
     "iopub.status.idle": "2024-09-30T04:22:01.746185Z",
     "shell.execute_reply": "2024-09-30T04:22:01.744922Z",
     "shell.execute_reply.started": "2024-09-30T04:22:01.510390Z"
    }
   },
   "outputs": [],
   "source": [
    "predictions1=pd.DataFrame()\n",
    "predictions1['id']=test['id']\n",
    "predictions1['Response']=predictions"
   ]
  },
  {
   "cell_type": "code",
   "execution_count": 50,
   "metadata": {
    "execution": {
     "iopub.execute_input": "2024-09-30T04:22:01.747967Z",
     "iopub.status.busy": "2024-09-30T04:22:01.747564Z",
     "iopub.status.idle": "2024-09-30T04:22:01.766489Z",
     "shell.execute_reply": "2024-09-30T04:22:01.765244Z",
     "shell.execute_reply.started": "2024-09-30T04:22:01.747926Z"
    }
   },
   "outputs": [
    {
     "name": "stdout",
     "output_type": "stream",
     "text": [
      "<class 'pandas.core.frame.DataFrame'>\n",
      "Index: 7669866 entries, 0 to 7669865\n",
      "Data columns (total 2 columns):\n",
      " #   Column    Dtype  \n",
      "---  ------    -----  \n",
      " 0   id        int64  \n",
      " 1   Response  float64\n",
      "dtypes: float64(1), int64(1)\n",
      "memory usage: 175.5 MB\n"
     ]
    }
   ],
   "source": [
    "predictions1.info()"
   ]
  },
  {
   "cell_type": "code",
   "execution_count": 51,
   "metadata": {
    "execution": {
     "iopub.execute_input": "2024-09-30T04:22:01.768720Z",
     "iopub.status.busy": "2024-09-30T04:22:01.768232Z",
     "iopub.status.idle": "2024-09-30T04:22:16.332404Z",
     "shell.execute_reply": "2024-09-30T04:22:16.331207Z",
     "shell.execute_reply.started": "2024-09-30T04:22:01.768667Z"
    }
   },
   "outputs": [],
   "source": [
    "predictions1.to_csv('insurance_submission.csv', index=False)"
   ]
  },
  {
   "cell_type": "markdown",
   "metadata": {},
   "source": [
    "## Summary"
   ]
  },
  {
   "cell_type": "markdown",
   "metadata": {},
   "source": [
    "After successfully reading the dataset, data separation, checking for missing values ​​and processing them appropriately were performed. Various visualizations were made to understand the distributions and interactions of the features within the dataset. This stage is critical to better understand the structure of the data and to determine the features that will increase the performance of the model. After the dataset was divided into two as training and testing, various machine learning models were trained. During the model training, optimization studies were carried out to obtain the best results by making hyperparameter adjustments. The performance of the model was evaluated with metrics such as confusion matrix, AUC (Area Under the Curve) and ROC (Receiver Operating Characteristic) curve and classification report. These metrics were used to analyze the accuracy and classification ability of the model. Finally, the model was trained on the test data, predictions were made and the results were recorded. This project aims to develop a comprehensive machine learning process to predict customer responses in automobile insurance offers. A user-oriented and effective classification model was created with the data reading, visualization, model training and evaluation stages. In this way, the company's marketing strategies will be made more effective and customer satisfaction will be increased."
   ]
  }
 ],
 "metadata": {
  "kaggle": {
   "accelerator": "none",
   "dataSources": [
    {
     "databundleVersionId": 8930475,
     "sourceId": 73291,
     "sourceType": "competition"
    }
   ],
   "dockerImageVersionId": 30775,
   "isGpuEnabled": false,
   "isInternetEnabled": true,
   "language": "python",
   "sourceType": "notebook"
  },
  "kernelspec": {
   "display_name": "Python 3 (ipykernel)",
   "language": "python",
   "name": "python3"
  },
  "language_info": {
   "codemirror_mode": {
    "name": "ipython",
    "version": 3
   },
   "file_extension": ".py",
   "mimetype": "text/x-python",
   "name": "python",
   "nbconvert_exporter": "python",
   "pygments_lexer": "ipython3",
   "version": "3.11.7"
  }
 },
 "nbformat": 4,
 "nbformat_minor": 4
}
