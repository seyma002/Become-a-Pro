{
 "cells": [
  {
   "cell_type": "markdown",
   "metadata": {},
   "source": [
    "## Classification with an Academic Success "
   ]
  },
  {
   "cell_type": "markdown",
   "metadata": {},
   "source": [
    "Veri setimiz, akademik yollarının erken bir aşamasında risk altında olan öğrencileri belirlemek için makine öğrenimi tekniklerini kullanarak yüksek öğrenimde akademik terk ve başarısızlığın azaltılmasına katkıda bulunmayı amaçlayan bir proje oluşturulma amacıyla toplanmıştır.\n",
    "\n",
    "Bizde projemizde ilk başta verimizi inceleyeceğiz.38 tane sütunumuz bulunmaktadır.Tahmin etmek istediğimiz değişken öğrencilerin mezuniyet durumu olduğu için ona göre ilerleyeceğiz.Verimiz hedef değişken sütunumuz haricinde int ve float sütunlardan oluşmaktadır ve boş verimiz yoktur.Bu yüzden one-hot encoding gibi teknikler uygulamayacağız.Sütunlarımızı grafiklerle inceledikten sonra modelleme kısmına geçeceğiz.Hedef sütunumuzda birden fazla kategorimiz olduğu için bu proje bir çoklu sınıflandırma projesidir.Modelleme işleminden sonra başarı oranımızı ölçeceğiz.Classification report,confusion matrix,k fold cross validation gibi metriklerle değerlendirme yapacağız.Bizden tahmin etmemiz istenen test verisini platforma yüklemeye uygun hale getirdikten sonra projemizi tamamlayacağız.Aşağıda sütunlarla alakalı bilgiler bulunmaktadır."
   ]
  },
  {
   "cell_type": "markdown",
   "metadata": {},
   "source": [
    "**Sütunlar Hakkında Bilgi**\n",
    "* id: Her bir kaydın benzersiz tanımlayıcısı.\n",
    "* Marital status: Öğrencinin medeni durumu (bekar, evli vb.).\n",
    "* Application mode: Başvuru yöntemi (online, yüz yüze vb.).\n",
    "* Application order: Başvuru sırası.\n",
    "* Course: Öğrencinin başvurduğu kurs veya program.\n",
    "* Daytime/evening attendance: Öğrencinin hangi zaman diliminde ders alacağı (gündüz, akşam).\n",
    "* Previous qualification: Öğrencinin daha önceki eğitim durumu veya yeterliliği.\n",
    "* Previous qualification (grade): Önceki yeterlilikte alınan not veya derece.\n",
    "* Nacionality: Öğrencinin milliyeti.\n",
    "* Mother's qualification: Annenin eğitim durumu.\n",
    "* Father's qualification: Babanın eğitim durumu.\n",
    "* Mother's occupation: Annenin mesleği.\n",
    "* Father's occupation: Babanın mesleği.\n",
    "* Admission grade: Kabul için gereken not veya puan.\n",
    "* Displaced: Öğrencinin zorunlu olarak yer değiştirme durumu.\n",
    "* Educational special needs: Öğrencinin özel eğitim gereksinimleri olup olmadığı.\n",
    "* Debtor: Öğrencinin borcu olup olmadığı.\n",
    "* Tuition fees up to date: Öğrencinin öğrenim ücretinin güncel durumu.\n",
    "* Gender: Öğrencinin cinsiyeti.\n",
    "* Scholarship holder: Öğrencinin burs sahibi olup olmadığı.\n",
    "* Age at enrollment: Kaydolduğu yaştaki öğrenci.\n",
    "* International: Uluslararası öğrenci olup olmadığı.\n",
    "* Curricular units 1st sem (credited): 1. yarıyılda kredi kazanılan dersler.\n",
    "* Curricular units 1st sem (enrolled): 1. yarıyılda kaydedilen dersler.\n",
    "* Curricular units 1st sem (evaluations): 1. yarıyılda değerlendirilmiş dersler.\n",
    "* Curricular units 1st sem (approved): 1. yarıyılda onaylanan dersler.\n",
    "* Curricular units 1st sem (grade): 1. yarıyılda alınan notlar.\n",
    "* Curricular units 1st sem (without evaluations): 1. yarıyılda değerlendirilmemiş dersler.\n",
    "* Curricular units 2nd sem (credited): 2. yarıyılda kredi kazanılan dersler.\n",
    "* Curricular units 2nd sem (enrolled): 2. yarıyılda kaydedilen dersler.\n",
    "* Curricular units 2nd sem (evaluations): 2. yarıyılda değerlendirilmiş dersler.\n",
    "* Curricular units 2nd sem (approved): 2. yarıyılda onaylanan dersler.\n",
    "* Curricular units 2nd sem (grade): 2. yarıyılda alınan notlar.\n",
    "* Curricular units 2nd sem (without evaluations): 2. yarıyılda değerlendirilmemiş dersler.\n",
    "* Unemployment rate: Öğrencinin kayıt olduğu dönemdeki işsizlik oranı.\n",
    "* Inflation rate: Öğrencinin kayıt olduğu dönemdeki enflasyon oranı.\n",
    "* GDP: Öğrencinin kayıt olduğu dönemdeki Gayri Safi Yurtiçi Hasıla.\n",
    "* Target: Hedef değişkenimiz burada mezuniyet durumu."
   ]
  },
  {
   "cell_type": "markdown",
   "metadata": {},
   "source": [
    "<img src='academic.jpg' width=550 >"
   ]
  },
  {
   "cell_type": "code",
   "execution_count": 1,
   "metadata": {
    "_cell_guid": "b1076dfc-b9ad-4769-8c92-a6c4dae69d19",
    "_uuid": "8f2839f25d086af736a60e9eeb907d3b93b6e0e5",
    "execution": {
     "iopub.execute_input": "2024-09-28T00:28:39.771026Z",
     "iopub.status.busy": "2024-09-28T00:28:39.770612Z",
     "iopub.status.idle": "2024-09-28T00:28:39.805864Z",
     "shell.execute_reply": "2024-09-28T00:28:39.804325Z",
     "shell.execute_reply.started": "2024-09-28T00:28:39.770984Z"
    }
   },
   "outputs": [
    {
     "name": "stdout",
     "output_type": "stream",
     "text": [
      "/kaggle/input/playground-series-s4e6/sample_submission.csv\n",
      "/kaggle/input/playground-series-s4e6/train.csv\n",
      "/kaggle/input/playground-series-s4e6/test.csv\n"
     ]
    }
   ],
   "source": [
    "import os\n",
    "for dirname, _, filenames in os.walk('/kaggle/input'):\n",
    "    for filename in filenames:\n",
    "        print(os.path.join(dirname, filename))"
   ]
  },
  {
   "cell_type": "markdown",
   "metadata": {},
   "source": [
    "## Kütüphanelerimizi yüklüyoruz."
   ]
  },
  {
   "cell_type": "code",
   "execution_count": 3,
   "metadata": {
    "execution": {
     "iopub.execute_input": "2024-09-28T00:29:09.822174Z",
     "iopub.status.busy": "2024-09-28T00:29:09.821694Z",
     "iopub.status.idle": "2024-09-28T00:29:09.829410Z",
     "shell.execute_reply": "2024-09-28T00:29:09.827954Z",
     "shell.execute_reply.started": "2024-09-28T00:29:09.822127Z"
    }
   },
   "outputs": [],
   "source": [
    "import pandas as pd\n",
    "import numpy as np\n",
    "import seaborn as sns\n",
    "import matplotlib.pyplot as plt\n",
    "import warnings\n",
    "warnings.filterwarnings('ignore')"
   ]
  },
  {
   "cell_type": "code",
   "execution_count": 4,
   "metadata": {
    "execution": {
     "iopub.execute_input": "2024-09-28T00:29:34.704198Z",
     "iopub.status.busy": "2024-09-28T00:29:34.703629Z",
     "iopub.status.idle": "2024-09-28T00:29:35.522619Z",
     "shell.execute_reply": "2024-09-28T00:29:35.521243Z",
     "shell.execute_reply.started": "2024-09-28T00:29:34.704137Z"
    }
   },
   "outputs": [],
   "source": [
    "train=pd.read_csv('/kaggle/input/playground-series-s4e6/train.csv')\n",
    "test=pd.read_csv('/kaggle/input/playground-series-s4e6/test.csv')\n",
    "#Dosyalarımızı okuyoruz."
   ]
  },
  {
   "cell_type": "markdown",
   "metadata": {},
   "source": [
    "## EDA - Exploratory Data Analysis - Keşifçi Veri Analizi"
   ]
  },
  {
   "cell_type": "code",
   "execution_count": 5,
   "metadata": {
    "execution": {
     "iopub.execute_input": "2024-09-28T00:29:37.664627Z",
     "iopub.status.busy": "2024-09-28T00:29:37.664059Z",
     "iopub.status.idle": "2024-09-28T00:29:37.708777Z",
     "shell.execute_reply": "2024-09-28T00:29:37.707286Z",
     "shell.execute_reply.started": "2024-09-28T00:29:37.664572Z"
    }
   },
   "outputs": [
    {
     "data": {
      "text/html": [
       "<div>\n",
       "<style scoped>\n",
       "    .dataframe tbody tr th:only-of-type {\n",
       "        vertical-align: middle;\n",
       "    }\n",
       "\n",
       "    .dataframe tbody tr th {\n",
       "        vertical-align: top;\n",
       "    }\n",
       "\n",
       "    .dataframe thead th {\n",
       "        text-align: right;\n",
       "    }\n",
       "</style>\n",
       "<table border=\"1\" class=\"dataframe\">\n",
       "  <thead>\n",
       "    <tr style=\"text-align: right;\">\n",
       "      <th></th>\n",
       "      <th>id</th>\n",
       "      <th>Marital status</th>\n",
       "      <th>Application mode</th>\n",
       "      <th>Application order</th>\n",
       "      <th>Course</th>\n",
       "      <th>Daytime/evening attendance</th>\n",
       "      <th>Previous qualification</th>\n",
       "      <th>Previous qualification (grade)</th>\n",
       "      <th>Nacionality</th>\n",
       "      <th>Mother's qualification</th>\n",
       "      <th>...</th>\n",
       "      <th>Curricular units 2nd sem (credited)</th>\n",
       "      <th>Curricular units 2nd sem (enrolled)</th>\n",
       "      <th>Curricular units 2nd sem (evaluations)</th>\n",
       "      <th>Curricular units 2nd sem (approved)</th>\n",
       "      <th>Curricular units 2nd sem (grade)</th>\n",
       "      <th>Curricular units 2nd sem (without evaluations)</th>\n",
       "      <th>Unemployment rate</th>\n",
       "      <th>Inflation rate</th>\n",
       "      <th>GDP</th>\n",
       "      <th>Target</th>\n",
       "    </tr>\n",
       "  </thead>\n",
       "  <tbody>\n",
       "    <tr>\n",
       "      <th>0</th>\n",
       "      <td>0</td>\n",
       "      <td>1</td>\n",
       "      <td>1</td>\n",
       "      <td>1</td>\n",
       "      <td>9238</td>\n",
       "      <td>1</td>\n",
       "      <td>1</td>\n",
       "      <td>126.0</td>\n",
       "      <td>1</td>\n",
       "      <td>1</td>\n",
       "      <td>...</td>\n",
       "      <td>0</td>\n",
       "      <td>6</td>\n",
       "      <td>7</td>\n",
       "      <td>6</td>\n",
       "      <td>12.428571</td>\n",
       "      <td>0</td>\n",
       "      <td>11.1</td>\n",
       "      <td>0.6</td>\n",
       "      <td>2.02</td>\n",
       "      <td>Graduate</td>\n",
       "    </tr>\n",
       "    <tr>\n",
       "      <th>1</th>\n",
       "      <td>1</td>\n",
       "      <td>1</td>\n",
       "      <td>17</td>\n",
       "      <td>1</td>\n",
       "      <td>9238</td>\n",
       "      <td>1</td>\n",
       "      <td>1</td>\n",
       "      <td>125.0</td>\n",
       "      <td>1</td>\n",
       "      <td>19</td>\n",
       "      <td>...</td>\n",
       "      <td>0</td>\n",
       "      <td>6</td>\n",
       "      <td>9</td>\n",
       "      <td>0</td>\n",
       "      <td>0.000000</td>\n",
       "      <td>0</td>\n",
       "      <td>11.1</td>\n",
       "      <td>0.6</td>\n",
       "      <td>2.02</td>\n",
       "      <td>Dropout</td>\n",
       "    </tr>\n",
       "    <tr>\n",
       "      <th>2</th>\n",
       "      <td>2</td>\n",
       "      <td>1</td>\n",
       "      <td>17</td>\n",
       "      <td>2</td>\n",
       "      <td>9254</td>\n",
       "      <td>1</td>\n",
       "      <td>1</td>\n",
       "      <td>137.0</td>\n",
       "      <td>1</td>\n",
       "      <td>3</td>\n",
       "      <td>...</td>\n",
       "      <td>0</td>\n",
       "      <td>6</td>\n",
       "      <td>0</td>\n",
       "      <td>0</td>\n",
       "      <td>0.000000</td>\n",
       "      <td>0</td>\n",
       "      <td>16.2</td>\n",
       "      <td>0.3</td>\n",
       "      <td>-0.92</td>\n",
       "      <td>Dropout</td>\n",
       "    </tr>\n",
       "    <tr>\n",
       "      <th>3</th>\n",
       "      <td>3</td>\n",
       "      <td>1</td>\n",
       "      <td>1</td>\n",
       "      <td>3</td>\n",
       "      <td>9500</td>\n",
       "      <td>1</td>\n",
       "      <td>1</td>\n",
       "      <td>131.0</td>\n",
       "      <td>1</td>\n",
       "      <td>19</td>\n",
       "      <td>...</td>\n",
       "      <td>0</td>\n",
       "      <td>8</td>\n",
       "      <td>11</td>\n",
       "      <td>7</td>\n",
       "      <td>12.820000</td>\n",
       "      <td>0</td>\n",
       "      <td>11.1</td>\n",
       "      <td>0.6</td>\n",
       "      <td>2.02</td>\n",
       "      <td>Enrolled</td>\n",
       "    </tr>\n",
       "    <tr>\n",
       "      <th>4</th>\n",
       "      <td>4</td>\n",
       "      <td>1</td>\n",
       "      <td>1</td>\n",
       "      <td>2</td>\n",
       "      <td>9500</td>\n",
       "      <td>1</td>\n",
       "      <td>1</td>\n",
       "      <td>132.0</td>\n",
       "      <td>1</td>\n",
       "      <td>19</td>\n",
       "      <td>...</td>\n",
       "      <td>0</td>\n",
       "      <td>7</td>\n",
       "      <td>12</td>\n",
       "      <td>6</td>\n",
       "      <td>12.933333</td>\n",
       "      <td>0</td>\n",
       "      <td>7.6</td>\n",
       "      <td>2.6</td>\n",
       "      <td>0.32</td>\n",
       "      <td>Graduate</td>\n",
       "    </tr>\n",
       "  </tbody>\n",
       "</table>\n",
       "<p>5 rows × 38 columns</p>\n",
       "</div>"
      ],
      "text/plain": [
       "   id  Marital status  Application mode  Application order  Course  \\\n",
       "0   0               1                 1                  1    9238   \n",
       "1   1               1                17                  1    9238   \n",
       "2   2               1                17                  2    9254   \n",
       "3   3               1                 1                  3    9500   \n",
       "4   4               1                 1                  2    9500   \n",
       "\n",
       "   Daytime/evening attendance  Previous qualification  \\\n",
       "0                           1                       1   \n",
       "1                           1                       1   \n",
       "2                           1                       1   \n",
       "3                           1                       1   \n",
       "4                           1                       1   \n",
       "\n",
       "   Previous qualification (grade)  Nacionality  Mother's qualification  ...  \\\n",
       "0                           126.0            1                       1  ...   \n",
       "1                           125.0            1                      19  ...   \n",
       "2                           137.0            1                       3  ...   \n",
       "3                           131.0            1                      19  ...   \n",
       "4                           132.0            1                      19  ...   \n",
       "\n",
       "   Curricular units 2nd sem (credited)  Curricular units 2nd sem (enrolled)  \\\n",
       "0                                    0                                    6   \n",
       "1                                    0                                    6   \n",
       "2                                    0                                    6   \n",
       "3                                    0                                    8   \n",
       "4                                    0                                    7   \n",
       "\n",
       "   Curricular units 2nd sem (evaluations)  \\\n",
       "0                                       7   \n",
       "1                                       9   \n",
       "2                                       0   \n",
       "3                                      11   \n",
       "4                                      12   \n",
       "\n",
       "   Curricular units 2nd sem (approved)  Curricular units 2nd sem (grade)  \\\n",
       "0                                    6                         12.428571   \n",
       "1                                    0                          0.000000   \n",
       "2                                    0                          0.000000   \n",
       "3                                    7                         12.820000   \n",
       "4                                    6                         12.933333   \n",
       "\n",
       "   Curricular units 2nd sem (without evaluations)  Unemployment rate  \\\n",
       "0                                               0               11.1   \n",
       "1                                               0               11.1   \n",
       "2                                               0               16.2   \n",
       "3                                               0               11.1   \n",
       "4                                               0                7.6   \n",
       "\n",
       "   Inflation rate   GDP    Target  \n",
       "0             0.6  2.02  Graduate  \n",
       "1             0.6  2.02   Dropout  \n",
       "2             0.3 -0.92   Dropout  \n",
       "3             0.6  2.02  Enrolled  \n",
       "4             2.6  0.32  Graduate  \n",
       "\n",
       "[5 rows x 38 columns]"
      ]
     },
     "execution_count": 5,
     "metadata": {},
     "output_type": "execute_result"
    }
   ],
   "source": [
    "train.head()"
   ]
  },
  {
   "cell_type": "code",
   "execution_count": 6,
   "metadata": {
    "execution": {
     "iopub.execute_input": "2024-09-28T00:29:39.701492Z",
     "iopub.status.busy": "2024-09-28T00:29:39.700123Z",
     "iopub.status.idle": "2024-09-28T00:29:39.728505Z",
     "shell.execute_reply": "2024-09-28T00:29:39.727316Z",
     "shell.execute_reply.started": "2024-09-28T00:29:39.701436Z"
    }
   },
   "outputs": [
    {
     "data": {
      "text/html": [
       "<div>\n",
       "<style scoped>\n",
       "    .dataframe tbody tr th:only-of-type {\n",
       "        vertical-align: middle;\n",
       "    }\n",
       "\n",
       "    .dataframe tbody tr th {\n",
       "        vertical-align: top;\n",
       "    }\n",
       "\n",
       "    .dataframe thead th {\n",
       "        text-align: right;\n",
       "    }\n",
       "</style>\n",
       "<table border=\"1\" class=\"dataframe\">\n",
       "  <thead>\n",
       "    <tr style=\"text-align: right;\">\n",
       "      <th></th>\n",
       "      <th>id</th>\n",
       "      <th>Marital status</th>\n",
       "      <th>Application mode</th>\n",
       "      <th>Application order</th>\n",
       "      <th>Course</th>\n",
       "      <th>Daytime/evening attendance</th>\n",
       "      <th>Previous qualification</th>\n",
       "      <th>Previous qualification (grade)</th>\n",
       "      <th>Nacionality</th>\n",
       "      <th>Mother's qualification</th>\n",
       "      <th>...</th>\n",
       "      <th>Curricular units 1st sem (without evaluations)</th>\n",
       "      <th>Curricular units 2nd sem (credited)</th>\n",
       "      <th>Curricular units 2nd sem (enrolled)</th>\n",
       "      <th>Curricular units 2nd sem (evaluations)</th>\n",
       "      <th>Curricular units 2nd sem (approved)</th>\n",
       "      <th>Curricular units 2nd sem (grade)</th>\n",
       "      <th>Curricular units 2nd sem (without evaluations)</th>\n",
       "      <th>Unemployment rate</th>\n",
       "      <th>Inflation rate</th>\n",
       "      <th>GDP</th>\n",
       "    </tr>\n",
       "  </thead>\n",
       "  <tbody>\n",
       "    <tr>\n",
       "      <th>0</th>\n",
       "      <td>76518</td>\n",
       "      <td>1</td>\n",
       "      <td>1</td>\n",
       "      <td>1</td>\n",
       "      <td>9500</td>\n",
       "      <td>1</td>\n",
       "      <td>1</td>\n",
       "      <td>141.0</td>\n",
       "      <td>1</td>\n",
       "      <td>3</td>\n",
       "      <td>...</td>\n",
       "      <td>0</td>\n",
       "      <td>0</td>\n",
       "      <td>8</td>\n",
       "      <td>0</td>\n",
       "      <td>0</td>\n",
       "      <td>0.000000</td>\n",
       "      <td>0</td>\n",
       "      <td>13.9</td>\n",
       "      <td>-0.3</td>\n",
       "      <td>0.79</td>\n",
       "    </tr>\n",
       "    <tr>\n",
       "      <th>1</th>\n",
       "      <td>76519</td>\n",
       "      <td>1</td>\n",
       "      <td>1</td>\n",
       "      <td>1</td>\n",
       "      <td>9238</td>\n",
       "      <td>1</td>\n",
       "      <td>1</td>\n",
       "      <td>128.0</td>\n",
       "      <td>1</td>\n",
       "      <td>1</td>\n",
       "      <td>...</td>\n",
       "      <td>0</td>\n",
       "      <td>0</td>\n",
       "      <td>6</td>\n",
       "      <td>6</td>\n",
       "      <td>6</td>\n",
       "      <td>13.500000</td>\n",
       "      <td>0</td>\n",
       "      <td>11.1</td>\n",
       "      <td>0.6</td>\n",
       "      <td>2.02</td>\n",
       "    </tr>\n",
       "    <tr>\n",
       "      <th>2</th>\n",
       "      <td>76520</td>\n",
       "      <td>1</td>\n",
       "      <td>1</td>\n",
       "      <td>1</td>\n",
       "      <td>9238</td>\n",
       "      <td>1</td>\n",
       "      <td>1</td>\n",
       "      <td>118.0</td>\n",
       "      <td>1</td>\n",
       "      <td>1</td>\n",
       "      <td>...</td>\n",
       "      <td>0</td>\n",
       "      <td>0</td>\n",
       "      <td>6</td>\n",
       "      <td>11</td>\n",
       "      <td>5</td>\n",
       "      <td>11.000000</td>\n",
       "      <td>0</td>\n",
       "      <td>15.5</td>\n",
       "      <td>2.8</td>\n",
       "      <td>-4.06</td>\n",
       "    </tr>\n",
       "    <tr>\n",
       "      <th>3</th>\n",
       "      <td>76521</td>\n",
       "      <td>1</td>\n",
       "      <td>44</td>\n",
       "      <td>1</td>\n",
       "      <td>9147</td>\n",
       "      <td>1</td>\n",
       "      <td>39</td>\n",
       "      <td>130.0</td>\n",
       "      <td>1</td>\n",
       "      <td>1</td>\n",
       "      <td>...</td>\n",
       "      <td>0</td>\n",
       "      <td>3</td>\n",
       "      <td>8</td>\n",
       "      <td>14</td>\n",
       "      <td>5</td>\n",
       "      <td>11.000000</td>\n",
       "      <td>0</td>\n",
       "      <td>8.9</td>\n",
       "      <td>1.4</td>\n",
       "      <td>3.51</td>\n",
       "    </tr>\n",
       "    <tr>\n",
       "      <th>4</th>\n",
       "      <td>76522</td>\n",
       "      <td>1</td>\n",
       "      <td>39</td>\n",
       "      <td>1</td>\n",
       "      <td>9670</td>\n",
       "      <td>1</td>\n",
       "      <td>1</td>\n",
       "      <td>110.0</td>\n",
       "      <td>1</td>\n",
       "      <td>1</td>\n",
       "      <td>...</td>\n",
       "      <td>0</td>\n",
       "      <td>0</td>\n",
       "      <td>6</td>\n",
       "      <td>9</td>\n",
       "      <td>4</td>\n",
       "      <td>10.666667</td>\n",
       "      <td>2</td>\n",
       "      <td>7.6</td>\n",
       "      <td>2.6</td>\n",
       "      <td>0.32</td>\n",
       "    </tr>\n",
       "  </tbody>\n",
       "</table>\n",
       "<p>5 rows × 37 columns</p>\n",
       "</div>"
      ],
      "text/plain": [
       "      id  Marital status  Application mode  Application order  Course  \\\n",
       "0  76518               1                 1                  1    9500   \n",
       "1  76519               1                 1                  1    9238   \n",
       "2  76520               1                 1                  1    9238   \n",
       "3  76521               1                44                  1    9147   \n",
       "4  76522               1                39                  1    9670   \n",
       "\n",
       "   Daytime/evening attendance  Previous qualification  \\\n",
       "0                           1                       1   \n",
       "1                           1                       1   \n",
       "2                           1                       1   \n",
       "3                           1                      39   \n",
       "4                           1                       1   \n",
       "\n",
       "   Previous qualification (grade)  Nacionality  Mother's qualification  ...  \\\n",
       "0                           141.0            1                       3  ...   \n",
       "1                           128.0            1                       1  ...   \n",
       "2                           118.0            1                       1  ...   \n",
       "3                           130.0            1                       1  ...   \n",
       "4                           110.0            1                       1  ...   \n",
       "\n",
       "   Curricular units 1st sem (without evaluations)  \\\n",
       "0                                               0   \n",
       "1                                               0   \n",
       "2                                               0   \n",
       "3                                               0   \n",
       "4                                               0   \n",
       "\n",
       "   Curricular units 2nd sem (credited)  Curricular units 2nd sem (enrolled)  \\\n",
       "0                                    0                                    8   \n",
       "1                                    0                                    6   \n",
       "2                                    0                                    6   \n",
       "3                                    3                                    8   \n",
       "4                                    0                                    6   \n",
       "\n",
       "   Curricular units 2nd sem (evaluations)  \\\n",
       "0                                       0   \n",
       "1                                       6   \n",
       "2                                      11   \n",
       "3                                      14   \n",
       "4                                       9   \n",
       "\n",
       "   Curricular units 2nd sem (approved)  Curricular units 2nd sem (grade)  \\\n",
       "0                                    0                          0.000000   \n",
       "1                                    6                         13.500000   \n",
       "2                                    5                         11.000000   \n",
       "3                                    5                         11.000000   \n",
       "4                                    4                         10.666667   \n",
       "\n",
       "   Curricular units 2nd sem (without evaluations)  Unemployment rate  \\\n",
       "0                                               0               13.9   \n",
       "1                                               0               11.1   \n",
       "2                                               0               15.5   \n",
       "3                                               0                8.9   \n",
       "4                                               2                7.6   \n",
       "\n",
       "   Inflation rate   GDP  \n",
       "0            -0.3  0.79  \n",
       "1             0.6  2.02  \n",
       "2             2.8 -4.06  \n",
       "3             1.4  3.51  \n",
       "4             2.6  0.32  \n",
       "\n",
       "[5 rows x 37 columns]"
      ]
     },
     "execution_count": 6,
     "metadata": {},
     "output_type": "execute_result"
    }
   ],
   "source": [
    "test.head()"
   ]
  },
  {
   "cell_type": "code",
   "execution_count": 7,
   "metadata": {
    "execution": {
     "iopub.execute_input": "2024-09-28T00:29:45.998110Z",
     "iopub.status.busy": "2024-09-28T00:29:45.997657Z",
     "iopub.status.idle": "2024-09-28T00:29:46.006568Z",
     "shell.execute_reply": "2024-09-28T00:29:46.005183Z",
     "shell.execute_reply.started": "2024-09-28T00:29:45.998063Z"
    }
   },
   "outputs": [
    {
     "data": {
      "text/plain": [
       "((76518, 38), (51012, 37))"
      ]
     },
     "execution_count": 7,
     "metadata": {},
     "output_type": "execute_result"
    }
   ],
   "source": [
    "train.shape, test.shape"
   ]
  },
  {
   "cell_type": "code",
   "execution_count": 10,
   "metadata": {
    "execution": {
     "iopub.execute_input": "2024-09-28T00:30:19.661020Z",
     "iopub.status.busy": "2024-09-28T00:30:19.660607Z",
     "iopub.status.idle": "2024-09-28T00:30:19.687100Z",
     "shell.execute_reply": "2024-09-28T00:30:19.685740Z",
     "shell.execute_reply.started": "2024-09-28T00:30:19.660975Z"
    }
   },
   "outputs": [
    {
     "data": {
      "text/plain": [
       "id                                                0\n",
       "Marital status                                    0\n",
       "Application mode                                  0\n",
       "Application order                                 0\n",
       "Course                                            0\n",
       "Daytime/evening attendance                        0\n",
       "Previous qualification                            0\n",
       "Previous qualification (grade)                    0\n",
       "Nacionality                                       0\n",
       "Mother's qualification                            0\n",
       "Father's qualification                            0\n",
       "Mother's occupation                               0\n",
       "Father's occupation                               0\n",
       "Admission grade                                   0\n",
       "Displaced                                         0\n",
       "Educational special needs                         0\n",
       "Debtor                                            0\n",
       "Tuition fees up to date                           0\n",
       "Gender                                            0\n",
       "Scholarship holder                                0\n",
       "Age at enrollment                                 0\n",
       "International                                     0\n",
       "Curricular units 1st sem (credited)               0\n",
       "Curricular units 1st sem (enrolled)               0\n",
       "Curricular units 1st sem (evaluations)            0\n",
       "Curricular units 1st sem (approved)               0\n",
       "Curricular units 1st sem (grade)                  0\n",
       "Curricular units 1st sem (without evaluations)    0\n",
       "Curricular units 2nd sem (credited)               0\n",
       "Curricular units 2nd sem (enrolled)               0\n",
       "Curricular units 2nd sem (evaluations)            0\n",
       "Curricular units 2nd sem (approved)               0\n",
       "Curricular units 2nd sem (grade)                  0\n",
       "Curricular units 2nd sem (without evaluations)    0\n",
       "Unemployment rate                                 0\n",
       "Inflation rate                                    0\n",
       "GDP                                               0\n",
       "Target                                            0\n",
       "dtype: int64"
      ]
     },
     "execution_count": 10,
     "metadata": {},
     "output_type": "execute_result"
    }
   ],
   "source": [
    "train.isnull().sum()"
   ]
  },
  {
   "cell_type": "code",
   "execution_count": 11,
   "metadata": {
    "execution": {
     "iopub.execute_input": "2024-09-28T00:30:29.006727Z",
     "iopub.status.busy": "2024-09-28T00:30:29.006194Z",
     "iopub.status.idle": "2024-09-28T00:30:29.021024Z",
     "shell.execute_reply": "2024-09-28T00:30:29.019435Z",
     "shell.execute_reply.started": "2024-09-28T00:30:29.006668Z"
    }
   },
   "outputs": [
    {
     "data": {
      "text/plain": [
       "id                                                0\n",
       "Marital status                                    0\n",
       "Application mode                                  0\n",
       "Application order                                 0\n",
       "Course                                            0\n",
       "Daytime/evening attendance                        0\n",
       "Previous qualification                            0\n",
       "Previous qualification (grade)                    0\n",
       "Nacionality                                       0\n",
       "Mother's qualification                            0\n",
       "Father's qualification                            0\n",
       "Mother's occupation                               0\n",
       "Father's occupation                               0\n",
       "Admission grade                                   0\n",
       "Displaced                                         0\n",
       "Educational special needs                         0\n",
       "Debtor                                            0\n",
       "Tuition fees up to date                           0\n",
       "Gender                                            0\n",
       "Scholarship holder                                0\n",
       "Age at enrollment                                 0\n",
       "International                                     0\n",
       "Curricular units 1st sem (credited)               0\n",
       "Curricular units 1st sem (enrolled)               0\n",
       "Curricular units 1st sem (evaluations)            0\n",
       "Curricular units 1st sem (approved)               0\n",
       "Curricular units 1st sem (grade)                  0\n",
       "Curricular units 1st sem (without evaluations)    0\n",
       "Curricular units 2nd sem (credited)               0\n",
       "Curricular units 2nd sem (enrolled)               0\n",
       "Curricular units 2nd sem (evaluations)            0\n",
       "Curricular units 2nd sem (approved)               0\n",
       "Curricular units 2nd sem (grade)                  0\n",
       "Curricular units 2nd sem (without evaluations)    0\n",
       "Unemployment rate                                 0\n",
       "Inflation rate                                    0\n",
       "GDP                                               0\n",
       "dtype: int64"
      ]
     },
     "execution_count": 11,
     "metadata": {},
     "output_type": "execute_result"
    }
   ],
   "source": [
    "test.isnull().sum()\n",
    "#İkisinde de boş verimiz yok."
   ]
  },
  {
   "cell_type": "code",
   "execution_count": 8,
   "metadata": {
    "execution": {
     "iopub.execute_input": "2024-09-28T00:30:03.368873Z",
     "iopub.status.busy": "2024-09-28T00:30:03.368421Z",
     "iopub.status.idle": "2024-09-28T00:30:03.389998Z",
     "shell.execute_reply": "2024-09-28T00:30:03.388472Z",
     "shell.execute_reply.started": "2024-09-28T00:30:03.368830Z"
    }
   },
   "outputs": [],
   "source": [
    "df=pd.concat([train,test])\n",
    "#Dosyaları birleştiriyoruz."
   ]
  },
  {
   "cell_type": "code",
   "execution_count": 9,
   "metadata": {
    "execution": {
     "iopub.execute_input": "2024-09-28T00:30:06.069773Z",
     "iopub.status.busy": "2024-09-28T00:30:06.069224Z",
     "iopub.status.idle": "2024-09-28T00:30:06.106086Z",
     "shell.execute_reply": "2024-09-28T00:30:06.104561Z",
     "shell.execute_reply.started": "2024-09-28T00:30:06.069724Z"
    }
   },
   "outputs": [
    {
     "data": {
      "text/html": [
       "<div>\n",
       "<style scoped>\n",
       "    .dataframe tbody tr th:only-of-type {\n",
       "        vertical-align: middle;\n",
       "    }\n",
       "\n",
       "    .dataframe tbody tr th {\n",
       "        vertical-align: top;\n",
       "    }\n",
       "\n",
       "    .dataframe thead th {\n",
       "        text-align: right;\n",
       "    }\n",
       "</style>\n",
       "<table border=\"1\" class=\"dataframe\">\n",
       "  <thead>\n",
       "    <tr style=\"text-align: right;\">\n",
       "      <th></th>\n",
       "      <th>id</th>\n",
       "      <th>Marital status</th>\n",
       "      <th>Application mode</th>\n",
       "      <th>Application order</th>\n",
       "      <th>Course</th>\n",
       "      <th>Daytime/evening attendance</th>\n",
       "      <th>Previous qualification</th>\n",
       "      <th>Previous qualification (grade)</th>\n",
       "      <th>Nacionality</th>\n",
       "      <th>Mother's qualification</th>\n",
       "      <th>...</th>\n",
       "      <th>Curricular units 2nd sem (credited)</th>\n",
       "      <th>Curricular units 2nd sem (enrolled)</th>\n",
       "      <th>Curricular units 2nd sem (evaluations)</th>\n",
       "      <th>Curricular units 2nd sem (approved)</th>\n",
       "      <th>Curricular units 2nd sem (grade)</th>\n",
       "      <th>Curricular units 2nd sem (without evaluations)</th>\n",
       "      <th>Unemployment rate</th>\n",
       "      <th>Inflation rate</th>\n",
       "      <th>GDP</th>\n",
       "      <th>Target</th>\n",
       "    </tr>\n",
       "  </thead>\n",
       "  <tbody>\n",
       "    <tr>\n",
       "      <th>0</th>\n",
       "      <td>0</td>\n",
       "      <td>1</td>\n",
       "      <td>1</td>\n",
       "      <td>1</td>\n",
       "      <td>9238</td>\n",
       "      <td>1</td>\n",
       "      <td>1</td>\n",
       "      <td>126.0</td>\n",
       "      <td>1</td>\n",
       "      <td>1</td>\n",
       "      <td>...</td>\n",
       "      <td>0</td>\n",
       "      <td>6</td>\n",
       "      <td>7</td>\n",
       "      <td>6</td>\n",
       "      <td>12.428571</td>\n",
       "      <td>0</td>\n",
       "      <td>11.1</td>\n",
       "      <td>0.6</td>\n",
       "      <td>2.02</td>\n",
       "      <td>Graduate</td>\n",
       "    </tr>\n",
       "    <tr>\n",
       "      <th>1</th>\n",
       "      <td>1</td>\n",
       "      <td>1</td>\n",
       "      <td>17</td>\n",
       "      <td>1</td>\n",
       "      <td>9238</td>\n",
       "      <td>1</td>\n",
       "      <td>1</td>\n",
       "      <td>125.0</td>\n",
       "      <td>1</td>\n",
       "      <td>19</td>\n",
       "      <td>...</td>\n",
       "      <td>0</td>\n",
       "      <td>6</td>\n",
       "      <td>9</td>\n",
       "      <td>0</td>\n",
       "      <td>0.000000</td>\n",
       "      <td>0</td>\n",
       "      <td>11.1</td>\n",
       "      <td>0.6</td>\n",
       "      <td>2.02</td>\n",
       "      <td>Dropout</td>\n",
       "    </tr>\n",
       "    <tr>\n",
       "      <th>2</th>\n",
       "      <td>2</td>\n",
       "      <td>1</td>\n",
       "      <td>17</td>\n",
       "      <td>2</td>\n",
       "      <td>9254</td>\n",
       "      <td>1</td>\n",
       "      <td>1</td>\n",
       "      <td>137.0</td>\n",
       "      <td>1</td>\n",
       "      <td>3</td>\n",
       "      <td>...</td>\n",
       "      <td>0</td>\n",
       "      <td>6</td>\n",
       "      <td>0</td>\n",
       "      <td>0</td>\n",
       "      <td>0.000000</td>\n",
       "      <td>0</td>\n",
       "      <td>16.2</td>\n",
       "      <td>0.3</td>\n",
       "      <td>-0.92</td>\n",
       "      <td>Dropout</td>\n",
       "    </tr>\n",
       "    <tr>\n",
       "      <th>3</th>\n",
       "      <td>3</td>\n",
       "      <td>1</td>\n",
       "      <td>1</td>\n",
       "      <td>3</td>\n",
       "      <td>9500</td>\n",
       "      <td>1</td>\n",
       "      <td>1</td>\n",
       "      <td>131.0</td>\n",
       "      <td>1</td>\n",
       "      <td>19</td>\n",
       "      <td>...</td>\n",
       "      <td>0</td>\n",
       "      <td>8</td>\n",
       "      <td>11</td>\n",
       "      <td>7</td>\n",
       "      <td>12.820000</td>\n",
       "      <td>0</td>\n",
       "      <td>11.1</td>\n",
       "      <td>0.6</td>\n",
       "      <td>2.02</td>\n",
       "      <td>Enrolled</td>\n",
       "    </tr>\n",
       "    <tr>\n",
       "      <th>4</th>\n",
       "      <td>4</td>\n",
       "      <td>1</td>\n",
       "      <td>1</td>\n",
       "      <td>2</td>\n",
       "      <td>9500</td>\n",
       "      <td>1</td>\n",
       "      <td>1</td>\n",
       "      <td>132.0</td>\n",
       "      <td>1</td>\n",
       "      <td>19</td>\n",
       "      <td>...</td>\n",
       "      <td>0</td>\n",
       "      <td>7</td>\n",
       "      <td>12</td>\n",
       "      <td>6</td>\n",
       "      <td>12.933333</td>\n",
       "      <td>0</td>\n",
       "      <td>7.6</td>\n",
       "      <td>2.6</td>\n",
       "      <td>0.32</td>\n",
       "      <td>Graduate</td>\n",
       "    </tr>\n",
       "  </tbody>\n",
       "</table>\n",
       "<p>5 rows × 38 columns</p>\n",
       "</div>"
      ],
      "text/plain": [
       "   id  Marital status  Application mode  Application order  Course  \\\n",
       "0   0               1                 1                  1    9238   \n",
       "1   1               1                17                  1    9238   \n",
       "2   2               1                17                  2    9254   \n",
       "3   3               1                 1                  3    9500   \n",
       "4   4               1                 1                  2    9500   \n",
       "\n",
       "   Daytime/evening attendance  Previous qualification  \\\n",
       "0                           1                       1   \n",
       "1                           1                       1   \n",
       "2                           1                       1   \n",
       "3                           1                       1   \n",
       "4                           1                       1   \n",
       "\n",
       "   Previous qualification (grade)  Nacionality  Mother's qualification  ...  \\\n",
       "0                           126.0            1                       1  ...   \n",
       "1                           125.0            1                      19  ...   \n",
       "2                           137.0            1                       3  ...   \n",
       "3                           131.0            1                      19  ...   \n",
       "4                           132.0            1                      19  ...   \n",
       "\n",
       "   Curricular units 2nd sem (credited)  Curricular units 2nd sem (enrolled)  \\\n",
       "0                                    0                                    6   \n",
       "1                                    0                                    6   \n",
       "2                                    0                                    6   \n",
       "3                                    0                                    8   \n",
       "4                                    0                                    7   \n",
       "\n",
       "   Curricular units 2nd sem (evaluations)  \\\n",
       "0                                       7   \n",
       "1                                       9   \n",
       "2                                       0   \n",
       "3                                      11   \n",
       "4                                      12   \n",
       "\n",
       "   Curricular units 2nd sem (approved)  Curricular units 2nd sem (grade)  \\\n",
       "0                                    6                         12.428571   \n",
       "1                                    0                          0.000000   \n",
       "2                                    0                          0.000000   \n",
       "3                                    7                         12.820000   \n",
       "4                                    6                         12.933333   \n",
       "\n",
       "   Curricular units 2nd sem (without evaluations)  Unemployment rate  \\\n",
       "0                                               0               11.1   \n",
       "1                                               0               11.1   \n",
       "2                                               0               16.2   \n",
       "3                                               0               11.1   \n",
       "4                                               0                7.6   \n",
       "\n",
       "   Inflation rate   GDP    Target  \n",
       "0             0.6  2.02  Graduate  \n",
       "1             0.6  2.02   Dropout  \n",
       "2             0.3 -0.92   Dropout  \n",
       "3             0.6  2.02  Enrolled  \n",
       "4             2.6  0.32  Graduate  \n",
       "\n",
       "[5 rows x 38 columns]"
      ]
     },
     "execution_count": 9,
     "metadata": {},
     "output_type": "execute_result"
    }
   ],
   "source": [
    "df.head()"
   ]
  },
  {
   "cell_type": "code",
   "execution_count": 35,
   "metadata": {
    "execution": {
     "iopub.execute_input": "2024-09-28T00:51:11.770504Z",
     "iopub.status.busy": "2024-09-28T00:51:11.769884Z",
     "iopub.status.idle": "2024-09-28T00:51:11.816893Z",
     "shell.execute_reply": "2024-09-28T00:51:11.815464Z",
     "shell.execute_reply.started": "2024-09-28T00:51:11.770439Z"
    }
   },
   "outputs": [
    {
     "name": "stdout",
     "output_type": "stream",
     "text": [
      "<class 'pandas.core.frame.DataFrame'>\n",
      "Index: 127530 entries, 0 to 51011\n",
      "Data columns (total 38 columns):\n",
      " #   Column                                          Non-Null Count   Dtype  \n",
      "---  ------                                          --------------   -----  \n",
      " 0   id                                              127530 non-null  int64  \n",
      " 1   Marital status                                  127530 non-null  int64  \n",
      " 2   Application mode                                127530 non-null  int64  \n",
      " 3   Application order                               127530 non-null  int64  \n",
      " 4   Course                                          127530 non-null  int64  \n",
      " 5   Daytime/evening attendance                      127530 non-null  int64  \n",
      " 6   Previous qualification                          127530 non-null  int64  \n",
      " 7   Previous qualification (grade)                  127530 non-null  float64\n",
      " 8   Nacionality                                     127530 non-null  int64  \n",
      " 9   Mother's qualification                          127530 non-null  int64  \n",
      " 10  Father's qualification                          127530 non-null  int64  \n",
      " 11  Mother's occupation                             127530 non-null  int64  \n",
      " 12  Father's occupation                             127530 non-null  int64  \n",
      " 13  Admission grade                                 127530 non-null  float64\n",
      " 14  Displaced                                       127530 non-null  int64  \n",
      " 15  Educational special needs                       127530 non-null  int64  \n",
      " 16  Debtor                                          127530 non-null  int64  \n",
      " 17  Tuition fees up to date                         127530 non-null  int64  \n",
      " 18  Gender                                          127530 non-null  int64  \n",
      " 19  Scholarship holder                              127530 non-null  int64  \n",
      " 20  Age at enrollment                               127530 non-null  int64  \n",
      " 21  International                                   127530 non-null  int64  \n",
      " 22  Curricular units 1st sem (credited)             127530 non-null  int64  \n",
      " 23  Curricular units 1st sem (enrolled)             127530 non-null  int64  \n",
      " 24  Curricular units 1st sem (evaluations)          127530 non-null  int64  \n",
      " 25  Curricular units 1st sem (approved)             127530 non-null  int64  \n",
      " 26  Curricular units 1st sem (grade)                127530 non-null  float64\n",
      " 27  Curricular units 1st sem (without evaluations)  127530 non-null  int64  \n",
      " 28  Curricular units 2nd sem (credited)             127530 non-null  int64  \n",
      " 29  Curricular units 2nd sem (enrolled)             127530 non-null  int64  \n",
      " 30  Curricular units 2nd sem (evaluations)          127530 non-null  int64  \n",
      " 31  Curricular units 2nd sem (approved)             127530 non-null  int64  \n",
      " 32  Curricular units 2nd sem (grade)                127530 non-null  float64\n",
      " 33  Curricular units 2nd sem (without evaluations)  127530 non-null  int64  \n",
      " 34  Unemployment rate                               127530 non-null  float64\n",
      " 35  Inflation rate                                  127530 non-null  float64\n",
      " 36  GDP                                             127530 non-null  float64\n",
      " 37  Target                                          76518 non-null   object \n",
      "dtypes: float64(7), int64(30), object(1)\n",
      "memory usage: 37.9+ MB\n"
     ]
    }
   ],
   "source": [
    "df.info()"
   ]
  },
  {
   "cell_type": "markdown",
   "metadata": {},
   "source": [
    "## Veri Görselleştirmesi"
   ]
  },
  {
   "cell_type": "code",
   "execution_count": 15,
   "metadata": {
    "execution": {
     "iopub.execute_input": "2024-09-28T00:47:13.194787Z",
     "iopub.status.busy": "2024-09-28T00:47:13.193408Z",
     "iopub.status.idle": "2024-09-28T00:47:13.543571Z",
     "shell.execute_reply": "2024-09-28T00:47:13.542129Z",
     "shell.execute_reply.started": "2024-09-28T00:47:13.194730Z"
    }
   },
   "outputs": [
    {
     "data": {
      "image/png": "[encoded data removed]",
      "text/plain": [
       "<Figure size 640x480 with 1 Axes>"
      ]
     },
     "metadata": {},
     "output_type": "display_data"
    }
   ],
   "source": [
    "sns.countplot(x=df['Marital status']);"
   ]
  },
  {
   "cell_type": "code",
   "execution_count": 17,
   "metadata": {
    "execution": {
     "iopub.execute_input": "2024-09-28T00:47:42.672860Z",
     "iopub.status.busy": "2024-09-28T00:47:42.672426Z",
     "iopub.status.idle": "2024-09-28T00:47:43.078240Z",
     "shell.execute_reply": "2024-09-28T00:47:43.077008Z",
     "shell.execute_reply.started": "2024-09-28T00:47:42.672817Z"
    }
   },
   "outputs": [
    {
     "data": {
      "image/png": "[encoded data removed]",
      "text/plain": [
       "<Figure size 640x480 with 1 Axes>"
      ]
     },
     "metadata": {},
     "output_type": "display_data"
    }
   ],
   "source": [
    "sns.countplot(x=df['Application mode']);"
   ]
  },
  {
   "cell_type": "code",
   "execution_count": 19,
   "metadata": {
    "execution": {
     "iopub.execute_input": "2024-09-28T00:48:11.918866Z",
     "iopub.status.busy": "2024-09-28T00:48:11.918409Z",
     "iopub.status.idle": "2024-09-28T00:48:12.204040Z",
     "shell.execute_reply": "2024-09-28T00:48:12.202868Z",
     "shell.execute_reply.started": "2024-09-28T00:48:11.918813Z"
    }
   },
   "outputs": [
    {
     "data": {
      "image/png": "[encoded data removed]",
      "text/plain": [
       "<Figure size 640x480 with 1 Axes>"
      ]
     },
     "metadata": {},
     "output_type": "display_data"
    }
   ],
   "source": [
    "sns.countplot(x=df['Application order']);"
   ]
  },
  {
   "cell_type": "code",
   "execution_count": 22,
   "metadata": {
    "execution": {
     "iopub.execute_input": "2024-09-28T00:48:48.366099Z",
     "iopub.status.busy": "2024-09-28T00:48:48.365660Z",
     "iopub.status.idle": "2024-09-28T00:48:48.823453Z",
     "shell.execute_reply": "2024-09-28T00:48:48.822139Z",
     "shell.execute_reply.started": "2024-09-28T00:48:48.366053Z"
    }
   },
   "outputs": [
    {
     "data": {
      "image/png": "[encoded data removed]",
      "text/plain": [
       "<Figure size 640x480 with 1 Axes>"
      ]
     },
     "metadata": {},
     "output_type": "display_data"
    }
   ],
   "source": [
    "sns.countplot(x=df['Course'])\n",
    "plt.xticks(rotation=45);"
   ]
  },
  {
   "cell_type": "code",
   "execution_count": null,
   "metadata": {},
   "outputs": [],
   "source": [
    "sns.countplot(x=df['Course'] hue=df.Gender);"
   ]
  },
  {
   "cell_type": "code",
   "execution_count": 24,
   "metadata": {
    "execution": {
     "iopub.execute_input": "2024-09-28T00:49:04.515616Z",
     "iopub.status.busy": "2024-09-28T00:49:04.515132Z",
     "iopub.status.idle": "2024-09-28T00:49:04.764001Z",
     "shell.execute_reply": "2024-09-28T00:49:04.762733Z",
     "shell.execute_reply.started": "2024-09-28T00:49:04.515568Z"
    }
   },
   "outputs": [
    {
     "data": {
      "image/png": "[encoded data removed]",
      "text/plain": [
       "<Figure size 640x480 with 1 Axes>"
      ]
     },
     "metadata": {},
     "output_type": "display_data"
    }
   ],
   "source": [
    "sns.countplot(x=df['Daytime/evening attendance']);"
   ]
  },
  {
   "cell_type": "code",
   "execution_count": 39,
   "metadata": {
    "execution": {
     "iopub.execute_input": "2024-09-28T00:52:04.779813Z",
     "iopub.status.busy": "2024-09-28T00:52:04.779377Z",
     "iopub.status.idle": "2024-09-28T00:52:05.641699Z",
     "shell.execute_reply": "2024-09-28T00:52:05.640419Z",
     "shell.execute_reply.started": "2024-09-28T00:52:04.779770Z"
    }
   },
   "outputs": [
    {
     "data": {
      "image/png": "[encoded data removed]",
      "text/plain": [
       "<Figure size 640x480 with 1 Axes>"
      ]
     },
     "metadata": {},
     "output_type": "display_data"
    }
   ],
   "source": [
    "sns.histplot(x=df['GDP'], kde=True);"
   ]
  },
  {
   "cell_type": "code",
   "execution_count": 37,
   "metadata": {
    "execution": {
     "iopub.execute_input": "2024-09-28T00:51:42.322852Z",
     "iopub.status.busy": "2024-09-28T00:51:42.322359Z",
     "iopub.status.idle": "2024-09-28T00:51:42.504057Z",
     "shell.execute_reply": "2024-09-28T00:51:42.502783Z",
     "shell.execute_reply.started": "2024-09-28T00:51:42.322786Z"
    }
   },
   "outputs": [
    {
     "data": {
      "image/png": "[encoded data removed]",
      "text/plain": [
       "<Figure size 640x480 with 1 Axes>"
      ]
     },
     "metadata": {},
     "output_type": "display_data"
    }
   ],
   "source": [
    "sns.countplot(x=df[\"Gender\"]);"
   ]
  },
  {
   "cell_type": "code",
   "execution_count": 30,
   "metadata": {
    "execution": {
     "iopub.execute_input": "2024-09-28T00:50:10.544876Z",
     "iopub.status.busy": "2024-09-28T00:50:10.544394Z",
     "iopub.status.idle": "2024-09-28T00:50:10.956111Z",
     "shell.execute_reply": "2024-09-28T00:50:10.954758Z",
     "shell.execute_reply.started": "2024-09-28T00:50:10.544811Z"
    }
   },
   "outputs": [
    {
     "data": {
      "image/png": "[encoded data removed]",
      "text/plain": [
       "<Figure size 640x480 with 1 Axes>"
      ]
     },
     "metadata": {},
     "output_type": "display_data"
    }
   ],
   "source": [
    "sns.countplot(x=df['Nacionality']);"
   ]
  },
  {
   "cell_type": "code",
   "execution_count": 28,
   "metadata": {
    "execution": {
     "iopub.execute_input": "2024-09-28T00:49:54.769329Z",
     "iopub.status.busy": "2024-09-28T00:49:54.768862Z",
     "iopub.status.idle": "2024-09-28T00:49:56.011226Z",
     "shell.execute_reply": "2024-09-28T00:49:56.009999Z",
     "shell.execute_reply.started": "2024-09-28T00:49:54.769284Z"
    }
   },
   "outputs": [
    {
     "data": {
      "image/png": "[encoded data removed]",
      "text/plain": [
       "<Figure size 640x480 with 1 Axes>"
      ]
     },
     "metadata": {},
     "output_type": "display_data"
    }
   ],
   "source": [
    "sns.histplot(x=df['Previous qualification (grade)'], kde=True);"
   ]
  },
  {
   "cell_type": "code",
   "execution_count": 44,
   "metadata": {
    "execution": {
     "iopub.execute_input": "2024-09-28T00:53:09.226528Z",
     "iopub.status.busy": "2024-09-28T00:53:09.226097Z",
     "iopub.status.idle": "2024-09-28T00:53:10.119430Z",
     "shell.execute_reply": "2024-09-28T00:53:10.118301Z",
     "shell.execute_reply.started": "2024-09-28T00:53:09.226485Z"
    }
   },
   "outputs": [
    {
     "data": {
      "image/png": "[encoded data removed]",
      "text/plain": [
       "<Figure size 640x480 with 1 Axes>"
      ]
     },
     "metadata": {},
     "output_type": "display_data"
    }
   ],
   "source": [
    "sns.histplot(x=df['Unemployment rate'], kde=True);"
   ]
  },
  {
   "cell_type": "code",
   "execution_count": null,
   "metadata": {},
   "outputs": [],
   "source": [
    "sns.countplot(x=df['Target']);"
   ]
  },
  {
   "cell_type": "markdown",
   "metadata": {},
   "source": [
    "## Modelleme"
   ]
  },
  {
   "cell_type": "code",
   "execution_count": 45,
   "metadata": {
    "execution": {
     "iopub.execute_input": "2024-09-28T00:54:02.983466Z",
     "iopub.status.busy": "2024-09-28T00:54:02.982977Z",
     "iopub.status.idle": "2024-09-28T00:54:03.673923Z",
     "shell.execute_reply": "2024-09-28T00:54:03.672711Z",
     "shell.execute_reply.started": "2024-09-28T00:54:02.983420Z"
    }
   },
   "outputs": [],
   "source": [
    "from sklearn.model_selection import train_test_split\n",
    "from sklearn.naive_bayes import GaussianNB\n",
    "from sklearn.naive_bayes import BernoulliNB\n",
    "from sklearn.metrics import accuracy_score, confusion_matrix, classification_report\n",
    "from sklearn.metrics import roc_curve, auc\n",
    "from sklearn.model_selection import KFold, cross_val_score\n",
    "from sklearn.ensemble import RandomForestClassifier\n",
    "from sklearn.datasets import make_classification"
   ]
  },
  {
   "cell_type": "code",
   "execution_count": 47,
   "metadata": {
    "execution": {
     "iopub.execute_input": "2024-09-28T00:54:26.071214Z",
     "iopub.status.busy": "2024-09-28T00:54:26.070727Z",
     "iopub.status.idle": "2024-09-28T00:54:26.079331Z",
     "shell.execute_reply": "2024-09-28T00:54:26.078059Z",
     "shell.execute_reply.started": "2024-09-28T00:54:26.071166Z"
    }
   },
   "outputs": [
    {
     "data": {
      "text/plain": [
       "((76518, 38), (51012, 37))"
      ]
     },
     "execution_count": 47,
     "metadata": {},
     "output_type": "execute_result"
    }
   ],
   "source": [
    "train.shape, test.shape"
   ]
  },
  {
   "cell_type": "code",
   "execution_count": 48,
   "metadata": {
    "execution": {
     "iopub.execute_input": "2024-09-28T00:54:54.223525Z",
     "iopub.status.busy": "2024-09-28T00:54:54.223062Z",
     "iopub.status.idle": "2024-09-28T00:54:54.230396Z",
     "shell.execute_reply": "2024-09-28T00:54:54.228656Z",
     "shell.execute_reply.started": "2024-09-28T00:54:54.223481Z"
    }
   },
   "outputs": [],
   "source": [
    "train=df[:76518]\n",
    "test=df[76518:]"
   ]
  },
  {
   "cell_type": "code",
   "execution_count": 49,
   "metadata": {
    "execution": {
     "iopub.execute_input": "2024-09-28T00:55:26.209096Z",
     "iopub.status.busy": "2024-09-28T00:55:26.208631Z",
     "iopub.status.idle": "2024-09-28T00:55:26.232423Z",
     "shell.execute_reply": "2024-09-28T00:55:26.231072Z",
     "shell.execute_reply.started": "2024-09-28T00:55:26.209050Z"
    }
   },
   "outputs": [],
   "source": [
    "x=train.drop('Target', axis=1)\n",
    "y=train[['Target']]"
   ]
  },
  {
   "cell_type": "code",
   "execution_count": 50,
   "metadata": {
    "execution": {
     "iopub.execute_input": "2024-09-28T00:55:31.794437Z",
     "iopub.status.busy": "2024-09-28T00:55:31.794004Z",
     "iopub.status.idle": "2024-09-28T00:55:31.851123Z",
     "shell.execute_reply": "2024-09-28T00:55:31.849824Z",
     "shell.execute_reply.started": "2024-09-28T00:55:31.794395Z"
    }
   },
   "outputs": [],
   "source": [
    "x_train,x_test,y_train,y_test=train_test_split(x,y, test_size=.20, random_state=42)"
   ]
  },
  {
   "cell_type": "code",
   "execution_count": 51,
   "metadata": {
    "execution": {
     "iopub.execute_input": "2024-09-28T00:55:36.692054Z",
     "iopub.status.busy": "2024-09-28T00:55:36.691573Z",
     "iopub.status.idle": "2024-09-28T00:55:37.005102Z",
     "shell.execute_reply": "2024-09-28T00:55:37.002141Z",
     "shell.execute_reply.started": "2024-09-28T00:55:36.692006Z"
    }
   },
   "outputs": [
    {
     "data": {
      "text/plain": [
       "0.7640486147412441"
      ]
     },
     "execution_count": 51,
     "metadata": {},
     "output_type": "execute_result"
    }
   ],
   "source": [
    "g=GaussianNB()\n",
    "g.fit(x_train,y_train)\n",
    "gtahmin=g.predict(x_test)\n",
    "accuracy_score(gtahmin,y_test)"
   ]
  },
  {
   "cell_type": "code",
   "execution_count": 52,
   "metadata": {
    "execution": {
     "iopub.execute_input": "2024-09-28T00:56:18.074375Z",
     "iopub.status.busy": "2024-09-28T00:56:18.073785Z",
     "iopub.status.idle": "2024-09-28T00:56:18.184528Z",
     "shell.execute_reply": "2024-09-28T00:56:18.183380Z",
     "shell.execute_reply.started": "2024-09-28T00:56:18.074301Z"
    }
   },
   "outputs": [
    {
     "data": {
      "text/plain": [
       "array([[3624,  234,  180],\n",
       "       [ 940, 1591,  601],\n",
       "       [ 464, 1192, 6478]])"
      ]
     },
     "execution_count": 52,
     "metadata": {},
     "output_type": "execute_result"
    }
   ],
   "source": [
    "confusion_matrix(gtahmin,y_test)"
   ]
  },
  {
   "cell_type": "code",
   "execution_count": 55,
   "metadata": {
    "execution": {
     "iopub.execute_input": "2024-09-28T00:56:29.251312Z",
     "iopub.status.busy": "2024-09-28T00:56:29.250828Z",
     "iopub.status.idle": "2024-09-28T00:56:29.959815Z",
     "shell.execute_reply": "2024-09-28T00:56:29.958432Z",
     "shell.execute_reply.started": "2024-09-28T00:56:29.251266Z"
    }
   },
   "outputs": [
    {
     "name": "stdout",
     "output_type": "stream",
     "text": [
      "              precision    recall  f1-score   support\n",
      "\n",
      "     Dropout       0.72      0.90      0.80      4038\n",
      "    Enrolled       0.53      0.51      0.52      3132\n",
      "    Graduate       0.89      0.80      0.84      8134\n",
      "\n",
      "    accuracy                           0.76     15304\n",
      "   macro avg       0.71      0.73      0.72     15304\n",
      "weighted avg       0.77      0.76      0.76     15304\n",
      "\n"
     ]
    }
   ],
   "source": [
    "print(classification_report(gtahmin,y_test))"
   ]
  },
  {
   "cell_type": "code",
   "execution_count": 54,
   "metadata": {
    "execution": {
     "iopub.execute_input": "2024-09-28T00:56:21.486068Z",
     "iopub.status.busy": "2024-09-28T00:56:21.485162Z",
     "iopub.status.idle": "2024-09-28T00:56:21.954401Z",
     "shell.execute_reply": "2024-09-28T00:56:21.952880Z",
     "shell.execute_reply.started": "2024-09-28T00:56:21.486015Z"
    }
   },
   "outputs": [
    {
     "data": {
      "image/png": "[encoded data removed]",
      "text/plain": [
       "<Figure size 640x480 with 2 Axes>"
      ]
     },
     "metadata": {},
     "output_type": "display_data"
    }
   ],
   "source": [
    "cm = confusion_matrix(gtahmin, y_test)\n",
    "normalized_cm = cm / cm.sum()\n",
    "sns.heatmap(normalized_cm, annot=True, cmap='Blues');"
   ]
  },
  {
   "cell_type": "code",
   "execution_count": 56,
   "metadata": {
    "execution": {
     "iopub.execute_input": "2024-09-28T00:56:58.574965Z",
     "iopub.status.busy": "2024-09-28T00:56:58.574036Z",
     "iopub.status.idle": "2024-09-28T00:57:00.008287Z",
     "shell.execute_reply": "2024-09-28T00:57:00.006816Z",
     "shell.execute_reply.started": "2024-09-28T00:56:58.574914Z"
    }
   },
   "outputs": [
    {
     "name": "stdout",
     "output_type": "stream",
     "text": [
      "Accuracy Scores: [0.76404861 0.76751176 0.75738369 0.7610926  0.77141737]\n",
      "Mean Accuracy: 0.764290806455376\n"
     ]
    }
   ],
   "source": [
    "#K-Fold Cross Validation\n",
    "x=train.drop('Target', axis=1)\n",
    "y=train[['Target']]\n",
    "\n",
    "\n",
    "model=GaussianNB()\n",
    "\n",
    "#K-fold cross validation (K=5)\n",
    "kf=KFold(n_splits=5, shuffle=True, random_state=42)\n",
    "\n",
    "#Calculating cross validation results\n",
    "scores = cross_val_score(model, x, y, cv=kf, scoring='accuracy')\n",
    "\n",
    "#Average of results\n",
    "print(f\"Accuracy Scores: {scores}\")\n",
    "print(f\"Mean Accuracy: {scores.mean()}\")"
   ]
  },
  {
   "cell_type": "code",
   "execution_count": 62,
   "metadata": {
    "execution": {
     "iopub.execute_input": "2024-09-28T00:59:18.891879Z",
     "iopub.status.busy": "2024-09-28T00:59:18.891406Z",
     "iopub.status.idle": "2024-09-28T00:59:18.910271Z",
     "shell.execute_reply": "2024-09-28T00:59:18.908840Z",
     "shell.execute_reply.started": "2024-09-28T00:59:18.891833Z"
    }
   },
   "outputs": [],
   "source": [
    "import pandas as pd\n",
    "import numpy as np\n",
    "\n",
    "from sklearn.linear_model import LogisticRegression\n",
    "from sklearn.naive_bayes import  BernoulliNB\n",
    "from sklearn.neighbors import KNeighborsClassifier\n",
    "from sklearn.tree import DecisionTreeClassifier\n",
    "from sklearn.ensemble import RandomForestClassifier, AdaBoostClassifier, GradientBoostingClassifier\n",
    "from sklearn.svm import SVC\n",
    "from sklearn.neural_network import MLPClassifier\n",
    "from sklearn.model_selection import train_test_split\n",
    "from sklearn.metrics import accuracy_score, precision_score, recall_score, f1_score\n",
    "\n",
    "def algo_test(x, y):\n",
    "\n",
    "    lr = LogisticRegression(max_iter=1000)\n",
    "    b = BernoulliNB()\n",
    "    knn = KNeighborsClassifier()\n",
    "    dt = DecisionTreeClassifier()\n",
    "    rf = RandomForestClassifier()\n",
    "    abc = AdaBoostClassifier()\n",
    "    gbc = GradientBoostingClassifier()\n",
    "    svc = SVC()\n",
    "    mlp = MLPClassifier(max_iter=1000)\n",
    "\n",
    "    algos = [lr,  b, knn, dt, rf, abc, gbc, svc, mlp]\n",
    "    algo_names = ['Logistic Regression', 'BernoulliNB','K-Nearest Neighbors','Decision Tree',\n",
    "                  'Random Forest','AdaBoost', 'Gradient Boosting', 'SVM', 'MLP Classifier']\n",
    "\n",
    "    x_train, x_test, y_train, y_test = train_test_split(x, y, test_size=0.2, random_state=42)\n",
    "\n",
    "    accuracy = []\n",
    "    precision = []\n",
    "    recall = []\n",
    "    f1 = []\n",
    "\n",
    "\n",
    "    result = pd.DataFrame(columns=['Accuracy', 'Precision', 'Recall', 'F1-score'], index=algo_names)\n",
    "\n",
    "    for algo in algos:\n",
    "        algo.fit(x_train, y_train)\n",
    "        y_pred = algo.predict(x_test)\n",
    "        accuracy.append(accuracy_score(y_test, y_pred))\n",
    "        precision.append(precision_score(y_test, y_pred, average='weighted'))\n",
    "        recall.append(recall_score(y_test, y_pred, average='weighted'))\n",
    "        f1.append(f1_score(y_test, y_pred, average='weighted'))\n",
    "\n",
    "    result['Accuracy'] = accuracy\n",
    "    result['Precision'] = precision\n",
    "    result['Recall'] = recall\n",
    "    result['F1-score'] = f1\n",
    "\n",
    "\n",
    "    rtable = result.sort_values('Accuracy', ascending=False)\n",
    "    return rtable\n"
   ]
  },
  {
   "cell_type": "code",
   "execution_count": 63,
   "metadata": {
    "execution": {
     "iopub.execute_input": "2024-09-28T00:59:19.507024Z",
     "iopub.status.busy": "2024-09-28T00:59:19.506539Z",
     "iopub.status.idle": "2024-09-28T01:11:16.940096Z",
     "shell.execute_reply": "2024-09-28T01:11:16.938772Z",
     "shell.execute_reply.started": "2024-09-28T00:59:19.506978Z"
    }
   },
   "outputs": [
    {
     "data": {
      "text/html": [
       "<div>\n",
       "<style scoped>\n",
       "    .dataframe tbody tr th:only-of-type {\n",
       "        vertical-align: middle;\n",
       "    }\n",
       "\n",
       "    .dataframe tbody tr th {\n",
       "        vertical-align: top;\n",
       "    }\n",
       "\n",
       "    .dataframe thead th {\n",
       "        text-align: right;\n",
       "    }\n",
       "</style>\n",
       "<table border=\"1\" class=\"dataframe\">\n",
       "  <thead>\n",
       "    <tr style=\"text-align: right;\">\n",
       "      <th></th>\n",
       "      <th>Accuracy</th>\n",
       "      <th>Precision</th>\n",
       "      <th>Recall</th>\n",
       "      <th>F1-score</th>\n",
       "    </tr>\n",
       "  </thead>\n",
       "  <tbody>\n",
       "    <tr>\n",
       "      <th>Gradient Boosting</th>\n",
       "      <td>0.830110</td>\n",
       "      <td>0.828737</td>\n",
       "      <td>0.830110</td>\n",
       "      <td>0.828053</td>\n",
       "    </tr>\n",
       "    <tr>\n",
       "      <th>Random Forest</th>\n",
       "      <td>0.827169</td>\n",
       "      <td>0.826000</td>\n",
       "      <td>0.827169</td>\n",
       "      <td>0.825177</td>\n",
       "    </tr>\n",
       "    <tr>\n",
       "      <th>AdaBoost</th>\n",
       "      <td>0.819459</td>\n",
       "      <td>0.818390</td>\n",
       "      <td>0.819459</td>\n",
       "      <td>0.817463</td>\n",
       "    </tr>\n",
       "    <tr>\n",
       "      <th>Logistic Regression</th>\n",
       "      <td>0.770060</td>\n",
       "      <td>0.759076</td>\n",
       "      <td>0.770060</td>\n",
       "      <td>0.754968</td>\n",
       "    </tr>\n",
       "    <tr>\n",
       "      <th>Decision Tree</th>\n",
       "      <td>0.739415</td>\n",
       "      <td>0.740577</td>\n",
       "      <td>0.739415</td>\n",
       "      <td>0.739965</td>\n",
       "    </tr>\n",
       "    <tr>\n",
       "      <th>BernoulliNB</th>\n",
       "      <td>0.709553</td>\n",
       "      <td>0.706579</td>\n",
       "      <td>0.709553</td>\n",
       "      <td>0.695218</td>\n",
       "    </tr>\n",
       "    <tr>\n",
       "      <th>MLP Classifier</th>\n",
       "      <td>0.642054</td>\n",
       "      <td>0.687840</td>\n",
       "      <td>0.642054</td>\n",
       "      <td>0.588450</td>\n",
       "    </tr>\n",
       "    <tr>\n",
       "      <th>K-Nearest Neighbors</th>\n",
       "      <td>0.522216</td>\n",
       "      <td>0.511310</td>\n",
       "      <td>0.522216</td>\n",
       "      <td>0.515892</td>\n",
       "    </tr>\n",
       "    <tr>\n",
       "      <th>SVM</th>\n",
       "      <td>0.492420</td>\n",
       "      <td>0.457310</td>\n",
       "      <td>0.492420</td>\n",
       "      <td>0.355043</td>\n",
       "    </tr>\n",
       "  </tbody>\n",
       "</table>\n",
       "</div>"
      ],
      "text/plain": [
       "                     Accuracy  Precision    Recall  F1-score\n",
       "Gradient Boosting    0.830110   0.828737  0.830110  0.828053\n",
       "Random Forest        0.827169   0.826000  0.827169  0.825177\n",
       "AdaBoost             0.819459   0.818390  0.819459  0.817463\n",
       "Logistic Regression  0.770060   0.759076  0.770060  0.754968\n",
       "Decision Tree        0.739415   0.740577  0.739415  0.739965\n",
       "BernoulliNB          0.709553   0.706579  0.709553  0.695218\n",
       "MLP Classifier       0.642054   0.687840  0.642054  0.588450\n",
       "K-Nearest Neighbors  0.522216   0.511310  0.522216  0.515892\n",
       "SVM                  0.492420   0.457310  0.492420  0.355043"
      ]
     },
     "execution_count": 63,
     "metadata": {},
     "output_type": "execute_result"
    }
   ],
   "source": [
    "algo_test(x, y)"
   ]
  },
  {
   "cell_type": "code",
   "execution_count": 65,
   "metadata": {
    "execution": {
     "iopub.execute_input": "2024-09-28T01:17:23.112139Z",
     "iopub.status.busy": "2024-09-28T01:17:23.111666Z",
     "iopub.status.idle": "2024-09-28T01:17:23.123530Z",
     "shell.execute_reply": "2024-09-28T01:17:23.122406Z",
     "shell.execute_reply.started": "2024-09-28T01:17:23.112092Z"
    }
   },
   "outputs": [],
   "source": [
    "test1=test.drop('Target',axis=1)"
   ]
  },
  {
   "cell_type": "code",
   "execution_count": 69,
   "metadata": {
    "execution": {
     "iopub.execute_input": "2024-09-28T01:19:38.131581Z",
     "iopub.status.busy": "2024-09-28T01:19:38.131102Z",
     "iopub.status.idle": "2024-09-28T01:20:47.113463Z",
     "shell.execute_reply": "2024-09-28T01:20:47.112199Z",
     "shell.execute_reply.started": "2024-09-28T01:19:38.131534Z"
    }
   },
   "outputs": [],
   "source": [
    "gbc = GradientBoostingClassifier()\n",
    "gbc.fit(x,y)\n",
    "pred=gbc.predict(test1)"
   ]
  },
  {
   "cell_type": "code",
   "execution_count": 70,
   "metadata": {
    "execution": {
     "iopub.execute_input": "2024-09-28T01:20:47.116022Z",
     "iopub.status.busy": "2024-09-28T01:20:47.115643Z",
     "iopub.status.idle": "2024-09-28T01:20:47.124824Z",
     "shell.execute_reply": "2024-09-28T01:20:47.123597Z",
     "shell.execute_reply.started": "2024-09-28T01:20:47.115981Z"
    }
   },
   "outputs": [],
   "source": [
    "pred1=pd.DataFrame()\n",
    "pred1['id']=test['id']\n",
    "pred1['Target']=pred"
   ]
  },
  {
   "cell_type": "code",
   "execution_count": 71,
   "metadata": {
    "execution": {
     "iopub.execute_input": "2024-09-28T01:20:47.126763Z",
     "iopub.status.busy": "2024-09-28T01:20:47.126366Z",
     "iopub.status.idle": "2024-09-28T01:20:47.144490Z",
     "shell.execute_reply": "2024-09-28T01:20:47.143108Z",
     "shell.execute_reply.started": "2024-09-28T01:20:47.126722Z"
    }
   },
   "outputs": [
    {
     "data": {
      "text/html": [
       "<div>\n",
       "<style scoped>\n",
       "    .dataframe tbody tr th:only-of-type {\n",
       "        vertical-align: middle;\n",
       "    }\n",
       "\n",
       "    .dataframe tbody tr th {\n",
       "        vertical-align: top;\n",
       "    }\n",
       "\n",
       "    .dataframe thead th {\n",
       "        text-align: right;\n",
       "    }\n",
       "</style>\n",
       "<table border=\"1\" class=\"dataframe\">\n",
       "  <thead>\n",
       "    <tr style=\"text-align: right;\">\n",
       "      <th></th>\n",
       "      <th>id</th>\n",
       "      <th>Target</th>\n",
       "    </tr>\n",
       "  </thead>\n",
       "  <tbody>\n",
       "    <tr>\n",
       "      <th>0</th>\n",
       "      <td>76518</td>\n",
       "      <td>Dropout</td>\n",
       "    </tr>\n",
       "    <tr>\n",
       "      <th>1</th>\n",
       "      <td>76519</td>\n",
       "      <td>Graduate</td>\n",
       "    </tr>\n",
       "    <tr>\n",
       "      <th>2</th>\n",
       "      <td>76520</td>\n",
       "      <td>Graduate</td>\n",
       "    </tr>\n",
       "    <tr>\n",
       "      <th>3</th>\n",
       "      <td>76521</td>\n",
       "      <td>Enrolled</td>\n",
       "    </tr>\n",
       "    <tr>\n",
       "      <th>4</th>\n",
       "      <td>76522</td>\n",
       "      <td>Enrolled</td>\n",
       "    </tr>\n",
       "    <tr>\n",
       "      <th>...</th>\n",
       "      <td>...</td>\n",
       "      <td>...</td>\n",
       "    </tr>\n",
       "    <tr>\n",
       "      <th>51007</th>\n",
       "      <td>127525</td>\n",
       "      <td>Dropout</td>\n",
       "    </tr>\n",
       "    <tr>\n",
       "      <th>51008</th>\n",
       "      <td>127526</td>\n",
       "      <td>Dropout</td>\n",
       "    </tr>\n",
       "    <tr>\n",
       "      <th>51009</th>\n",
       "      <td>127527</td>\n",
       "      <td>Dropout</td>\n",
       "    </tr>\n",
       "    <tr>\n",
       "      <th>51010</th>\n",
       "      <td>127528</td>\n",
       "      <td>Dropout</td>\n",
       "    </tr>\n",
       "    <tr>\n",
       "      <th>51011</th>\n",
       "      <td>127529</td>\n",
       "      <td>Dropout</td>\n",
       "    </tr>\n",
       "  </tbody>\n",
       "</table>\n",
       "<p>51012 rows × 2 columns</p>\n",
       "</div>"
      ],
      "text/plain": [
       "           id    Target\n",
       "0       76518   Dropout\n",
       "1       76519  Graduate\n",
       "2       76520  Graduate\n",
       "3       76521  Enrolled\n",
       "4       76522  Enrolled\n",
       "...       ...       ...\n",
       "51007  127525   Dropout\n",
       "51008  127526   Dropout\n",
       "51009  127527   Dropout\n",
       "51010  127528   Dropout\n",
       "51011  127529   Dropout\n",
       "\n",
       "[51012 rows x 2 columns]"
      ]
     },
     "execution_count": 71,
     "metadata": {},
     "output_type": "execute_result"
    }
   ],
   "source": [
    "pred1"
   ]
  },
  {
   "cell_type": "code",
   "execution_count": 72,
   "metadata": {
    "execution": {
     "iopub.execute_input": "2024-09-28T01:21:06.389549Z",
     "iopub.status.busy": "2024-09-28T01:21:06.389030Z",
     "iopub.status.idle": "2024-09-28T01:21:06.410016Z",
     "shell.execute_reply": "2024-09-28T01:21:06.408695Z",
     "shell.execute_reply.started": "2024-09-28T01:21:06.389500Z"
    }
   },
   "outputs": [
    {
     "name": "stdout",
     "output_type": "stream",
     "text": [
      "<class 'pandas.core.frame.DataFrame'>\n",
      "Index: 51012 entries, 0 to 51011\n",
      "Data columns (total 2 columns):\n",
      " #   Column  Non-Null Count  Dtype \n",
      "---  ------  --------------  ----- \n",
      " 0   id      51012 non-null  int64 \n",
      " 1   Target  51012 non-null  object\n",
      "dtypes: int64(1), object(1)\n",
      "memory usage: 1.2+ MB\n"
     ]
    }
   ],
   "source": [
    "pred1.info()"
   ]
  },
  {
   "cell_type": "code",
   "execution_count": 73,
   "metadata": {
    "execution": {
     "iopub.execute_input": "2024-09-28T01:21:42.964043Z",
     "iopub.status.busy": "2024-09-28T01:21:42.963598Z",
     "iopub.status.idle": "2024-09-28T01:21:43.060979Z",
     "shell.execute_reply": "2024-09-28T01:21:43.059708Z",
     "shell.execute_reply.started": "2024-09-28T01:21:42.963998Z"
    }
   },
   "outputs": [],
   "source": [
    "pred1.to_csv('submission_academic.csv', index=False)"
   ]
  },
  {
   "cell_type": "markdown",
   "metadata": {},
   "source": [
    "## Özet"
   ]
  },
  {
   "cell_type": "markdown",
   "metadata": {},
   "source": [
    "Verilerimizi inceledik,boş verimiz yoktu.Train ve test verilerini ayrı ayrı inceledikten sonra ikisini birleştirdik.Grafiklerle görselleştirmeler yaptık.Modelleme kısmına geldiğimizde birleştirdiğimiz yerden verimizi ikiye ayırdık.%80 eğitim,%20 test ile modelimizi eğittik.Confusion matrix,classification report,k fold cross validation gibi metriklerle başarı oranımızı inceledik.Classification algoritmamızı çağırdık.En yüksek çıkan model Gradient Boosting Classifier olduğu için onunla test verimizi tahmin ettik.Düzenledik,yüklemeye uygun hale getirdik.Kaggle platformunda tahminde bulunduk.Sonunda projemizi tamamlamış olduk."
   ]
  }
 ],
 "metadata": {
  "kaggle": {
   "accelerator": "none",
   "dataSources": [
    {
     "databundleVersionId": 8710574,
     "sourceId": 73290,
     "sourceType": "competition"
    }
   ],
   "dockerImageVersionId": 30775,
   "isGpuEnabled": false,
   "isInternetEnabled": true,
   "language": "python",
   "sourceType": "notebook"
  },
  "kernelspec": {
   "display_name": "Python 3 (ipykernel)",
   "language": "python",
   "name": "python3"
  },
  "language_info": {
   "codemirror_mode": {
    "name": "ipython",
    "version": 3
   },
   "file_extension": ".py",
   "mimetype": "text/x-python",
   "name": "python",
   "nbconvert_exporter": "python",
   "pygments_lexer": "ipython3",
   "version": "3.11.7"
  }
 },
 "nbformat": 4,
 "nbformat_minor": 4
}
