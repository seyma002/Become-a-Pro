{
 "cells": [
  {
   "cell_type": "markdown",
   "metadata": {},
   "source": [
    "## Scene Classification - CNN"
   ]
  },
  {
   "cell_type": "markdown",
   "metadata": {},
   "source": [
    "Görüntü sınıflandırma, bilgisayarla görü alanında önemli bir araştırma konusudur ve doğal sahnelerin otomatik olarak tanımlanması, bu alanın temel uygulamalarından biridir. Bu görev, çeşitli endüstrilerde, özellikle de otonom araçlar, doğal kaynak yönetimi ve turizm uygulamalarında kritik bir rol oynamaktadır.\n",
    "\n",
    "Bu çalışma, doğal sahne görüntülerinin sınıflandırılması için bir CNN modelinin geliştirilmesini içermektedir. Veri seti, her biri farklı özelliklere sahip olan altı sahne kategorisi içermektedirYaklaşık 25.000 resimden oluşmaktadır.\n",
    "\n",
    "* Binalar: İnsan yapımı yapıların bulunduğu görüntüler.\n",
    "* Ormanlar: Ağaç ve bitki örtüsü ile dolu doğal alanlar.\n",
    "* Dağlar: Yüksek ve dik araziler.\n",
    "* Buzullar: Buzla kaplı alanlar, genellikle soğuk iklimlerde bulunur.\n",
    "* Sokaklar: Şehir veya kasaba içindeki yollar ve yolların çevresi.\n",
    "* Deniz: Su kütlelerinin bulunduğu sahneler.\n",
    "\n",
    "Bu çalışma, verimlilik ve doğruluk açısından CNN mimarisinin nasıl optimize edileceğini, veri ön işleme adımlarını ve modelin eğitim sürecini incelemeyi amaçlamaktadır. Sonuç olarak, modelin performansını değerlendirmek için çeşitli metrikler kullanılacak ve sahne sınıflandırma görevindeki başarısı analiz edilecektir. Bu yaklaşım, derin öğrenme tekniklerinin doğal sahne sınıflandırma alanındaki potansiyelini göstermeyi amaçlamaktadır."
   ]
  },
  {
   "cell_type": "markdown",
   "metadata": {},
   "source": [
    "<img src='scene1.jpg' width=550 >"
   ]
  },
  {
   "cell_type": "markdown",
   "metadata": {},
   "source": [
    "<a href='https://www.kaggle.com/datasets/nitishabharathi/scene-classification' target=_blank>Data dosyasını burada bulabilirsiniz.</a>"
   ]
  },
  {
   "cell_type": "code",
   "execution_count": null,
   "metadata": {
    "_cell_guid": "b1076dfc-b9ad-4769-8c92-a6c4dae69d19",
    "_uuid": "8f2839f25d086af736a60e9eeb907d3b93b6e0e5",
    "collapsed": true,
    "execution": {
     "iopub.execute_input": "2024-09-27T02:49:24.77522Z",
     "iopub.status.busy": "2024-09-27T02:49:24.77463Z",
     "iopub.status.idle": "2024-09-27T02:49:37.432132Z",
     "shell.execute_reply": "2024-09-27T02:49:37.430843Z",
     "shell.execute_reply.started": "2024-09-27T02:49:24.775166Z"
    },
    "id": "bkpJeh4ie8dx",
    "jupyter": {
     "outputs_hidden": true
    }
   },
   "outputs": [],
   "source": [
    "import os\n",
    "for dirname, _, filenames in os.walk('/kaggle/input'):\n",
    "    for filename in filenames:\n",
    "        print(os.path.join(dirname, filename))"
   ]
  },
  {
   "cell_type": "markdown",
   "metadata": {},
   "source": [
    "## Kütüphaneleri Yükleme"
   ]
  },
  {
   "cell_type": "code",
   "execution_count": null,
   "metadata": {
    "execution": {
     "iopub.execute_input": "2024-09-27T02:49:37.434422Z",
     "iopub.status.busy": "2024-09-27T02:49:37.43399Z",
     "iopub.status.idle": "2024-09-27T02:49:53.233112Z",
     "shell.execute_reply": "2024-09-27T02:49:53.232143Z",
     "shell.execute_reply.started": "2024-09-27T02:49:37.434381Z"
    },
    "id": "XPQ1EiJQe8dy"
   },
   "outputs": [],
   "source": [
    "import pandas as pd\n",
    "import numpy as np\n",
    "import seaborn as sns\n",
    "import tensorflow as tf\n",
    "import os\n",
    "import cv2\n",
    "import shutil\n",
    "import matplotlib.pyplot as plt\n",
    "from IPython.display import Image\n",
    "import warnings\n",
    "warnings.filterwarnings('ignore')"
   ]
  },
  {
   "cell_type": "code",
   "execution_count": null,
   "metadata": {
    "execution": {
     "iopub.execute_input": "2024-09-27T02:52:25.372482Z",
     "iopub.status.busy": "2024-09-27T02:52:25.371922Z",
     "iopub.status.idle": "2024-09-27T02:52:25.415862Z",
     "shell.execute_reply": "2024-09-27T02:52:25.414586Z",
     "shell.execute_reply.started": "2024-09-27T02:52:25.372427Z"
    },
    "id": "_OMWNpRPe8dy"
   },
   "outputs": [],
   "source": [
    "df=pd.read_csv('/kaggle/input/scene-classification/train-scene classification/train.csv')\n",
    "#Dosyayı okuyoruz."
   ]
  },
  {
   "cell_type": "code",
   "execution_count": null,
   "metadata": {
    "colab": {
     "base_uri": "https://localhost:8080/",
     "height": 206
    },
    "execution": {
     "iopub.execute_input": "2024-09-27T02:52:29.14892Z",
     "iopub.status.busy": "2024-09-27T02:52:29.148372Z",
     "iopub.status.idle": "2024-09-27T02:52:29.167704Z",
     "shell.execute_reply": "2024-09-27T02:52:29.166381Z",
     "shell.execute_reply.started": "2024-09-27T02:52:29.148865Z"
    },
    "id": "NALssKCce8dz",
    "outputId": "e71b68d2-39c6-4171-bb6a-7cc9555f418f"
   },
   "outputs": [
    {
     "data": {
      "application/vnd.google.colaboratory.intrinsic+json": {
       "summary": "{\n  \"name\": \"df\",\n  \"rows\": 17034,\n  \"fields\": [\n    {\n      \"column\": \"image_name\",\n      \"properties\": {\n        \"dtype\": \"string\",\n        \"num_unique_values\": 17034,\n        \"samples\": [\n          \"16451.jpg\",\n          \"9117.jpg\",\n          \"14885.jpg\"\n        ],\n        \"semantic_type\": \"\",\n        \"description\": \"\"\n      }\n    },\n    {\n      \"column\": \"label\",\n      \"properties\": {\n        \"dtype\": \"number\",\n        \"std\": 1,\n        \"min\": 0,\n        \"max\": 5,\n        \"num_unique_values\": 6,\n        \"samples\": [\n          0,\n          4,\n          3\n        ],\n        \"semantic_type\": \"\",\n        \"description\": \"\"\n      }\n    }\n  ]\n}",
       "type": "dataframe",
       "variable_name": "df"
      },
      "text/html": [
       "\n",
       "  <div id=\"df-d0a23943-bc9d-4b7a-888b-1acdfa719e65\" class=\"colab-df-container\">\n",
       "    <div>\n",
       "<style scoped>\n",
       "    .dataframe tbody tr th:only-of-type {\n",
       "        vertical-align: middle;\n",
       "    }\n",
       "\n",
       "    .dataframe tbody tr th {\n",
       "        vertical-align: top;\n",
       "    }\n",
       "\n",
       "    .dataframe thead th {\n",
       "        text-align: right;\n",
       "    }\n",
       "</style>\n",
       "<table border=\"1\" class=\"dataframe\">\n",
       "  <thead>\n",
       "    <tr style=\"text-align: right;\">\n",
       "      <th></th>\n",
       "      <th>image_name</th>\n",
       "      <th>label</th>\n",
       "    </tr>\n",
       "  </thead>\n",
       "  <tbody>\n",
       "    <tr>\n",
       "      <th>0</th>\n",
       "      <td>0.jpg</td>\n",
       "      <td>0</td>\n",
       "    </tr>\n",
       "    <tr>\n",
       "      <th>1</th>\n",
       "      <td>1.jpg</td>\n",
       "      <td>4</td>\n",
       "    </tr>\n",
       "    <tr>\n",
       "      <th>2</th>\n",
       "      <td>2.jpg</td>\n",
       "      <td>5</td>\n",
       "    </tr>\n",
       "    <tr>\n",
       "      <th>3</th>\n",
       "      <td>4.jpg</td>\n",
       "      <td>0</td>\n",
       "    </tr>\n",
       "    <tr>\n",
       "      <th>4</th>\n",
       "      <td>7.jpg</td>\n",
       "      <td>4</td>\n",
       "    </tr>\n",
       "  </tbody>\n",
       "</table>\n",
       "</div>\n",
       "    <div class=\"colab-df-buttons\">\n",
       "\n",
       "  <div class=\"colab-df-container\">\n",
       "    <button class=\"colab-df-convert\" onclick=\"convertToInteractive('df-d0a23943-bc9d-4b7a-888b-1acdfa719e65')\"\n",
       "            title=\"Convert this dataframe to an interactive table.\"\n",
       "            style=\"display:none;\">\n",
       "\n",
       "  <svg xmlns=\"http://www.w3.org/2000/svg\" height=\"24px\" viewBox=\"0 -960 960 960\">\n",
       "    <path d=\"M120-120v-720h720v720H120Zm60-500h600v-160H180v160Zm220 220h160v-160H400v160Zm0 220h160v-160H400v160ZM180-400h160v-160H180v160Zm440 0h160v-160H620v160ZM180-180h160v-160H180v160Zm440 0h160v-160H620v160Z\"/>\n",
       "  </svg>\n",
       "    </button>\n",
       "\n",
       "  <style>\n",
       "    .colab-df-container {\n",
       "      display:flex;\n",
       "      gap: 12px;\n",
       "    }\n",
       "\n",
       "    .colab-df-convert {\n",
       "      background-color: #E8F0FE;\n",
       "      border: none;\n",
       "      border-radius: 50%;\n",
       "      cursor: pointer;\n",
       "      display: none;\n",
       "      fill: #1967D2;\n",
       "      height: 32px;\n",
       "      padding: 0 0 0 0;\n",
       "      width: 32px;\n",
       "    }\n",
       "\n",
       "    .colab-df-convert:hover {\n",
       "      background-color: #E2EBFA;\n",
       "      box-shadow: 0px 1px 2px rgba(60, 64, 67, 0.3), 0px 1px 3px 1px rgba(60, 64, 67, 0.15);\n",
       "      fill: #174EA6;\n",
       "    }\n",
       "\n",
       "    .colab-df-buttons div {\n",
       "      margin-bottom: 4px;\n",
       "    }\n",
       "\n",
       "    [theme=dark] .colab-df-convert {\n",
       "      background-color: #3B4455;\n",
       "      fill: #D2E3FC;\n",
       "    }\n",
       "\n",
       "    [theme=dark] .colab-df-convert:hover {\n",
       "      background-color: #434B5C;\n",
       "      box-shadow: 0px 1px 3px 1px rgba(0, 0, 0, 0.15);\n",
       "      filter: drop-shadow(0px 1px 2px rgba(0, 0, 0, 0.3));\n",
       "      fill: #FFFFFF;\n",
       "    }\n",
       "  </style>\n",
       "\n",
       "    <script>\n",
       "      const buttonEl =\n",
       "        document.querySelector('#df-d0a23943-bc9d-4b7a-888b-1acdfa719e65 button.colab-df-convert');\n",
       "      buttonEl.style.display =\n",
       "        google.colab.kernel.accessAllowed ? 'block' : 'none';\n",
       "\n",
       "      async function convertToInteractive(key) {\n",
       "        const element = document.querySelector('#df-d0a23943-bc9d-4b7a-888b-1acdfa719e65');\n",
       "        const dataTable =\n",
       "          await google.colab.kernel.invokeFunction('convertToInteractive',\n",
       "                                                    [key], {});\n",
       "        if (!dataTable) return;\n",
       "\n",
       "        const docLinkHtml = 'Like what you see? Visit the ' +\n",
       "          '<a target=\"_blank\" href=https://colab.research.google.com/notebooks/data_table.ipynb>data table notebook</a>'\n",
       "          + ' to learn more about interactive tables.';\n",
       "        element.innerHTML = '';\n",
       "        dataTable['output_type'] = 'display_data';\n",
       "        await google.colab.output.renderOutput(dataTable, element);\n",
       "        const docLink = document.createElement('div');\n",
       "        docLink.innerHTML = docLinkHtml;\n",
       "        element.appendChild(docLink);\n",
       "      }\n",
       "    </script>\n",
       "  </div>\n",
       "\n",
       "\n",
       "<div id=\"df-611fde6c-e309-4745-bc38-0d749c49cde2\">\n",
       "  <button class=\"colab-df-quickchart\" onclick=\"quickchart('df-611fde6c-e309-4745-bc38-0d749c49cde2')\"\n",
       "            title=\"Suggest charts\"\n",
       "            style=\"display:none;\">\n",
       "\n",
       "<svg xmlns=\"http://www.w3.org/2000/svg\" height=\"24px\"viewBox=\"0 0 24 24\"\n",
       "     width=\"24px\">\n",
       "    <g>\n",
       "        <path d=\"M19 3H5c-1.1 0-2 .9-2 2v14c0 1.1.9 2 2 2h14c1.1 0 2-.9 2-2V5c0-1.1-.9-2-2-2zM9 17H7v-7h2v7zm4 0h-2V7h2v10zm4 0h-2v-4h2v4z\"/>\n",
       "    </g>\n",
       "</svg>\n",
       "  </button>\n",
       "\n",
       "<style>\n",
       "  .colab-df-quickchart {\n",
       "      --bg-color: #E8F0FE;\n",
       "      --fill-color: #1967D2;\n",
       "      --hover-bg-color: #E2EBFA;\n",
       "      --hover-fill-color: #174EA6;\n",
       "      --disabled-fill-color: #AAA;\n",
       "      --disabled-bg-color: #DDD;\n",
       "  }\n",
       "\n",
       "  [theme=dark] .colab-df-quickchart {\n",
       "      --bg-color: #3B4455;\n",
       "      --fill-color: #D2E3FC;\n",
       "      --hover-bg-color: #434B5C;\n",
       "      --hover-fill-color: #FFFFFF;\n",
       "      --disabled-bg-color: #3B4455;\n",
       "      --disabled-fill-color: #666;\n",
       "  }\n",
       "\n",
       "  .colab-df-quickchart {\n",
       "    background-color: var(--bg-color);\n",
       "    border: none;\n",
       "    border-radius: 50%;\n",
       "    cursor: pointer;\n",
       "    display: none;\n",
       "    fill: var(--fill-color);\n",
       "    height: 32px;\n",
       "    padding: 0;\n",
       "    width: 32px;\n",
       "  }\n",
       "\n",
       "  .colab-df-quickchart:hover {\n",
       "    background-color: var(--hover-bg-color);\n",
       "    box-shadow: 0 1px 2px rgba(60, 64, 67, 0.3), 0 1px 3px 1px rgba(60, 64, 67, 0.15);\n",
       "    fill: var(--button-hover-fill-color);\n",
       "  }\n",
       "\n",
       "  .colab-df-quickchart-complete:disabled,\n",
       "  .colab-df-quickchart-complete:disabled:hover {\n",
       "    background-color: var(--disabled-bg-color);\n",
       "    fill: var(--disabled-fill-color);\n",
       "    box-shadow: none;\n",
       "  }\n",
       "\n",
       "  .colab-df-spinner {\n",
       "    border: 2px solid var(--fill-color);\n",
       "    border-color: transparent;\n",
       "    border-bottom-color: var(--fill-color);\n",
       "    animation:\n",
       "      spin 1s steps(1) infinite;\n",
       "  }\n",
       "\n",
       "  @keyframes spin {\n",
       "    0% {\n",
       "      border-color: transparent;\n",
       "      border-bottom-color: var(--fill-color);\n",
       "      border-left-color: var(--fill-color);\n",
       "    }\n",
       "    20% {\n",
       "      border-color: transparent;\n",
       "      border-left-color: var(--fill-color);\n",
       "      border-top-color: var(--fill-color);\n",
       "    }\n",
       "    30% {\n",
       "      border-color: transparent;\n",
       "      border-left-color: var(--fill-color);\n",
       "      border-top-color: var(--fill-color);\n",
       "      border-right-color: var(--fill-color);\n",
       "    }\n",
       "    40% {\n",
       "      border-color: transparent;\n",
       "      border-right-color: var(--fill-color);\n",
       "      border-top-color: var(--fill-color);\n",
       "    }\n",
       "    60% {\n",
       "      border-color: transparent;\n",
       "      border-right-color: var(--fill-color);\n",
       "    }\n",
       "    80% {\n",
       "      border-color: transparent;\n",
       "      border-right-color: var(--fill-color);\n",
       "      border-bottom-color: var(--fill-color);\n",
       "    }\n",
       "    90% {\n",
       "      border-color: transparent;\n",
       "      border-bottom-color: var(--fill-color);\n",
       "    }\n",
       "  }\n",
       "</style>\n",
       "\n",
       "  <script>\n",
       "    async function quickchart(key) {\n",
       "      const quickchartButtonEl =\n",
       "        document.querySelector('#' + key + ' button');\n",
       "      quickchartButtonEl.disabled = true;  // To prevent multiple clicks.\n",
       "      quickchartButtonEl.classList.add('colab-df-spinner');\n",
       "      try {\n",
       "        const charts = await google.colab.kernel.invokeFunction(\n",
       "            'suggestCharts', [key], {});\n",
       "      } catch (error) {\n",
       "        console.error('Error during call to suggestCharts:', error);\n",
       "      }\n",
       "      quickchartButtonEl.classList.remove('colab-df-spinner');\n",
       "      quickchartButtonEl.classList.add('colab-df-quickchart-complete');\n",
       "    }\n",
       "    (() => {\n",
       "      let quickchartButtonEl =\n",
       "        document.querySelector('#df-611fde6c-e309-4745-bc38-0d749c49cde2 button');\n",
       "      quickchartButtonEl.style.display =\n",
       "        google.colab.kernel.accessAllowed ? 'block' : 'none';\n",
       "    })();\n",
       "  </script>\n",
       "</div>\n",
       "\n",
       "    </div>\n",
       "  </div>\n"
      ],
      "text/plain": [
       "  image_name  label\n",
       "0      0.jpg      0\n",
       "1      1.jpg      4\n",
       "2      2.jpg      5\n",
       "3      4.jpg      0\n",
       "4      7.jpg      4"
      ]
     },
     "execution_count": 23,
     "metadata": {},
     "output_type": "execute_result"
    }
   ],
   "source": [
    "df.head()\n",
    "\n",
    "#Resimler kendisi dosyada var.Kendi sınıfları da var.Bu yüzden label encoding yapmayacağız."
   ]
  },
  {
   "cell_type": "code",
   "execution_count": null,
   "metadata": {
    "colab": {
     "base_uri": "https://localhost:8080/"
    },
    "execution": {
     "iopub.execute_input": "2024-09-27T02:52:36.447983Z",
     "iopub.status.busy": "2024-09-27T02:52:36.447526Z",
     "iopub.status.idle": "2024-09-27T02:52:36.455782Z",
     "shell.execute_reply": "2024-09-27T02:52:36.454441Z",
     "shell.execute_reply.started": "2024-09-27T02:52:36.447942Z"
    },
    "id": "SOYY9sbLe8d0",
    "outputId": "219edbf7-ac76-46ed-b194-299f6d28d7c4"
   },
   "outputs": [
    {
     "data": {
      "text/plain": [
       "(17034, 2)"
      ]
     },
     "execution_count": 5,
     "metadata": {},
     "output_type": "execute_result"
    }
   ],
   "source": [
    "df.shape"
   ]
  },
  {
   "cell_type": "code",
   "execution_count": null,
   "metadata": {
    "execution": {
     "iopub.execute_input": "2024-09-27T02:52:52.094956Z",
     "iopub.status.busy": "2024-09-27T02:52:52.094472Z",
     "iopub.status.idle": "2024-09-27T02:52:52.101981Z",
     "shell.execute_reply": "2024-09-27T02:52:52.1005Z",
     "shell.execute_reply.started": "2024-09-27T02:52:52.09491Z"
    },
    "id": "4q2Hrx_Ye8d0"
   },
   "outputs": [],
   "source": [
    "df.columns=['img','label']\n",
    "#Sütunları tekrar isimlendiriyoruz."
   ]
  },
  {
   "cell_type": "code",
   "execution_count": null,
   "metadata": {
    "colab": {
     "base_uri": "https://localhost:8080/"
    },
    "execution": {
     "iopub.execute_input": "2024-09-27T02:53:32.56714Z",
     "iopub.status.busy": "2024-09-27T02:53:32.565351Z",
     "iopub.status.idle": "2024-09-27T02:53:32.592976Z",
     "shell.execute_reply": "2024-09-27T02:53:32.591609Z",
     "shell.execute_reply.started": "2024-09-27T02:53:32.567069Z"
    },
    "id": "SHGuwdiEe8d1",
    "outputId": "a39d4d88-2eb3-46e0-a0d1-10f6d379726f"
   },
   "outputs": [
    {
     "name": "stdout",
     "output_type": "stream",
     "text": [
      "<class 'pandas.core.frame.DataFrame'>\n",
      "RangeIndex: 17034 entries, 0 to 17033\n",
      "Data columns (total 2 columns):\n",
      " #   Column  Non-Null Count  Dtype \n",
      "---  ------  --------------  ----- \n",
      " 0   img     17034 non-null  object\n",
      " 1   label   17034 non-null  int64 \n",
      "dtypes: int64(1), object(1)\n",
      "memory usage: 266.3+ KB\n"
     ]
    }
   ],
   "source": [
    "df.info()"
   ]
  },
  {
   "cell_type": "code",
   "execution_count": null,
   "metadata": {
    "execution": {
     "iopub.execute_input": "2024-09-27T02:53:56.829684Z",
     "iopub.status.busy": "2024-09-27T02:53:56.829239Z",
     "iopub.status.idle": "2024-09-27T02:53:56.838382Z",
     "shell.execute_reply": "2024-09-27T02:53:56.837087Z",
     "shell.execute_reply.started": "2024-09-27T02:53:56.829641Z"
    },
    "id": "0BiF1_nTe8d1"
   },
   "outputs": [],
   "source": [
    "# Dosya yolu\n",
    "base_path = '/kaggle/input/scene-classification/train-scene classification/train/'\n",
    "\n",
    "# Mevcut DataFrame'deki image_name sütununu kullanarak tam dosya yollarını oluşturma\n",
    "df['img'] = base_path + df['img']\n",
    "\n",
    "#Verilen csv dosyasında resimlerin dosya yolu yok.Resimleri okuyup,normalize ederken dosya yolunu bulamıyor.\n",
    "#Bizde bu yüzden dosya yolunu kendimiz ekliyoruz."
   ]
  },
  {
   "cell_type": "code",
   "execution_count": null,
   "metadata": {
    "execution": {
     "iopub.execute_input": "2024-09-27T03:02:27.943808Z",
     "iopub.status.busy": "2024-09-27T03:02:27.943343Z",
     "iopub.status.idle": "2024-09-27T03:02:56.130314Z",
     "shell.execute_reply": "2024-09-27T03:02:56.129114Z",
     "shell.execute_reply.started": "2024-09-27T03:02:27.943763Z"
    },
    "id": "SY1-1ooXe8d2"
   },
   "outputs": [],
   "source": [
    "x=[]\n",
    "for img in df['img']:\n",
    "    img=cv2.imread(img)\n",
    "    img=cv2.resize(img,(64,64))\n",
    "    img=img/255.0\n",
    "    x.append(img)"
   ]
  },
  {
   "cell_type": "markdown",
   "metadata": {},
   "source": [
    "## Modelleme "
   ]
  },
  {
   "cell_type": "code",
   "execution_count": null,
   "metadata": {},
   "outputs": [],
   "source": [
    "from tensorflow.keras.models import Sequential\n",
    "from tensorflow.keras.layers import Dense, Conv2D, Input, Reshape, MaxPooling2D, Flatten, Dropout, BatchNormalization\n",
    "from sklearn.model_selection import train_test_split\n",
    "from keras.callbacks import EarlyStopping\n",
    "from sklearn.metrics import accuracy_score, classification_report, confusion_matrix\n",
    "from tensorflow.keras.models import save_model\n",
    "from tensorflow.keras.preprocessing import image\n",
    "from keras.utils import to_categorical"
   ]
  },
  {
   "cell_type": "code",
   "execution_count": null,
   "metadata": {
    "execution": {
     "iopub.execute_input": "2024-09-27T03:02:56.132801Z",
     "iopub.status.busy": "2024-09-27T03:02:56.132383Z",
     "iopub.status.idle": "2024-09-27T03:02:56.854906Z",
     "shell.execute_reply": "2024-09-27T03:02:56.853205Z",
     "shell.execute_reply.started": "2024-09-27T03:02:56.132759Z"
    },
    "id": "VQxVNEIee8d3"
   },
   "outputs": [],
   "source": [
    "x=np.array(x)"
   ]
  },
  {
   "cell_type": "code",
   "execution_count": null,
   "metadata": {
    "execution": {
     "iopub.execute_input": "2024-09-27T03:02:56.856628Z",
     "iopub.status.busy": "2024-09-27T03:02:56.856242Z",
     "iopub.status.idle": "2024-09-27T03:02:56.863213Z",
     "shell.execute_reply": "2024-09-27T03:02:56.861056Z",
     "shell.execute_reply.started": "2024-09-27T03:02:56.85657Z"
    },
    "id": "OgR3AQXye8d3"
   },
   "outputs": [],
   "source": [
    "y=df['label']"
   ]
  },
  {
   "cell_type": "code",
   "execution_count": null,
   "metadata": {
    "execution": {
     "iopub.execute_input": "2024-09-27T03:02:56.867898Z",
     "iopub.status.busy": "2024-09-27T03:02:56.866931Z",
     "iopub.status.idle": "2024-09-27T03:02:56.880958Z",
     "shell.execute_reply": "2024-09-27T03:02:56.879583Z",
     "shell.execute_reply.started": "2024-09-27T03:02:56.867837Z"
    },
    "id": "BQRRmaPQe8d3",
    "outputId": "e27adc15-5967-4948-edac-7d85e84d4cf2"
   },
   "outputs": [
    {
     "data": {
      "text/plain": [
       "6"
      ]
     },
     "execution_count": 39,
     "metadata": {},
     "output_type": "execute_result"
    }
   ],
   "source": [
    "df['label'].nunique()"
   ]
  },
  {
   "cell_type": "code",
   "execution_count": null,
   "metadata": {
    "execution": {
     "iopub.execute_input": "2024-09-27T03:02:56.882902Z",
     "iopub.status.busy": "2024-09-27T03:02:56.882423Z",
     "iopub.status.idle": "2024-09-27T03:02:56.893495Z",
     "shell.execute_reply": "2024-09-27T03:02:56.892027Z",
     "shell.execute_reply.started": "2024-09-27T03:02:56.882846Z"
    },
    "id": "x-9GvAV3e8d3",
    "outputId": "cbfb94fa-8b8d-4876-99e4-de9daee5ed35"
   },
   "outputs": [
    {
     "name": "stdout",
     "output_type": "stream",
     "text": [
      "17034\n",
      "17034\n"
     ]
    }
   ],
   "source": [
    "print(len(x))\n",
    "print(len(y))"
   ]
  },
  {
   "cell_type": "code",
   "execution_count": null,
   "metadata": {
    "execution": {
     "iopub.execute_input": "2024-09-27T03:02:56.895213Z",
     "iopub.status.busy": "2024-09-27T03:02:56.89487Z",
     "iopub.status.idle": "2024-09-27T03:02:57.525808Z",
     "shell.execute_reply": "2024-09-27T03:02:57.524578Z",
     "shell.execute_reply.started": "2024-09-27T03:02:56.895177Z"
    },
    "id": "PBssCunve8d3"
   },
   "outputs": [],
   "source": [
    "x_train,x_test,y_train,y_test=train_test_split(x,y,test_size=.20,random_state=42)"
   ]
  },
  {
   "cell_type": "code",
   "execution_count": null,
   "metadata": {
    "execution": {
     "iopub.execute_input": "2024-09-27T03:02:57.527528Z",
     "iopub.status.busy": "2024-09-27T03:02:57.527146Z",
     "iopub.status.idle": "2024-09-27T03:02:57.534217Z",
     "shell.execute_reply": "2024-09-27T03:02:57.533109Z",
     "shell.execute_reply.started": "2024-09-27T03:02:57.527489Z"
    },
    "id": "mPmqqN_ke8d3"
   },
   "outputs": [],
   "source": [
    "y_train = to_categorical(y_train, num_classes=6)\n",
    "y_test = to_categorical(y_test, num_classes=6)\n",
    "\n",
    "# Eğitim ve test etiketlerini one-hot encoding ile dönüştürüyoruz.Yoksa hata veriyor."
   ]
  },
  {
   "cell_type": "code",
   "execution_count": null,
   "metadata": {
    "execution": {
     "iopub.execute_input": "2024-09-27T03:02:57.538072Z",
     "iopub.status.busy": "2024-09-27T03:02:57.535515Z",
     "iopub.status.idle": "2024-09-27T03:02:57.638533Z",
     "shell.execute_reply": "2024-09-27T03:02:57.636962Z",
     "shell.execute_reply.started": "2024-09-27T03:02:57.538017Z"
    },
    "id": "xG1McnCIe8d3"
   },
   "outputs": [],
   "source": [
    "model=Sequential()\n",
    "model.add(Input(shape=(64,64,3)))\n",
    "model.add(Conv2D(32,kernel_size=(3,3),activation='relu'))\n",
    "model.add(MaxPooling2D(pool_size=(2,2)))\n",
    "model.add(Conv2D(64,kernel_size=(3,3),activation='relu'))\n",
    "model.add(MaxPooling2D(pool_size=(2,2)))\n",
    "model.add(Flatten())\n",
    "model.add(Dense(128))\n",
    "model.add(Dropout(0.2))\n",
    "model.add(Dense(6,activation='softmax'))\n",
    "early_stopping=EarlyStopping(monitor='val_accuracy', patience=10, verbose=1)\n",
    "model.compile(optimizer='adam', loss='categorical_crossentropy',metrics=['accuracy'])"
   ]
  },
  {
   "cell_type": "code",
   "execution_count": null,
   "metadata": {
    "execution": {
     "iopub.execute_input": "2024-09-27T03:02:57.640858Z",
     "iopub.status.busy": "2024-09-27T03:02:57.640407Z",
     "iopub.status.idle": "2024-09-27T03:11:57.173835Z",
     "shell.execute_reply": "2024-09-27T03:11:57.172474Z",
     "shell.execute_reply.started": "2024-09-27T03:02:57.640815Z"
    },
    "id": "pJj3hzfte8d4",
    "outputId": "85d3bf98-7c3e-4e65-987e-0eb9f1ae6f7a"
   },
   "outputs": [
    {
     "name": "stdout",
     "output_type": "stream",
     "text": [
      "Epoch 1/25\n",
      "\u001b[1m426/426\u001b[0m \u001b[32m━━━━━━━━━━━━━━━━━━━━\u001b[0m\u001b[37m\u001b[0m \u001b[1m40s\u001b[0m 89ms/step - accuracy: 0.5470 - loss: 1.1985 - val_accuracy: 0.7162 - val_loss: 0.7782\n",
      "Epoch 2/25\n",
      "\u001b[1m426/426\u001b[0m \u001b[32m━━━━━━━━━━━━━━━━━━━━\u001b[0m\u001b[37m\u001b[0m \u001b[1m37s\u001b[0m 88ms/step - accuracy: 0.7366 - loss: 0.7346 - val_accuracy: 0.7693 - val_loss: 0.6644\n",
      "Epoch 3/25\n",
      "\u001b[1m426/426\u001b[0m \u001b[32m━━━━━━━━━━━━━━━━━━━━\u001b[0m\u001b[37m\u001b[0m \u001b[1m38s\u001b[0m 90ms/step - accuracy: 0.7953 - loss: 0.5868 - val_accuracy: 0.7878 - val_loss: 0.5955\n",
      "Epoch 4/25\n",
      "\u001b[1m426/426\u001b[0m \u001b[32m━━━━━━━━━━━━━━━━━━━━\u001b[0m\u001b[37m\u001b[0m \u001b[1m38s\u001b[0m 88ms/step - accuracy: 0.8397 - loss: 0.4634 - val_accuracy: 0.7904 - val_loss: 0.5938\n",
      "Epoch 5/25\n",
      "\u001b[1m426/426\u001b[0m \u001b[32m━━━━━━━━━━━━━━━━━━━━\u001b[0m\u001b[37m\u001b[0m \u001b[1m37s\u001b[0m 88ms/step - accuracy: 0.8724 - loss: 0.3610 - val_accuracy: 0.7810 - val_loss: 0.6840\n",
      "Epoch 6/25\n",
      "\u001b[1m426/426\u001b[0m \u001b[32m━━━━━━━━━━━━━━━━━━━━\u001b[0m\u001b[37m\u001b[0m \u001b[1m38s\u001b[0m 88ms/step - accuracy: 0.8934 - loss: 0.2991 - val_accuracy: 0.7631 - val_loss: 0.7750\n",
      "Epoch 7/25\n",
      "\u001b[1m426/426\u001b[0m \u001b[32m━━━━━━━━━━━━━━━━━━━━\u001b[0m\u001b[37m\u001b[0m \u001b[1m38s\u001b[0m 88ms/step - accuracy: 0.9137 - loss: 0.2416 - val_accuracy: 0.7825 - val_loss: 0.7739\n",
      "Epoch 8/25\n",
      "\u001b[1m426/426\u001b[0m \u001b[32m━━━━━━━━━━━━━━━━━━━━\u001b[0m\u001b[37m\u001b[0m \u001b[1m37s\u001b[0m 88ms/step - accuracy: 0.9440 - loss: 0.1730 - val_accuracy: 0.7722 - val_loss: 0.9116\n",
      "Epoch 9/25\n",
      "\u001b[1m426/426\u001b[0m \u001b[32m━━━━━━━━━━━━━━━━━━━━\u001b[0m\u001b[37m\u001b[0m \u001b[1m41s\u001b[0m 89ms/step - accuracy: 0.9472 - loss: 0.1480 - val_accuracy: 0.7796 - val_loss: 0.9628\n",
      "Epoch 10/25\n",
      "\u001b[1m426/426\u001b[0m \u001b[32m━━━━━━━━━━━━━━━━━━━━\u001b[0m\u001b[37m\u001b[0m \u001b[1m37s\u001b[0m 87ms/step - accuracy: 0.9579 - loss: 0.1161 - val_accuracy: 0.7708 - val_loss: 1.0989\n",
      "Epoch 11/25\n",
      "\u001b[1m426/426\u001b[0m \u001b[32m━━━━━━━━━━━━━━━━━━━━\u001b[0m\u001b[37m\u001b[0m \u001b[1m37s\u001b[0m 87ms/step - accuracy: 0.9677 - loss: 0.0981 - val_accuracy: 0.7643 - val_loss: 1.1285\n",
      "Epoch 12/25\n",
      "\u001b[1m426/426\u001b[0m \u001b[32m━━━━━━━━━━━━━━━━━━━━\u001b[0m\u001b[37m\u001b[0m \u001b[1m37s\u001b[0m 88ms/step - accuracy: 0.9677 - loss: 0.0994 - val_accuracy: 0.7584 - val_loss: 1.1314\n",
      "Epoch 13/25\n",
      "\u001b[1m426/426\u001b[0m \u001b[32m━━━━━━━━━━━━━━━━━━━━\u001b[0m\u001b[37m\u001b[0m \u001b[1m41s\u001b[0m 87ms/step - accuracy: 0.9740 - loss: 0.0807 - val_accuracy: 0.7482 - val_loss: 1.3506\n",
      "Epoch 14/25\n",
      "\u001b[1m426/426\u001b[0m \u001b[32m━━━━━━━━━━━━━━━━━━━━\u001b[0m\u001b[37m\u001b[0m \u001b[1m42s\u001b[0m 89ms/step - accuracy: 0.9728 - loss: 0.0783 - val_accuracy: 0.7549 - val_loss: 1.3593\n",
      "Epoch 14: early stopping\n"
     ]
    }
   ],
   "source": [
    "history=model.fit(x_train,y_train,epochs=25,verbose=1,validation_data=(x_test,y_test),callbacks=[early_stopping])"
   ]
  },
  {
   "cell_type": "code",
   "execution_count": null,
   "metadata": {
    "execution": {
     "iopub.execute_input": "2024-09-27T03:12:15.057695Z",
     "iopub.status.busy": "2024-09-27T03:12:15.05724Z",
     "iopub.status.idle": "2024-09-27T03:12:15.088475Z",
     "shell.execute_reply": "2024-09-27T03:12:15.087143Z",
     "shell.execute_reply.started": "2024-09-27T03:12:15.05765Z"
    },
    "id": "l_h6pfmje8d4",
    "outputId": "f2a7b6cc-1b81-4d1b-b881-7fc017d4dd63"
   },
   "outputs": [
    {
     "data": {
      "text/html": [
       "<pre style=\"white-space:pre;overflow-x:auto;line-height:normal;font-family:Menlo,'DejaVu Sans Mono',consolas,'Courier New',monospace\"><span style=\"font-weight: bold\">Model: \"sequential_2\"</span>\n",
       "</pre>\n"
      ],
      "text/plain": [
       "\u001b[1mModel: \"sequential_2\"\u001b[0m\n"
      ]
     },
     "metadata": {},
     "output_type": "display_data"
    },
    {
     "data": {
      "text/html": [
       "<pre style=\"white-space:pre;overflow-x:auto;line-height:normal;font-family:Menlo,'DejaVu Sans Mono',consolas,'Courier New',monospace\">┏━━━━━━━━━━━━━━━━━━━━━━━━━━━━━━━━━┳━━━━━━━━━━━━━━━━━━━━━━━━┳━━━━━━━━━━━━━━━┓\n",
       "┃<span style=\"font-weight: bold\"> Layer (type)                    </span>┃<span style=\"font-weight: bold\"> Output Shape           </span>┃<span style=\"font-weight: bold\">       Param # </span>┃\n",
       "┡━━━━━━━━━━━━━━━━━━━━━━━━━━━━━━━━━╇━━━━━━━━━━━━━━━━━━━━━━━━╇━━━━━━━━━━━━━━━┩\n",
       "│ conv2d_4 (<span style=\"color: #0087ff; text-decoration-color: #0087ff\">Conv2D</span>)               │ (<span style=\"color: #00d7ff; text-decoration-color: #00d7ff\">None</span>, <span style=\"color: #00af00; text-decoration-color: #00af00\">62</span>, <span style=\"color: #00af00; text-decoration-color: #00af00\">62</span>, <span style=\"color: #00af00; text-decoration-color: #00af00\">32</span>)     │           <span style=\"color: #00af00; text-decoration-color: #00af00\">896</span> │\n",
       "├─────────────────────────────────┼────────────────────────┼───────────────┤\n",
       "│ max_pooling2d_4 (<span style=\"color: #0087ff; text-decoration-color: #0087ff\">MaxPooling2D</span>)  │ (<span style=\"color: #00d7ff; text-decoration-color: #00d7ff\">None</span>, <span style=\"color: #00af00; text-decoration-color: #00af00\">31</span>, <span style=\"color: #00af00; text-decoration-color: #00af00\">31</span>, <span style=\"color: #00af00; text-decoration-color: #00af00\">32</span>)     │             <span style=\"color: #00af00; text-decoration-color: #00af00\">0</span> │\n",
       "├─────────────────────────────────┼────────────────────────┼───────────────┤\n",
       "│ conv2d_5 (<span style=\"color: #0087ff; text-decoration-color: #0087ff\">Conv2D</span>)               │ (<span style=\"color: #00d7ff; text-decoration-color: #00d7ff\">None</span>, <span style=\"color: #00af00; text-decoration-color: #00af00\">29</span>, <span style=\"color: #00af00; text-decoration-color: #00af00\">29</span>, <span style=\"color: #00af00; text-decoration-color: #00af00\">64</span>)     │        <span style=\"color: #00af00; text-decoration-color: #00af00\">18,496</span> │\n",
       "├─────────────────────────────────┼────────────────────────┼───────────────┤\n",
       "│ max_pooling2d_5 (<span style=\"color: #0087ff; text-decoration-color: #0087ff\">MaxPooling2D</span>)  │ (<span style=\"color: #00d7ff; text-decoration-color: #00d7ff\">None</span>, <span style=\"color: #00af00; text-decoration-color: #00af00\">14</span>, <span style=\"color: #00af00; text-decoration-color: #00af00\">14</span>, <span style=\"color: #00af00; text-decoration-color: #00af00\">64</span>)     │             <span style=\"color: #00af00; text-decoration-color: #00af00\">0</span> │\n",
       "├─────────────────────────────────┼────────────────────────┼───────────────┤\n",
       "│ flatten_2 (<span style=\"color: #0087ff; text-decoration-color: #0087ff\">Flatten</span>)             │ (<span style=\"color: #00d7ff; text-decoration-color: #00d7ff\">None</span>, <span style=\"color: #00af00; text-decoration-color: #00af00\">12544</span>)          │             <span style=\"color: #00af00; text-decoration-color: #00af00\">0</span> │\n",
       "├─────────────────────────────────┼────────────────────────┼───────────────┤\n",
       "│ dense_4 (<span style=\"color: #0087ff; text-decoration-color: #0087ff\">Dense</span>)                 │ (<span style=\"color: #00d7ff; text-decoration-color: #00d7ff\">None</span>, <span style=\"color: #00af00; text-decoration-color: #00af00\">128</span>)            │     <span style=\"color: #00af00; text-decoration-color: #00af00\">1,605,760</span> │\n",
       "├─────────────────────────────────┼────────────────────────┼───────────────┤\n",
       "│ dropout_2 (<span style=\"color: #0087ff; text-decoration-color: #0087ff\">Dropout</span>)             │ (<span style=\"color: #00d7ff; text-decoration-color: #00d7ff\">None</span>, <span style=\"color: #00af00; text-decoration-color: #00af00\">128</span>)            │             <span style=\"color: #00af00; text-decoration-color: #00af00\">0</span> │\n",
       "├─────────────────────────────────┼────────────────────────┼───────────────┤\n",
       "│ dense_5 (<span style=\"color: #0087ff; text-decoration-color: #0087ff\">Dense</span>)                 │ (<span style=\"color: #00d7ff; text-decoration-color: #00d7ff\">None</span>, <span style=\"color: #00af00; text-decoration-color: #00af00\">6</span>)              │           <span style=\"color: #00af00; text-decoration-color: #00af00\">774</span> │\n",
       "└─────────────────────────────────┴────────────────────────┴───────────────┘\n",
       "</pre>\n"
      ],
      "text/plain": [
       "┏━━━━━━━━━━━━━━━━━━━━━━━━━━━━━━━━━┳━━━━━━━━━━━━━━━━━━━━━━━━┳━━━━━━━━━━━━━━━┓\n",
       "┃\u001b[1m \u001b[0m\u001b[1mLayer (type)                   \u001b[0m\u001b[1m \u001b[0m┃\u001b[1m \u001b[0m\u001b[1mOutput Shape          \u001b[0m\u001b[1m \u001b[0m┃\u001b[1m \u001b[0m\u001b[1m      Param #\u001b[0m\u001b[1m \u001b[0m┃\n",
       "┡━━━━━━━━━━━━━━━━━━━━━━━━━━━━━━━━━╇━━━━━━━━━━━━━━━━━━━━━━━━╇━━━━━━━━━━━━━━━┩\n",
       "│ conv2d_4 (\u001b[38;5;33mConv2D\u001b[0m)               │ (\u001b[38;5;45mNone\u001b[0m, \u001b[38;5;34m62\u001b[0m, \u001b[38;5;34m62\u001b[0m, \u001b[38;5;34m32\u001b[0m)     │           \u001b[38;5;34m896\u001b[0m │\n",
       "├─────────────────────────────────┼────────────────────────┼───────────────┤\n",
       "│ max_pooling2d_4 (\u001b[38;5;33mMaxPooling2D\u001b[0m)  │ (\u001b[38;5;45mNone\u001b[0m, \u001b[38;5;34m31\u001b[0m, \u001b[38;5;34m31\u001b[0m, \u001b[38;5;34m32\u001b[0m)     │             \u001b[38;5;34m0\u001b[0m │\n",
       "├─────────────────────────────────┼────────────────────────┼───────────────┤\n",
       "│ conv2d_5 (\u001b[38;5;33mConv2D\u001b[0m)               │ (\u001b[38;5;45mNone\u001b[0m, \u001b[38;5;34m29\u001b[0m, \u001b[38;5;34m29\u001b[0m, \u001b[38;5;34m64\u001b[0m)     │        \u001b[38;5;34m18,496\u001b[0m │\n",
       "├─────────────────────────────────┼────────────────────────┼───────────────┤\n",
       "│ max_pooling2d_5 (\u001b[38;5;33mMaxPooling2D\u001b[0m)  │ (\u001b[38;5;45mNone\u001b[0m, \u001b[38;5;34m14\u001b[0m, \u001b[38;5;34m14\u001b[0m, \u001b[38;5;34m64\u001b[0m)     │             \u001b[38;5;34m0\u001b[0m │\n",
       "├─────────────────────────────────┼────────────────────────┼───────────────┤\n",
       "│ flatten_2 (\u001b[38;5;33mFlatten\u001b[0m)             │ (\u001b[38;5;45mNone\u001b[0m, \u001b[38;5;34m12544\u001b[0m)          │             \u001b[38;5;34m0\u001b[0m │\n",
       "├─────────────────────────────────┼────────────────────────┼───────────────┤\n",
       "│ dense_4 (\u001b[38;5;33mDense\u001b[0m)                 │ (\u001b[38;5;45mNone\u001b[0m, \u001b[38;5;34m128\u001b[0m)            │     \u001b[38;5;34m1,605,760\u001b[0m │\n",
       "├─────────────────────────────────┼────────────────────────┼───────────────┤\n",
       "│ dropout_2 (\u001b[38;5;33mDropout\u001b[0m)             │ (\u001b[38;5;45mNone\u001b[0m, \u001b[38;5;34m128\u001b[0m)            │             \u001b[38;5;34m0\u001b[0m │\n",
       "├─────────────────────────────────┼────────────────────────┼───────────────┤\n",
       "│ dense_5 (\u001b[38;5;33mDense\u001b[0m)                 │ (\u001b[38;5;45mNone\u001b[0m, \u001b[38;5;34m6\u001b[0m)              │           \u001b[38;5;34m774\u001b[0m │\n",
       "└─────────────────────────────────┴────────────────────────┴───────────────┘\n"
      ]
     },
     "metadata": {},
     "output_type": "display_data"
    },
    {
     "data": {
      "text/html": [
       "<pre style=\"white-space:pre;overflow-x:auto;line-height:normal;font-family:Menlo,'DejaVu Sans Mono',consolas,'Courier New',monospace\"><span style=\"font-weight: bold\"> Total params: </span><span style=\"color: #00af00; text-decoration-color: #00af00\">4,877,780</span> (18.61 MB)\n",
       "</pre>\n"
      ],
      "text/plain": [
       "\u001b[1m Total params: \u001b[0m\u001b[38;5;34m4,877,780\u001b[0m (18.61 MB)\n"
      ]
     },
     "metadata": {},
     "output_type": "display_data"
    },
    {
     "data": {
      "text/html": [
       "<pre style=\"white-space:pre;overflow-x:auto;line-height:normal;font-family:Menlo,'DejaVu Sans Mono',consolas,'Courier New',monospace\"><span style=\"font-weight: bold\"> Trainable params: </span><span style=\"color: #00af00; text-decoration-color: #00af00\">1,625,926</span> (6.20 MB)\n",
       "</pre>\n"
      ],
      "text/plain": [
       "\u001b[1m Trainable params: \u001b[0m\u001b[38;5;34m1,625,926\u001b[0m (6.20 MB)\n"
      ]
     },
     "metadata": {},
     "output_type": "display_data"
    },
    {
     "data": {
      "text/html": [
       "<pre style=\"white-space:pre;overflow-x:auto;line-height:normal;font-family:Menlo,'DejaVu Sans Mono',consolas,'Courier New',monospace\"><span style=\"font-weight: bold\"> Non-trainable params: </span><span style=\"color: #00af00; text-decoration-color: #00af00\">0</span> (0.00 B)\n",
       "</pre>\n"
      ],
      "text/plain": [
       "\u001b[1m Non-trainable params: \u001b[0m\u001b[38;5;34m0\u001b[0m (0.00 B)\n"
      ]
     },
     "metadata": {},
     "output_type": "display_data"
    },
    {
     "data": {
      "text/html": [
       "<pre style=\"white-space:pre;overflow-x:auto;line-height:normal;font-family:Menlo,'DejaVu Sans Mono',consolas,'Courier New',monospace\"><span style=\"font-weight: bold\"> Optimizer params: </span><span style=\"color: #00af00; text-decoration-color: #00af00\">3,251,854</span> (12.40 MB)\n",
       "</pre>\n"
      ],
      "text/plain": [
       "\u001b[1m Optimizer params: \u001b[0m\u001b[38;5;34m3,251,854\u001b[0m (12.40 MB)\n"
      ]
     },
     "metadata": {},
     "output_type": "display_data"
    }
   ],
   "source": [
    "model.summary()"
   ]
  },
  {
   "cell_type": "code",
   "execution_count": null,
   "metadata": {
    "execution": {
     "iopub.execute_input": "2024-09-27T03:12:15.356396Z",
     "iopub.status.busy": "2024-09-27T03:12:15.355987Z",
     "iopub.status.idle": "2024-09-27T03:12:18.102714Z",
     "shell.execute_reply": "2024-09-27T03:12:18.101166Z",
     "shell.execute_reply.started": "2024-09-27T03:12:15.356356Z"
    },
    "id": "hhYWKe1ne8d4",
    "outputId": "7053e5d2-d503-4966-88d2-52afbad0eb52"
   },
   "outputs": [
    {
     "name": "stdout",
     "output_type": "stream",
     "text": [
      "\u001b[1m107/107\u001b[0m \u001b[32m━━━━━━━━━━━━━━━━━━━━\u001b[0m\u001b[37m\u001b[0m \u001b[1m2s\u001b[0m 22ms/step - accuracy: 0.7492 - loss: 1.3671\n",
      "Test Loss: 1.3592864274978638\n",
      "Test Accuracy: 0.7549163699150085\n"
     ]
    }
   ],
   "source": [
    "loss,accuracy=model.evaluate(x_test, y_test)\n",
    "print('Test Loss:', loss)\n",
    "print('Test Accuracy:', accuracy)"
   ]
  },
  {
   "cell_type": "code",
   "execution_count": null,
   "metadata": {
    "execution": {
     "iopub.execute_input": "2024-09-27T03:12:18.10505Z",
     "iopub.status.busy": "2024-09-27T03:12:18.10465Z",
     "iopub.status.idle": "2024-09-27T03:12:20.851217Z",
     "shell.execute_reply": "2024-09-27T03:12:20.850125Z",
     "shell.execute_reply.started": "2024-09-27T03:12:18.105008Z"
    },
    "id": "mrJXmOawe8d4",
    "outputId": "363f8b26-da5b-41dc-e1f5-1ca69e793276"
   },
   "outputs": [
    {
     "name": "stdout",
     "output_type": "stream",
     "text": [
      "\u001b[1m107/107\u001b[0m \u001b[32m━━━━━━━━━━━━━━━━━━━━\u001b[0m\u001b[37m\u001b[0m \u001b[1m3s\u001b[0m 23ms/step\n"
     ]
    }
   ],
   "source": [
    "pred=model.predict(x_test)"
   ]
  },
  {
   "cell_type": "code",
   "execution_count": null,
   "metadata": {
    "execution": {
     "iopub.execute_input": "2024-09-27T03:12:20.853431Z",
     "iopub.status.busy": "2024-09-27T03:12:20.853044Z",
     "iopub.status.idle": "2024-09-27T03:12:20.858838Z",
     "shell.execute_reply": "2024-09-27T03:12:20.857505Z",
     "shell.execute_reply.started": "2024-09-27T03:12:20.853391Z"
    },
    "id": "PVylCm2xe8d4"
   },
   "outputs": [],
   "source": [
    "y_test = np.argmax(y_test, axis=1)\n",
    "pred = np.argmax(pred, axis=1)"
   ]
  },
  {
   "cell_type": "code",
   "execution_count": null,
   "metadata": {
    "execution": {
     "iopub.execute_input": "2024-09-27T03:12:20.872636Z",
     "iopub.status.busy": "2024-09-27T03:12:20.871901Z",
     "iopub.status.idle": "2024-09-27T03:12:20.885184Z",
     "shell.execute_reply": "2024-09-27T03:12:20.883977Z",
     "shell.execute_reply.started": "2024-09-27T03:12:20.872557Z"
    },
    "id": "TTcpz1Cfe8d5",
    "outputId": "80ffd8ff-57d1-4473-f794-dcc2e903636e"
   },
   "outputs": [
    {
     "data": {
      "text/plain": [
       "array([[370,  16,  17,  21,  44,  80],\n",
       "       [  9, 523,   0,   6,   3,   9],\n",
       "       [ 17,   4, 396,  95,  70,  17],\n",
       "       [ 13,   2,  68, 413,  90,   8],\n",
       "       [ 20,   5,  31,  36, 443,  19],\n",
       "       [ 79,  26,   8,   7,  15, 427]])"
      ]
     },
     "execution_count": 50,
     "metadata": {},
     "output_type": "execute_result"
    }
   ],
   "source": [
    "confusion_matrix(y_test,pred)"
   ]
  },
  {
   "cell_type": "code",
   "execution_count": null,
   "metadata": {
    "execution": {
     "iopub.execute_input": "2024-09-27T03:12:20.886848Z",
     "iopub.status.busy": "2024-09-27T03:12:20.886431Z",
     "iopub.status.idle": "2024-09-27T03:12:20.907942Z",
     "shell.execute_reply": "2024-09-27T03:12:20.906865Z",
     "shell.execute_reply.started": "2024-09-27T03:12:20.886804Z"
    },
    "id": "u6LNNXuAe8d5",
    "outputId": "e99eb134-495a-40fb-bd94-706a220bdbd8"
   },
   "outputs": [
    {
     "name": "stdout",
     "output_type": "stream",
     "text": [
      "              precision    recall  f1-score   support\n",
      "\n",
      "           0       0.73      0.68      0.70       548\n",
      "           1       0.91      0.95      0.93       550\n",
      "           2       0.76      0.66      0.71       599\n",
      "           3       0.71      0.70      0.70       594\n",
      "           4       0.67      0.80      0.73       554\n",
      "           5       0.76      0.76      0.76       562\n",
      "\n",
      "    accuracy                           0.75      3407\n",
      "   macro avg       0.76      0.76      0.76      3407\n",
      "weighted avg       0.76      0.75      0.75      3407\n",
      "\n"
     ]
    }
   ],
   "source": [
    "print(classification_report(y_test, pred))"
   ]
  },
  {
   "cell_type": "code",
   "execution_count": null,
   "metadata": {
    "execution": {
     "iopub.execute_input": "2024-09-27T03:12:20.909821Z",
     "iopub.status.busy": "2024-09-27T03:12:20.909358Z",
     "iopub.status.idle": "2024-09-27T03:12:21.317278Z",
     "shell.execute_reply": "2024-09-27T03:12:21.316208Z",
     "shell.execute_reply.started": "2024-09-27T03:12:20.909777Z"
    },
    "id": "b77PeHooe8d5",
    "outputId": "f8c5df77-4e79-4102-ebe1-85f6a06e5b93"
   },
   "outputs": [
    {
     "data": {
      "image/png": "[encoded data removed]",
      "text/plain": [
       "<Figure size 800x600 with 2 Axes>"
      ]
     },
     "metadata": {},
     "output_type": "display_data"
    }
   ],
   "source": [
    "plt.figure(figsize=(8, 6))\n",
    "cm = confusion_matrix(pred, y_test)\n",
    "normalized_cm=cm / cm.sum()\n",
    "sns.heatmap(normalized_cm, annot=True, cmap='Purples',annot_kws={\"size\": 10});"
   ]
  },
  {
   "cell_type": "code",
   "execution_count": null,
   "metadata": {
    "execution": {
     "iopub.execute_input": "2024-09-27T03:12:21.318835Z",
     "iopub.status.busy": "2024-09-27T03:12:21.318471Z",
     "iopub.status.idle": "2024-09-27T03:12:21.571392Z",
     "shell.execute_reply": "2024-09-27T03:12:21.570169Z",
     "shell.execute_reply.started": "2024-09-27T03:12:21.318797Z"
    },
    "id": "-LPE1Okse8d6",
    "outputId": "8dce0725-97c4-4ebb-fa6d-a9a4e3e9dafe"
   },
   "outputs": [
    {
     "data": {
      "text/plain": [
       "<matplotlib.legend.Legend at 0x7d14be47e470>"
      ]
     },
     "execution_count": 53,
     "metadata": {},
     "output_type": "execute_result"
    },
    {
     "data": {
      "image/png": "[encoded data removed]",
      "text/plain": [
       "<Figure size 640x480 with 1 Axes>"
      ]
     },
     "metadata": {},
     "output_type": "display_data"
    }
   ],
   "source": [
    "plt.plot(history.history['accuracy'],label='Accuracy')\n",
    "plt.plot(history.history['val_accuracy'],label='Val_Accuracy')\n",
    "plt.legend()"
   ]
  },
  {
   "cell_type": "code",
   "execution_count": null,
   "metadata": {
    "execution": {
     "iopub.execute_input": "2024-09-27T03:12:21.57313Z",
     "iopub.status.busy": "2024-09-27T03:12:21.572748Z",
     "iopub.status.idle": "2024-09-27T03:12:21.862687Z",
     "shell.execute_reply": "2024-09-27T03:12:21.86136Z",
     "shell.execute_reply.started": "2024-09-27T03:12:21.573086Z"
    },
    "id": "IbPxdzP0e8d6",
    "outputId": "192b4577-11af-414b-ae36-76834ac8e52d"
   },
   "outputs": [
    {
     "data": {
      "image/png": "[encoded data removed]",
      "text/plain": [
       "<Figure size 640x480 with 1 Axes>"
      ]
     },
     "metadata": {},
     "output_type": "display_data"
    }
   ],
   "source": [
    "plt.plot(history.history['loss'],label='Loss')\n",
    "plt.plot(history.history['val_loss'],label='Val_Loss')\n",
    "plt.legend();"
   ]
  },
  {
   "cell_type": "code",
   "execution_count": null,
   "metadata": {
    "execution": {
     "iopub.execute_input": "2024-09-27T03:15:58.696802Z",
     "iopub.status.busy": "2024-09-27T03:15:58.69579Z",
     "iopub.status.idle": "2024-09-27T03:15:58.767457Z",
     "shell.execute_reply": "2024-09-27T03:15:58.766293Z",
     "shell.execute_reply.started": "2024-09-27T03:15:58.69675Z"
    },
    "id": "TnqffGl1e8d6"
   },
   "outputs": [],
   "source": [
    "model.save('scene.h5')"
   ]
  },
  {
   "cell_type": "markdown",
   "metadata": {},
   "source": [
    "## Transfer Learning "
   ]
  },
  {
   "cell_type": "code",
   "execution_count": null,
   "metadata": {},
   "outputs": [],
   "source": [
    "from tensorflow.keras.applications.vgg16 import VGG16\n",
    "from tensorflow.keras.applications.inception_v3 import InceptionV3\n",
    "from tensorflow.keras.preprocessing.image import ImageDataGenerator\n",
    "from tensorflow.keras.applications.vgg16 import preprocess_input, decode_predictions"
   ]
  },
  {
   "cell_type": "code",
   "execution_count": null,
   "metadata": {
    "colab": {
     "base_uri": "https://localhost:8080/",
     "height": 206
    },
    "id": "4_DdtB_ie8d6",
    "outputId": "510c31e1-26dd-4538-bb46-2f40b5a98854"
   },
   "outputs": [
    {
     "data": {
      "application/vnd.google.colaboratory.intrinsic+json": {
       "summary": "{\n  \"name\": \"df\",\n  \"rows\": 17034,\n  \"fields\": [\n    {\n      \"column\": \"img\",\n      \"properties\": {\n        \"dtype\": \"string\",\n        \"num_unique_values\": 17034,\n        \"samples\": [\n          \"/kaggle/input/scene-classification/train-scene classification/train/16451.jpg\",\n          \"/kaggle/input/scene-classification/train-scene classification/train/9117.jpg\",\n          \"/kaggle/input/scene-classification/train-scene classification/train/14885.jpg\"\n        ],\n        \"semantic_type\": \"\",\n        \"description\": \"\"\n      }\n    },\n    {\n      \"column\": \"label\",\n      \"properties\": {\n        \"dtype\": \"category\",\n        \"num_unique_values\": 6,\n        \"samples\": [\n          \"0\",\n          \"4\",\n          \"3\"\n        ],\n        \"semantic_type\": \"\",\n        \"description\": \"\"\n      }\n    },\n    {\n      \"column\": \"encode_label\",\n      \"properties\": {\n        \"dtype\": \"category\",\n        \"num_unique_values\": 6,\n        \"samples\": [\n          \"Buildings\",\n          \"Street\",\n          \"Glacier\"\n        ],\n        \"semantic_type\": \"\",\n        \"description\": \"\"\n      }\n    }\n  ]\n}",
       "type": "dataframe",
       "variable_name": "df"
      },
      "text/html": [
       "\n",
       "  <div id=\"df-8f73350b-21ea-4ee8-93ec-56293402daaf\" class=\"colab-df-container\">\n",
       "    <div>\n",
       "<style scoped>\n",
       "    .dataframe tbody tr th:only-of-type {\n",
       "        vertical-align: middle;\n",
       "    }\n",
       "\n",
       "    .dataframe tbody tr th {\n",
       "        vertical-align: top;\n",
       "    }\n",
       "\n",
       "    .dataframe thead th {\n",
       "        text-align: right;\n",
       "    }\n",
       "</style>\n",
       "<table border=\"1\" class=\"dataframe\">\n",
       "  <thead>\n",
       "    <tr style=\"text-align: right;\">\n",
       "      <th></th>\n",
       "      <th>img</th>\n",
       "      <th>label</th>\n",
       "      <th>encode_label</th>\n",
       "    </tr>\n",
       "  </thead>\n",
       "  <tbody>\n",
       "    <tr>\n",
       "      <th>0</th>\n",
       "      <td>/kaggle/input/scene-classification/train-scene...</td>\n",
       "      <td>0</td>\n",
       "      <td>Buildings</td>\n",
       "    </tr>\n",
       "    <tr>\n",
       "      <th>1</th>\n",
       "      <td>/kaggle/input/scene-classification/train-scene...</td>\n",
       "      <td>4</td>\n",
       "      <td>Street</td>\n",
       "    </tr>\n",
       "    <tr>\n",
       "      <th>2</th>\n",
       "      <td>/kaggle/input/scene-classification/train-scene...</td>\n",
       "      <td>5</td>\n",
       "      <td>Sea</td>\n",
       "    </tr>\n",
       "    <tr>\n",
       "      <th>3</th>\n",
       "      <td>/kaggle/input/scene-classification/train-scene...</td>\n",
       "      <td>0</td>\n",
       "      <td>Buildings</td>\n",
       "    </tr>\n",
       "    <tr>\n",
       "      <th>4</th>\n",
       "      <td>/kaggle/input/scene-classification/train-scene...</td>\n",
       "      <td>4</td>\n",
       "      <td>Street</td>\n",
       "    </tr>\n",
       "  </tbody>\n",
       "</table>\n",
       "</div>\n",
       "    <div class=\"colab-df-buttons\">\n",
       "\n",
       "  <div class=\"colab-df-container\">\n",
       "    <button class=\"colab-df-convert\" onclick=\"convertToInteractive('df-8f73350b-21ea-4ee8-93ec-56293402daaf')\"\n",
       "            title=\"Convert this dataframe to an interactive table.\"\n",
       "            style=\"display:none;\">\n",
       "\n",
       "  <svg xmlns=\"http://www.w3.org/2000/svg\" height=\"24px\" viewBox=\"0 -960 960 960\">\n",
       "    <path d=\"M120-120v-720h720v720H120Zm60-500h600v-160H180v160Zm220 220h160v-160H400v160Zm0 220h160v-160H400v160ZM180-400h160v-160H180v160Zm440 0h160v-160H620v160ZM180-180h160v-160H180v160Zm440 0h160v-160H620v160Z\"/>\n",
       "  </svg>\n",
       "    </button>\n",
       "\n",
       "  <style>\n",
       "    .colab-df-container {\n",
       "      display:flex;\n",
       "      gap: 12px;\n",
       "    }\n",
       "\n",
       "    .colab-df-convert {\n",
       "      background-color: #E8F0FE;\n",
       "      border: none;\n",
       "      border-radius: 50%;\n",
       "      cursor: pointer;\n",
       "      display: none;\n",
       "      fill: #1967D2;\n",
       "      height: 32px;\n",
       "      padding: 0 0 0 0;\n",
       "      width: 32px;\n",
       "    }\n",
       "\n",
       "    .colab-df-convert:hover {\n",
       "      background-color: #E2EBFA;\n",
       "      box-shadow: 0px 1px 2px rgba(60, 64, 67, 0.3), 0px 1px 3px 1px rgba(60, 64, 67, 0.15);\n",
       "      fill: #174EA6;\n",
       "    }\n",
       "\n",
       "    .colab-df-buttons div {\n",
       "      margin-bottom: 4px;\n",
       "    }\n",
       "\n",
       "    [theme=dark] .colab-df-convert {\n",
       "      background-color: #3B4455;\n",
       "      fill: #D2E3FC;\n",
       "    }\n",
       "\n",
       "    [theme=dark] .colab-df-convert:hover {\n",
       "      background-color: #434B5C;\n",
       "      box-shadow: 0px 1px 3px 1px rgba(0, 0, 0, 0.15);\n",
       "      filter: drop-shadow(0px 1px 2px rgba(0, 0, 0, 0.3));\n",
       "      fill: #FFFFFF;\n",
       "    }\n",
       "  </style>\n",
       "\n",
       "    <script>\n",
       "      const buttonEl =\n",
       "        document.querySelector('#df-8f73350b-21ea-4ee8-93ec-56293402daaf button.colab-df-convert');\n",
       "      buttonEl.style.display =\n",
       "        google.colab.kernel.accessAllowed ? 'block' : 'none';\n",
       "\n",
       "      async function convertToInteractive(key) {\n",
       "        const element = document.querySelector('#df-8f73350b-21ea-4ee8-93ec-56293402daaf');\n",
       "        const dataTable =\n",
       "          await google.colab.kernel.invokeFunction('convertToInteractive',\n",
       "                                                    [key], {});\n",
       "        if (!dataTable) return;\n",
       "\n",
       "        const docLinkHtml = 'Like what you see? Visit the ' +\n",
       "          '<a target=\"_blank\" href=https://colab.research.google.com/notebooks/data_table.ipynb>data table notebook</a>'\n",
       "          + ' to learn more about interactive tables.';\n",
       "        element.innerHTML = '';\n",
       "        dataTable['output_type'] = 'display_data';\n",
       "        await google.colab.output.renderOutput(dataTable, element);\n",
       "        const docLink = document.createElement('div');\n",
       "        docLink.innerHTML = docLinkHtml;\n",
       "        element.appendChild(docLink);\n",
       "      }\n",
       "    </script>\n",
       "  </div>\n",
       "\n",
       "\n",
       "<div id=\"df-2fea97e7-8fd7-42eb-aa51-45e0d86fdbf1\">\n",
       "  <button class=\"colab-df-quickchart\" onclick=\"quickchart('df-2fea97e7-8fd7-42eb-aa51-45e0d86fdbf1')\"\n",
       "            title=\"Suggest charts\"\n",
       "            style=\"display:none;\">\n",
       "\n",
       "<svg xmlns=\"http://www.w3.org/2000/svg\" height=\"24px\"viewBox=\"0 0 24 24\"\n",
       "     width=\"24px\">\n",
       "    <g>\n",
       "        <path d=\"M19 3H5c-1.1 0-2 .9-2 2v14c0 1.1.9 2 2 2h14c1.1 0 2-.9 2-2V5c0-1.1-.9-2-2-2zM9 17H7v-7h2v7zm4 0h-2V7h2v10zm4 0h-2v-4h2v4z\"/>\n",
       "    </g>\n",
       "</svg>\n",
       "  </button>\n",
       "\n",
       "<style>\n",
       "  .colab-df-quickchart {\n",
       "      --bg-color: #E8F0FE;\n",
       "      --fill-color: #1967D2;\n",
       "      --hover-bg-color: #E2EBFA;\n",
       "      --hover-fill-color: #174EA6;\n",
       "      --disabled-fill-color: #AAA;\n",
       "      --disabled-bg-color: #DDD;\n",
       "  }\n",
       "\n",
       "  [theme=dark] .colab-df-quickchart {\n",
       "      --bg-color: #3B4455;\n",
       "      --fill-color: #D2E3FC;\n",
       "      --hover-bg-color: #434B5C;\n",
       "      --hover-fill-color: #FFFFFF;\n",
       "      --disabled-bg-color: #3B4455;\n",
       "      --disabled-fill-color: #666;\n",
       "  }\n",
       "\n",
       "  .colab-df-quickchart {\n",
       "    background-color: var(--bg-color);\n",
       "    border: none;\n",
       "    border-radius: 50%;\n",
       "    cursor: pointer;\n",
       "    display: none;\n",
       "    fill: var(--fill-color);\n",
       "    height: 32px;\n",
       "    padding: 0;\n",
       "    width: 32px;\n",
       "  }\n",
       "\n",
       "  .colab-df-quickchart:hover {\n",
       "    background-color: var(--hover-bg-color);\n",
       "    box-shadow: 0 1px 2px rgba(60, 64, 67, 0.3), 0 1px 3px 1px rgba(60, 64, 67, 0.15);\n",
       "    fill: var(--button-hover-fill-color);\n",
       "  }\n",
       "\n",
       "  .colab-df-quickchart-complete:disabled,\n",
       "  .colab-df-quickchart-complete:disabled:hover {\n",
       "    background-color: var(--disabled-bg-color);\n",
       "    fill: var(--disabled-fill-color);\n",
       "    box-shadow: none;\n",
       "  }\n",
       "\n",
       "  .colab-df-spinner {\n",
       "    border: 2px solid var(--fill-color);\n",
       "    border-color: transparent;\n",
       "    border-bottom-color: var(--fill-color);\n",
       "    animation:\n",
       "      spin 1s steps(1) infinite;\n",
       "  }\n",
       "\n",
       "  @keyframes spin {\n",
       "    0% {\n",
       "      border-color: transparent;\n",
       "      border-bottom-color: var(--fill-color);\n",
       "      border-left-color: var(--fill-color);\n",
       "    }\n",
       "    20% {\n",
       "      border-color: transparent;\n",
       "      border-left-color: var(--fill-color);\n",
       "      border-top-color: var(--fill-color);\n",
       "    }\n",
       "    30% {\n",
       "      border-color: transparent;\n",
       "      border-left-color: var(--fill-color);\n",
       "      border-top-color: var(--fill-color);\n",
       "      border-right-color: var(--fill-color);\n",
       "    }\n",
       "    40% {\n",
       "      border-color: transparent;\n",
       "      border-right-color: var(--fill-color);\n",
       "      border-top-color: var(--fill-color);\n",
       "    }\n",
       "    60% {\n",
       "      border-color: transparent;\n",
       "      border-right-color: var(--fill-color);\n",
       "    }\n",
       "    80% {\n",
       "      border-color: transparent;\n",
       "      border-right-color: var(--fill-color);\n",
       "      border-bottom-color: var(--fill-color);\n",
       "    }\n",
       "    90% {\n",
       "      border-color: transparent;\n",
       "      border-bottom-color: var(--fill-color);\n",
       "    }\n",
       "  }\n",
       "</style>\n",
       "\n",
       "  <script>\n",
       "    async function quickchart(key) {\n",
       "      const quickchartButtonEl =\n",
       "        document.querySelector('#' + key + ' button');\n",
       "      quickchartButtonEl.disabled = true;  // To prevent multiple clicks.\n",
       "      quickchartButtonEl.classList.add('colab-df-spinner');\n",
       "      try {\n",
       "        const charts = await google.colab.kernel.invokeFunction(\n",
       "            'suggestCharts', [key], {});\n",
       "      } catch (error) {\n",
       "        console.error('Error during call to suggestCharts:', error);\n",
       "      }\n",
       "      quickchartButtonEl.classList.remove('colab-df-spinner');\n",
       "      quickchartButtonEl.classList.add('colab-df-quickchart-complete');\n",
       "    }\n",
       "    (() => {\n",
       "      let quickchartButtonEl =\n",
       "        document.querySelector('#df-2fea97e7-8fd7-42eb-aa51-45e0d86fdbf1 button');\n",
       "      quickchartButtonEl.style.display =\n",
       "        google.colab.kernel.accessAllowed ? 'block' : 'none';\n",
       "    })();\n",
       "  </script>\n",
       "</div>\n",
       "\n",
       "    </div>\n",
       "  </div>\n"
      ],
      "text/plain": [
       "                                                 img label encode_label\n",
       "0  /kaggle/input/scene-classification/train-scene...     0    Buildings\n",
       "1  /kaggle/input/scene-classification/train-scene...     4       Street\n",
       "2  /kaggle/input/scene-classification/train-scene...     5          Sea\n",
       "3  /kaggle/input/scene-classification/train-scene...     0    Buildings\n",
       "4  /kaggle/input/scene-classification/train-scene...     4       Street"
      ]
     },
     "execution_count": 31,
     "metadata": {},
     "output_type": "execute_result"
    }
   ],
   "source": [
    "df.head()"
   ]
  },
  {
   "cell_type": "code",
   "execution_count": null,
   "metadata": {
    "id": "T8R5DsP7ghQd"
   },
   "outputs": [],
   "source": [
    "df['label'] = df['label'].astype(str)"
   ]
  },
  {
   "cell_type": "code",
   "execution_count": null,
   "metadata": {
    "id": "RYOTD5qgonDE"
   },
   "outputs": [],
   "source": [
    "d={\"0\":\"Buildings\",\"1\":\"Forests\", \"2\":\"Mountains\",\"3\":\"Glacier\", \"4\":\"Street\",\"5\":\"Sea\" }\n",
    "\n",
    "#Burada ben label'ların isimlerinin olmasını istedim.Bu yüzden label encoding yaptım."
   ]
  },
  {
   "cell_type": "code",
   "execution_count": null,
   "metadata": {
    "id": "pDQdUaL9onAh"
   },
   "outputs": [],
   "source": [
    "df['encode_label']=df['label'].map(d)"
   ]
  },
  {
   "cell_type": "code",
   "execution_count": null,
   "metadata": {
    "colab": {
     "base_uri": "https://localhost:8080/"
    },
    "id": "lAmMIh3pgnPg",
    "outputId": "1c1552bf-dfa1-499a-e08d-c18ed97e62d9"
   },
   "outputs": [
    {
     "name": "stdout",
     "output_type": "stream",
     "text": [
      "<class 'pandas.core.frame.DataFrame'>\n",
      "RangeIndex: 17034 entries, 0 to 17033\n",
      "Data columns (total 3 columns):\n",
      " #   Column        Non-Null Count  Dtype \n",
      "---  ------        --------------  ----- \n",
      " 0   img           17034 non-null  object\n",
      " 1   label         17034 non-null  object\n",
      " 2   encode_label  17034 non-null  object\n",
      "dtypes: object(3)\n",
      "memory usage: 399.4+ KB\n"
     ]
    }
   ],
   "source": [
    "df.info()"
   ]
  },
  {
   "cell_type": "code",
   "execution_count": null,
   "metadata": {
    "id": "DOXzcZ8Rf158"
   },
   "outputs": [],
   "source": [
    "# Sınıf dizinlerini oluştur\n",
    "for label in df['label'].unique():\n",
    "    os.makedirs(os.path.join('/kaggle/input/scene-classification/train-scene classification/train', label), exist_ok=True)\n",
    "\n",
    "# Resimleri sınıflarına göre ayır\n",
    "for index, row in df.iterrows():\n",
    "    img_path = row['img']  # Resim dosyasının yolu\n",
    "    label = row['label']           # Resim etiketini al\n",
    "    shutil.copy(img_path, os.path.join('/kaggle/input/scene-classification/train-scene classification/train', label))\n",
    "    \n",
    "#Dosyamızda transfer learning'in istediği gibi class isimleri tanımlanmamıştı.\n",
    "#Biz bunları class'larına göre ayıracağız."
   ]
  },
  {
   "cell_type": "code",
   "execution_count": null,
   "metadata": {
    "colab": {
     "base_uri": "https://localhost:8080/"
    },
    "id": "RTRfXcfJfgF-",
    "outputId": "52def11e-84b7-4051-aa03-71d207e796f0"
   },
   "outputs": [
    {
     "name": "stdout",
     "output_type": "stream",
     "text": [
      "Found 13630 images belonging to 6 classes.\n",
      "Found 3404 images belonging to 6 classes.\n",
      "Epoch 1/15\n",
      "\u001b[1m426/426\u001b[0m \u001b[32m━━━━━━━━━━━━━━━━━━━━\u001b[0m\u001b[37m\u001b[0m \u001b[1m878s\u001b[0m 2s/step - accuracy: 0.7357 - loss: 0.7087 - val_accuracy: 0.8093 - val_loss: 0.5221\n",
      "Epoch 2/15\n",
      "\u001b[1m426/426\u001b[0m \u001b[32m━━━━━━━━━━━━━━━━━━━━\u001b[0m\u001b[37m\u001b[0m \u001b[1m904s\u001b[0m 2s/step - accuracy: 0.8437 - loss: 0.4208 - val_accuracy: 0.8296 - val_loss: 0.4854\n",
      "Epoch 3/15\n",
      "\u001b[1m426/426\u001b[0m \u001b[32m━━━━━━━━━━━━━━━━━━━━\u001b[0m\u001b[37m\u001b[0m \u001b[1m883s\u001b[0m 2s/step - accuracy: 0.8644 - loss: 0.3688 - val_accuracy: 0.8231 - val_loss: 0.4844\n",
      "Epoch 4/15\n",
      "\u001b[1m426/426\u001b[0m \u001b[32m━━━━━━━━━━━━━━━━━━━━\u001b[0m\u001b[37m\u001b[0m \u001b[1m924s\u001b[0m 2s/step - accuracy: 0.8850 - loss: 0.3123 - val_accuracy: 0.8135 - val_loss: 0.5326\n",
      "Epoch 5/15\n",
      "\u001b[1m426/426\u001b[0m \u001b[32m━━━━━━━━━━━━━━━━━━━━\u001b[0m\u001b[37m\u001b[0m \u001b[1m926s\u001b[0m 2s/step - accuracy: 0.8883 - loss: 0.2960 - val_accuracy: 0.8464 - val_loss: 0.4724\n",
      "Epoch 6/15\n",
      "\u001b[1m426/426\u001b[0m \u001b[32m━━━━━━━━━━━━━━━━━━━━\u001b[0m\u001b[37m\u001b[0m \u001b[1m920s\u001b[0m 2s/step - accuracy: 0.9055 - loss: 0.2505 - val_accuracy: 0.8328 - val_loss: 0.5275\n",
      "Epoch 7/15\n",
      "\u001b[1m426/426\u001b[0m \u001b[32m━━━━━━━━━━━━━━━━━━━━\u001b[0m\u001b[37m\u001b[0m \u001b[1m859s\u001b[0m 2s/step - accuracy: 0.9202 - loss: 0.2136 - val_accuracy: 0.8328 - val_loss: 0.5518\n",
      "Epoch 8/15\n",
      "\u001b[1m426/426\u001b[0m \u001b[32m━━━━━━━━━━━━━━━━━━━━\u001b[0m\u001b[37m\u001b[0m \u001b[1m865s\u001b[0m 2s/step - accuracy: 0.9343 - loss: 0.1769 - val_accuracy: 0.8381 - val_loss: 0.5463\n",
      "Epoch 9/15\n",
      "\u001b[1m426/426\u001b[0m \u001b[32m━━━━━━━━━━━━━━━━━━━━\u001b[0m\u001b[37m\u001b[0m \u001b[1m953s\u001b[0m 2s/step - accuracy: 0.9431 - loss: 0.1583 - val_accuracy: 0.8299 - val_loss: 0.5543\n",
      "Epoch 10/15\n",
      "\u001b[1m426/426\u001b[0m \u001b[32m━━━━━━━━━━━━━━━━━━━━\u001b[0m\u001b[37m\u001b[0m \u001b[1m889s\u001b[0m 2s/step - accuracy: 0.9569 - loss: 0.1258 - val_accuracy: 0.8361 - val_loss: 0.6137\n",
      "Epoch 11/15\n",
      "\u001b[1m426/426\u001b[0m \u001b[32m━━━━━━━━━━━━━━━━━━━━\u001b[0m\u001b[37m\u001b[0m \u001b[1m859s\u001b[0m 2s/step - accuracy: 0.9621 - loss: 0.1070 - val_accuracy: 0.8370 - val_loss: 0.6347\n",
      "Epoch 12/15\n",
      "\u001b[1m426/426\u001b[0m \u001b[32m━━━━━━━━━━━━━━━━━━━━\u001b[0m\u001b[37m\u001b[0m \u001b[1m876s\u001b[0m 2s/step - accuracy: 0.9668 - loss: 0.0898 - val_accuracy: 0.8237 - val_loss: 0.7143\n",
      "Epoch 13/15\n",
      "\u001b[1m426/426\u001b[0m \u001b[32m━━━━━━━━━━━━━━━━━━━━\u001b[0m\u001b[37m\u001b[0m \u001b[1m861s\u001b[0m 2s/step - accuracy: 0.9730 - loss: 0.0795 - val_accuracy: 0.8346 - val_loss: 0.7094\n",
      "Epoch 14/15\n",
      "\u001b[1m426/426\u001b[0m \u001b[32m━━━━━━━━━━━━━━━━━━━━\u001b[0m\u001b[37m\u001b[0m \u001b[1m863s\u001b[0m 2s/step - accuracy: 0.9740 - loss: 0.0778 - val_accuracy: 0.8390 - val_loss: 0.7494\n",
      "Epoch 15/15\n",
      "\u001b[1m426/426\u001b[0m \u001b[32m━━━━━━━━━━━━━━━━━━━━\u001b[0m\u001b[37m\u001b[0m \u001b[1m894s\u001b[0m 2s/step - accuracy: 0.9840 - loss: 0.0525 - val_accuracy: 0.8296 - val_loss: 0.7329\n"
     ]
    },
    {
     "data": {
      "text/plain": [
       "<keras.src.callbacks.history.History at 0x7f54416739a0>"
      ]
     },
     "execution_count": 34,
     "metadata": {},
     "output_type": "execute_result"
    }
   ],
   "source": [
    "data_dir='/kaggle/input/scene-classification/train-scene classification/train'\n",
    "\n",
    "img_width,img_height=64,64\n",
    "\n",
    "train_datagen=ImageDataGenerator(rescale=1/255,validation_split=.20)\n",
    "train_datagenerator=train_datagen.flow_from_directory(directory=data_dir,target_size=(img_width,img_height),\n",
    "                                class_mode='categorical', subset='training')\n",
    "\n",
    "test_datagen=ImageDataGenerator(rescale=1/255)\n",
    "test_datagenerator=train_datagen.flow_from_directory(directory=data_dir,target_size=(img_width,img_height),\n",
    "                                class_mode='categorical', subset='validation')\n",
    "\n",
    "base_model=VGG16(weights='imagenet', input_shape=(img_width,img_height,3),include_top=False)\n",
    "\n",
    "model=Sequential()\n",
    "\n",
    "model.add(base_model)\n",
    "for layer in base_model.layers:\n",
    "    layer.trainable=False\n",
    "\n",
    "model.add(Flatten())\n",
    "model.add(Dense(1024,activation='relu'))\n",
    "model.add(Dense(6,activation='softmax'))\n",
    "\n",
    "model.compile(optimizer='adam', loss='categorical_crossentropy',metrics=['accuracy'])\n",
    "\n",
    "model.fit(train_datagenerator,epochs=15,validation_data=test_datagenerator)"
   ]
  },
  {
   "cell_type": "code",
   "execution_count": null,
   "metadata": {
    "colab": {
     "base_uri": "https://localhost:8080/"
    },
    "id": "y6mWNPjCfgIz",
    "outputId": "1661c080-ad2e-4a46-87ec-4faa3ca7bd6c"
   },
   "outputs": [
    {
     "name": "stdout",
     "output_type": "stream",
     "text": [
      "107/107 - 173s - 2s/step - accuracy: 0.8296 - loss: 0.7329\n",
      "Test Accuracy: 0.8296121954917908\n",
      "Test Loss: 0.732886791229248\n"
     ]
    }
   ],
   "source": [
    "test_loss, test_acc=model.evaluate(test_datagenerator, verbose=2)\n",
    "print('Test Accuracy:', test_acc)\n",
    "print('Test Loss:', test_loss)"
   ]
  },
  {
   "cell_type": "code",
   "execution_count": null,
   "metadata": {
    "colab": {
     "base_uri": "https://localhost:8080/"
    },
    "id": "tn2PcAp_fgUi",
    "outputId": "7443ba21-dac8-4f76-b396-ddf1c995f9b0"
   },
   "outputs": [
    {
     "name": "stderr",
     "output_type": "stream",
     "text": [
      "WARNING:absl:You are saving your model as an HDF5 file via `model.save()` or `keras.saving.save_model(model)`. This file format is considered legacy. We recommend using instead the native Keras format, e.g. `model.save('my_model.keras')` or `keras.saving.save_model(model, 'my_model.keras')`. \n"
     ]
    }
   ],
   "source": [
    "model.save('scene_vgg16.h5')"
   ]
  },
  {
   "cell_type": "code",
   "execution_count": null,
   "metadata": {
    "id": "aLByEdFSffAP"
   },
   "outputs": [],
   "source": [
    "#Birde transfer learning paketlerinden InceptionV3'ü deniyorum."
   ]
  },
  {
   "cell_type": "code",
   "execution_count": null,
   "metadata": {
    "colab": {
     "base_uri": "https://localhost:8080/"
    },
    "id": "ExWhmYwAYnF2",
    "outputId": "e4a97446-f70b-46eb-d509-028f9e949d8b"
   },
   "outputs": [
    {
     "name": "stdout",
     "output_type": "stream",
     "text": [
      "Found 13630 images belonging to 6 classes.\n",
      "Found 3404 images belonging to 6 classes.\n",
      "Downloading data from https://storage.googleapis.com/tensorflow/keras-applications/inception_v3/inception_v3_weights_tf_dim_ordering_tf_kernels_notop.h5\n",
      "\u001b[1m87910968/87910968\u001b[0m \u001b[32m━━━━━━━━━━━━━━━━━━━━\u001b[0m\u001b[37m\u001b[0m \u001b[1m1s\u001b[0m 0us/step\n",
      "Epoch 1/15\n",
      "\u001b[1m426/426\u001b[0m \u001b[32m━━━━━━━━━━━━━━━━━━━━\u001b[0m\u001b[37m\u001b[0m \u001b[1m199s\u001b[0m 445ms/step - accuracy: 0.6649 - loss: 0.9046 - val_accuracy: 0.7729 - val_loss: 0.6327\n",
      "Epoch 2/15\n",
      "\u001b[1m426/426\u001b[0m \u001b[32m━━━━━━━━━━━━━━━━━━━━\u001b[0m\u001b[37m\u001b[0m \u001b[1m203s\u001b[0m 449ms/step - accuracy: 0.8138 - loss: 0.4890 - val_accuracy: 0.7847 - val_loss: 0.5969\n",
      "Epoch 3/15\n",
      "\u001b[1m426/426\u001b[0m \u001b[32m━━━━━━━━━━━━━━━━━━━━\u001b[0m\u001b[37m\u001b[0m \u001b[1m197s\u001b[0m 437ms/step - accuracy: 0.8762 - loss: 0.3389 - val_accuracy: 0.7767 - val_loss: 0.6357\n",
      "Epoch 4/15\n",
      "\u001b[1m426/426\u001b[0m \u001b[32m━━━━━━━━━━━━━━━━━━━━\u001b[0m\u001b[37m\u001b[0m \u001b[1m203s\u001b[0m 439ms/step - accuracy: 0.9264 - loss: 0.2097 - val_accuracy: 0.7741 - val_loss: 0.6994\n",
      "Epoch 5/15\n",
      "\u001b[1m426/426\u001b[0m \u001b[32m━━━━━━━━━━━━━━━━━━━━\u001b[0m\u001b[37m\u001b[0m \u001b[1m185s\u001b[0m 433ms/step - accuracy: 0.9695 - loss: 0.1071 - val_accuracy: 0.7676 - val_loss: 0.7925\n",
      "Epoch 6/15\n",
      "\u001b[1m426/426\u001b[0m \u001b[32m━━━━━━━━━━━━━━━━━━━━\u001b[0m\u001b[37m\u001b[0m \u001b[1m202s\u001b[0m 433ms/step - accuracy: 0.9841 - loss: 0.0633 - val_accuracy: 0.7729 - val_loss: 0.8473\n",
      "Epoch 7/15\n",
      "\u001b[1m426/426\u001b[0m \u001b[32m━━━━━━━━━━━━━━━━━━━━\u001b[0m\u001b[37m\u001b[0m \u001b[1m186s\u001b[0m 437ms/step - accuracy: 0.9857 - loss: 0.0574 - val_accuracy: 0.7685 - val_loss: 1.0098\n",
      "Epoch 8/15\n",
      "\u001b[1m426/426\u001b[0m \u001b[32m━━━━━━━━━━━━━━━━━━━━\u001b[0m\u001b[37m\u001b[0m \u001b[1m199s\u001b[0m 431ms/step - accuracy: 0.9886 - loss: 0.0456 - val_accuracy: 0.7673 - val_loss: 1.0358\n",
      "Epoch 9/15\n",
      "\u001b[1m426/426\u001b[0m \u001b[32m━━━━━━━━━━━━━━━━━━━━\u001b[0m\u001b[37m\u001b[0m \u001b[1m202s\u001b[0m 430ms/step - accuracy: 0.9820 - loss: 0.0649 - val_accuracy: 0.7571 - val_loss: 1.0977\n",
      "Epoch 10/15\n",
      "\u001b[1m426/426\u001b[0m \u001b[32m━━━━━━━━━━━━━━━━━━━━\u001b[0m\u001b[37m\u001b[0m \u001b[1m210s\u001b[0m 448ms/step - accuracy: 0.9850 - loss: 0.0487 - val_accuracy: 0.7697 - val_loss: 1.1521\n",
      "Epoch 11/15\n",
      "\u001b[1m426/426\u001b[0m \u001b[32m━━━━━━━━━━━━━━━━━━━━\u001b[0m\u001b[37m\u001b[0m \u001b[1m183s\u001b[0m 430ms/step - accuracy: 0.9929 - loss: 0.0314 - val_accuracy: 0.7597 - val_loss: 1.2566\n",
      "Epoch 12/15\n",
      "\u001b[1m426/426\u001b[0m \u001b[32m━━━━━━━━━━━━━━━━━━━━\u001b[0m\u001b[37m\u001b[0m \u001b[1m184s\u001b[0m 431ms/step - accuracy: 0.9966 - loss: 0.0168 - val_accuracy: 0.7703 - val_loss: 1.2056\n",
      "Epoch 12: early stopping\n"
     ]
    },
    {
     "data": {
      "text/plain": [
       "<keras.src.callbacks.history.History at 0x7f54372cfa30>"
      ]
     },
     "execution_count": 44,
     "metadata": {},
     "output_type": "execute_result"
    }
   ],
   "source": [
    "data_dir='/kaggle/input/scene-classification/train-scene classification/train'\n",
    "img_width,img_height=75,75\n",
    "\n",
    "train_datagen=ImageDataGenerator(rescale=1/255,validation_split=.20)\n",
    "train_datagenerator=train_datagen.flow_from_directory(directory=data_dir,target_size=(img_width,img_height),\n",
    "                                class_mode='categorical', subset='training')\n",
    "\n",
    "test_datagen=ImageDataGenerator(rescale=1/255)\n",
    "test_datagenerator=train_datagen.flow_from_directory(directory=data_dir,target_size=(img_width,img_height),\n",
    "                                class_mode='categorical', subset='validation')\n",
    "\n",
    "base_model=InceptionV3(weights='imagenet', input_shape=(img_width,img_height,3),include_top=False)\n",
    "\n",
    "model=Sequential()\n",
    "\n",
    "model.add(base_model)\n",
    "for layer in base_model.layers:\n",
    "    layer.trainable=False\n",
    "\n",
    "model.add(Flatten())\n",
    "model.add(Dense(1024,activation='relu'))\n",
    "model.add(Dense(6,activation='softmax'))\n",
    "\n",
    "early_stopping=EarlyStopping(monitor='val_accuracy', patience=10, verbose=1)\n",
    "\n",
    "model.compile(optimizer='adam', loss='categorical_crossentropy',metrics=['accuracy'])\n",
    "\n",
    "model.fit(train_datagenerator,epochs=15,validation_data=test_datagenerator,callbacks=[early_stopping])"
   ]
  },
  {
   "cell_type": "code",
   "execution_count": null,
   "metadata": {
    "colab": {
     "base_uri": "https://localhost:8080/"
    },
    "id": "KUdK7Yi9Yp0d",
    "outputId": "6e2cf014-7fae-4cfd-ea63-453b2890049f"
   },
   "outputs": [
    {
     "name": "stderr",
     "output_type": "stream",
     "text": [
      "WARNING:absl:You are saving your model as an HDF5 file via `model.save()` or `keras.saving.save_model(model)`. This file format is considered legacy. We recommend using instead the native Keras format, e.g. `model.save('my_model.keras')` or `keras.saving.save_model(model, 'my_model.keras')`. \n"
     ]
    }
   ],
   "source": [
    "model.save('scene_incep.h5')"
   ]
  },
  {
   "cell_type": "markdown",
   "metadata": {
    "id": "HfDbCP8Eo6yy"
   },
   "source": [
    "## Özet"
   ]
  },
  {
   "cell_type": "markdown",
   "metadata": {},
   "source": [
    "Bu çalışma, dünya genelinden toplanmış yaklaşık 25,000 doğal sahne görüntüsünden oluşan bir veri setini kullanarak sahne sınıflandırma görevini incelemektedir. Veri seti, her biri benzersiz özellikler taşıyan altı farklı sahne kategorisinde sınıflandırılmıştır: Binalar, Ormanlar, Dağlar, Buzullar, Sokaklar ve Deniz. Görüntüler, doğal ve yapay ortamlara ait geniş bir yelpazeyi kapsayarak, görüntü işleme ve bilgisayarla görme alanında derin öğrenme tekniklerinin etkinliğini test etmek için zengin bir kaynak sunmaktadır.\n",
    "\n",
    "Görüntü sınıflandırma, özellikle derin öğrenme tekniklerinin gelişimi ile birlikte, bilgisayarla görü alanında önemli bir odak noktası haline gelmiştir. Doğal sahne görüntüleri, otonom araçlardan, uzaktan algılama sistemlerine kadar birçok uygulamada kritik bir rol oynamaktadır. Bu tür sistemlerin başarısı, sahnelerin doğru bir şekilde sınıflandırılmasına bağlıdır. Bu çalışma, CNN (Convolutional Neural Network) mimarisinin sahne sınıflandırma görevindeki potansiyelini değerlendirmeyi amaçlamaktadır.\n",
    "\n",
    "Veri setinin çeşitliliği, farklı ışık koşulları, hava durumu ve perspektifler gibi değişkenleri içerdiğinden, modelin genel performansını artırmak için kapsamlı bir veri ön işleme süreci gerekmektedir. Bu süreç, görüntülerin boyutlandırılması, normalizasyonu ve veri artırma tekniklerini içermektedir. Modelin eğitimi sırasında, altı sınıf arasındaki farklılıkları öğrenmek için uygun hiperparametre ayarları yapılmış ve sonrasında modelin doğruluğu çeşitli metriklerle değerlendirilmiştir.\n",
    "\n",
    "Sonuç olarak, bu çalışma, derin öğrenme tekniklerinin doğal sahne sınıflandırma görevindeki verimliliğini ve doğruluğunu artırma potansiyelini ortaya koymayı amaçlamaktadır. Elde edilen sonuçlar, hem akademik alanda hem de endüstriyel uygulamalarda kullanılabilecek önemli bulgular sağlayacak ve doğal sahne sınıflandırma alanında yeni yöntemlerin geliştirilmesine katkıda bulunacaktır."
   ]
  }
 ],
 "metadata": {
  "colab": {
   "provenance": []
  },
  "kaggle": {
   "accelerator": "none",
   "dataSources": [
    {
     "datasetId": 89296,
     "sourceId": 206037,
     "sourceType": "datasetVersion"
    }
   ],
   "dockerImageVersionId": 30775,
   "isGpuEnabled": false,
   "isInternetEnabled": true,
   "language": "python",
   "sourceType": "notebook"
  },
  "kernelspec": {
   "display_name": "Python 3 (ipykernel)",
   "language": "python",
   "name": "python3"
  },
  "language_info": {
   "codemirror_mode": {
    "name": "ipython",
    "version": 3
   },
   "file_extension": ".py",
   "mimetype": "text/x-python",
   "name": "python",
   "nbconvert_exporter": "python",
   "pygments_lexer": "ipython3",
   "version": "3.11.7"
  }
 },
 "nbformat": 4,
 "nbformat_minor": 1
}
