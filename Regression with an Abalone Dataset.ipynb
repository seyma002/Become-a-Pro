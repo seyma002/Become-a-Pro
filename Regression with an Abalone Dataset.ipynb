{
 "cells": [
  {
   "cell_type": "markdown",
   "metadata": {},
   "source": [
    "## Regression with an Abalone Dataset"
   ]
  },
  {
   "cell_type": "markdown",
   "metadata": {},
   "source": [
    "The aim of this competition is to estimate the age of abalone from various physical measurements. Abalones are an important part of the seafood industry and age estimation plays a critical role in the conservation and management of this species. In this project, regression techniques will be applied to make accurate estimates of abalone age using physical characteristics."
   ]
  },
  {
   "cell_type": "markdown",
   "metadata": {},
   "source": [
    "![](data:image/jpeg;base64,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)"
   ]
  },
  {
   "cell_type": "markdown",
   "metadata": {},
   "source": [
    "\n",
    "\n",
    "<a href='https://www.kaggle.com/competitions/playground-series-s4e4/' target=_blank>You can find the competition here</a>"
   ]
  },
  {
   "cell_type": "code",
   "execution_count": 1,
   "metadata": {
    "_cell_guid": "b1076dfc-b9ad-4769-8c92-a6c4dae69d19",
    "_uuid": "8f2839f25d086af736a60e9eeb907d3b93b6e0e5",
    "execution": {
     "iopub.execute_input": "2024-09-29T02:52:25.834493Z",
     "iopub.status.busy": "2024-09-29T02:52:25.833373Z",
     "iopub.status.idle": "2024-09-29T02:52:25.872410Z",
     "shell.execute_reply": "2024-09-29T02:52:25.871014Z",
     "shell.execute_reply.started": "2024-09-29T02:52:25.834429Z"
    }
   },
   "outputs": [
    {
     "name": "stdout",
     "output_type": "stream",
     "text": [
      "/kaggle/input/playground-series-s4e4/sample_submission.csv\n",
      "/kaggle/input/playground-series-s4e4/train.csv\n",
      "/kaggle/input/playground-series-s4e4/test.csv\n"
     ]
    }
   ],
   "source": [
    "import os\n",
    "for dirname, _, filenames in os.walk('/kaggle/input'):\n",
    "    for filename in filenames:\n",
    "        print(os.path.join(dirname, filename))"
   ]
  },
  {
   "cell_type": "markdown",
   "metadata": {},
   "source": [
    "## Import Libraries"
   ]
  },
  {
   "cell_type": "code",
   "execution_count": 1,
   "metadata": {
    "execution": {
     "iopub.execute_input": "2024-09-29T04:04:43.600485Z",
     "iopub.status.busy": "2024-09-29T04:04:43.600010Z",
     "iopub.status.idle": "2024-09-29T04:04:47.136787Z",
     "shell.execute_reply": "2024-09-29T04:04:47.135337Z",
     "shell.execute_reply.started": "2024-09-29T04:04:43.600437Z"
    }
   },
   "outputs": [],
   "source": [
    "import pandas as pd\n",
    "import numpy as np\n",
    "import seaborn as sns\n",
    "import matplotlib.pyplot as plt\n",
    "import warnings\n",
    "warnings.filterwarnings('ignore')"
   ]
  },
  {
   "cell_type": "code",
   "execution_count": 2,
   "metadata": {
    "execution": {
     "iopub.execute_input": "2024-09-29T04:04:47.140270Z",
     "iopub.status.busy": "2024-09-29T04:04:47.139498Z",
     "iopub.status.idle": "2024-09-29T04:04:47.474563Z",
     "shell.execute_reply": "2024-09-29T04:04:47.473004Z",
     "shell.execute_reply.started": "2024-09-29T04:04:47.140208Z"
    }
   },
   "outputs": [],
   "source": [
    "train=pd.read_csv('/kaggle/input/playground-series-s4e4/train.csv')\n",
    "test=pd.read_csv('/kaggle/input/playground-series-s4e4/test.csv')\n",
    "#Reading the file."
   ]
  },
  {
   "cell_type": "markdown",
   "metadata": {},
   "source": [
    "## EDA - Exploratory Data Analysis"
   ]
  },
  {
   "cell_type": "code",
   "execution_count": 4,
   "metadata": {
    "execution": {
     "iopub.execute_input": "2024-09-29T02:52:29.696435Z",
     "iopub.status.busy": "2024-09-29T02:52:29.695286Z",
     "iopub.status.idle": "2024-09-29T02:52:29.732936Z",
     "shell.execute_reply": "2024-09-29T02:52:29.731535Z",
     "shell.execute_reply.started": "2024-09-29T02:52:29.696369Z"
    }
   },
   "outputs": [
    {
     "data": {
      "text/html": [
       "<div>\n",
       "<style scoped>\n",
       "    .dataframe tbody tr th:only-of-type {\n",
       "        vertical-align: middle;\n",
       "    }\n",
       "\n",
       "    .dataframe tbody tr th {\n",
       "        vertical-align: top;\n",
       "    }\n",
       "\n",
       "    .dataframe thead th {\n",
       "        text-align: right;\n",
       "    }\n",
       "</style>\n",
       "<table border=\"1\" class=\"dataframe\">\n",
       "  <thead>\n",
       "    <tr style=\"text-align: right;\">\n",
       "      <th></th>\n",
       "      <th>id</th>\n",
       "      <th>Sex</th>\n",
       "      <th>Length</th>\n",
       "      <th>Diameter</th>\n",
       "      <th>Height</th>\n",
       "      <th>Whole weight</th>\n",
       "      <th>Whole weight.1</th>\n",
       "      <th>Whole weight.2</th>\n",
       "      <th>Shell weight</th>\n",
       "      <th>Rings</th>\n",
       "    </tr>\n",
       "  </thead>\n",
       "  <tbody>\n",
       "    <tr>\n",
       "      <th>0</th>\n",
       "      <td>0</td>\n",
       "      <td>F</td>\n",
       "      <td>0.550</td>\n",
       "      <td>0.430</td>\n",
       "      <td>0.150</td>\n",
       "      <td>0.7715</td>\n",
       "      <td>0.3285</td>\n",
       "      <td>0.1465</td>\n",
       "      <td>0.2400</td>\n",
       "      <td>11</td>\n",
       "    </tr>\n",
       "    <tr>\n",
       "      <th>1</th>\n",
       "      <td>1</td>\n",
       "      <td>F</td>\n",
       "      <td>0.630</td>\n",
       "      <td>0.490</td>\n",
       "      <td>0.145</td>\n",
       "      <td>1.1300</td>\n",
       "      <td>0.4580</td>\n",
       "      <td>0.2765</td>\n",
       "      <td>0.3200</td>\n",
       "      <td>11</td>\n",
       "    </tr>\n",
       "    <tr>\n",
       "      <th>2</th>\n",
       "      <td>2</td>\n",
       "      <td>I</td>\n",
       "      <td>0.160</td>\n",
       "      <td>0.110</td>\n",
       "      <td>0.025</td>\n",
       "      <td>0.0210</td>\n",
       "      <td>0.0055</td>\n",
       "      <td>0.0030</td>\n",
       "      <td>0.0050</td>\n",
       "      <td>6</td>\n",
       "    </tr>\n",
       "    <tr>\n",
       "      <th>3</th>\n",
       "      <td>3</td>\n",
       "      <td>M</td>\n",
       "      <td>0.595</td>\n",
       "      <td>0.475</td>\n",
       "      <td>0.150</td>\n",
       "      <td>0.9145</td>\n",
       "      <td>0.3755</td>\n",
       "      <td>0.2055</td>\n",
       "      <td>0.2500</td>\n",
       "      <td>10</td>\n",
       "    </tr>\n",
       "    <tr>\n",
       "      <th>4</th>\n",
       "      <td>4</td>\n",
       "      <td>I</td>\n",
       "      <td>0.555</td>\n",
       "      <td>0.425</td>\n",
       "      <td>0.130</td>\n",
       "      <td>0.7820</td>\n",
       "      <td>0.3695</td>\n",
       "      <td>0.1600</td>\n",
       "      <td>0.1975</td>\n",
       "      <td>9</td>\n",
       "    </tr>\n",
       "  </tbody>\n",
       "</table>\n",
       "</div>"
      ],
      "text/plain": [
       "   id Sex  Length  Diameter  Height  Whole weight  Whole weight.1  \\\n",
       "0   0   F   0.550     0.430   0.150        0.7715          0.3285   \n",
       "1   1   F   0.630     0.490   0.145        1.1300          0.4580   \n",
       "2   2   I   0.160     0.110   0.025        0.0210          0.0055   \n",
       "3   3   M   0.595     0.475   0.150        0.9145          0.3755   \n",
       "4   4   I   0.555     0.425   0.130        0.7820          0.3695   \n",
       "\n",
       "   Whole weight.2  Shell weight  Rings  \n",
       "0          0.1465        0.2400     11  \n",
       "1          0.2765        0.3200     11  \n",
       "2          0.0030        0.0050      6  \n",
       "3          0.2055        0.2500     10  \n",
       "4          0.1600        0.1975      9  "
      ]
     },
     "execution_count": 4,
     "metadata": {},
     "output_type": "execute_result"
    }
   ],
   "source": [
    "train.head()"
   ]
  },
  {
   "cell_type": "code",
   "execution_count": 5,
   "metadata": {
    "execution": {
     "iopub.execute_input": "2024-09-29T02:52:29.737121Z",
     "iopub.status.busy": "2024-09-29T02:52:29.736595Z",
     "iopub.status.idle": "2024-09-29T02:52:29.761489Z",
     "shell.execute_reply": "2024-09-29T02:52:29.760104Z",
     "shell.execute_reply.started": "2024-09-29T02:52:29.737065Z"
    }
   },
   "outputs": [
    {
     "data": {
      "text/html": [
       "<div>\n",
       "<style scoped>\n",
       "    .dataframe tbody tr th:only-of-type {\n",
       "        vertical-align: middle;\n",
       "    }\n",
       "\n",
       "    .dataframe tbody tr th {\n",
       "        vertical-align: top;\n",
       "    }\n",
       "\n",
       "    .dataframe thead th {\n",
       "        text-align: right;\n",
       "    }\n",
       "</style>\n",
       "<table border=\"1\" class=\"dataframe\">\n",
       "  <thead>\n",
       "    <tr style=\"text-align: right;\">\n",
       "      <th></th>\n",
       "      <th>id</th>\n",
       "      <th>Sex</th>\n",
       "      <th>Length</th>\n",
       "      <th>Diameter</th>\n",
       "      <th>Height</th>\n",
       "      <th>Whole weight</th>\n",
       "      <th>Whole weight.1</th>\n",
       "      <th>Whole weight.2</th>\n",
       "      <th>Shell weight</th>\n",
       "    </tr>\n",
       "  </thead>\n",
       "  <tbody>\n",
       "    <tr>\n",
       "      <th>0</th>\n",
       "      <td>90615</td>\n",
       "      <td>M</td>\n",
       "      <td>0.645</td>\n",
       "      <td>0.475</td>\n",
       "      <td>0.155</td>\n",
       "      <td>1.2380</td>\n",
       "      <td>0.6185</td>\n",
       "      <td>0.3125</td>\n",
       "      <td>0.3005</td>\n",
       "    </tr>\n",
       "    <tr>\n",
       "      <th>1</th>\n",
       "      <td>90616</td>\n",
       "      <td>M</td>\n",
       "      <td>0.580</td>\n",
       "      <td>0.460</td>\n",
       "      <td>0.160</td>\n",
       "      <td>0.9830</td>\n",
       "      <td>0.4785</td>\n",
       "      <td>0.2195</td>\n",
       "      <td>0.2750</td>\n",
       "    </tr>\n",
       "    <tr>\n",
       "      <th>2</th>\n",
       "      <td>90617</td>\n",
       "      <td>M</td>\n",
       "      <td>0.560</td>\n",
       "      <td>0.420</td>\n",
       "      <td>0.140</td>\n",
       "      <td>0.8395</td>\n",
       "      <td>0.3525</td>\n",
       "      <td>0.1845</td>\n",
       "      <td>0.2405</td>\n",
       "    </tr>\n",
       "    <tr>\n",
       "      <th>3</th>\n",
       "      <td>90618</td>\n",
       "      <td>M</td>\n",
       "      <td>0.570</td>\n",
       "      <td>0.490</td>\n",
       "      <td>0.145</td>\n",
       "      <td>0.8740</td>\n",
       "      <td>0.3525</td>\n",
       "      <td>0.1865</td>\n",
       "      <td>0.2350</td>\n",
       "    </tr>\n",
       "    <tr>\n",
       "      <th>4</th>\n",
       "      <td>90619</td>\n",
       "      <td>I</td>\n",
       "      <td>0.415</td>\n",
       "      <td>0.325</td>\n",
       "      <td>0.110</td>\n",
       "      <td>0.3580</td>\n",
       "      <td>0.1575</td>\n",
       "      <td>0.0670</td>\n",
       "      <td>0.1050</td>\n",
       "    </tr>\n",
       "  </tbody>\n",
       "</table>\n",
       "</div>"
      ],
      "text/plain": [
       "      id Sex  Length  Diameter  Height  Whole weight  Whole weight.1  \\\n",
       "0  90615   M   0.645     0.475   0.155        1.2380          0.6185   \n",
       "1  90616   M   0.580     0.460   0.160        0.9830          0.4785   \n",
       "2  90617   M   0.560     0.420   0.140        0.8395          0.3525   \n",
       "3  90618   M   0.570     0.490   0.145        0.8740          0.3525   \n",
       "4  90619   I   0.415     0.325   0.110        0.3580          0.1575   \n",
       "\n",
       "   Whole weight.2  Shell weight  \n",
       "0          0.3125        0.3005  \n",
       "1          0.2195        0.2750  \n",
       "2          0.1845        0.2405  \n",
       "3          0.1865        0.2350  \n",
       "4          0.0670        0.1050  "
      ]
     },
     "execution_count": 5,
     "metadata": {},
     "output_type": "execute_result"
    }
   ],
   "source": [
    "test.head()"
   ]
  },
  {
   "cell_type": "code",
   "execution_count": 6,
   "metadata": {
    "execution": {
     "iopub.execute_input": "2024-09-29T02:52:29.763848Z",
     "iopub.status.busy": "2024-09-29T02:52:29.763451Z",
     "iopub.status.idle": "2024-09-29T02:52:29.772221Z",
     "shell.execute_reply": "2024-09-29T02:52:29.770916Z",
     "shell.execute_reply.started": "2024-09-29T02:52:29.763807Z"
    }
   },
   "outputs": [
    {
     "data": {
      "text/plain": [
       "((90615, 10), (60411, 9))"
      ]
     },
     "execution_count": 6,
     "metadata": {},
     "output_type": "execute_result"
    }
   ],
   "source": [
    "train.shape, test.shape"
   ]
  },
  {
   "cell_type": "code",
   "execution_count": 7,
   "metadata": {
    "execution": {
     "iopub.execute_input": "2024-09-29T02:52:29.774556Z",
     "iopub.status.busy": "2024-09-29T02:52:29.774134Z",
     "iopub.status.idle": "2024-09-29T02:52:29.799735Z",
     "shell.execute_reply": "2024-09-29T02:52:29.798022Z",
     "shell.execute_reply.started": "2024-09-29T02:52:29.774513Z"
    }
   },
   "outputs": [
    {
     "data": {
      "text/plain": [
       "id                0\n",
       "Sex               0\n",
       "Length            0\n",
       "Diameter          0\n",
       "Height            0\n",
       "Whole weight      0\n",
       "Whole weight.1    0\n",
       "Whole weight.2    0\n",
       "Shell weight      0\n",
       "Rings             0\n",
       "dtype: int64"
      ]
     },
     "execution_count": 7,
     "metadata": {},
     "output_type": "execute_result"
    }
   ],
   "source": [
    "train.isnull().sum()"
   ]
  },
  {
   "cell_type": "code",
   "execution_count": 8,
   "metadata": {
    "execution": {
     "iopub.execute_input": "2024-09-29T02:52:29.802516Z",
     "iopub.status.busy": "2024-09-29T02:52:29.801618Z",
     "iopub.status.idle": "2024-09-29T02:52:29.821559Z",
     "shell.execute_reply": "2024-09-29T02:52:29.819965Z",
     "shell.execute_reply.started": "2024-09-29T02:52:29.802471Z"
    }
   },
   "outputs": [
    {
     "data": {
      "text/plain": [
       "id                0\n",
       "Sex               0\n",
       "Length            0\n",
       "Diameter          0\n",
       "Height            0\n",
       "Whole weight      0\n",
       "Whole weight.1    0\n",
       "Whole weight.2    0\n",
       "Shell weight      0\n",
       "dtype: int64"
      ]
     },
     "execution_count": 8,
     "metadata": {},
     "output_type": "execute_result"
    }
   ],
   "source": [
    "test.isnull().sum()"
   ]
  },
  {
   "cell_type": "code",
   "execution_count": 3,
   "metadata": {
    "execution": {
     "iopub.execute_input": "2024-09-29T04:04:47.476989Z",
     "iopub.status.busy": "2024-09-29T04:04:47.476477Z",
     "iopub.status.idle": "2024-09-29T04:04:47.503483Z",
     "shell.execute_reply": "2024-09-29T04:04:47.502093Z",
     "shell.execute_reply.started": "2024-09-29T04:04:47.476913Z"
    }
   },
   "outputs": [],
   "source": [
    "df=pd.concat([train,test])\n",
    "#Merging the file."
   ]
  },
  {
   "cell_type": "code",
   "execution_count": 10,
   "metadata": {
    "execution": {
     "iopub.execute_input": "2024-09-29T02:52:29.845313Z",
     "iopub.status.busy": "2024-09-29T02:52:29.844812Z",
     "iopub.status.idle": "2024-09-29T02:52:29.891028Z",
     "shell.execute_reply": "2024-09-29T02:52:29.889571Z",
     "shell.execute_reply.started": "2024-09-29T02:52:29.845258Z"
    }
   },
   "outputs": [
    {
     "name": "stdout",
     "output_type": "stream",
     "text": [
      "<class 'pandas.core.frame.DataFrame'>\n",
      "Index: 151026 entries, 0 to 60410\n",
      "Data columns (total 10 columns):\n",
      " #   Column          Non-Null Count   Dtype  \n",
      "---  ------          --------------   -----  \n",
      " 0   id              151026 non-null  int64  \n",
      " 1   Sex             151026 non-null  object \n",
      " 2   Length          151026 non-null  float64\n",
      " 3   Diameter        151026 non-null  float64\n",
      " 4   Height          151026 non-null  float64\n",
      " 5   Whole weight    151026 non-null  float64\n",
      " 6   Whole weight.1  151026 non-null  float64\n",
      " 7   Whole weight.2  151026 non-null  float64\n",
      " 8   Shell weight    151026 non-null  float64\n",
      " 9   Rings           90615 non-null   float64\n",
      "dtypes: float64(8), int64(1), object(1)\n",
      "memory usage: 12.7+ MB\n"
     ]
    }
   ],
   "source": [
    "df.info()"
   ]
  },
  {
   "cell_type": "code",
   "execution_count": 11,
   "metadata": {
    "execution": {
     "iopub.execute_input": "2024-09-29T02:52:29.898131Z",
     "iopub.status.busy": "2024-09-29T02:52:29.897545Z",
     "iopub.status.idle": "2024-09-29T02:52:29.905009Z",
     "shell.execute_reply": "2024-09-29T02:52:29.903395Z",
     "shell.execute_reply.started": "2024-09-29T02:52:29.898073Z"
    }
   },
   "outputs": [],
   "source": [
    "# d={'F':0, 'I':1, 'M':2}"
   ]
  },
  {
   "cell_type": "code",
   "execution_count": 12,
   "metadata": {
    "execution": {
     "iopub.execute_input": "2024-09-29T02:52:29.907532Z",
     "iopub.status.busy": "2024-09-29T02:52:29.907053Z",
     "iopub.status.idle": "2024-09-29T02:52:29.914276Z",
     "shell.execute_reply": "2024-09-29T02:52:29.912759Z",
     "shell.execute_reply.started": "2024-09-29T02:52:29.907480Z"
    }
   },
   "outputs": [],
   "source": [
    "# df['Sex']=df['Sex'].map(d)"
   ]
  },
  {
   "cell_type": "markdown",
   "metadata": {},
   "source": [
    "## Data Visualization"
   ]
  },
  {
   "cell_type": "code",
   "execution_count": 13,
   "metadata": {
    "execution": {
     "iopub.execute_input": "2024-09-29T02:52:29.917045Z",
     "iopub.status.busy": "2024-09-29T02:52:29.916493Z",
     "iopub.status.idle": "2024-09-29T02:52:30.379912Z",
     "shell.execute_reply": "2024-09-29T02:52:30.378432Z",
     "shell.execute_reply.started": "2024-09-29T02:52:29.916990Z"
    }
   },
   "outputs": [
    {
     "data": {
      "image/png": "[encoded data removed]",
      "text/plain": [
       "<Figure size 640x480 with 1 Axes>"
      ]
     },
     "metadata": {},
     "output_type": "display_data"
    }
   ],
   "source": [
    "sns.countplot(x=df['Sex']);"
   ]
  },
  {
   "cell_type": "code",
   "execution_count": 14,
   "metadata": {
    "execution": {
     "iopub.execute_input": "2024-09-29T02:52:30.382884Z",
     "iopub.status.busy": "2024-09-29T02:52:30.381792Z",
     "iopub.status.idle": "2024-09-29T02:52:31.490767Z",
     "shell.execute_reply": "2024-09-29T02:52:31.489396Z",
     "shell.execute_reply.started": "2024-09-29T02:52:30.382825Z"
    }
   },
   "outputs": [
    {
     "data": {
      "image/png": "[encoded data removed]",
      "text/plain": [
       "<Figure size 640x480 with 1 Axes>"
      ]
     },
     "metadata": {},
     "output_type": "display_data"
    }
   ],
   "source": [
    "sns.kdeplot(x=df['Length'], fill=True);"
   ]
  },
  {
   "cell_type": "code",
   "execution_count": 15,
   "metadata": {
    "execution": {
     "iopub.execute_input": "2024-09-29T02:52:31.493418Z",
     "iopub.status.busy": "2024-09-29T02:52:31.492787Z",
     "iopub.status.idle": "2024-09-29T02:52:32.603813Z",
     "shell.execute_reply": "2024-09-29T02:52:32.601853Z",
     "shell.execute_reply.started": "2024-09-29T02:52:31.493356Z"
    }
   },
   "outputs": [
    {
     "data": {
      "image/png": "[encoded data removed]",
      "text/plain": [
       "<Figure size 640x480 with 1 Axes>"
      ]
     },
     "metadata": {},
     "output_type": "display_data"
    }
   ],
   "source": [
    "sns.kdeplot(x=df['Diameter'], fill=True);"
   ]
  },
  {
   "cell_type": "code",
   "execution_count": 16,
   "metadata": {
    "execution": {
     "iopub.execute_input": "2024-09-29T02:52:32.606195Z",
     "iopub.status.busy": "2024-09-29T02:52:32.605753Z",
     "iopub.status.idle": "2024-09-29T02:52:33.828169Z",
     "shell.execute_reply": "2024-09-29T02:52:33.826703Z",
     "shell.execute_reply.started": "2024-09-29T02:52:32.606151Z"
    }
   },
   "outputs": [
    {
     "data": {
      "image/png": "[encoded data removed]",
      "text/plain": [
       "<Figure size 640x480 with 1 Axes>"
      ]
     },
     "metadata": {},
     "output_type": "display_data"
    }
   ],
   "source": [
    "sns.kdeplot(x=df['Height'], fill=True);"
   ]
  },
  {
   "cell_type": "code",
   "execution_count": 17,
   "metadata": {
    "execution": {
     "iopub.execute_input": "2024-09-29T02:52:33.831253Z",
     "iopub.status.busy": "2024-09-29T02:52:33.830229Z",
     "iopub.status.idle": "2024-09-29T02:52:35.140332Z",
     "shell.execute_reply": "2024-09-29T02:52:35.138325Z",
     "shell.execute_reply.started": "2024-09-29T02:52:33.831199Z"
    }
   },
   "outputs": [
    {
     "data": {
      "image/png": "[encoded data removed]",
      "text/plain": [
       "<Figure size 640x480 with 1 Axes>"
      ]
     },
     "metadata": {},
     "output_type": "display_data"
    }
   ],
   "source": [
    "sns.histplot(x=df['Whole weight'], kde=True);"
   ]
  },
  {
   "cell_type": "code",
   "execution_count": 18,
   "metadata": {
    "execution": {
     "iopub.execute_input": "2024-09-29T02:52:35.144551Z",
     "iopub.status.busy": "2024-09-29T02:52:35.143529Z",
     "iopub.status.idle": "2024-09-29T02:52:36.231550Z",
     "shell.execute_reply": "2024-09-29T02:52:36.230211Z",
     "shell.execute_reply.started": "2024-09-29T02:52:35.144470Z"
    }
   },
   "outputs": [
    {
     "data": {
      "image/png": "[encoded data removed]",
      "text/plain": [
       "<Figure size 640x480 with 1 Axes>"
      ]
     },
     "metadata": {},
     "output_type": "display_data"
    }
   ],
   "source": [
    "sns.kdeplot(x=df['Whole weight.1'], fill=True);"
   ]
  },
  {
   "cell_type": "code",
   "execution_count": 19,
   "metadata": {
    "execution": {
     "iopub.execute_input": "2024-09-29T02:52:36.234126Z",
     "iopub.status.busy": "2024-09-29T02:52:36.233472Z",
     "iopub.status.idle": "2024-09-29T02:52:37.633724Z",
     "shell.execute_reply": "2024-09-29T02:52:37.632098Z",
     "shell.execute_reply.started": "2024-09-29T02:52:36.234053Z"
    }
   },
   "outputs": [
    {
     "data": {
      "image/png": "[encoded data removed]",
      "text/plain": [
       "<Figure size 640x480 with 1 Axes>"
      ]
     },
     "metadata": {},
     "output_type": "display_data"
    }
   ],
   "source": [
    "sns.histplot(x=df['Whole weight.2'], kde=True);"
   ]
  },
  {
   "cell_type": "code",
   "execution_count": 20,
   "metadata": {
    "execution": {
     "iopub.execute_input": "2024-09-29T02:52:37.636857Z",
     "iopub.status.busy": "2024-09-29T02:52:37.636254Z",
     "iopub.status.idle": "2024-09-29T02:52:38.752640Z",
     "shell.execute_reply": "2024-09-29T02:52:38.751243Z",
     "shell.execute_reply.started": "2024-09-29T02:52:37.636800Z"
    }
   },
   "outputs": [
    {
     "data": {
      "image/png": "[encoded data removed]",
      "text/plain": [
       "<Figure size 640x480 with 1 Axes>"
      ]
     },
     "metadata": {},
     "output_type": "display_data"
    }
   ],
   "source": [
    "sns.kdeplot(x=df['Shell weight'], fill=True);"
   ]
  },
  {
   "cell_type": "code",
   "execution_count": 21,
   "metadata": {
    "execution": {
     "iopub.execute_input": "2024-09-29T02:52:38.754850Z",
     "iopub.status.busy": "2024-09-29T02:52:38.754391Z",
     "iopub.status.idle": "2024-09-29T02:52:39.235133Z",
     "shell.execute_reply": "2024-09-29T02:52:39.233949Z",
     "shell.execute_reply.started": "2024-09-29T02:52:38.754754Z"
    }
   },
   "outputs": [
    {
     "data": {
      "image/png": "[encoded data removed]",
      "text/plain": [
       "<Figure size 640x480 with 1 Axes>"
      ]
     },
     "metadata": {},
     "output_type": "display_data"
    }
   ],
   "source": [
    "sns.countplot(x=df['Rings'])\n",
    "plt.xticks(rotation=90);"
   ]
  },
  {
   "cell_type": "markdown",
   "metadata": {},
   "source": [
    "## Modelling"
   ]
  },
  {
   "cell_type": "code",
   "execution_count": 4,
   "metadata": {
    "execution": {
     "iopub.execute_input": "2024-09-29T04:04:49.386416Z",
     "iopub.status.busy": "2024-09-29T04:04:49.385951Z",
     "iopub.status.idle": "2024-09-29T04:04:49.753684Z",
     "shell.execute_reply": "2024-09-29T04:04:49.752120Z",
     "shell.execute_reply.started": "2024-09-29T04:04:49.386371Z"
    }
   },
   "outputs": [],
   "source": [
    "from sklearn.model_selection import train_test_split\n",
    "from sklearn.linear_model import LinearRegression\n",
    "from sklearn.metrics import r2_score, mean_squared_error"
   ]
  },
  {
   "cell_type": "code",
   "execution_count": 5,
   "metadata": {
    "execution": {
     "iopub.execute_input": "2024-09-29T04:04:49.760234Z",
     "iopub.status.busy": "2024-09-29T04:04:49.759698Z",
     "iopub.status.idle": "2024-09-29T04:04:49.769793Z",
     "shell.execute_reply": "2024-09-29T04:04:49.768551Z",
     "shell.execute_reply.started": "2024-09-29T04:04:49.760186Z"
    }
   },
   "outputs": [
    {
     "data": {
      "text/plain": [
       "(90615, 10)"
      ]
     },
     "execution_count": 5,
     "metadata": {},
     "output_type": "execute_result"
    }
   ],
   "source": [
    "train.shape"
   ]
  },
  {
   "cell_type": "code",
   "execution_count": 6,
   "metadata": {
    "execution": {
     "iopub.execute_input": "2024-09-29T04:04:50.095841Z",
     "iopub.status.busy": "2024-09-29T04:04:50.095404Z",
     "iopub.status.idle": "2024-09-29T04:04:50.152471Z",
     "shell.execute_reply": "2024-09-29T04:04:50.151385Z",
     "shell.execute_reply.started": "2024-09-29T04:04:50.095801Z"
    }
   },
   "outputs": [],
   "source": [
    "df=pd.get_dummies(df)"
   ]
  },
  {
   "cell_type": "code",
   "execution_count": 7,
   "metadata": {
    "execution": {
     "iopub.execute_input": "2024-09-29T04:04:50.401642Z",
     "iopub.status.busy": "2024-09-29T04:04:50.401204Z",
     "iopub.status.idle": "2024-09-29T04:04:50.409003Z",
     "shell.execute_reply": "2024-09-29T04:04:50.407608Z",
     "shell.execute_reply.started": "2024-09-29T04:04:50.401601Z"
    }
   },
   "outputs": [],
   "source": [
    "train=df[:90615]\n",
    "test=df[90615:]"
   ]
  },
  {
   "cell_type": "code",
   "execution_count": 8,
   "metadata": {
    "execution": {
     "iopub.execute_input": "2024-09-29T04:04:50.698235Z",
     "iopub.status.busy": "2024-09-29T04:04:50.697153Z",
     "iopub.status.idle": "2024-09-29T04:04:50.747638Z",
     "shell.execute_reply": "2024-09-29T04:04:50.745650Z",
     "shell.execute_reply.started": "2024-09-29T04:04:50.698158Z"
    }
   },
   "outputs": [
    {
     "data": {
      "text/html": [
       "<div>\n",
       "<style scoped>\n",
       "    .dataframe tbody tr th:only-of-type {\n",
       "        vertical-align: middle;\n",
       "    }\n",
       "\n",
       "    .dataframe tbody tr th {\n",
       "        vertical-align: top;\n",
       "    }\n",
       "\n",
       "    .dataframe thead th {\n",
       "        text-align: right;\n",
       "    }\n",
       "</style>\n",
       "<table border=\"1\" class=\"dataframe\">\n",
       "  <thead>\n",
       "    <tr style=\"text-align: right;\">\n",
       "      <th></th>\n",
       "      <th>id</th>\n",
       "      <th>Length</th>\n",
       "      <th>Diameter</th>\n",
       "      <th>Height</th>\n",
       "      <th>Whole weight</th>\n",
       "      <th>Whole weight.1</th>\n",
       "      <th>Whole weight.2</th>\n",
       "      <th>Shell weight</th>\n",
       "      <th>Rings</th>\n",
       "      <th>Sex_F</th>\n",
       "      <th>Sex_I</th>\n",
       "      <th>Sex_M</th>\n",
       "    </tr>\n",
       "  </thead>\n",
       "  <tbody>\n",
       "    <tr>\n",
       "      <th>0</th>\n",
       "      <td>0</td>\n",
       "      <td>0.550</td>\n",
       "      <td>0.430</td>\n",
       "      <td>0.150</td>\n",
       "      <td>0.7715</td>\n",
       "      <td>0.3285</td>\n",
       "      <td>0.1465</td>\n",
       "      <td>0.2400</td>\n",
       "      <td>11.0</td>\n",
       "      <td>True</td>\n",
       "      <td>False</td>\n",
       "      <td>False</td>\n",
       "    </tr>\n",
       "    <tr>\n",
       "      <th>1</th>\n",
       "      <td>1</td>\n",
       "      <td>0.630</td>\n",
       "      <td>0.490</td>\n",
       "      <td>0.145</td>\n",
       "      <td>1.1300</td>\n",
       "      <td>0.4580</td>\n",
       "      <td>0.2765</td>\n",
       "      <td>0.3200</td>\n",
       "      <td>11.0</td>\n",
       "      <td>True</td>\n",
       "      <td>False</td>\n",
       "      <td>False</td>\n",
       "    </tr>\n",
       "    <tr>\n",
       "      <th>2</th>\n",
       "      <td>2</td>\n",
       "      <td>0.160</td>\n",
       "      <td>0.110</td>\n",
       "      <td>0.025</td>\n",
       "      <td>0.0210</td>\n",
       "      <td>0.0055</td>\n",
       "      <td>0.0030</td>\n",
       "      <td>0.0050</td>\n",
       "      <td>6.0</td>\n",
       "      <td>False</td>\n",
       "      <td>True</td>\n",
       "      <td>False</td>\n",
       "    </tr>\n",
       "    <tr>\n",
       "      <th>3</th>\n",
       "      <td>3</td>\n",
       "      <td>0.595</td>\n",
       "      <td>0.475</td>\n",
       "      <td>0.150</td>\n",
       "      <td>0.9145</td>\n",
       "      <td>0.3755</td>\n",
       "      <td>0.2055</td>\n",
       "      <td>0.2500</td>\n",
       "      <td>10.0</td>\n",
       "      <td>False</td>\n",
       "      <td>False</td>\n",
       "      <td>True</td>\n",
       "    </tr>\n",
       "    <tr>\n",
       "      <th>4</th>\n",
       "      <td>4</td>\n",
       "      <td>0.555</td>\n",
       "      <td>0.425</td>\n",
       "      <td>0.130</td>\n",
       "      <td>0.7820</td>\n",
       "      <td>0.3695</td>\n",
       "      <td>0.1600</td>\n",
       "      <td>0.1975</td>\n",
       "      <td>9.0</td>\n",
       "      <td>False</td>\n",
       "      <td>True</td>\n",
       "      <td>False</td>\n",
       "    </tr>\n",
       "  </tbody>\n",
       "</table>\n",
       "</div>"
      ],
      "text/plain": [
       "   id  Length  Diameter  Height  Whole weight  Whole weight.1  Whole weight.2  \\\n",
       "0   0   0.550     0.430   0.150        0.7715          0.3285          0.1465   \n",
       "1   1   0.630     0.490   0.145        1.1300          0.4580          0.2765   \n",
       "2   2   0.160     0.110   0.025        0.0210          0.0055          0.0030   \n",
       "3   3   0.595     0.475   0.150        0.9145          0.3755          0.2055   \n",
       "4   4   0.555     0.425   0.130        0.7820          0.3695          0.1600   \n",
       "\n",
       "   Shell weight  Rings  Sex_F  Sex_I  Sex_M  \n",
       "0        0.2400   11.0   True  False  False  \n",
       "1        0.3200   11.0   True  False  False  \n",
       "2        0.0050    6.0  False   True  False  \n",
       "3        0.2500   10.0  False  False   True  \n",
       "4        0.1975    9.0  False   True  False  "
      ]
     },
     "execution_count": 8,
     "metadata": {},
     "output_type": "execute_result"
    }
   ],
   "source": [
    "train.head()"
   ]
  },
  {
   "cell_type": "code",
   "execution_count": 9,
   "metadata": {
    "execution": {
     "iopub.execute_input": "2024-09-29T04:04:52.817578Z",
     "iopub.status.busy": "2024-09-29T04:04:52.817001Z",
     "iopub.status.idle": "2024-09-29T04:04:52.832391Z",
     "shell.execute_reply": "2024-09-29T04:04:52.830952Z",
     "shell.execute_reply.started": "2024-09-29T04:04:52.817521Z"
    }
   },
   "outputs": [],
   "source": [
    "x=train.drop('Rings', axis=1)\n",
    "y=train[['Rings']]"
   ]
  },
  {
   "cell_type": "code",
   "execution_count": 10,
   "metadata": {
    "execution": {
     "iopub.execute_input": "2024-09-29T04:04:53.118414Z",
     "iopub.status.busy": "2024-09-29T04:04:53.117354Z",
     "iopub.status.idle": "2024-09-29T04:04:53.149668Z",
     "shell.execute_reply": "2024-09-29T04:04:53.147258Z",
     "shell.execute_reply.started": "2024-09-29T04:04:53.118359Z"
    }
   },
   "outputs": [],
   "source": [
    "x_train, x_test, y_train, y_test=train_test_split(x, y, test_size=0.20, random_state=42)"
   ]
  },
  {
   "cell_type": "code",
   "execution_count": 29,
   "metadata": {
    "execution": {
     "iopub.execute_input": "2024-09-29T02:52:39.895962Z",
     "iopub.status.busy": "2024-09-29T02:52:39.895503Z",
     "iopub.status.idle": "2024-09-29T02:52:39.983216Z",
     "shell.execute_reply": "2024-09-29T02:52:39.981844Z",
     "shell.execute_reply.started": "2024-09-29T02:52:39.895920Z"
    }
   },
   "outputs": [
    {
     "name": "stdout",
     "output_type": "stream",
     "text": [
      "Root Mean Squared Error: 2.0237293747135707\n",
      "R2 Score: 0.6013104882981961\n"
     ]
    }
   ],
   "source": [
    "lr=LinearRegression()\n",
    "model=lr.fit(x_train, y_train)\n",
    "pred=lr.predict(x_test)\n",
    "rmse=mean_squared_error(y_test, pred)**.5\n",
    "r2=r2_score(y_test, pred)\n",
    "\n",
    "print('Root Mean Squared Error:', rmse)\n",
    "print('R2 Score:', r2)"
   ]
  },
  {
   "cell_type": "code",
   "execution_count": 46,
   "metadata": {
    "execution": {
     "iopub.execute_input": "2024-09-29T03:12:28.379004Z",
     "iopub.status.busy": "2024-09-29T03:12:28.377859Z",
     "iopub.status.idle": "2024-09-29T03:12:28.390819Z",
     "shell.execute_reply": "2024-09-29T03:12:28.389421Z",
     "shell.execute_reply.started": "2024-09-29T03:12:28.378943Z"
    }
   },
   "outputs": [
    {
     "name": "stdout",
     "output_type": "stream",
     "text": [
      "RMSLE: 0.16568521715213982\n"
     ]
    }
   ],
   "source": [
    "def rmsle(y_test, pred):\n",
    "    # Logaritma hesaplama\n",
    "    log_true = np.log1p(y_test)  # log(yi + 1)\n",
    "    log_pred = np.log1p(pred)  # log(ŷi + 1)\n",
    "\n",
    "    # RMSLE hesaplama\n",
    "    return np.sqrt(np.mean((log_true - log_pred) ** 2))\n",
    "\n",
    "# RMSLE hesaplama\n",
    "error = rmsle(y_test, pred)\n",
    "print(\"RMSLE:\", error)"
   ]
  },
  {
   "cell_type": "code",
   "execution_count": 17,
   "metadata": {
    "execution": {
     "iopub.execute_input": "2024-09-29T04:05:05.825355Z",
     "iopub.status.busy": "2024-09-29T04:05:05.824843Z",
     "iopub.status.idle": "2024-09-29T04:05:06.305682Z",
     "shell.execute_reply": "2024-09-29T04:05:06.303999Z",
     "shell.execute_reply.started": "2024-09-29T04:05:05.825311Z"
    }
   },
   "outputs": [],
   "source": [
    "import pandas as pd\n",
    "import numpy as np\n",
    "import matplotlib.pyplot as plt\n",
    "import seaborn as sns\n",
    "import warnings\n",
    "warnings.filterwarnings(\"ignore\")\n",
    "pd.set_option(\"display.max_columns\",100)\n",
    "\n",
    "from sklearn.linear_model import LinearRegression,SGDRegressor,Ridge,Lasso,ElasticNet\n",
    "from sklearn.neighbors import KNeighborsRegressor, RadiusNeighborsRegressor\n",
    "from sklearn.ensemble import GradientBoostingRegressor,AdaBoostRegressor\n",
    "from sklearn.tree import DecisionTreeRegressor, plot_tree, ExtraTreeRegressor\n",
    "#pip install xgboost\n",
    "from xgboost import XGBRegressor\n",
    "from sklearn.svm import SVR\n",
    "from sklearn.neural_network import MLPRegressor\n",
    "from sklearn.model_selection import train_test_split\n",
    "from sklearn.metrics import mean_squared_error,r2_score,mean_absolute_error\n",
    "from sklearn.preprocessing import StandardScaler\n",
    "\n",
    "\n",
    "def algo_test(x,y):\n",
    "        L=LinearRegression()\n",
    "        R=Ridge()\n",
    "        Lass=Lasso()\n",
    "        E=ElasticNet()\n",
    "        sgd=SGDRegressor()\n",
    "        ETR=ExtraTreeRegressor()\n",
    "        GBR=GradientBoostingRegressor()\n",
    "        kn=KNeighborsRegressor()\n",
    "        rkn=RadiusNeighborsRegressor(radius=1.0)\n",
    "        ada=AdaBoostRegressor()\n",
    "        dt=DecisionTreeRegressor()\n",
    "        xgb=XGBRegressor()\n",
    "        svr=SVR()\n",
    "        mlp_regressor = MLPRegressor()\n",
    "\n",
    "        algos=[L,R,Lass,E,sgd,ETR,GBR,ada,kn,dt,xgb,svr,mlp_regressor]\n",
    "        algo_names=['Linear','Ridge','Lasso','ElasticNet','SGD','Extra Tree','Gradient Boosting',\n",
    "                    'KNeighborsRegressor','AdaBoost','Decision Tree','XGBRegressor','SVR','mlp_regressor']\n",
    "        \n",
    "        x_train, x_test, y_train, y_test=train_test_split(x,y,test_size=.20,random_state=42)\n",
    "        \n",
    "        r_squared= []\n",
    "        rmse= []\n",
    "        mae= []\n",
    "        \n",
    "        \n",
    "        result=pd.DataFrame(columns=['R_Squared','RMSE','MAE'],index=algo_names)\n",
    "        \n",
    "        \n",
    "        for algo in algos:\n",
    "            p=algo.fit(x_train,y_train).predict(x_test)\n",
    "            r_squared.append(r2_score(y_test,p))\n",
    "            rmse.append(mean_squared_error(y_test,p)**.5)\n",
    "            mae.append(mean_absolute_error(y_test,p))\n",
    "        \n",
    "        \n",
    "        result.R_Squared=r_squared\n",
    "        result.RMSE=rmse\n",
    "        result.MAE=mae\n",
    "   \n",
    "        rtable=result.sort_values('R_Squared',ascending=False)\n",
    "        return rtable"
   ]
  },
  {
   "cell_type": "code",
   "execution_count": 31,
   "metadata": {
    "execution": {
     "iopub.execute_input": "2024-09-29T02:52:40.451415Z",
     "iopub.status.busy": "2024-09-29T02:52:40.450854Z",
     "iopub.status.idle": "2024-09-29T02:58:50.163310Z",
     "shell.execute_reply": "2024-09-29T02:58:50.161537Z",
     "shell.execute_reply.started": "2024-09-29T02:52:40.451327Z"
    }
   },
   "outputs": [
    {
     "data": {
      "text/html": [
       "<div>\n",
       "<style scoped>\n",
       "    .dataframe tbody tr th:only-of-type {\n",
       "        vertical-align: middle;\n",
       "    }\n",
       "\n",
       "    .dataframe tbody tr th {\n",
       "        vertical-align: top;\n",
       "    }\n",
       "\n",
       "    .dataframe thead th {\n",
       "        text-align: right;\n",
       "    }\n",
       "</style>\n",
       "<table border=\"1\" class=\"dataframe\">\n",
       "  <thead>\n",
       "    <tr style=\"text-align: right;\">\n",
       "      <th></th>\n",
       "      <th>R_Squared</th>\n",
       "      <th>RMSE</th>\n",
       "      <th>MAE</th>\n",
       "    </tr>\n",
       "  </thead>\n",
       "  <tbody>\n",
       "    <tr>\n",
       "      <th>XGBRegressor</th>\n",
       "      <td>6.551767e-01</td>\n",
       "      <td>1.882059e+00</td>\n",
       "      <td>1.264173e+00</td>\n",
       "    </tr>\n",
       "    <tr>\n",
       "      <th>Gradient Boosting</th>\n",
       "      <td>6.416005e-01</td>\n",
       "      <td>1.918752e+00</td>\n",
       "      <td>1.299121e+00</td>\n",
       "    </tr>\n",
       "    <tr>\n",
       "      <th>Linear</th>\n",
       "      <td>6.013105e-01</td>\n",
       "      <td>2.023729e+00</td>\n",
       "      <td>1.393111e+00</td>\n",
       "    </tr>\n",
       "    <tr>\n",
       "      <th>Ridge</th>\n",
       "      <td>6.010060e-01</td>\n",
       "      <td>2.024502e+00</td>\n",
       "      <td>1.393154e+00</td>\n",
       "    </tr>\n",
       "    <tr>\n",
       "      <th>KNeighborsRegressor</th>\n",
       "      <td>4.007165e-01</td>\n",
       "      <td>2.481140e+00</td>\n",
       "      <td>1.984011e+00</td>\n",
       "    </tr>\n",
       "    <tr>\n",
       "      <th>Decision Tree</th>\n",
       "      <td>3.118289e-01</td>\n",
       "      <td>2.658785e+00</td>\n",
       "      <td>1.746400e+00</td>\n",
       "    </tr>\n",
       "    <tr>\n",
       "      <th>Extra Tree</th>\n",
       "      <td>2.605144e-01</td>\n",
       "      <td>2.756131e+00</td>\n",
       "      <td>1.803399e+00</td>\n",
       "    </tr>\n",
       "    <tr>\n",
       "      <th>ElasticNet</th>\n",
       "      <td>1.225776e-01</td>\n",
       "      <td>3.002198e+00</td>\n",
       "      <td>2.152684e+00</td>\n",
       "    </tr>\n",
       "    <tr>\n",
       "      <th>Lasso</th>\n",
       "      <td>-2.466840e-05</td>\n",
       "      <td>3.205091e+00</td>\n",
       "      <td>2.349228e+00</td>\n",
       "    </tr>\n",
       "    <tr>\n",
       "      <th>SVR</th>\n",
       "      <td>-3.451663e-02</td>\n",
       "      <td>3.259896e+00</td>\n",
       "      <td>2.269623e+00</td>\n",
       "    </tr>\n",
       "    <tr>\n",
       "      <th>AdaBoost</th>\n",
       "      <td>-1.616557e-01</td>\n",
       "      <td>3.454409e+00</td>\n",
       "      <td>2.573890e+00</td>\n",
       "    </tr>\n",
       "    <tr>\n",
       "      <th>mlp_regressor</th>\n",
       "      <td>-2.949999e+00</td>\n",
       "      <td>6.369914e+00</td>\n",
       "      <td>5.330850e+00</td>\n",
       "    </tr>\n",
       "    <tr>\n",
       "      <th>SGD</th>\n",
       "      <td>-2.117769e+33</td>\n",
       "      <td>1.474940e+17</td>\n",
       "      <td>1.279146e+17</td>\n",
       "    </tr>\n",
       "  </tbody>\n",
       "</table>\n",
       "</div>"
      ],
      "text/plain": [
       "                        R_Squared          RMSE           MAE\n",
       "XGBRegressor         6.551767e-01  1.882059e+00  1.264173e+00\n",
       "Gradient Boosting    6.416005e-01  1.918752e+00  1.299121e+00\n",
       "Linear               6.013105e-01  2.023729e+00  1.393111e+00\n",
       "Ridge                6.010060e-01  2.024502e+00  1.393154e+00\n",
       "KNeighborsRegressor  4.007165e-01  2.481140e+00  1.984011e+00\n",
       "Decision Tree        3.118289e-01  2.658785e+00  1.746400e+00\n",
       "Extra Tree           2.605144e-01  2.756131e+00  1.803399e+00\n",
       "ElasticNet           1.225776e-01  3.002198e+00  2.152684e+00\n",
       "Lasso               -2.466840e-05  3.205091e+00  2.349228e+00\n",
       "SVR                 -3.451663e-02  3.259896e+00  2.269623e+00\n",
       "AdaBoost            -1.616557e-01  3.454409e+00  2.573890e+00\n",
       "mlp_regressor       -2.949999e+00  6.369914e+00  5.330850e+00\n",
       "SGD                 -2.117769e+33  1.474940e+17  1.279146e+17"
      ]
     },
     "execution_count": 31,
     "metadata": {},
     "output_type": "execute_result"
    }
   ],
   "source": [
    "algo_test(x,y)"
   ]
  },
  {
   "cell_type": "markdown",
   "metadata": {},
   "source": [
    "## Test Data Prediction"
   ]
  },
  {
   "cell_type": "code",
   "execution_count": 11,
   "metadata": {
    "execution": {
     "iopub.execute_input": "2024-09-29T04:04:58.738912Z",
     "iopub.status.busy": "2024-09-29T04:04:58.738457Z",
     "iopub.status.idle": "2024-09-29T04:04:58.763087Z",
     "shell.execute_reply": "2024-09-29T04:04:58.760912Z",
     "shell.execute_reply.started": "2024-09-29T04:04:58.738871Z"
    }
   },
   "outputs": [],
   "source": [
    "df=pd.get_dummies(df)"
   ]
  },
  {
   "cell_type": "code",
   "execution_count": 12,
   "metadata": {
    "execution": {
     "iopub.execute_input": "2024-09-29T04:04:59.012381Z",
     "iopub.status.busy": "2024-09-29T04:04:59.011357Z",
     "iopub.status.idle": "2024-09-29T04:04:59.018387Z",
     "shell.execute_reply": "2024-09-29T04:04:59.016733Z",
     "shell.execute_reply.started": "2024-09-29T04:04:59.012321Z"
    }
   },
   "outputs": [],
   "source": [
    "train=df[:90615]\n",
    "test=df[90615:]"
   ]
  },
  {
   "cell_type": "code",
   "execution_count": 13,
   "metadata": {
    "execution": {
     "iopub.execute_input": "2024-09-29T04:04:59.312634Z",
     "iopub.status.busy": "2024-09-29T04:04:59.311546Z",
     "iopub.status.idle": "2024-09-29T04:04:59.337668Z",
     "shell.execute_reply": "2024-09-29T04:04:59.335580Z",
     "shell.execute_reply.started": "2024-09-29T04:04:59.312577Z"
    }
   },
   "outputs": [
    {
     "data": {
      "text/html": [
       "<div>\n",
       "<style scoped>\n",
       "    .dataframe tbody tr th:only-of-type {\n",
       "        vertical-align: middle;\n",
       "    }\n",
       "\n",
       "    .dataframe tbody tr th {\n",
       "        vertical-align: top;\n",
       "    }\n",
       "\n",
       "    .dataframe thead th {\n",
       "        text-align: right;\n",
       "    }\n",
       "</style>\n",
       "<table border=\"1\" class=\"dataframe\">\n",
       "  <thead>\n",
       "    <tr style=\"text-align: right;\">\n",
       "      <th></th>\n",
       "      <th>id</th>\n",
       "      <th>Length</th>\n",
       "      <th>Diameter</th>\n",
       "      <th>Height</th>\n",
       "      <th>Whole weight</th>\n",
       "      <th>Whole weight.1</th>\n",
       "      <th>Whole weight.2</th>\n",
       "      <th>Shell weight</th>\n",
       "      <th>Rings</th>\n",
       "      <th>Sex_F</th>\n",
       "      <th>Sex_I</th>\n",
       "      <th>Sex_M</th>\n",
       "    </tr>\n",
       "  </thead>\n",
       "  <tbody>\n",
       "    <tr>\n",
       "      <th>0</th>\n",
       "      <td>0</td>\n",
       "      <td>0.550</td>\n",
       "      <td>0.430</td>\n",
       "      <td>0.150</td>\n",
       "      <td>0.7715</td>\n",
       "      <td>0.3285</td>\n",
       "      <td>0.1465</td>\n",
       "      <td>0.2400</td>\n",
       "      <td>11.0</td>\n",
       "      <td>True</td>\n",
       "      <td>False</td>\n",
       "      <td>False</td>\n",
       "    </tr>\n",
       "    <tr>\n",
       "      <th>1</th>\n",
       "      <td>1</td>\n",
       "      <td>0.630</td>\n",
       "      <td>0.490</td>\n",
       "      <td>0.145</td>\n",
       "      <td>1.1300</td>\n",
       "      <td>0.4580</td>\n",
       "      <td>0.2765</td>\n",
       "      <td>0.3200</td>\n",
       "      <td>11.0</td>\n",
       "      <td>True</td>\n",
       "      <td>False</td>\n",
       "      <td>False</td>\n",
       "    </tr>\n",
       "    <tr>\n",
       "      <th>2</th>\n",
       "      <td>2</td>\n",
       "      <td>0.160</td>\n",
       "      <td>0.110</td>\n",
       "      <td>0.025</td>\n",
       "      <td>0.0210</td>\n",
       "      <td>0.0055</td>\n",
       "      <td>0.0030</td>\n",
       "      <td>0.0050</td>\n",
       "      <td>6.0</td>\n",
       "      <td>False</td>\n",
       "      <td>True</td>\n",
       "      <td>False</td>\n",
       "    </tr>\n",
       "    <tr>\n",
       "      <th>3</th>\n",
       "      <td>3</td>\n",
       "      <td>0.595</td>\n",
       "      <td>0.475</td>\n",
       "      <td>0.150</td>\n",
       "      <td>0.9145</td>\n",
       "      <td>0.3755</td>\n",
       "      <td>0.2055</td>\n",
       "      <td>0.2500</td>\n",
       "      <td>10.0</td>\n",
       "      <td>False</td>\n",
       "      <td>False</td>\n",
       "      <td>True</td>\n",
       "    </tr>\n",
       "    <tr>\n",
       "      <th>4</th>\n",
       "      <td>4</td>\n",
       "      <td>0.555</td>\n",
       "      <td>0.425</td>\n",
       "      <td>0.130</td>\n",
       "      <td>0.7820</td>\n",
       "      <td>0.3695</td>\n",
       "      <td>0.1600</td>\n",
       "      <td>0.1975</td>\n",
       "      <td>9.0</td>\n",
       "      <td>False</td>\n",
       "      <td>True</td>\n",
       "      <td>False</td>\n",
       "    </tr>\n",
       "  </tbody>\n",
       "</table>\n",
       "</div>"
      ],
      "text/plain": [
       "   id  Length  Diameter  Height  Whole weight  Whole weight.1  Whole weight.2  \\\n",
       "0   0   0.550     0.430   0.150        0.7715          0.3285          0.1465   \n",
       "1   1   0.630     0.490   0.145        1.1300          0.4580          0.2765   \n",
       "2   2   0.160     0.110   0.025        0.0210          0.0055          0.0030   \n",
       "3   3   0.595     0.475   0.150        0.9145          0.3755          0.2055   \n",
       "4   4   0.555     0.425   0.130        0.7820          0.3695          0.1600   \n",
       "\n",
       "   Shell weight  Rings  Sex_F  Sex_I  Sex_M  \n",
       "0        0.2400   11.0   True  False  False  \n",
       "1        0.3200   11.0   True  False  False  \n",
       "2        0.0050    6.0  False   True  False  \n",
       "3        0.2500   10.0  False  False   True  \n",
       "4        0.1975    9.0  False   True  False  "
      ]
     },
     "execution_count": 13,
     "metadata": {},
     "output_type": "execute_result"
    }
   ],
   "source": [
    "train.head()"
   ]
  },
  {
   "cell_type": "code",
   "execution_count": 14,
   "metadata": {
    "execution": {
     "iopub.execute_input": "2024-09-29T04:05:00.875355Z",
     "iopub.status.busy": "2024-09-29T04:05:00.873720Z",
     "iopub.status.idle": "2024-09-29T04:05:00.909550Z",
     "shell.execute_reply": "2024-09-29T04:05:00.907922Z",
     "shell.execute_reply.started": "2024-09-29T04:05:00.875283Z"
    }
   },
   "outputs": [
    {
     "data": {
      "text/html": [
       "<div>\n",
       "<style scoped>\n",
       "    .dataframe tbody tr th:only-of-type {\n",
       "        vertical-align: middle;\n",
       "    }\n",
       "\n",
       "    .dataframe tbody tr th {\n",
       "        vertical-align: top;\n",
       "    }\n",
       "\n",
       "    .dataframe thead th {\n",
       "        text-align: right;\n",
       "    }\n",
       "</style>\n",
       "<table border=\"1\" class=\"dataframe\">\n",
       "  <thead>\n",
       "    <tr style=\"text-align: right;\">\n",
       "      <th></th>\n",
       "      <th>id</th>\n",
       "      <th>Length</th>\n",
       "      <th>Diameter</th>\n",
       "      <th>Height</th>\n",
       "      <th>Whole weight</th>\n",
       "      <th>Whole weight.1</th>\n",
       "      <th>Whole weight.2</th>\n",
       "      <th>Shell weight</th>\n",
       "      <th>Rings</th>\n",
       "      <th>Sex_F</th>\n",
       "      <th>Sex_I</th>\n",
       "      <th>Sex_M</th>\n",
       "    </tr>\n",
       "  </thead>\n",
       "  <tbody>\n",
       "    <tr>\n",
       "      <th>0</th>\n",
       "      <td>90615</td>\n",
       "      <td>0.645</td>\n",
       "      <td>0.475</td>\n",
       "      <td>0.155</td>\n",
       "      <td>1.2380</td>\n",
       "      <td>0.6185</td>\n",
       "      <td>0.3125</td>\n",
       "      <td>0.3005</td>\n",
       "      <td>NaN</td>\n",
       "      <td>False</td>\n",
       "      <td>False</td>\n",
       "      <td>True</td>\n",
       "    </tr>\n",
       "    <tr>\n",
       "      <th>1</th>\n",
       "      <td>90616</td>\n",
       "      <td>0.580</td>\n",
       "      <td>0.460</td>\n",
       "      <td>0.160</td>\n",
       "      <td>0.9830</td>\n",
       "      <td>0.4785</td>\n",
       "      <td>0.2195</td>\n",
       "      <td>0.2750</td>\n",
       "      <td>NaN</td>\n",
       "      <td>False</td>\n",
       "      <td>False</td>\n",
       "      <td>True</td>\n",
       "    </tr>\n",
       "    <tr>\n",
       "      <th>2</th>\n",
       "      <td>90617</td>\n",
       "      <td>0.560</td>\n",
       "      <td>0.420</td>\n",
       "      <td>0.140</td>\n",
       "      <td>0.8395</td>\n",
       "      <td>0.3525</td>\n",
       "      <td>0.1845</td>\n",
       "      <td>0.2405</td>\n",
       "      <td>NaN</td>\n",
       "      <td>False</td>\n",
       "      <td>False</td>\n",
       "      <td>True</td>\n",
       "    </tr>\n",
       "    <tr>\n",
       "      <th>3</th>\n",
       "      <td>90618</td>\n",
       "      <td>0.570</td>\n",
       "      <td>0.490</td>\n",
       "      <td>0.145</td>\n",
       "      <td>0.8740</td>\n",
       "      <td>0.3525</td>\n",
       "      <td>0.1865</td>\n",
       "      <td>0.2350</td>\n",
       "      <td>NaN</td>\n",
       "      <td>False</td>\n",
       "      <td>False</td>\n",
       "      <td>True</td>\n",
       "    </tr>\n",
       "    <tr>\n",
       "      <th>4</th>\n",
       "      <td>90619</td>\n",
       "      <td>0.415</td>\n",
       "      <td>0.325</td>\n",
       "      <td>0.110</td>\n",
       "      <td>0.3580</td>\n",
       "      <td>0.1575</td>\n",
       "      <td>0.0670</td>\n",
       "      <td>0.1050</td>\n",
       "      <td>NaN</td>\n",
       "      <td>False</td>\n",
       "      <td>True</td>\n",
       "      <td>False</td>\n",
       "    </tr>\n",
       "  </tbody>\n",
       "</table>\n",
       "</div>"
      ],
      "text/plain": [
       "      id  Length  Diameter  Height  Whole weight  Whole weight.1  \\\n",
       "0  90615   0.645     0.475   0.155        1.2380          0.6185   \n",
       "1  90616   0.580     0.460   0.160        0.9830          0.4785   \n",
       "2  90617   0.560     0.420   0.140        0.8395          0.3525   \n",
       "3  90618   0.570     0.490   0.145        0.8740          0.3525   \n",
       "4  90619   0.415     0.325   0.110        0.3580          0.1575   \n",
       "\n",
       "   Whole weight.2  Shell weight  Rings  Sex_F  Sex_I  Sex_M  \n",
       "0          0.3125        0.3005    NaN  False  False   True  \n",
       "1          0.2195        0.2750    NaN  False  False   True  \n",
       "2          0.1845        0.2405    NaN  False  False   True  \n",
       "3          0.1865        0.2350    NaN  False  False   True  \n",
       "4          0.0670        0.1050    NaN  False   True  False  "
      ]
     },
     "execution_count": 14,
     "metadata": {},
     "output_type": "execute_result"
    }
   ],
   "source": [
    "test.head()"
   ]
  },
  {
   "cell_type": "code",
   "execution_count": 15,
   "metadata": {
    "execution": {
     "iopub.execute_input": "2024-09-29T04:05:01.148729Z",
     "iopub.status.busy": "2024-09-29T04:05:01.147863Z",
     "iopub.status.idle": "2024-09-29T04:05:01.160321Z",
     "shell.execute_reply": "2024-09-29T04:05:01.158814Z",
     "shell.execute_reply.started": "2024-09-29T04:05:01.148660Z"
    }
   },
   "outputs": [],
   "source": [
    "x=train.drop('Rings', axis=1)\n",
    "y=train[['Rings']]"
   ]
  },
  {
   "cell_type": "code",
   "execution_count": 18,
   "metadata": {
    "execution": {
     "iopub.execute_input": "2024-09-29T04:05:08.245760Z",
     "iopub.status.busy": "2024-09-29T04:05:08.245282Z",
     "iopub.status.idle": "2024-09-29T04:05:09.239054Z",
     "shell.execute_reply": "2024-09-29T04:05:09.237226Z",
     "shell.execute_reply.started": "2024-09-29T04:05:08.245698Z"
    }
   },
   "outputs": [],
   "source": [
    "xgb=XGBRegressor()\n",
    "xgb.fit(x_train, y_train)\n",
    "x_test=test.drop('Rings', axis=1)"
   ]
  },
  {
   "cell_type": "code",
   "execution_count": 19,
   "metadata": {
    "execution": {
     "iopub.execute_input": "2024-09-29T04:05:10.394904Z",
     "iopub.status.busy": "2024-09-29T04:05:10.394253Z",
     "iopub.status.idle": "2024-09-29T04:05:10.566775Z",
     "shell.execute_reply": "2024-09-29T04:05:10.565215Z",
     "shell.execute_reply.started": "2024-09-29T04:05:10.394786Z"
    }
   },
   "outputs": [],
   "source": [
    "predictions=xgb.predict(x_test)"
   ]
  },
  {
   "cell_type": "code",
   "execution_count": 20,
   "metadata": {
    "execution": {
     "iopub.execute_input": "2024-09-29T04:05:10.701014Z",
     "iopub.status.busy": "2024-09-29T04:05:10.700501Z",
     "iopub.status.idle": "2024-09-29T04:05:10.712085Z",
     "shell.execute_reply": "2024-09-29T04:05:10.710446Z",
     "shell.execute_reply.started": "2024-09-29T04:05:10.700960Z"
    }
   },
   "outputs": [
    {
     "data": {
      "text/plain": [
       "array([10.065846,  9.369676, 10.068683, ..., 12.963203, 13.488554,\n",
       "        8.543277], dtype=float32)"
      ]
     },
     "execution_count": 20,
     "metadata": {},
     "output_type": "execute_result"
    }
   ],
   "source": [
    "predictions"
   ]
  },
  {
   "cell_type": "code",
   "execution_count": 21,
   "metadata": {
    "execution": {
     "iopub.execute_input": "2024-09-29T04:05:11.066808Z",
     "iopub.status.busy": "2024-09-29T04:05:11.066329Z",
     "iopub.status.idle": "2024-09-29T04:05:11.075506Z",
     "shell.execute_reply": "2024-09-29T04:05:11.073904Z",
     "shell.execute_reply.started": "2024-09-29T04:05:11.066763Z"
    }
   },
   "outputs": [],
   "source": [
    "predictions1=pd.DataFrame()"
   ]
  },
  {
   "cell_type": "code",
   "execution_count": 22,
   "metadata": {
    "execution": {
     "iopub.execute_input": "2024-09-29T04:05:11.430303Z",
     "iopub.status.busy": "2024-09-29T04:05:11.429835Z",
     "iopub.status.idle": "2024-09-29T04:05:11.441158Z",
     "shell.execute_reply": "2024-09-29T04:05:11.439542Z",
     "shell.execute_reply.started": "2024-09-29T04:05:11.430258Z"
    }
   },
   "outputs": [],
   "source": [
    "predictions1['id']=test['id']"
   ]
  },
  {
   "cell_type": "code",
   "execution_count": 23,
   "metadata": {
    "execution": {
     "iopub.execute_input": "2024-09-29T04:05:11.728212Z",
     "iopub.status.busy": "2024-09-29T04:05:11.727621Z",
     "iopub.status.idle": "2024-09-29T04:05:11.735606Z",
     "shell.execute_reply": "2024-09-29T04:05:11.734241Z",
     "shell.execute_reply.started": "2024-09-29T04:05:11.728150Z"
    }
   },
   "outputs": [],
   "source": [
    "predictions1['Rings']=predictions"
   ]
  },
  {
   "cell_type": "code",
   "execution_count": 24,
   "metadata": {
    "execution": {
     "iopub.execute_input": "2024-09-29T04:05:12.822775Z",
     "iopub.status.busy": "2024-09-29T04:05:12.822323Z",
     "iopub.status.idle": "2024-09-29T04:05:12.846334Z",
     "shell.execute_reply": "2024-09-29T04:05:12.844851Z",
     "shell.execute_reply.started": "2024-09-29T04:05:12.822733Z"
    }
   },
   "outputs": [
    {
     "name": "stdout",
     "output_type": "stream",
     "text": [
      "<class 'pandas.core.frame.DataFrame'>\n",
      "Index: 60411 entries, 0 to 60410\n",
      "Data columns (total 2 columns):\n",
      " #   Column  Non-Null Count  Dtype  \n",
      "---  ------  --------------  -----  \n",
      " 0   id      60411 non-null  int64  \n",
      " 1   Rings   60411 non-null  float32\n",
      "dtypes: float32(1), int64(1)\n",
      "memory usage: 1.2 MB\n"
     ]
    }
   ],
   "source": [
    "predictions1.info()"
   ]
  },
  {
   "cell_type": "code",
   "execution_count": 25,
   "metadata": {
    "execution": {
     "iopub.execute_input": "2024-09-29T04:05:14.194644Z",
     "iopub.status.busy": "2024-09-29T04:05:14.194195Z",
     "iopub.status.idle": "2024-09-29T04:05:14.360380Z",
     "shell.execute_reply": "2024-09-29T04:05:14.359017Z",
     "shell.execute_reply.started": "2024-09-29T04:05:14.194601Z"
    }
   },
   "outputs": [],
   "source": [
    "predictions1.to_csv('abalone_submission.csv', index=False)"
   ]
  },
  {
   "cell_type": "markdown",
   "metadata": {},
   "source": [
    "## Summary"
   ]
  },
  {
   "cell_type": "markdown",
   "metadata": {},
   "source": [
    "The abalone dataset contains physical measurements and their corresponding age information. The training and test datasets were combined to create a single dataset for analysis. The relationships between variables were examined by drawing graphs on the combined dataset. In particular, the effects of physical measurements on the age of the abalone were visualized.\n",
    "The dataset was divided into training and test sets for model training. This step is a critical step to evaluate the overall performance of the model.\n",
    "The age of the abalone was estimated using different regression models (e.g., Linear Regression, Decision Trees, Gradient Boosting). The selected model was trained on the training dataset. Predictions were made on the test dataset and the accuracy of the model was evaluated. Performance metrics were used to measure the accuracy of the predictions. The obtained predictions were recorded in a submission file and presented in accordance with the competition rules.\n",
    "This project includes important steps such as regression analysis, data visualization, and machine learning modeling while performing the task of estimating the age of the abalone. In this way, valuable information is provided for seafood management and conservation."
   ]
  }
 ],
 "metadata": {
  "kaggle": {
   "accelerator": "none",
   "dataSources": [
    {
     "databundleVersionId": 8096274,
     "sourceId": 72489,
     "sourceType": "competition"
    }
   ],
   "dockerImageVersionId": 30775,
   "isGpuEnabled": false,
   "isInternetEnabled": true,
   "language": "python",
   "sourceType": "notebook"
  },
  "kernelspec": {
   "display_name": "Python 3 (ipykernel)",
   "language": "python",
   "name": "python3"
  },
  "language_info": {
   "codemirror_mode": {
    "name": "ipython",
    "version": 3
   },
   "file_extension": ".py",
   "mimetype": "text/x-python",
   "name": "python",
   "nbconvert_exporter": "python",
   "pygments_lexer": "ipython3",
   "version": "3.11.7"
  }
 },
 "nbformat": 4,
 "nbformat_minor": 4
}
